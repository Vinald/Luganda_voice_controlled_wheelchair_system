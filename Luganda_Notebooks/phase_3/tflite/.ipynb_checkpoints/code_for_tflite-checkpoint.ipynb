{
 "cells": [
  {
   "cell_type": "markdown",
   "id": "54c939b4-3f96-4ced-b57e-d144e0c0bda8",
   "metadata": {},
   "source": [
    "## TFLite Model for model"
   ]
  },
  {
   "cell_type": "code",
   "execution_count": null,
   "id": "60383963-446e-4227-85df-086dd86d157e",
   "metadata": {},
   "outputs": [],
   "source": [
    "# Convert the model to TensorFlow Lite\n",
    "converter = tf.lite.TFLiteConverter.from_keras_model(model)\n",
    "tflite_model = converter.convert()\n",
    "\n",
    "# Save the TensorFlow Lite model to a file\n",
    "with open('model_1.tflite', 'wb') as f:\n",
    "    f.write(tflite_model)"
   ]
  },
  {
   "cell_type": "markdown",
   "id": "4f621720-502b-428f-a22d-728e772a5ff8",
   "metadata": {},
   "source": [
    "### Load the TensorFlow Lite model:"
   ]
  },
  {
   "cell_type": "code",
   "execution_count": null,
   "id": "984fef70-2658-4ac7-a40b-97d46bcb2838",
   "metadata": {},
   "outputs": [],
   "source": [
    "interpreter = tf.lite.Interpreter(model_path='model_1.tflite')\n",
    "interpreter.allocate_tensors()"
   ]
  },
  {
   "cell_type": "markdown",
   "id": "595862f4-12ab-4339-b007-0d8b4efd9cc6",
   "metadata": {},
   "source": [
    "### Input and Output shapes"
   ]
  },
  {
   "cell_type": "code",
   "execution_count": null,
   "id": "e0d7689f-99e5-4636-b96e-e962d3e57d5b",
   "metadata": {},
   "outputs": [],
   "source": [
    "# input shape\n",
    "input_details = interpreter.get_input_details()\n",
    "input_shape = input_details[0]['shape']\n",
    "print('Input shape:', input_shape)"
   ]
  },
  {
   "cell_type": "code",
   "execution_count": null,
   "id": "64f4c03c-d867-4a2b-acce-eb38c03d2a7a",
   "metadata": {},
   "outputs": [],
   "source": [
    "# output shape\n",
    "output_details = interpreter.get_output_details()\n",
    "output_shape = output_details[0]['shape']\n",
    "print('Output shape:', output_shape)"
   ]
  },
  {
   "cell_type": "markdown",
   "id": "a5af31f3-fcbc-40fb-8691-6e56e5fb453a",
   "metadata": {},
   "source": [
    "### Prepare the test dataset "
   ]
  },
  {
   "cell_type": "code",
   "execution_count": null,
   "id": "7b02341b-433f-44d6-bd9b-68ed41b77d56",
   "metadata": {},
   "outputs": [],
   "source": [
    "test_spectrogram_ds = test_spectrogram_ds.unbatch().batch(1)"
   ]
  },
  {
   "cell_type": "code",
   "execution_count": null,
   "id": "25a615eb-3069-44a1-be63-7bd65356c457",
   "metadata": {},
   "outputs": [],
   "source": [
    "# Run inference on the test dataset and collect predictions:\n",
    "y_true = []\n",
    "y_pred = []\n",
    "\n",
    "for spectrogram, label in test_spectrogram_ds:\n",
    "    # Perform inference\n",
    "    interpreter.set_tensor(interpreter.get_input_details()[0]['index'], spectrogram)\n",
    "    interpreter.invoke()\n",
    "    output = interpreter.get_tensor(interpreter.get_output_details()[0]['index'])\n",
    "\n",
    "    # Collect predictions\n",
    "    y_true.append(label.numpy()[0])\n",
    "    y_pred.append(np.argmax(output))\n"
   ]
  },
  {
   "cell_type": "markdown",
   "id": "d286b43f-21d2-4a7a-b649-38c6dedbe2ed",
   "metadata": {},
   "source": [
    "### Accuracy"
   ]
  },
  {
   "cell_type": "code",
   "execution_count": null,
   "id": "e6464402-9bd0-4c1a-adcc-4abef2829d1c",
   "metadata": {},
   "outputs": [],
   "source": [
    "accuracy = accuracy_score(y_true, y_pred)\n",
    "print(f'Accuracy is {int(accuracy*100)}%')"
   ]
  },
  {
   "cell_type": "markdown",
   "id": "2f24bd84-ccb3-47e3-b596-7bf4757d0cc4",
   "metadata": {},
   "source": [
    "### Confusion Matrix"
   ]
  },
  {
   "cell_type": "code",
   "execution_count": null,
   "id": "bfcd19e1-3f39-4a26-9f6d-a0142a6e7d81",
   "metadata": {},
   "outputs": [],
   "source": [
    "confusion_mtx = tf.math.confusion_matrix(y_true, y_pred)\n",
    "plt.figure(figsize=(8, 4))\n",
    "sns.heatmap(confusion_mtx,\n",
    "            xticklabels=label_names,\n",
    "            yticklabels=label_names,\n",
    "            annot=True, fmt='g')\n",
    "plt.xlabel('Prediction')\n",
    "plt.ylabel('Label')\n",
    "plt.show()"
   ]
  },
  {
   "cell_type": "code",
   "execution_count": null,
   "id": "70585f31-82aa-4210-9c74-1f699e696601",
   "metadata": {},
   "outputs": [],
   "source": [
    "convert_bytes(get_file_size(\"model_1.tflite\"), \"KB\")"
   ]
  },
  {
   "cell_type": "markdown",
   "id": "7cad2aab-b571-447b-963b-2047df86bea0",
   "metadata": {},
   "source": [
    "## Quntized model"
   ]
  },
  {
   "cell_type": "code",
   "execution_count": null,
   "id": "5b76d748-02a3-418d-a3d3-0b6143f8304b",
   "metadata": {},
   "outputs": [],
   "source": [
    "# Convert the model to TensorFlow Lite format\n",
    "converter = tf.lite.TFLiteConverter.from_keras_model(model)\n",
    "tflite_model = converter.convert()\n",
    "\n",
    "# Save the TensorFlow Lite model\n",
    "with open('model.tflite', 'wb') as f:\n",
    "    f.write(tflite_model)\n",
    "\n",
    "# Quantize the TensorFlow Lite model\n",
    "converter.optimizations = [tf.lite.Optimize.DEFAULT]\n",
    "quantized_tflite_model = converter.convert()\n",
    "\n",
    "# Save the quantized TensorFlow Lite model\n",
    "with open('quantized_model.tflite', 'wb') as f:\n",
    "    f.write(quantized_tflite_model)\n"
   ]
  },
  {
   "cell_type": "code",
   "execution_count": null,
   "id": "878899e8-af73-456f-bfc0-eff279f8615e",
   "metadata": {},
   "outputs": [],
   "source": [
    "convert_bytes(get_file_size(\"quantized_model.tflite\"), \"KB\")"
   ]
  },
  {
   "cell_type": "code",
   "execution_count": null,
   "id": "3995e0a5-db7f-4858-89a5-af6c13692bc5",
   "metadata": {},
   "outputs": [],
   "source": [
    "# Evaluate the model on the test dataset\n",
    "correct = 0\n",
    "total = 0\n",
    "for spectrogram, label in test_spectrogram_ds:\n",
    "    interpreter.set_tensor(input_details[0]['index'], spectrogram)\n",
    "    interpreter.invoke()\n",
    "    output = interpreter.get_tensor(output_details[0]['index'])\n",
    "    predicted_label = np.argmax(output)\n",
    "    correct += bool(predicted_label == label)  # Convert to boolean\n",
    "    total += 1\n",
    "\n",
    "accuracy = correct / total\n",
    "print(f'Accuracy: {accuracy}')\n"
   ]
  },
  {
   "cell_type": "code",
   "execution_count": null,
   "id": "5761efdb-c675-4c58-9561-75ccab8da801",
   "metadata": {},
   "outputs": [],
   "source": [
    "# Evaluate the model on the test dataset\n",
    "y_true = []\n",
    "y_pred = []\n",
    "\n",
    "for spectrogram, label in test_spectrogram_ds:\n",
    "    interpreter.set_tensor(input_details[0]['index'], spectrogram)\n",
    "    interpreter.invoke()\n",
    "    output = interpreter.get_tensor(output_details[0]['index'])\n",
    "    predicted_label = np.argmax(output)\n",
    "    y_true.append(label)\n",
    "    y_pred.append(predicted_label)\n",
    "\n",
    "\n",
    "confusion_mtx = tf.math.confusion_matrix(y_true, y_pred)\n",
    "plt.figure(figsize=(8, 6))\n",
    "sns.heatmap(confusion_mtx,\n",
    "            xticklabels=label_names,\n",
    "            yticklabels=label_names,\n",
    "            annot=True, fmt='g')\n",
    "plt.title('Confusion Matrix')\n",
    "plt.xlabel('Prediction')\n",
    "plt.ylabel('Label')\n",
    "plt.show()"
   ]
  },
  {
   "cell_type": "code",
   "execution_count": null,
   "id": "13588d5f-10d9-40d6-8287-c07db62e4817",
   "metadata": {},
   "outputs": [],
   "source": [
    "accuracy = accuracy_score(y_true, y_pred)\n",
    "print(f'Accuracy is {int(accuracy*100)}%')\n"
   ]
  },
  {
   "cell_type": "markdown",
   "id": "03782cf6-5a13-4648-abec-228e7819bcf9",
   "metadata": {},
   "source": [
    "# TFLite Model for model_1"
   ]
  },
  {
   "cell_type": "code",
   "execution_count": null,
   "id": "34f1bc3e-59b6-46eb-a992-46b1269783bb",
   "metadata": {},
   "outputs": [],
   "source": [
    "# Convert the model to TensorFlow Lite\n",
    "converter = tf.lite.TFLiteConverter.from_keras_model(model)\n",
    "tflite_model = converter.convert()\n",
    "\n",
    "# Save the TensorFlow Lite model to a file\n",
    "with open('model.tflite', 'wb') as f:\n",
    "    f.write(tflite_model)"
   ]
  },
  {
   "cell_type": "code",
   "execution_count": null,
   "id": "2dd55de1-da8e-4bec-844b-3c89b4ac9d55",
   "metadata": {},
   "outputs": [],
   "source": [
    "# Load the TensorFlow Lite model:\n",
    "interpreter = tf.lite.Interpreter(model_path='model.tflite')\n",
    "interpreter.allocate_tensors()\n"
   ]
  },
  {
   "cell_type": "code",
   "execution_count": null,
   "id": "4d3d9191-0351-4af5-941f-71762f28ac48",
   "metadata": {},
   "outputs": [],
   "source": [
    "# input shape\n",
    "input_details = interpreter.get_input_details()\n",
    "input_shape = input_details[0]['shape']\n",
    "print('Input shape:', input_shape)"
   ]
  },
  {
   "cell_type": "code",
   "execution_count": null,
   "id": "b324828a-3ea5-4397-95bc-ccfb444646c6",
   "metadata": {},
   "outputs": [],
   "source": [
    "# output shape\n",
    "output_details = interpreter.get_output_details()\n",
    "output_shape = output_details[0]['shape']\n",
    "print('Output shape:', output_shape)"
   ]
  },
  {
   "cell_type": "code",
   "execution_count": null,
   "id": "9fccbcd9-8085-4cae-ab80-1974ccd20fd5",
   "metadata": {},
   "outputs": [],
   "source": [
    "# Prepare the test dataset \n",
    "test_spectrogram_ds = test_spectrogram_ds.unbatch().batch(1)"
   ]
  },
  {
   "cell_type": "code",
   "execution_count": null,
   "id": "e75e52de-ae03-49ea-a71b-c6cab4f643f0",
   "metadata": {},
   "outputs": [],
   "source": [
    "# Run inference on the test dataset and collect predictions:\n",
    "y_true = []\n",
    "y_pred = []\n",
    "\n",
    "for spectrogram, label in test_spectrogram_ds:\n",
    "    # Perform inference\n",
    "    interpreter.set_tensor(interpreter.get_input_details()[0]['index'], spectrogram)\n",
    "    interpreter.invoke()\n",
    "    output = interpreter.get_tensor(interpreter.get_output_details()[0]['index'])\n",
    "\n",
    "    # Collect predictions\n",
    "    y_true.append(label.numpy()[0])\n",
    "    y_pred.append(np.argmax(output))\n"
   ]
  },
  {
   "cell_type": "code",
   "execution_count": null,
   "id": "dc831305-cea0-42f3-a8a9-edc9116ad3e7",
   "metadata": {},
   "outputs": [],
   "source": [
    "accuracy = accuracy_score(y_true, y_pred)\n",
    "print(f'Accuracy is {int(accuracy*100)}%')\n"
   ]
  },
  {
   "cell_type": "code",
   "execution_count": null,
   "id": "a5e8cb05-52bb-4e8b-8ea1-7a74ad7cd293",
   "metadata": {},
   "outputs": [],
   "source": [
    "confusion_mtx = tf.math.confusion_matrix(y_true, y_pred)\n",
    "plt.figure(figsize=(8, 4))\n",
    "sns.heatmap(confusion_mtx,\n",
    "            xticklabels=label_names,\n",
    "            yticklabels=label_names,\n",
    "            annot=True, fmt='g')\n",
    "plt.xlabel('Prediction')\n",
    "plt.ylabel('Label')\n",
    "plt.show()"
   ]
  },
  {
   "cell_type": "markdown",
   "id": "20966d7f-b47b-4ae3-bfb4-e8a21b46d0e7",
   "metadata": {},
   "source": [
    "## Size of tflite model_1\n"
   ]
  },
  {
   "cell_type": "code",
   "execution_count": null,
   "id": "cfa786b6-4a3c-47e6-9f62-c3203b5b5959",
   "metadata": {},
   "outputs": [],
   "source": [
    "convert_bytes(get_file_size(\"tf_lite_model_1.tflite\"), \"MB\")"
   ]
  },
  {
   "cell_type": "markdown",
   "id": "8d1fb94b-0ae0-46ff-ab98-9a999eeacd1e",
   "metadata": {},
   "source": [
    "# Quntized model"
   ]
  },
  {
   "cell_type": "code",
   "execution_count": null,
   "id": "50be3bbc-4a36-4c76-8cc0-fb4a65c31613",
   "metadata": {
    "scrolled": true
   },
   "outputs": [],
   "source": [
    "# Convert the model to TensorFlow Lite format\n",
    "converter = tf.lite.TFLiteConverter.from_keras_model(model)\n",
    "tflite_model = converter.convert()\n",
    "\n",
    "# Save the TensorFlow Lite model\n",
    "with open('model.tflite', 'wb') as f:\n",
    "    f.write(tflite_model)\n",
    "\n",
    "# Quantize the TensorFlow Lite model\n",
    "converter.optimizations = [tf.lite.Optimize.DEFAULT]\n",
    "quantized_tflite_model = converter.convert()\n",
    "\n",
    "# Save the quantized TensorFlow Lite model\n",
    "with open('quantized_model.tflite', 'wb') as f:\n",
    "    f.write(quantized_tflite_model)\n"
   ]
  },
  {
   "cell_type": "code",
   "execution_count": null,
   "id": "5f86c4ff-3bde-4cb0-b0b3-36cc1264b9a8",
   "metadata": {},
   "outputs": [],
   "source": [
    "convert_bytes(get_file_size(\"quantized_model.tflite\"), \"MB\")"
   ]
  },
  {
   "cell_type": "code",
   "execution_count": null,
   "id": "f516d939-d108-4b46-9519-6e64fa85738a",
   "metadata": {},
   "outputs": [],
   "source": [
    "# Evaluate the model on the test dataset\n",
    "correct = 0\n",
    "total = 0\n",
    "for spectrogram, label in test_spectrogram_ds:\n",
    "    interpreter.set_tensor(input_details[0]['index'], spectrogram)\n",
    "    interpreter.invoke()\n",
    "    output = interpreter.get_tensor(output_details[0]['index'])\n",
    "    predicted_label = np.argmax(output)\n",
    "    correct += bool(predicted_label == label)  # Convert to boolean\n",
    "    total += 1\n",
    "\n",
    "accuracy = correct / total\n",
    "print(f'Accuracy: {accuracy}')\n"
   ]
  },
  {
   "cell_type": "code",
   "execution_count": null,
   "id": "458cf34c-4c34-4bf5-b0a8-ff21e8ab0472",
   "metadata": {},
   "outputs": [],
   "source": [
    "# Evaluate the model on the test dataset\n",
    "y_true = []\n",
    "y_pred = []\n",
    "\n",
    "for spectrogram, label in test_spectrogram_ds:\n",
    "    interpreter.set_tensor(input_details[0]['index'], spectrogram)\n",
    "    interpreter.invoke()\n",
    "    output = interpreter.get_tensor(output_details[0]['index'])\n",
    "    predicted_label = np.argmax(output)\n",
    "    y_true.append(label)\n",
    "    y_pred.append(predicted_label)\n",
    "\n",
    "\n",
    "confusion_mtx = tf.math.confusion_matrix(y_true, y_pred)\n",
    "plt.figure(figsize=(8, 6))\n",
    "sns.heatmap(confusion_mtx,\n",
    "            xticklabels=label_names,5_spec_model\n",
    "            yticklabels=label_names,\n",
    "            annot=True, fmt='g')\n",
    "plt.title('Confusion Matrix')\n",
    "plt.xlabel('Prediction')\n",
    "plt.ylabel('Label')\n",
    "plt.show()"
   ]
  }
 ],
 "metadata": {
  "kernelspec": {
   "display_name": "Python 3 (ipykernel)",
   "language": "python",
   "name": "python3"
  },
  "language_info": {
   "codemirror_mode": {
    "name": "ipython",
    "version": 3
   },
   "file_extension": ".py",
   "mimetype": "text/x-python",
   "name": "python",
   "nbconvert_exporter": "python",
   "pygments_lexer": "ipython3",
   "version": "3.11.6"
  }
 },
 "nbformat": 4,
 "nbformat_minor": 5
}
