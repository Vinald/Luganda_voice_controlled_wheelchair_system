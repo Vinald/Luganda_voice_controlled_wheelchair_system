{
 "cells": [
  {
   "cell_type": "markdown",
   "metadata": {},
   "source": [
    "# Packages and Libraries"
   ]
  },
  {
   "cell_type": "code",
   "execution_count": 1,
   "metadata": {
    "executionInfo": {
     "elapsed": 6868,
     "status": "ok",
     "timestamp": 1703162067351,
     "user": {
      "displayName": "adi sam",
      "userId": "04727694002057940011"
     },
     "user_tz": -180
    },
    "id": "dzLKpmZICaWN",
    "scrolled": true
   },
   "outputs": [
    {
     "name": "stderr",
     "output_type": "stream",
     "text": [
      "2024-02-15 18:57:14.619284: I external/local_tsl/tsl/cuda/cudart_stub.cc:31] Could not find cuda drivers on your machine, GPU will not be used.\n",
      "2024-02-15 18:57:14.890755: E external/local_xla/xla/stream_executor/cuda/cuda_dnn.cc:9261] Unable to register cuDNN factory: Attempting to register factory for plugin cuDNN when one has already been registered\n",
      "2024-02-15 18:57:14.890950: E external/local_xla/xla/stream_executor/cuda/cuda_fft.cc:607] Unable to register cuFFT factory: Attempting to register factory for plugin cuFFT when one has already been registered\n",
      "2024-02-15 18:57:14.926510: E external/local_xla/xla/stream_executor/cuda/cuda_blas.cc:1515] Unable to register cuBLAS factory: Attempting to register factory for plugin cuBLAS when one has already been registered\n",
      "2024-02-15 18:57:15.008185: I external/local_tsl/tsl/cuda/cudart_stub.cc:31] Could not find cuda drivers on your machine, GPU will not be used.\n",
      "2024-02-15 18:57:15.009772: I tensorflow/core/platform/cpu_feature_guard.cc:182] This TensorFlow binary is optimized to use available CPU instructions in performance-critical operations.\n",
      "To enable the following instructions: AVX2 FMA, in other operations, rebuild TensorFlow with the appropriate compiler flags.\n",
      "2024-02-15 18:57:19.109586: W tensorflow/compiler/tf2tensorrt/utils/py_utils.cc:38] TF-TRT Warning: Could not find TensorRT\n"
     ]
    }
   ],
   "source": [
    "import os\n",
    "import json\n",
    "import math\n",
    "import wave\n",
    "import pathlib\n",
    "\n",
    "import numpy as np\n",
    "import matplotlib.pyplot as plt\n",
    "import seaborn as sns\n",
    "import pandas as pd\n",
    "\n",
    "\n",
    "import tensorflow as tf \n",
    "from tensorflow.keras import layers, models\n",
    "import tensorflow.keras as keras\n",
    "\n",
    "import librosa\n",
    "import librosa.display\n",
    "import soundfile as sf\n",
    "\n",
    "from sklearn.model_selection import train_test_split\n",
    "from sklearn.preprocessing import StandardScaler\n",
    "from sklearn.metrics import confusion_matrix\n",
    "\n",
    "from IPython.display import Audio\n",
    "import IPython.display as display\n",
    "\n",
    "from tensorflow.keras.models import Sequential\n",
    "from tensorflow.keras.layers import Dense, Dropout"
   ]
  },
  {
   "cell_type": "markdown",
   "metadata": {},
   "source": [
    "# Pipeline\n",
    "-  `Load raw audio data` from files in .WAV format that can be processed\n",
    "-  `Resample the data` resample audio data to the desired rate.\n",
    "-  `Normalization` Normalize the audio signal to ensure that the amplitudes are within a specific range\n",
    "-  `Trimming and Padding` Trim or pad the audio data to a consistent length\n",
    "-  `Spectral Representations` Convert the audio signal into a frequency domain representation, such as a spectrogram or mel spectrogram.\n",
    "-  `Augmentation` Apply data augmentation techniques to increase the diversity of the training set.\n",
    "-  `Feature Scaling` Scale the features to have zero mean and unit variance.\n",
    "-  `Labeling` to associate each audio clip with its corresponding label.\n",
    "-  `Conversion to TensorFlow` Convert the preprocessed data into a format suitable for the deep learning framework.\n",
    "-  `Data Splitting` Split the dataset into training, validation, and testing sets.\n",
    "-  `Model Building` Build your machine learning model using the preprocessed data."
   ]
  },
  {
   "cell_type": "markdown",
   "metadata": {},
   "source": [
    "# Loading Raw Audio Data\n",
    "\n",
    "The audio dataset has six(6) classes in  six subfolders with labels: \n",
    "- [ `ddyo`   `kkono`  `mu maaso`  `emabega`  `yimirira`  `gaali`]"
   ]
  },
  {
   "cell_type": "markdown",
   "metadata": {},
   "source": [
    "## Mount google drive\n",
    "adisamproject@gmail.com"
   ]
  },
  {
   "cell_type": "code",
   "execution_count": 2,
   "metadata": {},
   "outputs": [],
   "source": [
    "# from google.colab import drive\n",
    "# drive.mount('/content/drive')\n",
    "# DATASET_PATH = \"/content/drive/My Drive/2_Luganda/dataset\"\n",
    "# data_dir = pathlib.Path(DATASET_PATH)"
   ]
  },
  {
   "cell_type": "markdown",
   "metadata": {},
   "source": [
    "## Locally on the pc"
   ]
  },
  {
   "cell_type": "code",
   "execution_count": 3,
   "metadata": {
    "executionInfo": {
     "elapsed": 4,
     "status": "ok",
     "timestamp": 1703162114566,
     "user": {
      "displayName": "adi sam",
      "userId": "04727694002057940011"
     },
     "user_tz": -180
    },
    "id": "2-rayb7-3Y0I"
   },
   "outputs": [],
   "source": [
    "DATASET_PATH = 'own/'\n",
    "data_dir_org = pathlib.Path(DATASET_PATH)\n",
    "PROCESSED_DATA_PATH = 'processedData/'"
   ]
  },
  {
   "cell_type": "markdown",
   "metadata": {},
   "source": [
    "# Inspect the audio dataset"
   ]
  },
  {
   "cell_type": "markdown",
   "metadata": {},
   "source": [
    "## Labels"
   ]
  },
  {
   "cell_type": "code",
   "execution_count": 4,
   "metadata": {
    "colab": {
     "base_uri": "https://localhost:8080/"
    },
    "executionInfo": {
     "elapsed": 1952,
     "status": "ok",
     "timestamp": 1703162116515,
     "user": {
      "displayName": "adi sam",
      "userId": "04727694002057940011"
     },
     "user_tz": -180
    },
    "id": "70IBxSKxA1N9",
    "outputId": "902b877b-bf8a-4310-8507-8344428aa844"
   },
   "outputs": [
    {
     "name": "stdout",
     "output_type": "stream",
     "text": [
      "Commands: ['emabega' 'ddyo' 'gaali' 'kkono' 'mu masso' 'yimirira']\n"
     ]
    }
   ],
   "source": [
    "commands = np.array(tf.io.gfile.listdir(str(data_dir_org)))\n",
    "print('Commands:', commands)"
   ]
  },
  {
   "cell_type": "markdown",
   "metadata": {},
   "source": [
    "## Number of audio files per command"
   ]
  },
  {
   "cell_type": "code",
   "execution_count": 5,
   "metadata": {},
   "outputs": [],
   "source": [
    "def count_audio_files_in_subfolders(data_dir_org):\n",
    "    counts = {}\n",
    "\n",
    "    for subfolder in os.listdir(data_dir_org):\n",
    "        subfolder_path = os.path.join(data_dir_org, subfolder)\n",
    "\n",
    "        if os.path.isdir(subfolder_path):\n",
    "            audio_files_count = len([f for f in os.listdir(subfolder_path) if f.endswith('.wav')])\n",
    "            counts[subfolder] = audio_files_count\n",
    "\n",
    "    return counts\n",
    "\n",
    "counts = count_audio_files_in_subfolders(data_dir_org)\n"
   ]
  },
  {
   "cell_type": "code",
   "execution_count": 6,
   "metadata": {},
   "outputs": [
    {
     "data": {
      "image/png": "[encoded data removed]",
      "text/plain": [
       "<Figure size 1200x400 with 1 Axes>"
      ]
     },
     "metadata": {},
     "output_type": "display_data"
    }
   ],
   "source": [
    "plt.figure(figsize=(12, 4))\n",
    "plt.bar(list(counts.keys()), list(counts.values()), color='blue')\n",
    "plt.xlabel('Command labels')\n",
    "plt.ylabel('Number of Audio Files')\n",
    "plt.title('Number of Audio Files in Each Subfolder')\n",
    "plt.show()"
   ]
  },
  {
   "cell_type": "markdown",
   "metadata": {},
   "source": [
    "## Audio Properties \n",
    "- using one audio file"
   ]
  },
  {
   "cell_type": "code",
   "execution_count": 7,
   "metadata": {},
   "outputs": [],
   "source": [
    "example_audio_path = os.path.join(data_dir_org, 'emabega', 'audio #4251.wav')\n",
    "audio_signal, sample_rate = librosa.load(example_audio_path)\n",
    "audio = wave.open(example_audio_path, 'rb')"
   ]
  },
  {
   "cell_type": "markdown",
   "metadata": {},
   "source": [
    "### Audio Parameters"
   ]
  },
  {
   "cell_type": "code",
   "execution_count": 8,
   "metadata": {},
   "outputs": [],
   "source": [
    "SAMPLE_RATE = 22050"
   ]
  },
  {
   "cell_type": "code",
   "execution_count": 9,
   "metadata": {},
   "outputs": [],
   "source": [
    "number_of_channel = audio.getnchannels()\n",
    "sample_width = audio.getsampwidth()\n",
    "frame_rate = audio.getframerate()\n",
    "number_of_frames = audio.getnframes()"
   ]
  },
  {
   "cell_type": "code",
   "execution_count": 10,
   "metadata": {},
   "outputs": [
    {
     "name": "stdout",
     "output_type": "stream",
     "text": [
      "Number of channels: 1\n",
      "Sample width: 2\n",
      "frame rate: 16000\n",
      "Number of frames: 20160\n",
      "Parameters: _wave_params(nchannels=1, sampwidth=2, framerate=16000, nframes=20160, comptype='NONE', compname='not compressed')\n"
     ]
    }
   ],
   "source": [
    "print('Number of channels:', number_of_channel)\n",
    "print('Sample width:',       sample_width)\n",
    "print('frame rate:',         frame_rate)\n",
    "print('Number of frames:',   number_of_frames)\n",
    "print('Parameters:',         audio.getparams())"
   ]
  },
  {
   "cell_type": "code",
   "execution_count": 11,
   "metadata": {},
   "outputs": [
    {
     "name": "stdout",
     "output_type": "stream",
     "text": [
      "Duration: 1.26 seconds\n",
      "Sample Rate: 22050 Hz\n"
     ]
    }
   ],
   "source": [
    "duration = librosa.get_duration(y=audio_signal, sr=sample_rate)\n",
    "print(f\"Duration: {duration} seconds\")\n",
    "print(f\"Sample Rate: {sample_rate} Hz\")"
   ]
  },
  {
   "cell_type": "markdown",
   "metadata": {},
   "source": [
    "### Visualize the audio waveform"
   ]
  },
  {
   "cell_type": "code",
   "execution_count": 12,
   "metadata": {},
   "outputs": [
    {
     "data": {
      "image/png": "[encoded data removed]",
      "text/plain": [
       "<Figure size 1200x300 with 1 Axes>"
      ]
     },
     "metadata": {},
     "output_type": "display_data"
    }
   ],
   "source": [
    "plt.figure(figsize=(12, 3))\n",
    "plt.plot(audio_signal, color='blue')\n",
    "plt.title('Audio Waveform')\n",
    "plt.xlabel('Ddyo')\n",
    "plt.ylabel('Amplitude')\n",
    "plt.show()"
   ]
  },
  {
   "cell_type": "markdown",
   "metadata": {},
   "source": [
    "### Amplitude Distribution"
   ]
  },
  {
   "cell_type": "code",
   "execution_count": 13,
   "metadata": {},
   "outputs": [
    {
     "data": {
      "image/png": "[encoded data removed]",
      "text/plain": [
       "<Figure size 1200x400 with 1 Axes>"
      ]
     },
     "metadata": {},
     "output_type": "display_data"
    }
   ],
   "source": [
    "# Calculate statistical summary information\n",
    "mean_amplitude = np.mean(audio_signal)\n",
    "std_deviation = np.std(audio_signal)\n",
    "max_amplitude = np.max(audio_signal)\n",
    "min_amplitude = np.min(audio_signal)\n",
    "median_amplitude = np.median(audio_signal)\n",
    "\n",
    "# Plot the histogram with additional features\n",
    "plt.figure(figsize=(12, 4))\n",
    "\n",
    "# Plot the histogram\n",
    "sns.histplot(audio_signal, bins=50, kde=True)\n",
    "\n",
    "# Add vertical lines for statistical summary information\n",
    "plt.axvline(mean_amplitude, color='r', linestyle='--', label=f'Mean: {mean_amplitude:.2f}')\n",
    "plt.axvline(mean_amplitude + std_deviation, color='g', linestyle='--', label=f'Std Dev: {std_deviation:.2f}')\n",
    "plt.axvline(mean_amplitude - std_deviation, color='g', linestyle='--')\n",
    "plt.axvline(median_amplitude, color='b', linestyle='--', label=f'Median: {median_amplitude:.2f}')\n",
    "plt.axvline(max_amplitude, color='m', linestyle='--', label=f'Max: {max_amplitude:.2f}')\n",
    "plt.axvline(min_amplitude, color='m', linestyle='--', label=f'Min: {min_amplitude:.2f}')\n",
    "\n",
    "# Set plot title and labels\n",
    "plt.title('Amplitude Distribution')\n",
    "plt.xlabel('Amplitude')\n",
    "plt.ylabel('Frequency')\n",
    "plt.legend()\n",
    "plt.show()"
   ]
  },
  {
   "cell_type": "markdown",
   "metadata": {},
   "source": [
    "## Play audio file"
   ]
  },
  {
   "cell_type": "code",
   "execution_count": 14,
   "metadata": {},
   "outputs": [
    {
     "data": {
      "text/html": [
       "\n",
       "                <audio  controls=\"controls\" >\n",
       "                    <source src=\"data:audio/wav;base64,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\" type=\"audio/wav\" />\n",
       "                    Your browser does not support the audio element.\n",
       "                </audio>\n",
       "              "
      ],
      "text/plain": [
       "<IPython.lib.display.Audio object>"
      ]
     },
     "execution_count": 14,
     "metadata": {},
     "output_type": "execute_result"
    }
   ],
   "source": [
    "def play_audio(audio_signal, sample_rate):\n",
    "    return Audio(audio_signal, rate=sample_rate)\n",
    "\n",
    "play_audio(audio_signal, SAMPLE_RATE)"
   ]
  },
  {
   "cell_type": "markdown",
   "metadata": {},
   "source": [
    "# Preprocessing audio dataset"
   ]
  },
  {
   "cell_type": "markdown",
   "metadata": {},
   "source": [
    "## Trim and Pad"
   ]
  },
  {
   "cell_type": "code",
   "execution_count": 15,
   "metadata": {},
   "outputs": [],
   "source": [
    "def process_audio(audio_path, desired_duration=2):\n",
    "    # Load audio file\n",
    "    audio_signal, sample_rate = librosa.load(audio_path, sr=SAMPLE_RATE, mono=True)\n",
    "\n",
    "    # Pad or trim audio to desired duration\n",
    "    desired_samples = int(desired_duration * sample_rate)\n",
    "    if len(audio_signal) < desired_samples:\n",
    "        # Pad the audio to desired duration\n",
    "        pad_amount = desired_samples - len(audio_signal)\n",
    "        processed_signal = np.pad(audio_signal, (0, pad_amount))\n",
    "    else:\n",
    "        # Trim the audio to desired duration\n",
    "        processed_signal = audio_signal[:desired_samples]\n",
    "\n",
    "    return processed_signal, sample_rate\n"
   ]
  },
  {
   "cell_type": "code",
   "execution_count": 16,
   "metadata": {},
   "outputs": [],
   "source": [
    "def preprocess_audio_in_subfolders(root_folder, output_folder, desired_duration=2):\n",
    "    # Iterate through subfolders\n",
    "    for subfolder in os.listdir(root_folder):\n",
    "        subfolder_path = os.path.join(root_folder, subfolder)\n",
    "\n",
    "        # Check if it's a directory\n",
    "        if os.path.isdir(subfolder_path):\n",
    "            # Create output subfolder if it doesn't exist\n",
    "            output_subfolder = os.path.join(output_folder, subfolder)\n",
    "            os.makedirs(output_subfolder, exist_ok=True)\n",
    "\n",
    "            # Iterate through audio files in the subfolder\n",
    "            for audio_file in os.listdir(subfolder_path):\n",
    "                audio_path = os.path.join(subfolder_path, audio_file)\n",
    "\n",
    "                # Process each audio file (trim or pad to desired duration)\n",
    "                processed_audio, sample_rate = process_audio(audio_path, desired_duration)\n",
    "\n",
    "                # Save the preprocessed audio file in the output subfolder using soundfile\n",
    "                output_audio_path = os.path.join(output_subfolder, audio_file)\n",
    "                sf.write(output_audio_path, processed_audio, sample_rate)"
   ]
  },
  {
   "cell_type": "markdown",
   "metadata": {},
   "source": [
    "### New Path"
   ]
  },
  {
   "cell_type": "code",
   "execution_count": 17,
   "metadata": {},
   "outputs": [],
   "source": [
    "root_folder = data_dir_org\n",
    "output_folder = PROCESSED_DATA_PATH\n",
    "preprocess_audio_in_subfolders(root_folder, output_folder, desired_duration=2)\n",
    "data_dir = pathlib.Path(PROCESSED_DATA_PATH)"
   ]
  },
  {
   "cell_type": "markdown",
   "metadata": {},
   "source": [
    "## Inspect Processed dataset"
   ]
  },
  {
   "cell_type": "code",
   "execution_count": 18,
   "metadata": {},
   "outputs": [],
   "source": [
    "example_audio_path = os.path.join(PROCESSED_DATA_PATH, 'emabega', 'audio #4251.wav')\n",
    "audio_signal, sample_rate = librosa.load(example_audio_path)\n",
    "audio = wave.open(example_audio_path, 'rb')"
   ]
  },
  {
   "cell_type": "code",
   "execution_count": 19,
   "metadata": {},
   "outputs": [],
   "source": [
    "number_of_channel = audio.getnchannels()\n",
    "sample_width = audio.getsampwidth()\n",
    "frame_rate = audio.getframerate()\n",
    "number_of_frames = audio.getnframes()"
   ]
  },
  {
   "cell_type": "code",
   "execution_count": 20,
   "metadata": {},
   "outputs": [
    {
     "name": "stdout",
     "output_type": "stream",
     "text": [
      "Number of channels: 1\n",
      "Sample width: 2\n",
      "frame rate: 22050\n",
      "Number of frames: 44100\n",
      "Parameters: _wave_params(nchannels=1, sampwidth=2, framerate=22050, nframes=44100, comptype='NONE', compname='not compressed')\n"
     ]
    }
   ],
   "source": [
    "print('Number of channels:', number_of_channel)\n",
    "print('Sample width:',       sample_width)\n",
    "print('frame rate:',         frame_rate)\n",
    "print('Number of frames:',   number_of_frames)\n",
    "print('Parameters:',         audio.getparams())"
   ]
  },
  {
   "cell_type": "code",
   "execution_count": 21,
   "metadata": {},
   "outputs": [
    {
     "name": "stdout",
     "output_type": "stream",
     "text": [
      "Duration: 2.0 seconds\n",
      "Sample Rate: 22050 Hz\n"
     ]
    }
   ],
   "source": [
    "duration = librosa.get_duration(y=audio_signal, sr=sample_rate)\n",
    "print(f\"Duration: {duration} seconds\")\n",
    "print(f\"Sample Rate: {sample_rate} Hz\")"
   ]
  },
  {
   "cell_type": "code",
   "execution_count": 22,
   "metadata": {},
   "outputs": [
    {
     "data": {
      "image/png": "[encoded data removed]",
      "text/plain": [
       "<Figure size 1200x400 with 1 Axes>"
      ]
     },
     "metadata": {},
     "output_type": "display_data"
    }
   ],
   "source": [
    "plt.figure(figsize=(12, 4))\n",
    "plt.plot(audio_signal, color='green')\n",
    "plt.title('Audio Waveform')\n",
    "plt.xlabel('ddyo')\n",
    "plt.ylabel('Amplitude')\n",
    "plt.show()"
   ]
  },
  {
   "cell_type": "code",
   "execution_count": 23,
   "metadata": {},
   "outputs": [
    {
     "data": {
      "image/png": "[encoded data removed]",
      "text/plain": [
       "<Figure size 1200x400 with 1 Axes>"
      ]
     },
     "metadata": {},
     "output_type": "display_data"
    }
   ],
   "source": [
    "plt.figure(figsize=(12, 4))\n",
    "sns.histplot(audio_signal, bins=50, kde=True)\n",
    "plt.title('Amplitude Distribution')\n",
    "plt.xlabel('Amplitude')\n",
    "plt.ylabel('Frequency')\n",
    "plt.show()\n"
   ]
  },
  {
   "cell_type": "code",
   "execution_count": 24,
   "metadata": {},
   "outputs": [
    {
     "data": {
      "text/html": [
       "\n",
       "                <audio  controls=\"controls\" >\n",
       "                    <source src=\"data:audio/wav;base64,UklGRqxYAQBXQVZFZm10IBAAAAABAAEAIlYAAESsAAACABAAZGF0YYhYAQAAAAAAAAAAAAAAAAAAAAAAAAAAAAAAAAAAAAAAAAAAAAAAAAAAAAAAAAAAAAAAAAAAAAAAAAAAAAAAAAAAAAAAAAAAAAAAAAAAAAAAAAAAAAAAAAAAAAAAAAAAAAAAAAAAAAAAAAAAAAAAAAAAAAAAAAAAAAAAAAAAAAAAAAAAAAAAAAAAAAAAAAAAAAAAAAAAAAAAAAAAAAAAAAAAAAAAAAAAAAAAAAAAAAAAAAAAAAAAAAAAAAAAAAAAAAAAAAAAAAAAAAAAAAAAAAAAAAAAAAAAAAAAAAAAAAAAAAAAAAAAAAAAAAAAAAAAAAAAAAAAAAAAAAAAAAAAAAAAAAAAAAAAAAAAAAAAAAAAAAAAAAAAAAAAAAAAAAAAAAAAAAAAAAAAAAAAAAAAAAAAAAAAAAAAAAAAAAAAAAAAAAAAAAAAAAAAAAAAAAAAAAAAAAAAAAAAAAAAAAAAAAAAAAAAAAAAAAAAAAAAAAAAAAAAAAAAAAAAAAAAAAAAAAAAAAAAAAAAAAAAAAAAAAAAAAAAAAAAAAAAAAAAAAAAAAAAAAAAAAAAAAAAAAAAAAAAAAAAAAAAAAAAAAAAAAAAAAAAAAAAAAAAAAAAAAAAAAAAAAAAAAAAAAAAAAAAAAAAAAAAAAAAAAAAAAAAAAAAAAAAAAAAAAAAAAAAAAAAAAAAAAAAAAAAAAAAAAAAAAAAAAAAAAAAAAAAAAAAAAAAAAAAAAAAAAAAAAAAAAAAAAAAAAAAAAAAAAAAAAAAAAAAAAAAAAAAAAAAAAAAAAAAAAAAAAAAAAAAAAAAAAAAAAAAAAAAAAAAAAAAAAAAAAAAAAAAAAAAAAAAAAAAAAAAAAAAAAAAAAAAAAAAAAAAAAAAAAAAAAAAAAAAAAAAAAAAAAAAAAAAAAAAAAAAAAAAAAAAAAAAAAAAAAAAAAAAAAAAAAAAAAAAAAAAAAAAAAAAAAAAAAAAAAAAAAAAAAAAAAAAAAAAAAAAAAAAAAAAAAAAAAAAAAAAAAAAAAAAAAAAAAAAAAAAAAAAAAAAAAAAAAAAAAAAAAAAAAAAAAAAAAAAAAAAAAAAAAAAAAAAAAAAAAAAAAAAAAAAAAAAAAAAAAAAAAAAAAAAAAAAAAAAAAAAAAAAAAAAAAAAAAAAAAAAAAAAAAAAAAAAAAAAAAAAAAAAAAAAAAAAAAAAAAAAAAAAAAAAAAAAAAAAAAAAAAAAAAAAAAAAAAAAAAAAAAAAAAAAAAAAAAAAAAAAAAAAAAAAAAAAAAAAAAAAAAAAAAAAAAAAAAAAAAAAAAAAAAAAAAAAAAAAAAAAAAAAAAAAAAAAAAAAAAAAAAAAAAAAAAAAAAAAAAAAAAAAAAAAAAAAAAAAAAAAAAAAAAAAAAAAAAAAAAAAAAAAAAAAAAAAAAAAAAAAAAAAAAAAAAAAAAAAAAAAAAAAAAAAAAAAAAAAAAAAAAAAAAAAAAAAAAAAAAAAAAAAAAAAAAAAAAAAAAAAAAAAAAAAAAAAAAAAAAAAAAAAAAAAAAAAAAAAAAAAAAAAAAAAAAAAAAAAAAAAAAAAAAAAAAAAAAAAAAAAAAAAAAAAAAAAAAAAAAAAAAAAAAAAAAAAAAAAAAAAAAAAAAAAAAAAAAAAAAAAAAAAAAAAAAAAAAAAAAAAAAAAAAAAAAAAAAAAAAAAAAAAAAAAAAAAAAAAAAAAAAAAAAAAAAAAAAAAAAAAAAAAAAAAAAAAAAAAAAAAAAAAAAAAAAAAAAAAAAAAAAAAAAAAAAAAAAAAAAAAAAAAAAAAAAAAAAAAAAAAAAAAAAAAAAAAAAAAAAAAAAAAAAAAAAAAAAAAAAAAAAAAAAAAAAAAAAAAAAAAAAAAAAAAAAAAAAAAAAAAAAAAAAAAAAAAAAAAAAAAAAAAAAAAAAAAAAAAAAAAAAAAAAAAAAAAAAAAAAAAAAAAAAAAAAAAAAAAAAAAAAAAAAAAAAAAAAAAAAAAAAAAAAAAAAAAAAAAAAAAAAAAAAAAAAAAAAAAAAAAAAAAAAAAAAAAAAAAAAAAAAAAAAAAAAAAAAAAAAAAAAAAAAAAAAAAAAAAAAAAAAAAAAAAAAAAAAAAAAAAAAAAAAAAAAAAAAAAAAAAAAAAAAAAAAAAAAAAAAAAAAAAAAAAAAAAAAAAAAAAAAAAAAAAAAAAAAAAAAAAAAAAAAAAAAAAAAAAAAAAAAAAAAAAAAAAAAAAAAAAAAAAAAAAAAAAAAAAAAAAAAAAAAAAAAAAAAAAAAAAAAAAAAAAAAAAAAAAAAAAAAAAAAAAAAAAAAAAAAAAAAAAAAAAAAAAAAAAAAAAAAAAAAAAAAAAAAAAAAAAAAAAAAAAAAAAAAAAAAAAAAAAAAAAAAAAAAAAAAAAAAAAAAAAAAAAAAAAAAAAAAAAAAAAAAAAAAAAAAAAAAAAAAAAAAAAAAAAAAAAAAAAAAAAAAAAAAAAAAAAAAAAAAAAAAAAAAAAAAAAAAAAAAAAAAAAAAAAAAAAAAAAAAAAAAAAAAAAAAAAAAAAAAAAAAAAAAAAAAAAAAAAAAAAAAAAAAAAAAAAAAAAAAAAAAAAAAAAAAAAAAAAAAAAAAAAAAAAAAAAAAAAAAAAAAAAAAAAAAAAAAAAAAAAAAAAAAAAAAAAAAAAAAAAAAAAAAAAAAAAAAAAAAAAAAAAAAAAAAAAAAAAAAAAAAAAAAAAAAAAAAAAAAAAAAAAAAAAAAAAAAAAAAAAAAAAAAAAAAAAAAAAAAAAAAAAAAAAAAAAAAAAAAAAAAAAAAAAAAAAAAAAAAAAAAAAAAAAAAAAAAAAAAAAAAAAAAAAAAAAAAAAAAAAAAAAAAAAAAAAAAAAAAAAAAAAAAAAAAAAAAAAAAAAAAAAAAAAAAAAAAAAAAAAAAAAAAAAAAAAAAAAAAAAAAAAAAAAAAAAAAAAAAAAAAAAAAAAAAAAAAAAAAAAAAAAAAAAAAAAAAAAAAAAAAAAAAAAAAAAAAAAAAAAAAAAAAAAAAAAAAAAAAAAAAAAAAAAAAAAAP//AAD//wAAAAD//wAAAAD//////////wAA//8AAAAAAAAAAAAA////////AAAAAP////8AAAAAAAD//wAA//8AAAAAAAD//wAAAAD//wAA//8AAP//AAD/////AAAAAP//AAAAAP//AAAAAAAA//8AAAAAAAD/////AAD/////AAAAAAAA////////AAAAAP//////////AAD//wAAAAD//wAAAAAAAAAAAAD//wAAAAAAAAAAAAAAAAAAAAAAAAAAAAAAAAAAAAAAAAAAAAAAAP//AAD/////AAD/////AAD/////AAD//wAAAAD//wAAAAD//wAAAAD//wAA/////wAA/////wAA/////wAA/////wAA//8AAAAA//8AAAAA//8AAAAA//8AAAAA//8AAP////8AAP////8AAP////8AAP////8AAP////8AAP//AAAAAP//AAAAAP//AAAAAP//AAAAAP//AAAAAP//AAAAAP//AAD/////AAD/////AAD/////AAD/////AAD//wAAAAD//wAAAAD//wAA//////3//f/7//v//f/9//3//////wAAAQABAAMAAQD///3/+f/3//f/9v/y//T//f8JABQADgADAP//AQAOAAkA7P/h//L/AwAFANz/2v/6ABEDIARvA9sCWwOpA2YDXAMrA3oCWwLZAtcCpALnAhMDJgOMA7EDWwM9A2kDNANiAlUBjADc/+7+K/6e/bb8nPvK+l76svp0+7D7uPv/+9H7MPvG+kf60Pk/+j/74Psw/Hb8zvxX/cz95/0e/uL+8v++AO0AnwBDADYAfgDXAOYAeADP/yH/dv7I/Rf9q/y5/LL8YPyi/Eb9Ff1y/DL8wfs6+3L7xvu4+0X8NP1T/Sf9iP3G/XT9SP10/Wn9F/2i/DT8VfwB/Xb94v3w/r//bP/l/rn+Rv7D/cr9DP55/m7/bQAOAccBjALKAsgCEAOOA1cEbwU0Bo8GGgeaB6wH8Ad9CJoIZwhgCBcIeQdgB+UHFQiCB6cGtAXXBJoEpQQRBFMDLwMcAwMDXgOiAz0DgwKrARkBVQGxAYwBigGmASgBkgCJAG0A4P+I/6n/2v8HACsA2v9K/1X/nv9K/+D+t/4M/kr9yv3Y/jf/xv8oARACNALTAqcDxgP4A4gEOARnA2cDqQN9A0wDngKIAa0BdAK+AY4AxwB+Ae0BeAJeArYBJgIHA5sCygF/AeYAUABfAP3/Qf+y/5IAHQAN/8b+f/55/dP8/fzi/Jn8//xV/Rr9Bv3K/DT8Nvw6/E77vPog+3v72ftZ/Er8E/wg/Ov7qfvD+7L7ovsB/DD8CPwl/Ff8b/z2/KP9Af6V/kL/Bv9K/i7+iv7y/mn/lv+G/9H/PgBbAGsAkgCZAFIA1v/R/1AAUgDg/9H/uf9P/3f//f/T/03/O/+e/xAAHQC3/1z/V/9w/z3/ov5Y/sj+Ff/Y/tP+NP+w/zEAOgDG/9z/oAAXASIBAQF8ACAApgBVAa0BOALnAmcD8gMbBJMDcgOyA9ACNAGJAHEAAwCN//3+7f0O/Qj9Gf2c/DD8b/wE/aL9Of6E/qD+NP8xAP8AdAGKAUMBFQEXAesA6AA/AS8BxQCvAD8A/f4V/tX9Mv1n/Er8XvxI/Hj8rfxw/CT8AfzG+8P7WvwT/Xj9+f3a/kz/4v5y/q3+GP8E/43+Lv70/dz9Hv6I/qf+o/7K/uv+N//h/zwAAQAAAG8A5ACIAXgCCAMkA4wDawRkBSsGawZXBtgGlQeBBzAHRAcBB6cG0QZ9Bq0FsgX0BWUFzARlBLYDOAMRA30CUAHL/zT+Dv1k/N77svvw+/L7hfsn++L6nPqe+sP6vPoQ+9H7IPwX/Ir8F/1K/YT9p/15/WD9Z/2j/VH+1f69/qP+rv5n/tX9SP0c/Zf9Jf4j/gb+SP6Y/tH+7v69/nn+o/70/gb/WP8HAFkAbQCzAMkA1wBrAdUBtAHXARMC/AFgAisDcQO9A1MEHASDA5UDfAOrAhkCmQG+AJsANgEmAckAGwFFAf8AEgHvAEkATADiABABYAESAhMCkAGOAc4B2QE2AuYCTAORAxMEWwQvBAEEwwNTA1ADugOgAzEDSAOGA2QDUQNcAxMD1QLVAnYCKAJ2AiACsQDT/83/jf9c/1r/4/62/lP/Zf+j/lP+hP55/oL+1/63/hz+Iv7P/h7/9P6Y/iD+Uf4Y/yX/+/6W/wkAVwBrAe0BMwEBAU4BqAC//4b/ef9n/3L/I/92/jL+iP6X/hf+5/1R/rD+4v70/qD+E/7Y/QP+T/5j/kT+Xv6l/qP+af5c/mv+Uf5u/iH/uf+N/xz/k/7D/Vf9Z/0O/af8BP2G/aX9q/2P/Yb99v1j/kL+4/2T/Q/9cPx7/DT9Wv2w/Gv8iPxF/Aj8//ty+9H6HPsI/Ov8ov3i/Yz9af3l/R7+rv2y/cr+MQBMAekB7wH2AaACgwPxA60D1wJDApsCWQOxA38DCAOIAgECYAHQAB8AHP94/j/+pf0c/XD9/f1Y/q7+o/6E/hX/xP8/AC0BHQJdApcCCgMgAwwDKwNbA6ADHgTVBM8F1wZ5B5MHawdCB+cGIwZIBVcE/wLoAbQB0wHIAb4B3gFbAu0C9AKyAn8C9gFKATQBmwEoAqkC5AIbA20DCAOzAUcAV//B/jv+p/1G/Rn9j/yi+wX7v/r4+fH4Ffkc+lD64Pnt+Vz6HvsZ/Ez8Gfza/AP+yP6E//n/MwD0AL4B9AHVAS8BkAA/AT8CLQLZAa0BRwE0AT4BegDc/zoAeAAtABsAHQD2/y0AugD0ACIB1QHeAtsDpwT6BL8EWwTIAxcDBwNtAyADTgLDASsBZAD//9j/y//T/0z/ef5R/iv+a/35/Kf8pfsD+5P7jvyB/WX+BP/u/2YBTgJVAngCtgJoAvEBZgEFAG3+1/3u/Sf+u/4j/8j+E/5P/bT8evwB/FD7bfvw+wH8J/yy/ET9Cv79/r3/MwBoAMcAWwEeARQASv+t/lj+D//V/7f/CQAmAZ0BTAHzAH8A1v/7/tP9zPxy/KT8Gv2n/fv9P/7I/gT/oP6j/mD/jP8K//n+HP/7/mz/VAB2AB8ALQBFAE4AwwA6ATEBGQErAS8BMQFDARIBjgAxAE4A5ADxARMDkQOKA6YDkQP0AocCmQLbAlAD5ANwBMMEXASyA+8DmQSrBKIEtgRKBJADwQK6AfQAyQDUANcArwA8AJH/0/5j/nD+bf44/lP+iP54/k/+Hv4i/sH+kf/5/zYAdgBXAL3/HP+l/lr+rv5g/xr/Mv4R/vT9E/25/Mz8ZPzB/N79pf22/Kn8sPyI/O/8Rv2B/Xj+V/8u/8z+jP7//U79sPwk/Bz8tPwa/fb83Pzy/NX84vyp/ZP+Ff/I/4oAVwCp/57/t/9M/wj/HP/p/or+XP5M/nj+rf6c/gL/UgCMAVcCEQMpA3oC/QGeAdAANgAtACoA8v9r/9f+Jf8xAKQAVAA1AJsAIgFbAe8AEgCr/0wA9ABUADT/3P73/iD/P/9X/s78yvz//T3+jP0Z/TD9Nv7w/9kA3wCvAVADLwQrBDQEMgQbBIME8gSpBGQEzASlBfgGQghhCKkHKwe0BvkFjAWIBXYFOgX2BFkEOgOMAukCQwPvAqQCdgIZAhsCXQLtAQoBVACI/2X+Pf00/GL7L/vk+/T8ef2G/dj9Vf5//oT+wf4s/5P/yP/e/zYA4AA+AQEBqACVAK0AygDKAJAAYACFAP4AoAEKAvgBqAE8AdsAEgGmAc4BxQHOAYEBJAErAT4BIAHKAB8AZf/C/gj+jv2E/Yj9gf1l/TT9Vf1//Rn9vfzw/Bz9Hv0r/f38uPzO/BX9Gf20/Dv8L/ya/Ff9P/7p/iX/Sv+W//L/7v9Y//f+Tf+w//3/hwDdABUBwQFeAnQCMgKmAT8BQQH+AKYA5gAMAfoAqQGeAgoDTAMZAxICWQGDAccB0AG0ASABFQBB/+n+k/4e/tr9g/22/AP80/vO+9H75PsG/Jr8a/2E/S79l/2M/hz/Qf8K/0j+mP2p/eX9o/1B/Uj9sP3g/Ur9ePyD/Cf9hv2T/Vn97fwD/Zr9rv1I/VH9sP3e/SX+ef5M/kT+Mv8QAOX/Zf8R/83+BP+I/2v/yv4r/oT9Sv3j/XD+hv7r/qD//f9fAAUBSgFeAeIBEAKMAcwB7QJZAxAD+AK8AkUCJgIrAh0CQQJZAk4CugJnA38DXAPpA94EXAU2BaUE5AODA78D2QNgAxwDOgPeAjICwQHHAEL/uf7y/m7+nv2Y/Rj+jP59/gH+Rv5c//D/AwAgAM3/XP83/2X+DP2T/NH87/xO/Qz+Tf7i/fv9bP/pAA4BvgBBAUoCJANnA/ECXQI8Al0ClQLcAu8C4ALQAnQC/wEBAlsCtAIIA8wCmwGgAO8AwQFMAvYC2wPaBPAFLgZEBesE3AWeBnQGzwUcBecEIAUpBT0FYAW2BJsDHgPBAp0B+f9a/gr9P/zk+8b73vsD/Nz7Yvse+2v7zvvn+8j7Svu/+hv7Pfw9/Qb+gf5X/i7+Wv7y/RP91/wM/RH9O/24/UH+vf7l/r/+Bv+n/73/a/9h/67/agCMATYC8QGDAWQBHQGQACsA5f+C/zv/K//3/lH+Tv14/I/8a/02/uD+of8VADYAawBXAJP/v/6c/jD/4f8DAKv/Zf9j/6H/KgDQACsB/gB8AAwAU//E/Tb87/ua/NH87/u4+in6R/qv+kz74PsT/AP8V/y//YL/1v8w/+7/0wGSAt4BFQHtAEEBNAE/AFH///5p/jD9F/yX+6X7+PsG/Nr75fsF/C/86/y7/Wn9YPxD/Ej9Kf7y/Sv9D/3i/bL+Jf+s/yYAKADV/4j/Y/85/6v+4P2K/fb9oP62/jT+6/0B/g/+cP4P/+X+Wv7c/hkA/AC/AdMCIgSrBQ0HygdjCHIJeQr5CgQLnArnCYgJlQlpCcQIFQjMB/sHQQjBBwgGLwS/A28E2gTVBJoE+ANnA0cD5gIpAocB2wBqAGsAOgDu/+H/f//w/sb+Z/4w/in/AACB//v+Df/K/k/+Sv5t/iX+Q/0t/Mz7cPwi/fn8k/z7/AT+E//K/6f/F/8w/4j/V/9j/9H/cP+N/lz+ov6j/mf+P/6E/lP/FAAmAJX/4P5y/qD+Wv/l//D/MQAHAS8CqwPkBLgE6QM2BFUF7QXeBYMF6wRZBMED0ALbAYgB3gGKAtUC/AGoABAAbv+2/R78hvsk+wX7aftG+6365vqn+1H8V/1E/nv+K//zAC8C7QEpAb4AvAAkAV0BvwCp/9P+j/7j/hf/T/5V/Uz9v/0I/jD+//3D/Uj+7P7e/tj+F//n/sH+DP/j/k3+T/63/gH/dv/B/2P/Lv+//0kAdgC/ANUAaAAzAGQAMwDY//T/6/9X/+v+wv5//oz+Pf8gANAAMwFkAbYBNAKOAqkCogKrAsMCZgJgAUwAqf+K//b/3wDoAU4C5gHSAYgCwQItAq8BIgGKAL8ADgFgALn/7P8BALD/rP/N/7//1v/u/8j/3P/2/5P/jf/w/33/GP/e/1sAFwDy/5X/Nv/N/s/8F/tP/HT9dPxM/DT9ef1E/lX/GP/M/hr/Df8//67/BP/i/Z796/0u/l7+jf6R/iP+/f27/uf+f/0T/K/7l/tQ++/6qfov+3/8Uf0k/R79BP42/7n/If/r/fb8dPwp/EH82vxc/Xv94v3M/in/yv72/oj/U//y/in/Qv9Y//T/PwArALEAawHOATECXgIoAi0CYgJVAlICVQLxAXgBgwH0ARICXgFmAPv/sv/c/u79e/2I/RX++f6//yYALQAkAJIARQFgAcUAGQDa/73/MP9Y/sH9P/3l/H/9mv73/uz+mv+8AHYBtgHmAfwByAGkAZsB9AAOAGYAswEoAsUB5AGIAhsD2QOgBLAEWQQ2BMwD6QI/AvwB6AH4AegB5AEbAggCCgLKAjYDpALeASYBvgBHASgCBwMbBGIE1QO2A1sDRwLVAcUBRQE/AVkBhQDB/7v/CQCQAKsAHwA6ABUBrQEKAuQB8QBmAMoAdAFMAtUCjgJoArECegLoAWkBMwEQAlsDJgPvAUoB5ACMAPYAfwE+AWYAcP/r/k//JgDUADgBawFxAQEBOgAUAGQA1f+2/i3+Hv6B/lf/cv+E/sj9kf15/Z79uP1w/Xv9O/7l/iH/Wv+g/wAAtgAiAVkA9v5B/oH+Df8P/y7+Gf24/A/9hP22/Zz9f/0P/rv/SgFbAe0AfwEXAocBjAADABIAcQBxACsAcQD2ABkBFAHQABkAjf+r/0cAnwCw/xf+o/0c/tX95fxG/Pr7Afx//OD8z/z5/M/9v/5R/5r/u/8VABkB5gG4AagBFwL6AbEBfAG6AD8B7QJOAYb+rwAQA5cAZADrAyQDugDeAhkE7wGbAdMBIACh/7b/bf5g/sr+Zf0O/QT+Q/2X/K79A/50/a39A/4D/hX+MP6u/hP/pf59/vD+vf49/kL+I/7E/Zf9eP2K/cH9oP2B/Zf9Zf15/WP+7P5C/nv9Wv1y/aL9Cv5G/nD+Z/+zANUAQwBgAL4AxQAFAT8B9gDkAAwBgQCw/6n/UgDoAM4A7P8T/w3/mP/s/7f/cP+C/6D/pf/V/8r/Xv+M/2QA1ADdAAEBzgCJAO0A6QCu/7T+nP42/n/9+/wZ/Er71/tt/Qb/7v9j///9ef30/VP+MP7I/aP9TP6P/+AA/wHmAn8DjgNZA38DkwMxAzQDigNVAzYDfANVA0gD7QNiBJoEJQVwBRkFZQSrA6IDSARrBM4DJwOSAhIC2QHHAbEBdgEbAeQAxQCkAJAAMQB2/wz/Jf93/8v/tv9s/7n/TgCFAIoAIAAE/xP+mP0D/U/8p/sX+zL7JPww/dH96/2P/T39cv0//k//EgA8ABQAIAC0AHwB0AGXAUUBJAEUAbQA/f+G/83/agCdADwAz/+r/2n/Cv8p/73/UADgAHgB9gE2AigCBQLiAZABSQFFARUBzgDmAA4BFwFQAT8BagBl/7/+iP7G/hr/Nv+T/4wAfwHmAUUC4AIDA4gCJALzAeYBNAJFAn8BvgC6AMEAYAD//wUAegDJAGgArv8T/0/+dP1P/RH+1f7a/jv+p/3B/W7+Af8r/yP/GP/y/lf+Sv1y/Ar89vvM/Er+xv4c/rL9yv0T/oH+WP55/fn8A/0B/QH9ufz6+7j7cPx//Yb+cP8OAF0AOgDR/7L/mP/3/mD+IP6//YH9sv3G/cT9a/59/yYAhQBBAfoBJAJXAq0CVwK6AZ0BjgGeAfEBbQFZADUAigCrAL8APwDc//wAAQKSAW8BvgFXAVIB1wGDATMBwwHrAWgBHgEoAXEBJgIVA6AD+gKMAfwAPgEzAUMBmQE6AaYAxwCfAKD/l/6u/RP9Kf0t/QT9u/1i/sP9dv1C/or+Sv5w/kr+1f0E/jn+9v0l/q7+rv6y/n3/VwCHAKQAPAHdAUwC0gIxAxwD5gK0AoECUAKrAckAwwBpAb4BBwJtAnYCXQIKAgUBLwAdAPf/xv/n/6v/hP90AF4BUAFdAfQBfwLxAgwDZAJ+AQoBCQEgAfoAmQA1AOH/+f+UABQBYAHVAUUCfAJiAu0BkgFKAdkARQEQAgkBz//2AK0BQQAbAP8Awf/K/nMAugBV/qn9Ff/5/g3+1/6y/yP/Tf90AAUAsv45/60A6ACrANIAmwD9/4b/I//N/pP+u/7G/7gATgC5/y8AhwBSAGYARQCn/6H/FQD9/5P/Yf9c/4z/pf8r/6n+yP4B//3+If8h/3j+2P2X/d78E/yO/Lj9Wv7Y/oH/zf/h/xQAXQDOAAUBvwCiAMEAdAAqAEwAKgDw/0MAlQDKAIcBNgIdAvEBJgJXAlsCHQKiAYMBwwF+AY4A6//g/+H/2P/N/3T/N/+w/+X/9P65/cj80/uB+1X8NP09/eD8yPxO/TL+p/6C/l7+WP4c/pH97fx0/E78f/zv/Gf9+P22/vv+nv7T/pb/Uf9R/jL+hv52/qD+Av/N/lH+E/7R/an97v1I/pz+Pf/g/xQAMwCmACsBUgE0AT8BXgErAeAADgF6AZ0BsQEIAlICXgKDAt4CLQMmA7YCPAIVAt0BOgG+AJ8APgCy/5r/0/8DAD8AlADZALEA9/9p/3T/Kf82/r39CP5I/nn+DP+e/7f/d/8V/3/+4/2c/Zr9bv3c/Fr8A/3c/h0A8v+3/wAAyv9I/0L///5N/mD+yv5u/jv+7v5n/2n/tv+e/3T+9vzt+9n79vxG/tz+Xv8+AOIAXgEkAqkCsgL2ApsDIgSXBOUEkAQgBD0EFwRpA3ID1QMkAzoCTgJgAgcCNAKgAqYCtgKmAiAC4gHZAd8Aef8r//T/8QC4AfMBjgFTAc4BMgLrAZcBgQEzAdkA4gAUAW8BEwJvAjEC1wGdAX8BcQH+AEMAGQBkAFQABQDV/43/Qv8c/83+e/6C/pP+gv65/vT+vf6E/pX+nv60/tH+oP5g/jD+yP3a/bT+8P5i/jv+IP6i/bb9E/7K/cH9e/7w/uv++/4Y/zb/T/9C/0//d/+r/0wA8wC2AIUAcwETAjYBJgD5/zEAQwDu/zn/D//Y/44AgQBOAJkAPAG0Ac4B0AEZAp4C8gK9AoEC6wJmAzoD3AKpAmsCeAK/AowC8QF2ASsBFwEoAf4AogBQAOH/V//2/tf+5/73/tP+gf4K/qX9v/3p/Tb9Mvw2/BP9uf3O/XL9Ff1B/cP9A/7y/Z79Gf0r/R7+2v7I/rb+Qf8QAHwAUgAKAOf/yP+y/3//+/7M/j3/Yf8X/0L/rv/E/wAApgAeAUcBYAGtAVkCzAJbAvwBiALcAkcCyAGdARsBogBrANH/Gv8C/x7/6f5//uP9iP3i/Sn+xP14/dH9ff7e/lf+bv2l/en+v/+//3v/gf8tACYBuAHoAb4BPwEkAYoBygEFAi0CrQFBAY4BZgGzAK8AxwAZAIH/N/+C/gz+U/4t/nD9iP2P/lP/oP/g/+P/v/8HAHwAgwCpAEcBfgFVAdABbwJKAhsCOALZAUEBFQHQACoAgv/i/oT+k/50/iD+Nv54/nb+j/7T/vn+Yf9bAHoBSALVAiYDRQOOAwYECgSDAycD8gJtAgoCOgKFAo4CLwI/AVsAAACC/5X+GP5P/qL+6/4w/wz/gf5u/vn+2v6//T/95f15/oL+XP4I/sb94v0N/tX9Gf2E/Nz8O/2I/JX7Gfu0+rb6Hvv9+rz6NPuV+2L7g/ta/KD9Qf/SAMwBOAJpApUCxQL4AkwDxQMQBDgEqwQKBa8EOgRcBH8EXARvBJMEewROBNwDCgMvAn4BQwGBAYcBYgFXAXwARP92/yoAmP/e/uf+xv7P/pH/tP/u/vT+xv/7/7D/k/83/6v+zf5P/xj/j/7j/h8AZgE0AoUCXgLDAfEAXwAvAPD/k//g//oA1QEXAqsCigPgA+AD+gO9AxMDnQKQAqsCrwJyAvQBXQEHARUBGQGfANj/P/8G/xP/XP8QAPQAegGpAdIBuAFDAd0AygDdAMkAigBbAE4AfwD4ABkBiQAQAOv/Qf9B/r/9U/1//BP8f/z5/Aj9+fwR/ZP9e/4P/wL/5/4E/2v/QQDBAFUA9//9/6v/rv+/AG8B3wAvAM3/MP+B/vD9Zf07/Uz9u/zX+6T72vvk++n7nPup+jb65/p0+0r7HPuk+r35xfmp+sP6jvpG+737HPvn+mD7W/s4+6/7F/wO/MX7ePvQ+6f86/zy/G79mP2e/Y/+o/8oAAwBHgJVAuAB6ABl/z3+5/0D/m7+qf5Y/mf+Tf8vAKsA7wABASsBgwGZAZcB3gHMAeYAAACe/zD/8v6s/4kAUgCn/1r/Nv95/zEASQDP/xcA6wBBAWQBngGgAdsBoAJFA6YDJARcBEgEdgRkBIMD5gJvA38ELQXiBIED9gGKARUCUAIMAvQBvAFQAaQBCgI8AasAVQFoAd0AbQE9AlACmwLDAv0B0AGeAq0CKAKIAj8DMgPKAooCbwKvAlMD7QMIBH8D/wJxA1MEVwSIA94CtgIgA6kDVQNiAhMCQwIIArgBqwFZAdIAogCiAIwAVwAFAOn/AQDY/9b/eADvAN0A2QDHANkAqwEkApUBpAGpAuYCMQKvAXwBkwEQAu0BfAD3/ob+t/4T/6v/OAC4AF4BkAFHAV0BWwG2AFUAOgDT/+P/ZgBbAPb/bP+u/nL+l/5y/lr+Of77/X/+O/9j/6v/Wv8M/kH+8v8gADT/2P6u/gb/jf+V/pf9k/6K/zL/9/6V/nT93PzP/CD8WftB+2L7evuc+4r7g/tK/Lb9zP4y/z3/Pf9a/0b/p/5g/vf+Qv8u/7//2v/2/iH/VAB0ABUAYgCUANcAuAHMAZsA9P+HAA4BrwDG/yn/YP/p/97/e/9a/y7/MP/V/woAof9fAMMBzgFZAZMBnQGTATYCogJOAhACTAKrAvgCVwOtA3YDAQMKA9wC0wH/AP4AFQEVAWIB6wE/AikCiAFxAJP/Wv/0/gz+sP0r/nv+YP49/gH+ef3k/HD82vv9+kr67fm6+ef5W/qK+tH6hvvk+6D7UfsX+xH7Z/sT+2j5ePgr+u/7Ffsr+oz7Ff3w/Sn/P/8N/lz+hP8r/5X+3v7g/hf/IABtAJz/af9FADMB4gFZAjECugGDAZAAuf5g/p7/bv8j/n/+vf8zAIkAyQCkAEcBYgI9AjMBWQCK/8j+pf0r+8r4VPhX+Kb3pPeF+Lz5hvwdAHoBkAEvA7sEGwTrAt0BAwDa/j3/Gv92/nf/hQE0Aw4FkQaMBkMG2gbBBtwEWwKQANb/rv89/33+k/4oAEgCrwOGBJ4FxAZCBw8HJQZOBFsClQF/AbYA4f9tAI4B3QG+Ab4BjgFmAXQB1QBG/xX+Df49/hj+Uf7c/lr/kgBpAn8DIARKBVwGwQaPBpUFbwQDBLYDHgPZAucCAwM0A3gDBQTGBPgEmQRTBBAEbQNmAlcBuAA6AIL/dv9MANcAKwESAgMDpANQBF4EQwPiAbMAV/85/u39+f0j/qf+J/+P/1cAGQFMAXgBrQGSAaAB2wGSAckAqf90/if+dv47/h7+tv5N/+n/UACl/8/+2v7X/nb+Ff5D/Zz8HP22/ZP9nP1P/lP/CQDI/8b++P2X/QH90fuR+iT6ffoD+zr70/py+gb7//t7/H38+vug+5z84P3e/YH9yP2E/vD/qwGQAvYCogMXBCsEJwSrA5cCaAFJAIr/Zf83/wH/vf/pABcBpgC2AEUB2wHSAcwA2P/V//b/o/8//9P+OP7V/QH+ff67/tP+f/+QAL4Af/+n/VX8Afzt+yf7NvoQ+mb68fow/Iz9nP3P/G38WvwF/KX7ffuw+178//wK/UH9af6C/1P/oP5p/iL+rv3P/Rr+BP5//t7/JAH2AYEC1QJMA/QDVQQDBOQClwHVAGoAKABbAIoAQQAUAEwA5gD0AacCcQJFAmgCBwKHAb4BAQKiAUoBjgEBAkoCqQIVAysDAQOyAi8C8QFMAtcCSANvAxcD1wIyA78DVwTrBLIEwwNmA7IDjAODAjYBfABfADYAJgCvAHYBEwKbAvEC6QKkAmYCaAITAsMAmP+E/2D/mP4G/o79Uf1B/jL/lf7c/T/+Uf7V/Rr+ff7D/QH9j/3B/qf/bQAvAX8BAwHn/+z+nv6Y/nj+V/5I/oH+Zf+QAFIBvgEBAp0BHQAD/oP8DvzQ+4X7vfsF/Lr7//uV/eD+sv79/WX9ovwn/Gv8uPza/HL9Wv4r/woA9ADOAaAC1wJeAi8COAJ8AVQAhv/a/lf+RP5u/uP+BwB/AaACLwNMA1MDfANxA+ICKALgASQCngI4A6QDaQMcA2IDPAMKAgMB1ADJAH8AKgD3/+z/rv9V/1z/f/+p/4EAbwGQAbwBIgJzAToABwAxAKz/5/4p/rT9Yv7T/7oAHgGbAQgCRQI2Ar4BcQG+AR4CPAL6AW8BlQGkAv0CFQIHAUoAQQBFARkCzgFHAQMB6wBgAQEC6AFDAYMAnP+p/q39z/x7/IH8lfzn/Dj9V/3O/Uj+MP5a/hH/Lv+7/q3+q/5i/kT+Iv7j/UL+xP5l/tf9w/2I/UT9gf3K/QT+gv6n/lr+cP7X/gz/If8a/yv/bv85/+n+iv8XAIj/Bv8E/9j+MP8tAHwASgCiAPQAnQAvAAcA6//C/1f/Uf7y/BH82vuw+477w/vc+5H7Z/tg+wz7ffrv+aT57flQ+ob6cPvr/H/9Hv27/Kf8MP07/s3+1/7s/rv+Yv7B/nf/vf+u/4j/rv9KAH8ALQCDAGsB+gFTAp0CXgK+AVUBegEVAqkC3ALrAiIDxgPrBMwFtgUTBXoEzgM0AzIDRQNiAiAB4AB+AR0CzgKVA+ID5gNTBBkFngVrBW8EHgMtAq8BNAHDANQAUAGSAWYBIgEUARIBZgD9/hz+af7w/v/+tv5I/i3+sv5h/+P/RwBiAGIAeAArALT/6f9BAP3/xP/c/7v/2v+dAPgAbwDy//T///+2/yv/0/4w/yoA/AAiAe8A6wArAZcBAwISAvwBcQI6A4gDQwPZApkC0AJ2A8EDEQMrAjECyAK4Ag4ClwFOAfQApgBDAOP/FADKAEwBSgHiAF0AOgBZAO7/LP8y/9P////p/ysAhQABAQUCvwJvAt4BqQGHAboBGwKOAW0AQwD4AHMBaQESAe0AhwEeAscBDAGMABQA3v8bADMAAQDp//n/KAA1AI//jP4j/j3+4P3M/Lb7SPt2+8z7Efwy/G38J/0p/sb+sP4T/nL9ff3V/Uz9Bvw2+1P7J/xO/Qb+GP4w/pP+yv7C/rf+hP7//Xb9Lf0l/YP9Lv6w/gL/lv84AKQAPwHpAdkBMQGiAGQAqwArAbwAnP+P/3QAkgDT/zf/rv4G/t79a/4X/27/Qv/i/iH/QQA8AT4B3QDMALgAbwB6AIoA2v8p/3D/tP8u/+X+U//r/4oAigBn/3n+gv5P/t79Gv5Y/iP+Lv50/qP+Ef+M/6v/hP8h/7/+3v5N/1z/2P4y/uP94v3c/eP9+/0X/pj+Zf/E/+z/XwDFAEEBeAKTA1MDOAKBAWsBfAF2AT8BpAC2/+z+dv7i/S399Pxc/cb90f2T/Vn9xv3i/pb/af8r/0r/bP99/2X/CP/V/j//5f8fANP/gv+M/7T/iv/G/pP95fw7/Z79af1V/cz9dv4l/6H/k/9V/5z/SgDJALoAQQD2/z4AwwAkAa0BNAI8AjoCpwLeAqAChwKDAlsCfwIeAxwEawVZBiUGWgXnBOkE5ASGBAoEwwOcA5MDyAPVA38DSgNbA0gDGwMBA9cCzAITAzgD6wJvAu0BUgGpADEAFwAtAPn/Xv/c/vn+rP9gAKkAawC2/zL/sv+xAAwB5AC0ACoAYP/R/lz+5/2n/YH9dv22/fT91f1u/Q79Ff1i/XT9af1p/U/9sP2//lj/J//p/qD+XP6l/vL+wv7T/kb/dP9T/0H/NP8R/9j+pf62/mX/vgDvASACwQGzAfQBOgI2AqQB7QCDACYAAABgAIwAGwD2/zoAAABB/57+Iv6n/Vf9XP2a/b390f09/s3+Jf99/83/xv/V/y8AbwDZALgBPALzAZcBsQEyAroC5ALSAqkCQwLMAYoBKAGiAG8AYgA1AE4AygAoAV0B1QFrAqcCfQIkAuYBGQKtAkoDogNiA6ICAwK6AX8BLQGtAB0AAQAbAKf/7P52/v/9lf15/TL9ZfyI+yL7UPue+7L75ftI/FX8RvyZ/PL8Gf1e/ZH9af1a/aD9sP1i/UP9cP1M/eD89vyO/RP+cP6u/qv+qf7e/jL/pf8AAM//cv/G/8oAzgFkAngCCAI/AY4ALwD7//L/NQB8AH8AZgBiALMAqAHKAkUDLQMxA14DawNnA1wDDgOxApACQQKeAV0BcQESAZsAnQB2APn/AwB0AG8ALwA8ABIANv8V/kz9Of3w/en+cv+h/+X/DAC5/1r/dP+C//T+TP4D/t798v0//jT+I/6T/qX+Mv6t/tr/HQCy/6H/rP+w/wEAUABkAIEARQBV/43+t/5K/7D/DgBmAGIANQA2ADUA+f+n/yH/eP5T/r3+8P7y/jb/HP8//rT9Kf7B/v/+SP+w/wcAUABQAPf/IAA8AS8CMQLTAXYBNgG8Ab8CBwO9Av0CngPVA38D3AJMAgcC9gHkAX4BpADE/zD/wf50/k/+I/44/uX+7P/UAEwBRwFOAbEB7wHMAb8B/AEIAp0BGwH2ACABLQHDAOn/Ff+a/nn+tv7//tH+jP7c/oz/TAAtAdMB/AHoAdIB5AEyAlUCMgJTArQCxwKxAuQCOAN2A8UD/wPTA2ID4AI6ApUBMQGiAKX/4P60/rD+rv7R/qv+Cv52/TD9MP2T/Rj+RP47/jL+Lv5//hP/gf/e/zoASQBOAJQAsQCtAM4A0gDiAF4BxQHoAX8CZgPKA8gDuANvAxADCgMtA+ICDAL0ANz/Df/c/i7/j//B/7n/bP8V/wr/Df/G/m7+CP5V/cP8pfx9/Fz85fx//Ur9u/xZ/NX7NPu8+kr6DPpI+rb6Hvu4+4r8iv25/qf/9v/n/5j/Av+N/j3+g/2X/DD8e/w2/eX9I/4r/j3+F/6Y/RH92vwc/X/9p/3P/RP+K/4V/vb9Bv59/vD+Cv9C/67/0/8UANUAZgFvAYMB6AFiArECsgKnAtIC5AJdAl0BkgBVABIAUf+3/rT+jP74/b39A/4//lr+Yv5t/tf+P/8I/7b+z/4C/0z/q/+a/2P/p//g/+v/qwDBAeQBWwFKAZ4BwwHvASsC8QGKAZkBqQFrAWIBUAHzAC8BAwIMAjgBqQCQAJAAoACkAHoAMQDl/9X/LQCrAOgA0gB8AMb/yP4a/gj+SP6Y/t7+Kf/s/ykB/AEbAhUC3QE4AaYAeABrAHMAgQBSAPb/iP8I/97+T/+2/5b/YP9T/yX/9/4c/1z/nv8iAIkAWwBOACIBLwK4AtwCtgJ9Ar0CLQMeA+cCAQMpA1kDugPgA6QDqQMcBHYEpQTrBBoFKwVlBXsFwwSOA44CswEVAToBqQGKAT4BKwHQAEUARQCbAIoALwAVAFQAegD9/+z+Jf4R/v39T/2i/Iz8vfwB/Wv9nv1c/RP9CP0u/bD9nP6e/zYAGQCe/2f/o/8DADwAVQCQAPoAXgGiAdAB3gGmASgBrwBBAJP/Bv8Y/0T/Of9P/yH/gv5R/mL+9P29/S7+Zf47/jn+Uf6V/hH/SP8r/y7/Tf+W/2oAigEpAkEChQIKAzwDAQPFAnwCDgLkAf0BuAH/AIoA0ACoAaQCDgN4AqQBigGtASYBYAAOAOz/tP+E/2z/lf/P/4b/Bv8c/2D/Af9w/mv+tP7G/rf+t/5r/r39Sv1T/Z79SP7X/k/+Vf0r/ZX98P1B/oz+5/5V/5r/wf/T/4//Uf+T//T/CgDa/3L/9P54/jn+qf6I/woAJAAmABUAAQDB/yv/v/6y/pr+hP6g/q3+pf6g/rL+Av8a/2n+sP3I/Rz+Af7l/Tn+mP6i/oH+oP4g/7f/8P+//5z/mP9y/3L/zf/7/+f/HwB6AFsA6f+e/3T/Xv+E/6f/Z/8a/zT/ff+a/5r/oP+l/4z/Y/90/9P///+E/+D+xP73/gL/D/8c//L+Ff+C/z3/Y/7u/bL9Y/1K/dr80PtV+5f7gfsn+wz76frZ+jD7mfvX+zT88Pwt/lj/mv9s/8r/PwAmAM3/Sv99/tX9Mv3K+wX6KflO+aT50/kM+mn6+PrD+5r8MP17/XL9Iv1B/RX+gv4u/jT+sP7p/iP/mv/w/0UAnwC0ABAB4AFiArwClwNGBAoEeANKA38DwwMBBFsExQQOBSUFJwVVBdEFTwanBiIHjQdTB6kGRAYEBlcFTgRrAwcDRQO/A78DVwMcA/8CrQI8ApkBrwDp/5z/jP+N/7b/yP+l/8T/VADvAJcBbQIDAy0DXgPVA5EEeAU/BtMGQQdaBxwHjAZwBQYEAQPBAgcDCgN9AjECkwIRA04DQQMKAwcDyALBAdUAmQBZAFcAKQHHAa0B4gFOAgECswFdAgoD0gKHApACbQKDAi8DsgP7A54EOgVgBVEF1QTmA0gDBwN8AuIBfwHJAJ7/zP6y/rv+ff4t/hH+V/7w/mP/V/8P/9P+k/5e/kL+IP4V/ob+Nv9Y/wb/Cv9C/xP/l/4R/pH9bf2K/Tb9qfyw/BP9Lv0G/eL82vzE/Hv8K/wD/Ov71fu7+9D7Wfzk/KX88vvB+yT8Zfwv/N77uPti+9z6yvoy+2f7SPtM+7/7hPwp/WD9Qf00/aX9Y/63/oj+Vf5C/kT+Xv4u/pX9Mv1B/W79qf3X/cz9uf2D/fT8yvxg/cP9xP09/qv+O/6w/bL9zP3p/SD+DP7t/Vf+tv6e/u7+1f9QAHEAKAEbAmgCZAKOAoMCJgIBAhsCAwLMAbEBhQFHAU4BlQGpAW8BSQGOAQwCRQJFAlsCVwImAisCcgKTAnoCWQJvApICFQIiAcMAAwEJAZ0AIgD9/y8AVAArAOz/3P8tAKQA1wAZAZAB7QGFAjID+gJ0AuQCegNIAwMD7wKdAm0CuALeAmQCygGOAXMBQQEoASgBUgHIAfwBdgHmAMoAlwASAKP/Z/9g/5r/nP8E/4H+oP7V/r3+mv5l/k/+6f7B//f/4f8QAG8A6QBXAUMB3QD2ALYBLQKtAf4AKQG8AcwBTgFSADL/5/47/8b+nv0K/fv8zvyp/Ir8IPzZ++X7jPvR+rL6Qfv4+9z8iP1w/Wn9J/63/uP+rv+dAKgAfwDDAAUBVQGiASsBYgBFAIoAwwBKAfgBKwIQAlsC9AIRA6cCbwJpAiQCswEZAWoAaAD8AN8AAQCe/6z/Sv+i/nT+mP6E/kr+Qv6B/hj/AwC+AOIA5ABJAcwBJAKZAgoDEQMZA4MDtANmAzwDXgNpA1UDUANbA2YDRwPpAnwCGwKzAUoBHgFMAZABzAE2An8CYgJ4AsMCbQL9AV4CvwJoAgUC4AGdAYcBvwG6AWQBXgHOARcCAQL/ATwCXgItApUB6QD0ANkBwwJDA4UDhQM8AycDfQOQA+YC9gE4AZcAAQB0/+v+iv4V/j/9ffzy+zD7k/qR+r36F/sD/Nr8E/1a/Sf+6/4n/yH/I//G/in+Of7s/lj/af9e/1H/zf+gAKgAEAASAHYAMwBj/+D+z/6a/g3+tP0N/qv+k/62/Rz9//yM/Nn7l/t7+z37Vfu6+9P7wfvi+yn8hvzK/H380fuG+1X7cfqZ+c75dvr2+ln7Ovvm+lP76fvQ+9H7JPzv+6X7Dvxg/A/88vtt/MT8l/xM/C38a/wZ/S39/fvv+uv68vr2+pf7Bfzg+wb8XPyE/Pv8g/2M/Wf9Ef0G/Mz6iPpM+/b76/sB/Nf83P2n/kz/q//j/xUA4f9M///+Gv89/2X/jP9p/wT/0f70/kH/lv+5/3b/RP9T/wz/nv7G/if/If8u/8j/lQAtAdIBBwN7BFoFmgW0BekFUwaOBj8GBAZEBpoG3gb9BrYGbQZ4BngGQwbKBdMEBgQ4BNcE7wR/BAUEzgPiAxEEUwTrBK8FygUvBesETwV2BfoEUAS0AzED8gIKAysDDAPQApACPQItAoECuAIDA+ADjARXBAgELwRrBJcErwSiBK8E3gTvBNMEoARMBOkDqQOgA5MDXAM4AxUDnQLoATMBYgC//57/lv8w/5f+7v0R/Uj8CPwX/AX8HvyE/Lj8+PzX/ZX+o/7P/iz/Jf83/9b/PwArACYAMQABANP/BwB4AMkAGwGVAdcBzgHoAekBVQGZAD8ACQC7/67/8P8OAB0AjAAMAUkBigGKAeAAUAA2ANb/XP9p/1f/tv5K/m3+wf4Y/1f/TP8w/3D/wf+N/2P/3P8gANr/DACJADYArP/c/y8AOACSAEkBvAHvAQ4C8QH9AYoC0wKDAmYCXgLtAc4BHgLoAX4BqwHvAeQB+AEQAs4BnQHzASsCigHFALoA3QCiAF0ABwCR/yn/bf6D/Wf9w/2D/Qz9tvwT/L/7Zfz0/Jr8KfxG/Mj8af2y/Uj93vxG/ev90/0p/W/8qfsv+2b7kPsB+1v6NPpO+q/6U/uv+9X7Gfz2+4H7hvt7+7j6Xvrk+if7//rp+r/6+/oI/Mr8rfyX/L/82fw2/Zr9Q/2O/Iz8Vf0r/qf+I//a/5QALwGDAVsBSgHvAXYCJAKkAVsBCgEXAZABngFTAVMBFQFXAAwAPwAqACoAmwC/AJQA1QAvATMBQwEeAVQA0/8oACAAe/+K/wUA1v/y//QAMQF4AIMABwHFAFQAHwCN/xr/Vf9N/7n+rf4G/8z+V/5y/vL+kf8SAPD/o//7/0wA///u/2IAfAA1ACgAiQBKAU4CNAORA3YDhQPyAz0EZwS6BLIELwQKBFAEKQRvA7QCaAKSAukCGQMMAw4DkQNIBEoEmQP6ApsCVQImAtUBNgGbAGIAtgBJAWkBIAEpAW0BGwFBAMr/FQCVALoApABtACoAWQC6AFsAu//P/+z/sv/h/xcAv/+//1sAoABkAAwAqf9c/+n+9P0P/Qr9w/2R/gj/YP8fAFsBtgKDA1UDCgNvA4oDygJHAhsCgwEXAWYBuAG4AaQBVQG8ACoArv8w/7/+l/7K/gT/D/8w/27/WP/X/k/+Df7e/Yj9Wv1y/ST9RvzB+wH8ZPyP/M78D/0K/QP9F/2n/Mz7nvs//Mb8JP2//XL+P/9VAGYB+gH6AZ0BSgEpAdcAJgB7/0r/hP+r/4T/bP+W/9r/AwDy/7b/nv+e/5b/z//2/2v/7v52/2IA6AD+AIUAAABfAP4AqQDa/0z/2v6Y/pP+bv50/s/+4/7N/lH/DgBfAIEAlAA8AKP/MP/X/kj+hv3K/Ej8Q/yI/E78rfvX+8b8P/04/Vr9Z/0u/fT8hvwF/Bn8a/wr/ND77fsK/CT8zPyK/a39w/00/oz+2v5g/5z/f//E/1IAgQC+AFABdAFOAcoBWwIeAgMCZgIvArYB8QH9AWgBTAGXAXQBUAGZAdsBzAGMAUMB/gCVABsAu/9N/+L+hP7Y/Sf9J/1l/R79pfx0/JP85PwR/QH99PzZ/JH8e/yI/GT8ePwZ/a394v0w/sr+bP8HAIwAwQDtAGsBvAF0AT4BigH0ASkCNgIXAgMCSgKvArgCbwItAiQCPwJIAjICQwKFAscCLQPnA4YEqwSeBLgEAQV2BdkF0wWyBcQFjgXwBJcEeATpAyADngI/AhICPQJTAmYC+gK0AxEETgR2BG8EjATlBDQFZAWOBecFUwZZBjAGgwYVB5cHQQiyCJUIggiMCDsI/QcMCLIHDwfwBvsGrQZtBm0GQQb4BdoF7QUlBmIGQwbtBeIFAwbiBY8FNAWyBEMETgSKBG8EBQSeA3gDkwN9A+sCXgI0AvMBdgEtAe8AWwD2/x8AKgC//2H/Ff9g/pr9Rv35/GX8HPxK/DT8hvvk+sX6r/o9+sf5h/lr+W35UvkZ+S/5V/n9+Kb4/PiM+eT5V/oR+9f7Z/y4/AT9YP2T/X/9Of3t/L38jvxP/Er8cPxi/Bn83vvV+9f7nPtQ+z/7QftX+7j78PuQ+/L6ePo4+jj6A/pZ+cj4vvgH+VL5Rfnp+Lj4vvi6+Lz4v/iO+C/45PfS99X3tPeb97b3q/eD9+/30Phv+bj50Pmm+bL5K/pe+oX6hful/Nn83Pwk/Qj93Pwp/WX9af1l/dz8GvwK/Fr8YPxc/KX8Dv0e/bT8e/yt/HT8wfuB++L7Q/w6/O37yPuy+1H7F/tt+//7mvwc/UT9ff0T/oj+1/5j/wMAlQBMAQcCfwKTAk4CSALnAtkDwwRTBSsFyATkBC8FOwU4BRkF6wQRBVoFUQUrBf8EbwSvAzoD9gLFAs4C3gKxAmICFQLxARkCcQLKAv0C1QKMAnwCZAIpAlICqwKTAlcCcgKmAtIC/wIKAzID0QOgBEQFygU/BrYGDwfGBt4FOAUyBU8FNgXvBHYE+AOxA3YDCAOtAsgCNgNvAzIDyAKtAgEDWQM9A9ICrQLXAroCPwLkAcgBugGDAeIAGwDr/zMAIACr/0b/4P55/mX+Xv7t/X39sv05/kT+6f3u/aL+Vf9P/+7+P/9VACgBFwHOAB4B9gHKAo4DNARZBEgEzAR0BU4FxgS4BBUFogUyBkEG8AUOBo4GzAa5BloGqwVyBfsFLga4BZkF8gUnBjYG+QVKBd4E0wRrBOsDwwNxAyYDfAPBA3wDYAODA14DFwP2AvgCHgM/AxsD1wJ4AuQBfAFvAWgBfgH9AVICGQIKAkcCSAJXAqsCsgKMApcCdAJXApkCVwJHAXgAEgBl/4H+uf07/RX92fw2/Iz7MPsQ++v6mfpx+qv6yvqx+tH6G/tt+xr85PxE/Wf9hv2E/V796/wa/GT7NvtV+zr7m/rV+Yf5sfnt+VD69Ppi+077A/ut+ln6Tvqt+iT7Vfv2+hL6Pfmr+O33JvfS9qT2WfZx9vb2SfdK9zH3IvdM95L3f/cx92j3XvhD+Ur5/Pg4+d35ffoD+y37DPsi+0b7OvuT+2L8z/zE/Nf8Gv0p/dn8cvwn/PD7Hvzc/Hv9l/25/Rf+U/5T/u39NP3T/O385/y//Nz8Ef0c/Tb9Z/1Z/T/9sv1i/qD+5f7G/84AyAHMAiQD5gJgA0UEFwRVAzQDRQMgA14D6wMtBDoENgTpA4gDfAOxAxMEuwRXBWAFAQWvBIwEpQTXBMEEpAQGBYMFtAUOBrYGQgeNB20H/wYMB4gHlwdCBycHYAfPBxcI1QdBB24GbwX/BBMFnATTA7YD+wPcA2ID9gLDApACMQL8ASsCXgIvAqgBWQHBAXYCpwJOAvMB1QHSAcEBzAEOAl0CogLvAhsDEQMIAzYDWwPnAhcCxwH2ARICFwIkAjQCoAI/A4UDsQPxA+YDzAP9A1UEygTyBGAE6QM0BFkEyAMvAw4DTgOXA20DzAI6AhICWwL0AnQDdgNHA1sDTgO9AjIC/wG/AW0BLQG8ADMAvf8M/0j+4v2K/Q79tvxR/K37Ovsn+xv75vqr+pf6kfpr+jT6Cvrb+dP5Afr6+bL5jvmI+XL5R/nv+Mf4Ovmk+bb5W/qD+//79Psg/E/8cvyl/Ff80ftV/Jr9dv7//pr/EACBAAUBJAHoAOgAEgEVASQBSgFbAWsBXgEHAbgAlwBKAAkAQwCUAGYArP+r/gP+Mv6u/pz+3v3r/EH83vt9+xz72fqr+ob6NPqn+W35sfnX+en5Zvq/+m/6Pfq4+h77Bvv7+h77J/tZ+6f7g/tR+8b7MPwZ/Ez87fxc/Zr9oP02/dX8vfyP/HD8mfy0/P38zv22/lX/tP/N//b/ZgCxALgAxwCdAA4AYP+T/v/9Pf6y/o/+Lv7R/W39bf3E/b/9iP2r/f/9Of4y/sr9P/32/Pv8Kf1R/Xb9qf22/bD94/04/qv+a//I/2v/U//L/wMAMQD4AAUCBwPpA1UEUAQ6BC8EXgS0BG8EdgOtAnQCmQIMA7oDbQTZBNkE3ARcBe0FOQZMBrgFsARTBIEEbwR4BJwEbwTZBOQF0QXQBGIEFwR8A1sDSAODArMBNAHpACkBmQGMAY4BEAJ9AooCegJ4ApkCpAJFAt0BLwI/Az8EkAQmBHIDPAO9AxkExgN2A8wDYgRwBOADhgPkA38EOAXnBa0F4ASIBCcEpgPtA04E7wO7A9sDwQMiBPQEIAXcBLIETgTDAz0DcgKVAQkB1QDrAPwAwwCiAMwA8QAeAX4B+gGIAtMCigIrAi0CXgLMAkUDGwObApsCtAKgAt4C7QI9AsEB6AHQAXwBqAH/Ad4BwQFBAp4C1QHKAKIAlAD//8//GwBKAHoARQB7/2v/HwAiAM3/KwCdALwA3wDFAKAA9AAoAbMAGwC0/17/Cv+a/gr+iv1I/X/98v3p/TD9WvwK/D/8U/zk+3j7hfvT+xP8Pfyv/Ir9D/62/Sn9NP3B/SP+3v1w/an9Iv4c/vn94v1p/fn8Af3G/DT8Bfze+1P7E/v9+jz6aPkK+W/4zPcF+Lz4Tvmd+Yj5kvkv+rL66for++D6DPqm+VX5w/gp+WL6zPq8+jD7Z/sO+0j78vvQ+y376fqb+hv6SPrm+s76k/oy+8j7gfsg+xn7Ivti+877yvuB+5H7uvty+zr77fs7/S3+p/4M/1X/0//mAOYBcgIrA+IDNgS7BD8FJwVTBQwGCgZvBTYF7QQ4BLYDWwPiAqcCkALvAdUAAwDP/+H/CgBqAJ0ANgDW////IADg/3b/Bv/T/vn+4v6l/j//XQDxADwBhwFZASIBZAFdARIBtgHcAvQCBQIZAasA6QCSAcoBawE6ARsBagCr/5j/3P8kAEoAEgAzAAwBSQHxAKYBugL9AoEDGwQ/A/QBjgEgAbQALQFrAcoAqwAUAZ8Av/+9/wcArP82/xX/3v7P/iv/HP/M/nv/gQBtABkAqAAzATMBWwFQAXMAwv/W/9H/t/8SAPv/J/8h/zgANgH8AcECLQPtA4QFXAa0BUMFngWMBREF+wTXBHQEbQRwBO8DgwN6AzgDkwL/AbwB4gFZAp0CUALoAf8BIgK/AXwBmQE6AagA0AAQAfwAXgHrAfYB/QEIAtMB+gE9AukB2QFtAp0CcQKHAnoCXQJ0AvgB2QAmANX/Kf9n/gr+Af40/lj+Cv6j/bT97f3r/Rr+e/5Y/vj9RP7l/kj/5f+UAFkAvf/V//f/cv83/4//jf+3/68A/gAzAFsAjgHrAbMBtAEvAYcAugD8AAoBigG0AVIBegGrAVIBnQFoApMCvwIpA9cCYAJ4AsoBNQCR/7D/1/5a/Vf8V/s8+qv5YPke+Sn5CPm2+Nf49vjO+Nn4h/j/94r4P/kr+fH5Wftg++/6WfvT+9X82P7G/zn/Y/8SAMH/Wv+r/4r/2v63/uf+5/4h/2D/3v4a/jv++f4E/4L+yP5h/zn/Y/9BAGIApAD0AfYB0ABpAUECZAFbAYgCmQKQAiQDvQK0AjoEegTxAnYC/QLQAlAC+gFzAfMAnwAtAPv/XQCmAD4A3v/r/2v/Mv59/ZH98P2a/gz/3P4r/y8AgQADAL//t/9u/+z+k/65/hj/Sv9g/yf/l/5w/vD+hv8KAFkASgAbAJr/oP7n/ZH9RP07/Tj93Pz0/JX90/0M/tj+kf/h/xUAMQB0ACkBzAH/AfEBiAHSAJIAHgHIAToChwI4AmgBHQFFATYBigExAtsBFQFSAeYB2QGKASsBxQDiACkBpADI/6z/4P+P/4L/CQC3/5r+T/6a/uL+vf8qAGn/nP/vAO0AfwBJAUMBIgAiAIUAWwA4ATYCWQGdAI4BFwKgAYwBfwEiAVkBzgHHAc4B1QFVAfoAbwFyAooD0APrAiYCGwLbAWIBawGvAdUBsQEJAbEAHQHSAKD/Pf9l/y7/af+g/+P+7v7r/zv/6f2c/pX/SP+W/2gAVwBrAN8AnQCvAKIB3QG6AakCigNVA0cDjgMbA0cC5AGkAUUBHgEUAcEAVwAUANb/j/+G//v/kgCoAHQApgAbAZ0BPQKdArQCBQMgA8ECBQPbA8YD3gIZAmsBMwG0AdMBTAFbAdsBtgEvAccAZgBVAIoAdABVAJQAfgDK/2z/oP+l/4j/iv/9/sj9yPwP/E779Prv+pz6V/pr+lv6Vfrm+pf7w/uG+0z7UPuI+wz8q/yD/Iz7Hvty+3/7b/ve+338Hv2w/dH91f02/mL+6/1O/Rn9ff3l/Yb96/xZ/Yz+1f6a/Ub8HvxF/Lj7OPt/+wj8OPyX+1n6YvqD/Fj+OP7T/YH+F/+w/gb+9P22/sj/9P8E/6L+Z//u/yAA4gBDAf8AmQEZAv4AkgD0AYcCJAKvAhwDkALOAisEOwXXBTIGxgWTBI4DZgN0AzgDUANiA6QCjALiA5AECAS6A5UDhgMeBEMEjAOpA3gEfwQ6BDYEvQPnAkUCoAH8APwAqAHZARABvgBbAUkBqQCpAEEAjf8qAGAA9/62/oT/8v73/tQA8QE9AqACNAJ9AiIEFwT6AisDxQIiAr0DdgS/Av0CpQTIA6ICkwMRBHoDdgNMA0UClQFoAdcAUgC2AGIBRQG2AJcA6AB8AVIC6QLFAkgCswF6AHb/PAAFAXv/hv77/+X/Ef6R/pz/xv5//4wBMwGBABAByP85/qf/0gB5/27+Ff4//Vf9o/5a/y7/jP5K/fL7dPvy+738Of10/WD9+fwT/Xv9+/ye/G39Q/3v+xP8VfyD+sP5O/st+3L61/uv+6n4Yvhm+m/5DPiZ+Sn6EvnB+Vv6UPkI+if8RvyT+zD8Pf2O/eL8r/yN/joAof/2/vL+bv7j/hcAcv+0/hcAegBu/oT97P5FAIkA9/+0/gP+9/4KADUASQFnAxMExQNGBC0EWwMFBLAEhQMgA/0DEANiAeYBPQO0AzAEegTXA5ADKQRnBGkE2QSwBGIDUwJxAhUDegOTA6IDoAOGA5cDjAMyA3QDEwTMA/IDjAXkBXoEnAQnBtEGVweiBz8GRgX2BVEFlQOtA5kDkgHtAAwC0wF6ARkCqQBy/mv/zACG/73+Nv9l/qL9tP0G/Of5FfoS+ib4Ffeg9+b34Pcg+BX45vdH+LP4XfgJ+Mz4iPmg+Gb31PfK+LT4k/hD+ef5UPrc+vj6xvo2+177a/rp+UP6//m8+Tb68vl0+Yj6Tvtn+nj6g/vD+iv6ZPzn/cP84vxp/qX9jvyn/Zz9SPxe/T/+J/xw+9H81/s2+jv77/vV+uT6Kfy7/C79Bv4E/hz9OP2I/oH+Rv0i/kEAoACvAJUBTgEVAbQCNgM6AlADDwVgBNUDdgWpBsoGqwc3CG4Htwd3CSUKhgocDDUMtApGC7UMQAxhDHkNmAzCCxENRg0JDBIM3QsjCqkJ9QrLCwIMMAzEC98KYQonCkgJtgeIBuUFsgQ0A84C1wITAnEBkAE/AboA4ACQAAAA9gDDAYcAxv8mAHb/ef90AXMBlf8tADQBmv8G/y0A1/7y/D3+IP+5/Sf+yP/T/q794/5K/x7+TP4a/4L+A/70/Tb8F/qD+pz72fp0+rD70PvV+vv6DvvB+lX8Uf0n+4z6XP1r/sH9/f5w/8T90f1e/kH8qfob+7T6VfpI+xf7yPnp+JD3L/eB+T/77frn+pP6svnR+lr8Bvxk/HD9xvy//Fz+0/5E/8UAgwDn/2QBigFMAMwBtgOrA8UEtAUIBOADTwW/A5kChgVTB2UG/Qa9B4MGLgfhCc8JHgipCCUJogecB3UJeQmlCH8JjQnyBwEIUwlECfcI/Qh2B0oFVwRvAzICegKRAyAD5AG+AdsBZgG+AaYCGwL4AAcB2QCI/yv/5/+h/8j+f/55/c776/sc/cH86fs6/Pv7pPr2+av5PPm2+RL6zPhq97X2tfUk9ST13/MS8tTx4/Gz8NrvNfAL8OPuGO507aHsgu1u7yHvKu5s7/fvhu7G7h3wT/Cq8UDzefGn7wvxTfJQ8vfyQvOz8kXyQvJH9If3r/e69Rf1mPR89cj5zvsD+u/6svzQ+sz6lf0E/Q788P3M/Xb93QC6ASf/pABxA1sCFwIZA1UBMQFeBLIECgQuByAJAgjeCQYOHRCsEVcTphPtFBUYUxqTG9Ecox0+H8Qh7yJ8IxYlBybkJX4mKycUJwUnXya+JOQj3SMuIzwiTSHLH+Ee3x6eHWsbgRrDGeAXrxY0Fn4UgxJAEUcPNQ2HDHUL/wgEB4oFPAPQAJX+f/tV+Fv2h/QU8kfwMO9N7Qrr4OkB6SfnKOWm493h49+H3ofdjdzw21rbNNos2Q3Zk9mJ2qjbGNzE2yXbtdpw2+zcR92u3a7fXeAh38ff7+B331jfF+LA4l3ireQZ5TPhWN+q4KHgVuGe5NPk5OFh4qvkXeQg5WLosulc6U7pA+kt6/DvQPLS8/T30vnV+Sf+6QLXBBgKehCqEOQPaxPFFnYa7CE/KCcqBSu7K5UsqjASN+Y7Cj4/PbE6djpBPZM/YkDPP/Y8tjmMOFQ4HTg3OAA3NzRGMsgwTy7/LIgtKS1yLLItgS65LJcrsCxtLYMt+y2kLPYoKibZJDUjgiGdH+sb7xYDEkYNmAk2BxEEwv/Z+//3gvNu7+PrGei45GviZuAj3rfbYNnM1xjXNNat1CDTutF20MDPKs/ozXfMEsvCyHfGcsZyx9zGkcWRxMPCPcGFwZfB0MAtwVrB179pv73AoMHiwiDEpcLewXvFSchCyEDLWc83zrXMrc9z0ZvRldVu2KTVsNWE2rDaNtiu2+7fM98j4OLk5+ca66PxBfbZ9rb63QHRBmkKUhAFF6EcLiPGKqowMTXzOTg9Uz8cRDdKNU36TitS3lOZU3lUJ1VBUyZRBVCrTfVKPkohSeVEg0BRPlU7nzZAM6ww+yyXKqApgCb1IhAiaCD1HHAcOR6IHjcfYyDfHSkayhniGSUaeR7SIakelxrTFygSfA44ETESCw69ClMHcQF2/gL/D/26+Gz1S/LE7mvsXOvu6oPqIOkO5z/lR+Mk4TngvuC64UziC+GY3T/aWtgT16LWGNet1gXVvNJWzyHMJcuqyuXICMdcxYjDMMNixGPE2cJrwsrDa8UAx1/IOchhyALMFdDO0MzRRNXP1gjWUdeU2vXcmt5f4YXlGehv5+DmPOcK5nHn9O3Y8BzuBPBi9uL4ePtyAwIKRAw6EKIVBhknHmYmaSxjMHU2ATw9PnRANUTWSCJPilTYVcpVjFaaVsZWO1gjWb1X2VO8T45N5krCRthDJEAQOp82WzVaMcMtBC2IKn4maCSmIqwfBB1sG5EaFxo0GtMa/RmkF3wWUha9FTQW8he/GOQX8RUtE4UPsAugCcgIZwZQA/gAdP1S+Sv3gPWo8ufv1eyy6DblgOPH4hfi4uAC32PcRtnj1v3VHNaE1m7WoNVn1DLSBc9ZzI/K9ch0x6nFKcMxwMy887kWuTe5gLgYtyW12rIWsmmzM7X3toW4T7ijtpS2grnBvbjBlcV8yZLLKsv6yzHQetSG15jb/N6+33rh/+QF5g7l2+VQ5wjnnObO6DntBPEC9PT4Af9FA3sHFg1FEZkUoxrlIagnxi3LNJs5CjzcPsRCJ0eDS1dOik89UXpThlSBVKlTvFEOUMxOPEwwSUdH8ETVQFI8YTjENCwxuC0iKzEpzCazJOgjGyOjIXwgHB/yHKwbxBuuG1obNBt0Gn0Z+xg9GCsYHBqGG64a6RmOGO0TWQ9WDo8NHwt0CVMHgQIl/lz8U/pX94v1GfQa8d7tQezM60brLuqk6ODmm+TQ4R/fxtwL21zawNm0133Ua9ESzwPNmsp+yKPHqcYGxPDAkL6gvH678bpNuc+2RrX+tG62B7rZvMm84LxxvrG/AcNuyQPN2Mxqzm/Qx9BK1Ajaz9t93LrfeOG34cPjZuRJ4u/hAeN84qbi9uR251jry/Kn+wUDWggLDLEPUBXWHBclpCysMT41kjo5QRxHLU3eUkFVwlVwV15Z5VrdXHxd1ls7WtNYGlbvUspPPEzmScBIyEVDQbI9YDrCNs804TORMbcuvSxrKo4n+CWHJWgktSJzISUg0R6sHlEfqB/WHwsf+Rw5HEAdRB10HAgcNBrVFgEUVhFwDo8M3AoXCFUF7wIHAOL8jvm29WjyM/D97aPrLuo56bjn7eVM5KHi4uCx3rvbYdmp2ODXsNXS0uvPhc26yxLJZcXRwlPBQb8kvZC7iblAt0C1H7P0sdWyArQGtXm3mLmFuVa6/rxvvpzA4cXPyA/HnMZzyAnJJcvS0ETVYNdC2iPcH9vY2ovc8Nzj293bUdzf2xTc3d4B5DLr5vQg/24GnAtCEW8VlRcYHVcm1SzKMNk2/TzEQQtJIlEeVWdXnFqcW9Za8FslXdpbCVplWFdVBlKxT7NMwEhLRddBdD0ZOVY1ZzEpLWYpiSZbJN8iGCL7IOoeNx1KHOkalxklGWUYkBcBGHQY9BftF/oXDBfTFgYYjBi4F3oW1RSXEuEP+wypCtMIAwb/AUj+u/sx+un4qvZ3893wGu8w7Xnre+qV6ZnoP+e/5C/i2OAa3yPcy9kR2L3VpNPI0dnOmsvdyKXFMMKQvxS9QLrWt921GrQAs0+y8LA4r8yufa/Kr7Cwt7Oxtre37rimu1W+A8FyxCHHvci8yy3QdtMg1g/aLN2L3bDdNd/s4J3ifOOL4fvd1Nvl2/PdAeJV6J3xYvwOBlkP4Bi+H1gj9iXSJxIqxi8LNzg8jUEYSfhPrVX5W9dgG2MFZYxl/2JDYP5dbllMVOJQJk3LSV1JbElCSM9Ht0YWQyU/PDuNNZMvoCr1JaQiSSFcIEsg8yFZI4sjdyO3Ihghkh+IHTgaIhc/FaATOhKqEZYRGRLFE1IVcxX/FMUTdRCqDPIJaQbXAXn+yPvp+Jn3UvcB9tL0jvQx88bwue5L7PjoYOU64c3cYdl71jzThdDbzp/NwMz+y5jKtcipxtPDMcDDvOi5O7fPtFGzQLNctOi1qLfiuXq8tL47wLDBlcNGxQLGC8Y7xkDHaMkvzMHOR9FK1I3XlNoN3ajeIeBM4hDkbeRr5HPkIOQ85NPkJuVv5lrpVuy178P0P/rE/zIGsgsSD0ESaBWGFxwaWB1qHy4hECRSJwwrjC8NM181ZDipO+s9HkBwQpxDEUSERD9Ep0PGQ6lDlUKYQb9AcD8/PhI9BTu3OKo2HTR9MaEvnC0kKy8pQye8JLUiTyFdH1MdDxy0GroYzhYSFXoTaBJ3EWQQVBBqERsS4hEDEZsP5Q41D2YOMAx7CgoJYAePBrIF7QP4ApAC/wB//57+9vwy+735Q/ei9M/yRPB57RHssupM6Azm7+OJ4ZjfcN3f2RzWcdPv0ObN3coTyODFtsSwwyfCdMH0wfvBOMGywG/AZ8CpwC3AHb8xvw7AHsAQwAbBf8L7w1PFU8bCxw/K/Ms6zeLO19BO0hLT9NKb0obTYNWG1hzXdNgU2/reBeSI6ZPu/PIz97j6YP3zAMMFigk7DJ8PqxOXGA0fDiWkKfkuzzSLObo+ykRzScxM10/xUUNUP1i3W2FdL19dYaJijmNHZNdjwWJiYQ5fh1yjWk9YblUkU9NQ101DS/tI+0UcQ5pAtjxkN0Ayay3gKEwl7iE7HnQblRl4F7YVohTtEpkQUA5WC/sHcgXtArL/Gv1K+z35bff29ePzzfFR8EDujesX6RXmVOIb3yPc7ti/1mTVZ9OF0ZfQYs9QzfHKMMhRxQrD4sAmvkC71LgwtyW2KrUntHWzJbMws4mzrrOIs7KzMLRCtKOz47IAs5a04bZouDG5r7oKvT+/YMHnw3DGBMlfyyTMAMwbzdfODNC/0eLTNNa12jHheOcn7vf0f/n7/MEA8QLkBJoIiws8DoAThRiAHB8jFyrwLjk1pjsrP+xDFErqTFJPfVM0VUhWE1qWXLldEGFVYwFj/WObZBVigF/zXDtYD1SQURBOgkpwSM1Fl0JiQMU9Kjo+N0s0BjDFKw4o1COCH5gbiBcvFJQSrRGZEHEPtQ1yC6oJGAjcBW8DBwEN/vv60Ph49532Ovbf9QL13fOf8iHxqO8w7rLr6ecO5PXgUN7w2+XZD9hG1p7UJNO/0TzQXc4HzGrJ2MZYxPvBEMBevoO8HbvDuve6YrsHvCu8kLsWu+y6ZLq3uXG5YbmHuTy6F7vUuyu9Jr/XwGDCO8T/xdPHNcohzPjMWc7f0AjTZ9Sn1c/Wgtjw24LgLeV76jvww/RJ+BP8ef86Ar0FiAmYDK0QSBaKG1AhkyjTLr4zjDktP/9Dy0m6TsVQxlJTVX9WXliWW0JdtV6UYddiqGJHY0Fi7147XCFZz1TpUYdPoUtwSBpGZUIBPxc9UDrvNjc0QDD0KsUmKCPPHhgbIhiiFJkR8w+mDgYOtQ6mDucMOQvGCcYHNAbwBJAC8v9K/s/8sPvp+xr8+vqp+XH4fvaW9ALzdfBE7W7qVedv5OTic+FQ36HdyNsN2SfX+9Wx09DQB86JyjXHPcXPw5HCpMEnwLi+B78vwHLATMA/wOa/or9Tv/q9bbxKvMe84LxOvUW+l7/MwffDssQ2xdTGfcihyeHK7svkzKbOWdDX0FDR29I71UbZR99F5c3qc/BA9EH2vfnP/U4AiANjB4IJ2AwZE+kY3h5FJtwrdTDsNoE86UDNRh1LbUyJTsVQ2VHGVCdYOVmuWqFcj1yhXDldS1tjWCtWP1KUTYRKR0esQ3lB9D5VOxc5pDcWNYgyzy9QK6omNSMeH24azhZUE2gPhgyqCjQJ5QhNCfcIAQi2BsEE4gLOAdkAgv8G/rn8+PsI/K38J/3i/B78Vftb+hf5jPco9bPxBu7j6pfoFee05e3j7OHZ3/ndgNzc2qzYOdY/0+LPN808y0TJs8dwxp7EMMMpwzbDbsKawdHA27/8vqK9drvduV25JLlxuWa6JrsDvNC96b+/wVPDWsRjxSHH1MjqyYLKicrbyg/M/MxbzqbSRNks4AjnC+1a8S31CvnB+339pf+6AlwGTQraDm0UOxv5Ik4qeTC5NjI9TEJLRjdKRU1xT1tRfVKrU15WeVnSW9hdUF8AYAFgoV4xXLdZbFYVUgNOXUoUR9xExkLiPz89IDudOOM1zzKRLsgpTiXGIHQcJRlrFsUTsRFNEIUPwA+UEB0RIhEmEPsN/gt5CkYICAZrBE4CQQDV//D/xP8+AKQAMwDa/xf/F/0V+/z4mfUL8kTviuxa6gzpSOcJ5TjjPOHa3sTcj9qp11vUxdBszQfLHckux4DF3MNKwpXBJ8Hbvza+zLxLu9i5SbgutpO0PrRItJG0rLXbtrq3tbhduQK6frvQvFm9Hb7QvnG/bcGNwwLEBsXGyKHOXtYb31LmWOtA73HyVvVJ+CD74P1/ALYDvwgFD8EVPx01JN4pPTBLNzw90ULURzNKIUuQTOJNnU+XUk1VJ1fpWDJa91qjW35bKlrgV2JUQVCSTEdJTUbuQ6JBDj+SPEA6GzgJNiczBC9OKoElyyCGHH8YaRTWEDsOZwxNC98KtQquCnAKCgmwBtoEsgMrAl8Axv4G/Zf7kPtX/OL8bf3M/W79+/yX/EH7//gt9lbyDe6a6vrn1eVM5Nfi3+C33s3cLtuN2ZfXMtVI0gvPIcyPyQnHN8UYxLnCcsHXwCbAUL/Svu29X7y4usK497Z7tm62wLWHtTy2G7dfuP65ELsqvAi+Z79vvw6/+r5mv17ATMGDwuHF28tg0wDcX+Q46kLudfIW9vH4jPwMAJUCPQZzCwAR/RcqIPUmJS1ANLE6Z0CaRplLUk4dUE5RMlIXVOFWz1maXPVeC2GrYtVi1WEoYB9dbFn2VeJRx03USrtHNUSIQdk+oDsUOZk2MzONL1wrSSaxIdYd+xmVFtATbxELEKQPsQ9DEOEQlBA8DxwN0QoyCcwHEQaQBD0DFwL9AW0ChwJXA44EcAT9AxkE/QK6AI/+iPvd9071GfOs8HXvz+4w7U/riOk/5/zks+JW30Lblddv1IXRvM46zFbKB8n1x+fGy8W5xJPD1cFQv1+8krmHtzm2KrVhtBO0SbQPtc+1y7WLtQe2IbfWt4C3prZjtuG2vrd1uWm9acRszWLW0N1V47/nD+y572/yfvXF+Jz7k/8lBV8LMxMnHJ8jcSonMio5UD9uRdBJ/EtmTS9OUk9eUgpW1lgaW89cM17QX5BgfF/zXD5Z61SyUINMbEiyRC5BMj7QOyo5ajY7NL8xTS5OKl0lXB+7GXQVDhLuDtELNwkICAQIJQg2CHYIjQjIB+AFdANbAbn/dv5u/TD8PfvO+3b94/73/5cAYgDr/33/eP72/CL7TPjU9ALy++9R7hHt/+vB6k7pa+ft5B3iB99I297WmdI4z6bMhsrYyJ7Hz8aKxk/GdMU9xP3CCsEmvgO7/rdUtYKzT7JwsXaxCrL3sc2xirJpswa0mLRAtCGzlbJTsoCyarXQu03Eos3c1X3br9+o497mdulP7FzvJfIb9WL5rP/2B34RQRpCIXYo5zAAOTlAVkazSfdKXUzoTf9P1VP3V/xaul0XYHhhfmLbYp1hEl+mW4RXb1PrT9RMuUkTRi1C/z6oPJk6ajh6NUoxGixzJsYgkRscF3ETgxAJDtMLgApwCrkKwgq1CtoJzwf4BeIEgwP8AdQAef8t/i7+af8ZAecCIARQBBUE9gOkA7YC7QAy/hf7hfiQ9t/0wvMd8+rxMvDU7pzt/evr6dfmlOIq3mfaUdfQ1IHSItAdzrrMpMuNypTJ48j5x/XFyMJ/vx+9gbvHubq3KractdG1Y7ZLt5u4uLm3ubW4VLcdtk22uri2vBXCXcl60XDYaN2x4HPjjuaw6Xfs3u4E8QP00Pgu/z8HZhBwGGEfLSeNL4U3Az9pRKNGu0coScBKQ03TUP1Td1bLWMBaT1ySXcddUFyCWQxWg1L2TlBL2kd1RMxAYD26Oos4nzamNIQxyixtJ0Iihh1MGWkV3RHdDkQMIQoACeEISAmICbcI9AZ/BXsEHANvAZ7/qf1l/C/8XPwG/Vf+Tf95/5j/AQBdAA4Aiv7i++T4QPYz9JTyLvH979bugu0B7EHqJeir5Z3i995f2y7YKdVX0uLPtc3LywbKD8g7xg/F9MPVwaa+TruUuLC2X7U3tAiz6bE2sfaw2LApsTKytLKwsWCwzK+Dr0GwtLPdua3BUMoQ0unWWNnL2wTfLeI85e/nqek27IfxP/jC/ywJVxJKGZwgVSm3MQE6TEHEROlFoUeJSS1MnlCeVPZWKllEW9pciV5+X8VezVyhWalVU1LMT1ZNiUrwRhpDikBDP/095DtoOIIz9C08KHMi0xykF2ITbhBUDrUM4wscDBQNGA4uDvwMMwvACakILgcDBZMCfgCB//L/QwEIAwgFIwbZBT8FzgQRBAEDJAHw/XL61fcF9vP0YfRj8/Hx1vDG7/ftiOuw6CDlKuHC3QDbd9hM1pPUDNO80W/Q0M5NzTnM2sp7yCfFcsF2vqq8KrtSuZK3BraGtMmzH7SItK60/bTatDW0ErXEuNm+Ksed0HfYgt114EviW+Rp54Pq0+xA7jnvqPE+91r/xAjqESIZix9SJ/YvUDh9P2lDLkS3RBZGVEgtTDRQUFI4UzRUe1U7V6lYYVhGVvBSKU/3S3pJakeJRcFCtD72OmY4hTbqNF4ydC0BJ90ghBvFFnESEg6uCSUGEwQvA/0CRwNkA3oCiQA7/jD8v/qI+d/30vUF9B/zpPNi9Xj3U/nF+qL78vva+6/7iPuk+pn4dvYS9Sz0lPMq84XykvFl8Pnulu1K7HjqtudF5Ozgmt5W3U/cANth2afXGdae1O3SItESzwvMO8i2xAPCBcCMvh+9V7uJuSa4LrfNtgS36rYNth+1brRotCG3rb0yxv7OFddG3CPeud+h4tDlBumc6wzsRuyd77X1Yv2TBjoP7xXNHOIkdC2kNps+TELuQohDC0U7SORMtFDpUm1USFXyVRNXd1cjVnRThU/USpJGCkNMQAE/0T7xPfE6nTZUM7Uxty+BK6wkORyKFAIPowq0BkwDLQDj/ST9a/0B/0cCjARrA6AAtP6V/tP/wv+w/Cn5qPef9134aPn0+Tr6Jvot+YP4G/mQ+cP4kvY18zLwe+7y7Ofqeug/5UXhJ90n2cjVE9PHz2zLdMdTxTTFC8Zpxs/F1sRlxOfEssVExeLCa78JvMu4rrU5s0Kx/65mrPyplKjmqBuqF6t4rL2u4bIKvVDPKeXr+X4MvRpsI5UqCTNXOkM/TUKEQZA9Jjy0P8RFbExmUb1SOFNrVuxbqGFeZOJge1hzTqFEfz1vOa40qS0tJjsfURrZGBMZIBntGGUYkRgCGxofUCPBJgcpryoZLEYt9i7KL+0rMSOrGccRdwvjBn8D0f+n/On8PgBMA2QFYge2B5MFrwKM/3v7L/ZE7+nn9eLt4ajkw+kE7w70TvppAX8HpwudDcAM+Qh/A3D9uvaC75XoQ+Lh3BXZnNbp1PbTUdNQ0ozQzc3jytrI+8Z5xD/CvcBSv2i+6b4KwKTAeME0w7LEZcVRxs/HQMkPyhjK5ckyyfDGMMSGwv+/C7tHt7O4XL8ozEPh9PptEi0nBzodR4xO9FSGWNxUB0xEQXE1bStgJnolrSUqJhspay+DN/BAlEr0T69Owkg/QJA2QS34JHAd8RUbD5oLcgyfEOQXByHVKUIynTrNQcRGm0iUR/tEeUAMOk0zwStPIiIY9Q2wBIb+MPsF+SD4Xfig+bn8MwCpAUEB2v95/QH6lvVG8ZPtiOmT5RTkg+aE7Bj0W/sxAmUIcw1LEQsSMQ7XB6H/S/Qv6N/d7dQUzgbKd8fsxkLJ0swv0IPS3NKK0YfOasl/w/O9ELmNtT2zC7I7s8e2tbukwfnHC86H0gzUPdQI1OnQc8u7xVW+o7bysR6uqalfp36nzKmcsVPCgtwp/JUbQDjKTjVcr2RNakZoaF8IVOxEtzOSJ3MjdyUbK70yUjtPQ5tLOVb4Xrpg5lu6T048dii9GHAMzAN9/qL8rwBGCtkXbyifN01Dl01BVERV61LqS+Q/BzQzKbUethh4FnUTlBGiEmATPhP2E68ToQ8gCfICAfzN87nuyOw96b3mIOn56zXu6POQ+sz+QwNCCNEKMwsqC+EKWAnGBfYAUfvD9ITvXOxZ6Pjiwt5S3DXb9NpE2pHY+9Wn0jjPWMtaxiTB5Ltftpay3rF7szm3F7yXwGnF98oJ0OnT5NVv1enSPM67yGDELb95uBG0XLHnrRutNK8cr5GtOK7ssZW8gdI+8SQTkTLOSjdbXGUnaoFqxWVNWm9JGzcHKJQg3yF4KT0zLzsTQTBHgU2wUopU4k7ZQGMuXhufC4gCq//0Ab0JphU6JOg0v0RxUD9XBFkIVpBPEUaXOdcrdR99FngSnxMrFzgaBB0sHzkeMhoXFNoKZ/8Z9MzoXd6T1/rUZ9ZJ3F7lKPDO+1EG2A0UEjgTmxFsDREH+/9O+fPzbPHw8dvzw/Uk91D4Vfmt+BT17u4x513fldgM0qrLCMeVxNPD48QJx/XIO8pEymXIp8Xtw27DHsNDwhvA8by+u569sb+RwavEfcYaxiXGAcXiwLa8bLfMrsunvKNGnmWa8Jqgmyyhd7bP2GYAASyMVCVu13n/f9p/BXbPZu5UGT2kI5AUAxN/Grwp/Tx3S+BSU1h6XXNe1lehSXU0ORqtArz1wPJ6928F3BkuL/1Et1pAa0NzJHPPa35emU3mO94qmhsOEd0NwRG4Gl8lIC5zM/wzPy5mIz4VpwTU87TkAdjVz7POV9VO4uXxFwGxDisYLhzNHMoZVxFOBvj70PEX6eDltOhR7vr0Ovx2ARMDKwOmAdX6AO8v4gjWastpxNvAF7+gv3vDmsn1z8bUzdZ61a3QkckDw3++tbpEtx+1tbPWs5a4V8B7xbDHN8pby5LI3MRwwZK6WLFpqrWk1p5ymz+anJmPmueeLa3oyzH1miACSz9qinbBeVd7YnU6Z8xVxj+hJXMRsgzoFQEmJDkmSodR61G7U+JUjk4aQBArvBEx+g/snOvv9VMGlhxUNqBNpmHUcc54FHXjaZ9ZEkc8NRkmHBsoFDYTshvIKR83NkIaR4RBYzVvJm0UYAIW8tnhxdQA0KbTaN6N7yADgxP7HhInfCqLJpUdVxKpA2H03upI5zTnZ+zi9pIBWAmLD60TyxEwCeL8au3q243ND8TSvLy4Hbp8v5jGX84/1U3ZltlD1vHOl8P1t+Ovtqqip1Cn1KhtrCGzdbqpwOXG6soqybnD170qtqmsaKWsn6mXGZK3k1CW7ZZOmv+fralKwaLnwBKJO4Zbk2y8cHVuSGmFYOtRsj46KuQXRA/4FZcmljjfRsNNL053TChJ7UHANMch1Awv+iruxu22+NEKSyLDO0hSuGRfcbh06G6ZYrhSJUKoMqgmQh8pGxYdRyeHM8491EYHSRFAEzH3HvAIhfOv49jYHtKv0cbYOOVi9fkI/RvKKKMt6yr+IZIVMgeB+dzvRumi5S3pPvNE/yoMZhcMHBga2xMYCSf6fem52WrMu8KSvj3AMMWvyx7TmNnw3fHfG9491wDMpr4ss2mslKlDqQyrP64Lsz66WcKWyFvLM8ogxtzAb7ons6useqUEnHGV2ZSmlKST1ZZvmgqa3KEzvfzjhw1zOqhg93ACcqZyBm9UYRtSCENyLDYWPhBcGfwnaDrXTKBUlVANSw1Hwz0VLkEc1we68i3np+o/+A8MmyV4QBFXj2h4dOB2gG6XX0xOEz1rLxkneiKCIUsmazBOPepJU1EeT7JDHDJcHP0EJfBU4A/Wq9Lj1sPgve6ZAIATiSKpK+4u9io7H50PzAAN9KLq2+er64Ly+PseCTQWex4uIbAdixKIAjnyOuKb0o/GU8Atv3nCrsmZ0j/a7t6Q4MfexthZz/vDybdnrcWneKdDq9ewx7bSvQjFx8kJzPXLO8jwwYm7obVwr6qox6PNoYqfP551oD2gU5x9m4ibGp4fs2fb5wdUNUNfOHZKeil5r3S5aKdYakd9Mloc1BAiFlYlZDhHTJ5X41U0TwJIWTzyKgcWYP/y6QbcPdwT6qn/lxovOKRRemQYcZJz9Wp1XGpL/DleLDwkQiCCIG0mxDGOPxtM3FMkUhRFZzFwG1wDj+x93OfSIM+l1B/ihPE8ApAUsSLMKZ4soCmlHSYNZf4f8prpHukE8Ar5NgPJDxwbNyFCImMd6hAQAJTvLuD20bnHacNaxALKsdPx3cnkiOcB59biFNse0cDFqLmyr96qSqvur3G3/L4LxWrKjM6M0FfQN8ztw/e6X7M7rZuo46MNn7CcKZzcmy6dSp4Mm4WXXp6csxvTuvt4KytTJ2fmbzFzxGvkX0tX8UiEMrEh0xsCHXwmPjh5SZFRolHvTf9DDTOdIdsPgfnH5BHat9nZ47r4YhPgLQtFsFfSY1FmbGA9Vm5IhznyLlkoviQ8J4ouYzc3QjxMYFCATU9CNC56FYz8UOY/1svN0MwT04vequ2T/8sQIx4HJismQh/rFGAISvvW8XTtrO2J87L+bgziGaQklSqKKd0gLxMmA9bxkuGR1G7LgMe8yXPQINmQ4QPoN+vR6dvj/trrz2PD37dur12rjqwVsiG6J8P+yw7Umtne2pXY/9JCyjTCL7zytGWtaqh1pN2hI6MSpRSkPqKln1maFZptqg3Kz/EsIJRLr2Oyag1t5Wm+YHdZ61CRP7ks4yIJI0gs8j3xUKhagljIUDVGtzZiJKYQ0PjA4JvRqM4R14rpLQIVHPUzAEhNVvtbCVnbULREyzYpLRMpnScpKtoxnTtERghRgFfaVTVLfDhlIO0Fj+z32FTN7MjNy1fVjuKH8dAB4RApGo8bJBeNDukBLPVC7YTpSOm+7xH8tAnDF4clZy5VL0gp8h2bDj/9LOyL3DjPQscEx27MDtQE3FniW+Xb5NDgFdl+zprCMbd0ri+qvqp4r/y2xb+cyc7TO9uC3qHeYdo80mjKEcOMup+zLa9bq3Sp5KmXqgyrv6rKqLGkoaDWpia+Jt/OBAYuKE0wWgxgBWNhXyxbJ1mcUZpDdzeoMyI4U0K8UNRcIV4qWNJQ8kN3MUQeSgj1737cqdHB0OPZp+l//ZcSVCXfNY9CWEcGRulALzipMC0tUyuKLHIyfDpgRKRPllc1WflTWEd1NN8dYgas8DPeFdHdy8vNvdQW4CHuJ/tQBJwJ1gtuCe0BSPm78b/q0+ec7CL2WQEvDzIevyncLw8xxCyPIp4UOAWi9F/k4tex0EnOKNAp1U3bdeCv4onhj93K1vXNmsQ4u/2yZK5VrjWyELlkwa7KetRd3DHhlOOX4ibeY9gT0l3LU8VcwEC8WLjWtLez7rNEskSvTqsgqM2vD8dF5ncJwyyyQzpMdlCVUvRRFVNBVCZP8ERMPeY9vkWKUfNeyGfeZ0Vkql6QUkhBIC3xFFf8a+gh27/Wstrz42jxNgASDjAc6SdpLRou3iohJXwhByCCH9kiuCkLMi09PkknUmlXxlfpUIFDajETHSEJ6vaV6MTfVNuE25jg5+Y37DDx1PTt9Wj0GPD96YPj492y2y7eUOQq7nL7YAlxFUkebiMqJfUimhxxExUIU/u973TmS99Y29Paqtvc27faf9gK1cPPPsngwSG5XrDJqW+lcKPupIOpyq+mt9PAFsnUzgfTv9WV1X3TZNDbyrLDab2EuEK1iLPfsgu0wLVWuOXCOdcG8IsNmyttPGs/RT8DPYs4EDiQOtI5eTaSNYM5mEFMTjdfz2wdcehvWmvQYZNVfkbcMVobuwdX+Q3zW/Pd9uL9VQaJDfwUVxssHu4eyBwBFzURhwxyCfcKwg9tFRYepCksNVc/XEbLSPtGMEFxOC0t4x6bEE8F3vsC9X7yZfKo88H2jPmG+k76pvjt9PnuZOdD4CrbyNgV2oDeneRj7Gj1Zf6rBoQNWRLbFBsUHxAACjgCBfox87TtBulz5cHi0OCS3zDeHdwP2WLULc6uxhO+0bX5rkqpRKWxo2+kn6cnrRy0xbvIwqPHjcqqy0/KaccuxFvAYLybuVm4BLivuA691sjz20n0whAZLE4+J0ckS7dKC0eYRBxDhj6dN9EyVjKQNm1AgU5hW5ljtmh3ayNqSGSAWcRI3DOyHsIMawCe+S33tvje/DICTwnHEVEZlB65IG4f0xuKFlIQAAu2BqsDygR/Ch0SIBsCJQEtpzL3NpI4kjZAMiksECTCGsURNQpGBAEAuf0c/a79cv9/AToCFQFV/m/6G/aQ8QTtFem95RnjDOKz4vPkXOlL70f1jPoj/m7/GP9I/dP5bfU38E/qB+Xx4OPdN9yE2/TalNoT2trYK9fe1GLRzsx5x/TBSb0SupS45Lhzupm8+L4/wWfDE8W1xXbFdsSpwrjA/L4ivU67Q7pMvELE/NED5FP5VA0nG2IkpCsnMD4zDjdZOeM3sDSJMp4y5TUSPU9GF07EUwJZfl0MYFJgnVyGU81GWTlaLcsjJxzdFZYQvgtgCAoIAgrfDLEPJhHmEHMPoQzECG8EWv9Q+tD2KvWO9ev3IPvj/nwDTAgzDV0S0BbTGSkbIxr0FhcTpA+GDHUJNgejBgwHzQdNCZ4KdwqACUEIYgZIBNMBA/7V+AXzi+3X6VPoQejZ6E7pZ+mu6e3prukk6S/op+YD5ZnjxeJr4mLhTd8U3SfbxNlc2ZXZz9mh2c3Y9Ne31+LXjNiE2anZCNl72FfXMtU90+3RatC8zurNEs4zzgvO9c1dzQ3Mm8t1zZPRDNi14fTtpPldAvsIoQ4VE1cXPxwEIK4h4yKdJMMmJyplL341BzvDP4REvEniTgpT+FSVUzRPmElnRNc//DqlNa4wzixHKn0pbyoBLK0sBiyTKkMo0CSLIBMbqxNjCwUENv4g+vH3KvcS92v3k/i/+iv9J/+dANkAaf+a/W/8nvtn+zv8vf23/2sCkwV/CK4K8AtHDNYLFAtWClMJ3gccBukDkwHn/6n+Dv3Z+t/3R/Tx8FTuIOxl6jLp9ueV5qjlOOWB5Avj8+BW3mjbyNju1rbVztQ01DDUytS01bnWtNc22CXY1dcY17bVONQV0zrSwdGg0ZfR5NGx0nbT/9N/1NDUDtWt1bTWiNgn3LXh8Oix8Sv6IABKBHYIagwCEOoTPRecGHsYGRiXGEQbNyDqJRErqS98NCQ68j+IRABHwEbjQxVAJD2VOzo7djt0OyI7AztmO5c8Qz7TPhI9XTnJNA0wMivbJQIg3hm8E3oOhAr/BoMDXwAi/cf5Qfeb9W/0GPRF9Bj07/Nv9DP1vPXx9e/1GfbJ9iT4//mt++D8Jf7P/7oBwQNvBRUGdAWFA44AKf26+W/2ofOE8SrwyO8S8DLwwO/l7pXtoOtM6fTmZOQ44azdhNqM2PfXZdhE2drZmtkI2cTYXthi1z3WGtX00z3T8tJ20rrRKdHV0JLQV9BO0JTQBdGB0QzS3tJk1JfW59hR213eDuKe5p7s7/Jr9zz6Jf1HAPIClwV0CM0KqAzFDncR6RRnGXceDSPbJn0qdy5qMrk1GDhzOTU6ODvIPIg+BkDcQApBP0HIQR5CD0KeQTtA2z2FO505PDedM48uKSg+Ic8aExW3D3sKUwWKAKD8E/pH+QP6Q/sI/O/7L/tp+sf56PjH98n2PvaH9q/3UPky+z39//5fAMMBEQOeA/YCFAE7/gz7jvh49133b/dr9z/31fZk9hD2gfVY9J/yifAp7o/rFekI51PlDORb4/PideLW4QXhAOD+3ijejd0A3SHcHttT2n3ZrNhP2OLX49bZ1Q7VhtSr1HDVldZE2DLa39ub3XXfAOEk4uviCeSv5nvqX+6U8sP2kPle+4/9OgBiAxwHUwpyDE0OKhDmEVAU5xelG40e8yDdI/onLS2IMvU2wTngOhQ7XTsTPMw86DwFPKo62znmOZs6fDtgO4E5ZjaaMlou/SkiJTUfrxiFEm4N8gkCCCsHGAcgB+0G4gaVBmUF/wO2AvMAI/8E/iv9Yvze+1X75Pop++n7pPw2/RP9wfvI+eL3evbm9QX2R/Y89qz1pPSb85vyX/ER8Njumu2c7P/rROuK6kTqDuqT6SXpfegF5yTlYOOq4R3g/N473tLdxt3Q3d/dD94z3iHexN283A/bbtk72JjX5dfT2LXZ2tpd3Jbdod7E31jgdeDh4FLhguHW4V/iVOM85QPoz+uu8B31Sfgw+/v9NQCxAn0FRgcICOUIZwoADSYRUxaKG3cgKiW6KVEuvjI5NkM4ITkiOZk4MziHOIc5ojpJO0U7dTq1OHE28DPLMDgt2SlDJhYiBB5tGmQXmxUkFQcVyhRZFEUTdRFxD8kNiQxwC0sKBAmEBwQG5wQIBNcCKQE0/zD9afv9+bT4bfd29hL2VvZD91345vie+Kb3BfYf9HzyFPGq70TuD+1Y7F7s4exW7S7tHuyB6rDoV+ak45/hfOC532Tflt/O3+rfPOC64PjgyeBs4OHfvt5P3Vjc8Nvz27vcQt4s4EniF+Qo5brl2+Vm5c7kPORk43ji1+GD4bXhouL244fl0Ocp6xPv0vI89hn51fq/+7n8yv3P/n4ACgPyBVEJVg2QEeYVkxouHyYjqiYKKkQtEzANMhozuzNPNKE0cDSqM3kyQjENMKIuPy0pLNUqASlXJ0AmjCVFJTElaiSAIiggGh6YHMgbVRuDGkwZJRj9FqYVKxRoEkkQ9w1hC40I2QU8A28AuP2T+0X65vlK+t76+PpQ+g75gffb9UD0m/LY8EnvVO7/7Snuze7C73zwhvAR8GXvEe7g62Lp4OZ+5MHi1OFz4abhQeLz4q/jF+S84+/i4uGW4I/fHd8Y31/f49/Y4H7iNuSo5RPnAehR6NXoGumF6PDnQ+fd5ebk7+T/5D7lOOaR517paeun7F7tcu6a79bw3/I39er2Nvjy+X/8tv8ZA14GsAlADfwQ2RTPGGccXx/3IUAkZiYFKc4rjy0iLtcthCziKj8qWyoeKk4p/ydgJiglwiTbJDMlnSWkJQIl7iPHIqEhKCAUHtwbPxpyGVEZjBlrGXAY2xbpFK8SZBAYDnkLewiOBTgD0wFDAeYAMwAl/xH+P/2K/Hr7qfk498f0+fIs8mryW/OU9Mn1lfbS9sn2fPaM9QL0I/Ij8D/ui+wR6/Tp4Oit5wXn5OaD5v3lduVb5Pji5uHZ4PHfo9+k3+PfmOCD4cvijuT95dDmg+fX54rn6ebd5YHkW+M84jPh4uAY4XXhTOJo41TkL+W/5bTlW+W/5CbkheRD5krphO3N8fr05Pdy+0j/YgOuByoLow31D5QSxRXEGcYdsSBaIlIjeiRdJqIogSplK+0qKykXJ/UlHSbzJqYnwSd8J2onsScJKEko+ie4JjElISQ+I0IiPiHqHz0e5xxRHA8cXhvcGbIXMRWoEoIQzQ4sDXILoAnpB6MGxAXrBMgD7QE5/5r86/oM+tD5Lfqb+sr6Ivvp++38rf2e/Y780/re+O324fRo8r3vfe0C7E3rFeu76szpLegV5hXkn+KC4Yfgn9+J3l3dodxY3GjcH9013treCd8k3zHfI9+53rzdnNy12+nak9oR28vbM9xh3HDcbtxS3BTcGNxq3Frc7tvs29zcT9+g40rpp++t9en5kfxI/1ACFQXXB88Ksw2qEIkUjBm7HjMj2SZtKS0rYy0gMOwxSTJRMeUuGSxrKhkqpipOK0gr4irQKvQq6So4KlIoUiUNIpEfhB5YHgseJR1lGyIZaxdnFmAVQRQbE60R+g8xDncM0wr7CCAH2gUiBZoEIATtAnEAj/1b+0X6WfoR+6n7+/s7/IH8Hv0g/uL+xP72/ef8r/tg+h75lfeX9bfzW/Jj8dLwbvCY7wTuxusP6V7m8+Os4bPfRN5U3dzctdys3Kjckdxa3CrcFNwR3Ofb/dpj2QLYJ9eO1n3WI9e7143Xu9bX1eLUjNNZ0tvRldGS0XrSyNOG1XTZIeBT6KPwHfee+qn89v7pAfkFAgvfD0MUDhk1H+om4i6FNU46JD2pPldAT0JlQyNDlUHrPn88vDtdPPI8VzwZOnM2VDLVLsMr/Cc+IyMeeRl/FpsVgxUBFZkTFBEEDk0LFgkgBx4F6QIZAXEAQwFnA7gFDweCB0IHaQa9BRwFcgMpAXn/kf6w/kMAcgL2A5kE1QQBBQgFugTeAxkCdP+k/Gn6PPkX+ST5dvgF9zP1WPO88SjwAu4r6yfojuWA4+LhlOAj32PdD9yW23vbRtuY2hzZK9dr1WTUkNRt1drV1dXO1cPVDtay1s/W9NVI1C3Sc9D1zsDMO8plyFTHgMeoyQXOA9Wa3pzpbPRk/CH/Z/4a/rT/lQNWCmISfRkzIFso6jFmO6tD1knxTGtNWU3xTZ9Of04rTQ5Ln0nqSYNLxUx+S3dGmT68NVUt/CWWH+UZsRQxELsNdw0GDdYKfwcHA6X9Nvlr9i/0N/LL8OPvB/Am8lD2Qfs2/6IBPANgBPAE+wSMBNkDrwMVBXYInAyhDxARjBFtEQsR1hCJEGwPHQ3qCX8GPQOQANj+T/3i+rT3LfRR8H3s4ugg5VvhEt6T2/nZntiO1szTydDtzQLMUsssy8vK7MnuyITIu8gzycTJOcrAys3LLc2HzqTPh8/NzarLxskCyPXGP8aaxJXCUMERwfTDgMyR2UPoNvaB/ykBNv47/Kv9zAJwC4EVhh4BJxMxrTyjRyJQIFU7Vv9UT1RgVS5XUVjwV2BWdlWeVgBZD1oaV9VOoELaNWUr+CO7HlcagRVvEAYNgAtTCZAEZf339Jjt2emB6SnqXOon6krq2OtU77nzZPeS+Zf6ePta/UEAJwPlBQgJTwzWD1sUnBguGjIZrRe9Fv0WDhm9G3ccaxrQFpYSPg6ICkYHkANe/0H7cffW8x3wLOxQ6J3k4eAC3bDYu9NzzkTJ+cS9wr/CXMTNxpLISciWxgHF58Nrw/fDzcQ0xZTGz8kzzYfP3dCX0LXOmMy3yqPIE8Yiw/TASMDgwP/EoM8z30Dw8v8RCRcITgHg+4z70wEzDq4c+ijLMoE8t0b4TyBXzVrfWZ5W6VT0VQJZwFwAXx1f4V5kX6Rfal0yVk1JrTkpLOEjjyC7H4se6xrZFCUOngekAB75dfFM6ijlLeMX5BfnQeo060Tqmuky6j/sKO878W/y7PQ2+ngC5wu4EikVtBTgEgURoRCJERsTqBUgGSwdPiGsIyQjch/BGM4QIwp7BcECcQHP/1P97fpv+Ff1fvHp62/kp9ze1brQfM2ay53KXcqAypjK8cnsx+DEjMHKvqm9g74GwYzE5cdayuHLlMxDze3N+MyEyuzHJ8VRw5jDsMODwhHCxMHTwBHDR8vM11znkvhcBa4HYgLy/bf+gwXSEmgi4y3uNX0+rEcZUdZa4GHVY8xil2FVYeZiCmZVaERojmdcZxNmYGJWWxBPWT8qMmcqlybdJFsi/xvOEjcKFQNy/AD2ye8R6uvlFOTH46/jheOz49LjuuMD5R7oyOpu7JzuGvFt9FH7VwS+CgcO7w8WEEAPnw/3EDgSbRSiGH8d5SDlIUcgNxwZFygSQg2/CEMFKQIy//D8iPof95Dzxu9y6ujjdd1P163Rls0jy5HJ/shNyb3IPca9woq/vL0xvlzAp8J0xFzGBMn3y93NQ871zZLNic04zpnOPM3Wyq7IMMYRw5DAA7+dvd28TL/7x1zX7um8+nAE7QLt+c3zKPYQALkPnCDlLFA1fz6WSRNVul6tY2Jjn2C8Xt1fBWQ9aWhtnW8+cFhvgGu/Y3lYTkqxOzAxgywTK7QpoSXrHEsRtgaM/oP3x/Cl6v3lkuMb46bjGeRq4y3ipOHo4MTfkuAf43Pl++ih7vf08vziBe4KkQsNC0oKRAv+DysVhhglHHsf+SAjIuEiWiF3HswbCBnxFRcToxDHDSEKuQZyA4/+Ovh88fLpr+Jl3fbYpdR80ZnONcuoyKzGz8OcwHi9r7pOutu8UcBRw7fED8TMw5XFzcd7yQDLOsy8ze3PPtGx0BLP1MwPymPHHsUlw3vB+L8Dv8/Bg8x83ubxjADtBAH9xvBw7JvzqwJgFaIlEy8mNWA9M0gyU6pbGV/dXYBbX1udXnRkwGr1bhRw2m49a+JjwlhCSz09UzLYLWAuIS9GLMUjehaNCLL9K/aC8H3rx+ZU40fi4uKZ47bjBeIC3hjbC9w53k7gr+QX6tzuuvZMAd4HUwkgCd4HngfAC8cSJRrwILEk8SQzJEci+R4jHbccKxt2GSQZdhgTFgMTLhDzDEoIAwJI+mXxKenO42bhguBv35rcAtjF0pbNgskNxyDFqcO9w7/E9MXax3fJT8lCyN7Hn8jJyuzNmdAx0qnTttW51/LYcNiw1D7OicisxRPFC8bEx4TIeccRx7fMedp368j6HgVZBGj5zfGS9SsBzhJSJ341EzxnQplKU1OaXMNjtmbOZy1pqWsQcLN04HZpdkB0Y3AEatRgyFWhSes9mDbNNEI0GjGXKWccHAw4/rH0VO4P6qfmceND4YLg9d8Q3nnaGtZp0qDRPdVJ20Ph1+ba6kjtKPIV+j8ANgM4BE4DEwSLCm0TexrRH4IikCFwH3UdaRrOFmsUCRQ4FWsW+BVbE9gOFQmyAtf7uvSa7anmAOFq3U/bJ9qE2anXk9OtzkvKlMb0w8TCgcLMwuPDsMVyxzXItcfnxtzG6MdUyrzNYNCv0fjSNNQb1P/STNGOzf7HK8TMw4TEGsWAxsLGNMQyxH7MTdue7Nn80wR/AO32xPKe+FcHhBr/K3w3Bj6NRBlOLFnMYv1oWGvpazVt1G+Zc1t3sniQd6Z15HG7aj5hDFaWSXI/3zpkOiA6ujbMLZofLBDkA5v7sfUU8Sftl+mr59HnU+eX5OHg+dzY2t/d7+PZ5/Lp1+sI7T7xOPsZBZwKqg3uDUcMug7OFWscmyFhJfwliSXQJbMj5R4gGw4ZBRitGO0YQRVwDlEHnwCX+qT1RvDi6AfhOdv/18/Wp9Zi1b7R4cw7yB7E9MAvv06+6b2HvhfAsMH5wpjDyMJkwTDBSMIcxFXGs8fTx0DIwsnbyzPNmstWx8jCCL5Dup+6cby8u1e7l7vfuVu9BMzQ3bDsaPip+RHv7eag6fzzTgUaGuAoezAmN7g+oUa+TpFUf1bWVoZYMFy6YANlhmdaZsFin1+cW8xUpEwIQ0s4izGNMIIwIy7MJ0gbMAtj/ejzyO006hzol+bK5VfmKefy5eript813A3bPN9T5UTqxPAH+KP9LwV6Dn4TQRUGGI0amh2mJKUtzzTzOVU9nD4VPig8PjkENpgz1DL+MgIz8jENLpcnySBpGSIR5wmXA0z9Kfnr9zX3x/X88g/u4uf+4U/dNNoT2KvWmNZp1w/Y/dfj1u3Ug9I10O3OjM5mzgDPINDg0NvR6dID02bSCtC5yhbFdsFMvwi/hcCgwXTBW7/Bu5+7RMO80e3jIfQX+gv0Veq25qzsnPqqDGAc0CSFKXAwwDjgP8lFAkmLSXdL7U9tVLRXsFjeVoFUU1NiUgFQZErnQNI1+CydKHEn1yUCIW8Xpwmi+/DwZOkk5ALh6t5S3bDcstza24/YGdOJzUvJy8grz2XZN+Gb5ojr++7x8q/5Uf+KAacD9gYJC1kRDhkCH7Ui5CRsJQUlLSSLITkd/RkcGWsZMBpIGjgX/hANChED//tX9mryH++C7M3qHul/5ozimt2a2HTU19G40B3QPM/mzWPMc8vuyg/KVsnJyIvHt8aAx/fIBctJzv/QYNGK0P7P2c5HzFjK1MmRyGHI48sWzqjM+MwAzbLIIclK1CTjd/PaBAYMkASy+nz3NvsgByUZLyjVL1s15Dx9RMVKdk8OUOJNEk+cVLxauF+QYeZesFsEW31aFlhOU4VKGz8sNt8x1i/aLRMq9SFIFpwLqwPP/PP2hPLR7pXssuxP7U3rP+Xd3OLVXtPT1p3e+uVP6pHsWO4f8h74ZPxu/iQBPwTgCAARChgKG5odMCBLImgm5CmpKDol4yE5H6gfNyKFIw0jSyBVG14WLBEYC/gFAwII/w3+Qf2I+kf29e9i6Nnix9/Q3YDcUdrl1hvUCtLkz+jNx8usyaPIp8goybPJAsrsyofM8c2Jz7/QK9Atz87OG85Bzu/P5NBS0eDSNtS41CTViNTw1Mjb7ehg9+sD/QlkBQH9r/sbAYoJrRXLIM4lKSubNHM7Vz72Pys+HTzVQJ1J01C9VZZWT1OFUJtPgU41THxHhkDfOeo0+TFTMJct+ijvIjIbbxPLDEwFjv3z98LzC/E18CnuLupH5ijhJ9uw12XWrta52nXgQ+Qc523pGuoa67/ti/C+82j4Yv3HARkGHgoUDYAPSRLmFJcWvRdgGFUYoBiTGUgaqRqNGjYZ/RY6FJQQAA1eCtgHXAVgAwoBqf06+YnzIe1b5+Lipt8j3YvalddM1L7QWM1Yys3HdMa3xtPHGslayjfLfMtJywLLYcvFzMzOB9EO04XUp9Up15bZmtw13yzhgeI84sDgx+DQ4yPq7PNw/p4Fjwj2B54FYgVMCFwMiREDF/0a3R96JqkqZyxMLgYvKTB5NaA7wz5aQOk/jjzoOVI5wDhUOBA4jzZhNF8y+y8ZLYUpzSR5H0MakhVkEe4M/weKA+P/2fxT+rr3Y/QA8C7rrecF5ofl9Oap6Yjq4+kg6r3pCOgk6Azqgev77ezxNfQk9Xz3L/oa/BP/fwIIBB4FjQewCUgLAA7AECQSzhMFFscW9hVkFIURFg4oDIgLmgoTCbkG7wJw/n368fZQ877vK+yT6GjlpuLW3wbdu9oc2RXYudfw1yHY7tfI1+7XTdhC2fTastxL3hTg7OEV5BDnGuqK7ILuoe9J8NLxvPNx9dL3A/o6+yv9iP8QAZEDngbBB1gIZQj0BbAEzwZwCHIKtw5sENQPThL/FOIU5hVtF7IWkBd2G64eMSGLI2wjviFSIbsh9yFNIoAiXSIjIt0haCElIOkdwRswGukYJRhZFzMVMRKYD3wN5QvICiwJjwZ8A7EAzf6Y/Vr8A/tX+RT3/PQU85Twde6R7Srtqu1q767wB/Fh8ezw1u8f8IDxj/LA80P1XfZi97b4nfnS+Q76nPoG+yn7U/sZ+y/6g/mO+aD5gfke+eT3QfYS9Q30L/MQ8xnzpvJb8mXyHfLA8bPxgvH58ITwY/Cq8FjxH/Kx8i/z5vO19B31OPV49az1pvUH9vP20veT+Fn5uvm/+eT59PmT+RL5x/i0+Ob4ePkv+r/6dPuk/NH9iP4T/1f/+f62/hX/0f9QAb8DCgbaB40JqQpRC4cM6g3JDoQPJBCUEFkRQRLOEjwTfBN1E8oTkhRoFZAW6RerGK0YFxgmF4cWaRZDFvIVqBVZFSYV5BQfFOISdxHNDxYOnwxECwYKGglNCI0HVweuB+wHzQdpB5UGXAVBBLsD5gN4BAEFVwWBBWQF8gQ6BCcD1wGiAMH/Nv/5/rb+Ef4w/Vr8f/uV+qD5Yvjq9sv1N/Xf9JT0OvSv8wDzS/Kd8erwPvDI737vPe8777fvdfAb8YDxjfFw8VbxI/HL8HPwOfAz8C7ws+/l7kLu1O2P7Z/t9+1q7gnvu+858HXwfPBS8PLvY+/77hbvke/971Hwu/BH8RvyhfN49Yn3ZPnQ+qX7NPz9/Dn+6f/IAWADpATeBR4HbAj1CYkL3QwlDpYPGxG6EpQUZxbtF0gZbhoNG0gbqxtgHAIdJx3THE0cnhuYGooZ0xhOGL0XLxe0FkcWvRXkFM4T7RJzEioSvBHtEMQPlg7HDYkNpQ2mDWgNKg31DGcMSAvWCXkIcAegBsQF4gQBBPYCqQFMACX/dv4c/k/9uPvx+ab4CfgV+Gv4VfiD91T2R/Wq9J/0C/Wf9Rv2a/Zz9hL2bfXA9C302fPh8xn0M/Tq80TzevK18fHwM/B977Du0+0g7dHsAu2f7Vzuvu517qXtsuzV6ynrsupy6qDqe+u77M/tke4e73vv4++R8Enxx/Eu8pby5vJW80D0l/Ud96T4Ffpv+7D87f1h/yAB+ALXBMYGqQhlCv0Ldw38Dp8QMRKgE/gUOhZ0F2UYohhFGNsXpBekF9MXIhhyGIYYLRiOFwoX3hYGFzoXOBfpFkEWWxV/FLMTtRJvES8QXQ/8DrMOJg4GDUALXAnuBy0HBAfNBtkFLwQVArv/q/1Z/Kv7YvsI+yT67fjk91T3RfeF98n34veX9+b2Jvah9ZL1IvYS9+33afho+PH3Qfet9on2zPYz95n3s/c493r2zvUk9aH0cfRC9N/zd/Mk8/nyGPNf80nzc/IP8b7v7u6I7k3uNO5J7mnuVu4w7izuN+4y7gTuwu3W7WXuBO977wvwrPAz8b7xVPKz8rHyhfKf8lLznfQW9mr3xfhR+rL7xPwB/pP/TgE/AzQFuQbjB/kIEQpIC2gM7gwUDaYNxQ4AEA4R5BGbEkATrRP4E3EUHhXbFaYWRRd9F4UXmxeGFwgXRxaSFSkVMxWVFd0VdhVOFMsSIRFHD3sNDQzcCpgJOQjXBnoFOAQrAzgCQQFvAMv/I/9p/qD9z/xI/Eb8bfxG/NP7V/s0+4r79vsp/DD87/tB+3H61fmM+ZD5wfn2+e/5dPm++Dr4yfcb91v2yfVk9SL10vRF9Njz3fMA9NTzLPMJ8tTwBPCW73Pvve9C8KPw1PDY8MDw2PA+8ajx5fH+8QXyD/Ih8kDyfPLJ8hLzcfPm80X0m/Qf9eL1xfaD9wH4c/j2+If5Q/oy+0z8tv1R/4kAMwGDAZMBswEyAuACmQOkBO0F+AbXB9UI0Qm0CrcL0QysDVoOPA9uENkRXRO+FNUVtBZbF8MX+xceGE4Yqxg5Gc8ZORo/GqQZThh6Fn4UmxIhEUcQwg8fD0IOAA1hC/AJDQmWCEwIzwfwBvIFLwXKBMwE+ATtBJcEHASXAyAD0AK9AtACwQJ0AgECfgH/AIcA9v8//3v+u/0G/U/8jPur+oz5R/gt9yb2CfUf9Hfz3fJx8jryz/H88ATwOe/57mHv/u9P8CfwiO+97kTuRu6L7uruVO/G70Dwp/Dz8ETxVvH88KrwvvAS8Y/xFvJY8nny0PJZ8wX0ofTZ9PH0XfUU9hX3afiT+UH6m/qV+lD6U/q6+if7nPs7/Nz8U/2j/fD9RP6j/gj/Z//a/58AygE4A9MEVwZ0B2MIawlCCsQKMAuRC98LUQz1DKMNLg5oDjsOvA38DBwMiQtjC0gLIwv1Cn8K0QlECbkIMAjwB8oHYgfwBqsGmgYEB9cHhgjaCN4IcAipB+4GeAZGBooGUQdGCO4IIAkTCdUIRgiPB+UGMAaOBSkFuwQFBCADKwIeAf3/rf40/dn7uPqm+Wv4/Pas9eb0kvRH9AP03fO583nzL/Ps8sLyyfLv8vHyvvKa8qzy1PLx8gXz/vLu8ury3fKv8o3ynfLL8h/zvPOC9Dj11vVD9on2Dvc4+Nv5a/tr/Ln8rfyX/Gv8O/xM/KL8Mv3t/YT+zP75/jL/U/9g/3n/nP/I/xIAjABBAS8CPQNbBGAFMAbTBkQHaQdPBy0HNAeCBwQIbAilCNMI5wieCNwH+QZ5BnAGawYVBpMFQQVOBYYFpQWlBacF6wV7BvgGGAcXBzQHlQcpCJMIsAjeCEAJuwlqCmMLowwSDkAP2w8kEF0QixCWEE0Qvg86D8sOeQ5hDlgOGw6UDawMjQuNCrcJ2gi/Bz8GngROA0gCVQFmAGD/NP7y/Jv7Mvrk+N33OPfr9sH2lPZZ9gH2jvUb9bf0bfRk9LP0FvUq9Rn1VvXi9V/2tfYo9933jPjd+Pb4Nvm0+Vf6+vpy+7370PuG+/L6Qfq0+aT5Jvrk+ob7+/tV/Lb8Q/30/Yr+1f4T/4j/CgCdAGAB9AEHAvoBHQJTApACvwKkAj0CyAGDAaABFwKVAucC5wJ/AukBbQEKAb4AjgBiAFcApAD+ABQB/wDrAPgANAFmAZABzAGtARUBvADtAF0B/wHeAs4DtgRaBXIFNgUDBeUEEQWpBVMGtgbcBuAGqwZeBkMGUQZRBkQGBgYyBcEDLwLXAMv/IP+9/kj+iv24/AH8W/up+u/5TvkH+f34yvhF+Jv38fZg9hf2JPZM9l/2dvaV9nb2RfZ49vb2gfcV+GD4MfgF+C/4h/gd+Qf67/qM++L7IPyV/GD9J/6w/vn+7v6n/nn+cv5p/oT+3P5R/8//UACfAKYAdAAUALT/tv8iALMAUAEQAq8C4gLXAuICBwM4A2QDYgMrA+8CpAIoApsBSgFXAasBHgJ9AqcCkwJVAhACvwFSAeAAoAB6ADEAy/9p/wz/6f4j/4T/y//T/4H/DP/I/s3+I//L/6sArQF9AqQCYAJHArYC8gOiBQoHFQjcCE0JpwnVCZEJRgljCdMJKQq7CbkI2Af9Bi0GlwXtBAoFBAbyBTsFpATQA+UGrA2QDiELyQsuCboAT/5t/NvywPA/9wX2wvRw+238k/qh/wr/Jvci9WHzTe0C7Kzrbeh96yzxVvEs8w73zvWi9Tj58ffN9B/2h/W+8qT0ZPYX9Xj45f3y/lcBqwS/A5oG9wu5BhkA3ANiBf8BQwTIBRMEywi7DBMJeQiTCpgIFwi5B9MCtgGIBNICNgF4AswBjgPGBiQDCgE4BvIFBQE4ABH8Lffl/IgBLP/KA/IJlgmHDxAVeQwVCHAMkwWe/EP9RfgE80P7xP/R+kb8VwApAQUDyv7i9hD4TPnS9E71ZvXQ8f71EvpA9rb35ftx+T/5CPv6+sEBYgfBAkcDLgoGC98LQg1jCCsHnwriB5kEvQWtBa0GPQuuD2ERPA/uDqYRxwyaBTgGkgJ4+zn+Jf5k99D6dv8a/Hn+MQEb+3b4Afgf85byS/NY8FbzOPjD9wH6j/zr+Wb6P/1P/XL/DgFT/4EBfQQbA4oEowcrBuUFJwgBBxMFuwTpApMBxwJMA/YB0f8r/Y77q/se+1L4uvXb9Wr2CfWu8yzzpvL181f2IvYt9QD21vU89FbzgPJo8m30jPZm+BH7wfyP/dX+TP7a/FP+FAA5/yP/sQDrASkEOQdaCJwILgrcCw0M+wrWCZUJFgoYC1EM1gzzDLMNJQ5JDTAMrAuYC+MLHAyYC5wK5wmNCSkJzwigCBgIZwc4B9oGFQYtBt4GzwaMBukGQgcgB6AGIAYPBv0FhgVnBVMFLwRKAz8EUQXVBD0EYgQ4BGUElQWBBboDvAKgAcT+OP1t/Xb7+Ph6+af5lfeF9q/1LPPw8SHyO/CR7XDtfe4J7qPsSOxp7LLrWOx97gbtCOkn6XTr5+rD6QjpAeet5uXoCOqM6mnrGuup64btSOyV6crqwO0L7yHwX/Gb8hT2IPtg/oz/dgBHArYFuwnsC3AM0g3vEJsUYhgWHM0eESFbJL4nASpaLEEulS04LK8sIi04LBkrcil4JwUnKCesJSgjnSApHiMcnBndFesSxRHCEEIPgA0IC6sIogfnBjQF/wL4ACv/vf3T/Cn8a/ut+jr6JvpB+iD6b/mv+Gb4BfiU9+L3Bfjz9gv27PVs9dv0vvQN9NjyyfGs8Nrv0e577KXqFeoK6CjleuOJ4NjcO9zf28LY2taP1ivUPtGiz2rNksowyCzG58RDw7TAwb+cv629Cb1pvy3BHMMjyebRvdp640br1PB19Lj4uf//BqMMMRTlHYclxixvNsY+t0SfS+9RzFRRVqlX1lYGVG9RXU/UTFZKgkieRaRAFTsSNZgtAyYPHxcXEA6/Bfn+2/nW9b7xyu036zLqrulp6BfmTORt5L3lcecR6sjttfLn+S0CKwguDI4R6xdnHB8fZSGmIkQjNyWbJ8knDCfiJ1MojiZmJKYhoxw0F3oSlAwZBrEA5/pU9ETv4OtZ6H7kreCy3FrZT9fV1AzRFM5+zBLLgMqHynDJHMlNyxDNUs0szvjOAc8f0IzRdtHp0RDU79S60/3SZNKX0MzPK9C2zmzNwc6MzjrMC84M1WzeE+oh9U77ef4TAisGSwpYDqYSEBgcHrok4CxhNQ49skRASw5PSlHBUvpRdU5jSQpEcj96POo6RznLNsQzgi+KKRIjoxzZFegOXAdw/1D5m/Xj8rfwX+9d71rxc/QF90H46Pc69yT41/oX/9ME2grNEDYXIB0dInMmwyj2KLgodiezJOwhux6GGoUXOBa6FPUS4RANDewH6QIw/T72ye+46pLmn+PS4fXfEN4U3arcZdx53DncFtt92VzX4NTM0tvQOs9kzynR8tIg1D3UctO/0vTRztAA0PPO1s1JzmbO28uAyeHIase9xcvFgsX5w2nDdsMTw83Fr8/z3s3ujvxcBuEKdw2dErYYNR1dItsoqy6PNVU/MUmbUdFZdmC8YyJlK2WdYSxaCFGdRyU/OjlYNY8xZy0OKRYkrh5TGZQT/gyZBT39bPRu7TnqnOmr6XTr+e/o9VX9nAVGCuUKgAyLD9kSTxnsIIckECdVK6ct0S5/MYgx8i07K0cogCIpHJcVbg3iBXMAk/tU9tbwWutI5vPhDd8P3V7a5dci16vWP9b51qDXPdjW2hveOuAL4t/imeHF3+jdo9uC2obaxNma2MTXpda21SnVytO60RvQts5vzMnI9MS7wdC9dbrfuWa4z7T+tFi3PLamtke7/7+syjffavP0A1UTXBspHpsl6y3jMmQ5xT6tQAZGoE77Vc1d22SiaNpqRmrBZc5eRVNWREM33ipjHxwZmRTdDp8LUwmpBacDjAGV/Fv3vvFr6/rnUOc/6Pfsi/Re/VUJzhZlIZcpETKSOQw9Vz29PGY5DzRGMt4xoC1iKu8qtCniJvokFCCZF/cOLwVZ+ertceQE3QPXutIZ0qTUEdi721veb9884XPj9OOO48Dic+GO4dfideP+44XkYOTS5LPlA+XA4qjfj9uP1qDR7M38ysTHgMWTxETDoMKNw6LDV8IkwEe8y7jCtlq0v7I0suyxM7YevmDE5M9k5en7YhI8KfUz2DOjN788aT0vQA1EHkRsRVBKW09DVMhZjV9mYkJeVVZvTa8/vS67HpINYP7i9gXzVO//7Z/uPPFX9l76iPvn+ub4TvfJ9oX2q/hM/o8G1BKdIbcv1z0ASuBPGVGZT3pKk0PkOxYywycsH/gYcRXzEk4QTw6sCxUH+AAQ+GvsZOEC2PzPscpWyLLId8yg0uXZB+LP6RbwZvT69Tj1RPNY8MbsRuit4sXe+t6X4UfkMeZT5oPkUOKD4Abdkdb2z7zK0cRFvzq8dblPtwu5prvBu1S88b32vRC+178QwXTCLscbzYXRO9q97PID9hqEMQhBi0V7SPxNTk9vTQBN0Ep1RuxEc0a7SFdMCFKyVlxVjk5sRqg74izRHcAON/+t9LDwsu4n7sDwKvZi/sIH6g6OEnUTFxQ8FtcXNhhPGvAeViWPLTE1HTq/PVNADkCOPOo1rSy1IrsYRQ4cBPL7pPZu8+zwmu5n7IPqTumZ56DjZd4G2jDXINZr1ivXJdmW3czjQ+qq7/fyQ/S686jw1etI5xDjet6J2mXX/9Pz0UHTjtVj1tzWu9ZR1CbRmc6uylzFYMGxvsu7Prrbu5W+Z8A2w1/I180V00bZD98B4z3mSOpx8eL9fA4HIVgyRT2VQZVEfkfESKxJpkkURkFAIDtoNyY1vDTjNYU2LDScL3oqlCOyGrER0wjUAEb8m/tI/Q4AkwO5CQUUAiCQKnkyxTbUN803OjddNd0yDTECMLsuEy0pLOkr3iqtKDUlah+2F5YPigaR+03wVedo4SPeHd1l3TPeFuCH4zbnROlt6b3oWefD5MDh1N6N297Y4tcE2IrZktwm34Xg4uAQ3w/cAtqg1+nT9s+my+zHnsa/xoTHMslCyqbKgMvJyxLMS83fzGHLOszFzRbPutO+2rfggefW8AP6OgFwB50N/BMlHKsn4zJhOGI5YjlWOEA41ztGP30+1zukOfw2KDSWMmwxaS5/KbEkZSAaHFMZEBh2FYkS0hMpGc8enSMXJ74nfyfxKX8tyi24KrgmiSITH/8dYR7yHQgd5RxsHGMa7xd9FTwR9wq4BEL/m/qZ97H1efOl8X7xn/It9Gr1F/Xb8urvNO0y6jbmJOEe20PVf9H6zybPPM5Azf7Lm8rHyc3J7smHyWPJfsnAyEnI/sjayD7IR8kWyh3KkMwS0NvQxdBg0qLUq9fP3EPiTOVK58Lr7vHg9n37wQD/BEAJdQ8QFcYXpRggGJcWMRapGOUdUCTpKaItNi/NL8YxDzUmNwk37DREMd4tWSzXLAQvNzL1NSo6vD1wP1U/RT0UOcAzEy4oKF8i/RwrGIMUixKZEmkUWxbMFnMVqBIUD24LqQc2Azj+q/mf9lv1lvUb94P58Pv5/Xv/uf8w/i371/Y18Q3rR+VO4LLc3Npw2uPa5dss3Wbe9d5S3nvccNmV1dDRZM6WyxrKfMlPyZ3KBc3BzsnPdtB60DbQlc9qztTN/M2AzuLQ7tV73NXjdOvA8l75Xv4gAhUGJwmlCrcLXAqgBLL9Kfhm9Nn0iPq8ArULGxUhHn4m3C1fM5g2WTeuNTUyKS49KycqUCoPLJovNTMsNhs5AzurOos4NTWqMPgqryTCHmcZRRVXFKAW7Rm/HRsiSyVbJtsl/COzICUclxZjEJUJDgNM/gr7ZPiq9pT1S/S68mfwZezk5gPhHNyR2NPVNNTe0xzUf9Uw2I3as9xZ38fgEuAo3n3b3tjK1sjUW9PI0gjTStVj2Cfa7Nuw3YLdz9233/Xftd+L4q3mGOpW7tbz7/gI/bEB8AZYCVYI4Ab2A6v99fYL8jfup+ww7yj1F/34Bm8THCBxKUQwyTWCN6g1EjP3Lr8oMyPhH0AePh4RIEQjdiYKKYoryCxBKz8omCSuH9gawxc0Fh4W9hdrG4sfWCPHJrEpeCpxKJ0kQB9pGB0R/QkpAz396PiD9qz1kPXA9cX1M/UY9CPy6u7i6oHmAOIG3gbbxtgy1/DWJdhV2X/Zv9n12Y3Ybdb21AfTwdB00OnRE9MF1PLVtNi324TfK+QX6MLqxO1W8dDzS/Vo98750foD+7T7Vft++BT1BPIj7uvql+o07EDvLfVl/QoGFg9yGE0gpCUrKfYqSiq0J28kviAYHa4apxmGGXkaaxx9Hgcg0SCuIJgfyx3PG9UZvxcpFtUVpxaIGI0b2B5SIa8ityIsIUYeYBqkFUAQnwpvBSIB1/2/+6D61fmQ+TH6Efty+wj7cvng9vzzFPFR7o/rsuiH5ozlIOXX5IXkB+SD42riPuAE3ujbXNnB18rXyNdB2CPbwt4C4bPjF+jG6+HtufD38wn1ZvWO93H5RfkO+X358fiQ9yr3Xvhk+mD9mQL2CDEOeBMGGmEfXyKtJOsluiRAInkfdxvOFsoTaBLhEP4PFhF4EiQTZBRzFb4UihMHE1kSEBHhD3kP5A/tENcSUBU6F70YUxqwGhwZqxafE7EPkQuBBwEDf/5B+7z5Gfnb+G/5hfr9+p76nvmH9370vvGI7+HsGOoZ6FfmpuQS5FDkdOQD5bPlNOUq5PbjXeT/5D/m6ec96Uzq/+t37rzwvPIs9Yr34vhk+cj5Jvrg+e/4wff+9Qf0ofOQ9KL1EPhc/NIAUQVWCpoOlBHMEwoVPhXBFKgTEBIOEBIOBA3sDHENyQ56EJsRXxIzE9cT0BMAE/gRLBFZEMAPrA+YD5QPVBB4ESESGxJdEaEP5wzGCbAGNgMg/wP7WfeC9KzyWPG18E/x6vFw8RHxTfEA8SPwau+W7o3tv+wg7LDrwutV7C7tNO4e7/vv1PDz8GjwfPAE8QLxo/HZ8yL2KfiI+8L/6wIgBUoHsgiMCJcHXgZIBNcBjgBqAOYAygLnBeAI9wv8D+gThRbXFyAYRRdKFc4SjhCSDuUMEgzaC6cL6AuUDJQM8gt7C9EKawn7BxoHJQbcBEYExQRcBdkF1wbnB1oIcAggCM0GgwT0AYr/Dv1m+gn4EPYo9MTyPPLU8ULxD/EU8Rbxc/EN8ovy5vIh83rzGPSL9LH0qvTN8wLysfBU8Ozvd++N733v/u6f78XxwPMH9a/21fiy+i/8sv3u/vf+O/52/qP/cQBBAaYC+AOVBTcIDQujDWEQjhJ6E78TmRObEh8R5A8JD3wOWw6lDksPUhBXEccRzBHkEc4RPhFmEH4Pug4qDocNCw03Da4N2g2+DQ8NiAu0CbcHDwXMATT+bfoV93z0Y/LH8H3vZ+707bftFe2n7CfsweqV6UzpregK6HTo3uhG6GTn8ubX5ozm5uWI5d7liuZZ57To9OqG7cTvPvLz9MP2HvgD+ln7dvul+478vf0Y//YAjAP7BaUHtQm1DFsPHRFiEhUTLxOiEoMRsRCOEJ8QEBEdEj4THxTKFC8VLxXFFD4U2xNBE1ASbRF8EFIPbA4EDrcNTw0RDR0NrgwYC+cIpQYKBDMBhv4T/Dz6E/nK91L2lvV49S313fTz9EP1rPUX9hf2lPXZ9A70cfMx87fyx/EC8YfwQvCw8IvxYfL88232evgX+tX7HP2B/Wn9RP1l/Vf9T/wc+4b6yvkT+dD5rftc/eL+YAArAWsBIAIvA5MDaQOQA/8DOgRvBA8F4AVBBn0GhAfaCFMJZwmWCQ8JIAj/B00INwgPCBcIHggnCFgItgj9CAIJ6wh5CE0HtAXgA54BXv+e/T38MPuZ+j/65/mH+RL5tvjT+Hb59PmD+Vf4TPei9mj28fag92b3Dvfk9wH5hflm+pH75/vl+xH8uvsn+8b60Plv+Jn3Pvdi91X4W/nx+av6yvv//Gn+EgBpAWQC7wPnBQYHlQfLCAYKSgpWCv4K0Qv3C3ILNQuLC8gL9wuADN0MvgxzDAIMXAusCjAK5QlVCW4IuQfPBgwFPQPiASoAU/4i/Zz7IPkA9/r1dfVk9R/2Ovdg+JX5svqT+wP8nPuX+sz5jvlv+Sn5/fgm+Xz5+vnT+hH8eP2E/uD+9/4a//b+oP5N/tP9pf0w/uv+k/9QAOgAcQESAm8CiAKTAnYCJALtAW0CigP7A7QDEQTOBCAF3gUNB4YHSgcVBz8HiAdnBwwH8gbgBkQHsAjcCb8JMgm0CNoHtgaeBdAEGQT4ApsBoAABAE//gf7r/Zj9E/1X/O/7v/uD+7v7dPwX/cP9jP69/i3+kf00/c78V/w4/GX8MvzF+x78Gf3R/VP+pf5E/nb9nPxX++T52/j69y33Afck96/28/Ud9ij32fcd+PH4BfpX+nL6RvtG/Jr8A/2e/lQApAC4AL8BPQLHARACAQNkA+sDPwVXBn0GZQalBqMG7gVEBcMEgwPSAa8A0f/e/mL+f/7g/oj/eABJAXwBPAFBAYUBngG0AZUB9AC0AFMBCgL9AswETgaDBlwGjgbEBgYHQQfKBtEFgQUVBpUGowb0Bn8HYweuBikGuwXOBKID4AJVAm0BogCOAD4AOf/g/pz/OgBvAJQAbwAfABsAlQA/AXYBQwF4ARsCigK8AqQCDgI2ATEA+f7//UP9Cvx0+mv58/h0+Ez4xfi8+N33jPfV95T3Nfcr97b2APbk9Vf26PZb9633yfd290f3+ver+JP4sfhZ+dv5l/r4+0H9+f1R/nD+t/6B/0wAagD9/6X/nv/j/3MA0gCfAFsAnQBDAfgBjgLeApICvwG8AVAD8AQyBdEEwQT0BE4FkwVOBYgEsgPgAhkCvwEDAkgCHQLrAfwB3QFxAdcA3v/G/mD+ef40/sH9xP37/TT+qf4M/yH/Mv/c/tj9Ef0D/fn8ufyt/PD8YP3K/RP+af79/sr/fAC6AJkAlADdAD8BcwFpAUcBEAHFAJ0AlwBqACoANQB4AKQAnQBkANz/2v6w/QT9w/wi/BD7Mvqv+Tj5DvmQ+WD67/op+1v76fu7/DL9Q/2P/Wf+e/9KAMUAbQFrAk4D6wMTBMMD1wOwBJcFYgYXB+cGCga9BQQGNgY7BvsFJwXOA5kCTAJOAlsBGQDu/1QAiQA4AXgCSgOnA1MEOgXpBWIGgQYiBrAFjgWeBacFXgXMBHIEbwRnBFkEEAQXA5sBNQBC/7L+7f27/M77b/s/+yn7MPse++368fpT+7D7a/vF+nT6fPqe+rr6l/p9+uD6gfsv/FH98P56AIwBTgIFA28DXgMpA94CZAImAlACVwL4AYoBMQHDAFQABwBe//v9yPyG/J78g/xp/Eb8//sV/Mz8iP27/dj9OP6M/j//2wByAm0DhgSwBW0GHgfIBwgIDAjPB1oHDQelBtMFEwV0BNEDmQO9A9MD6wMKBOcDkAN0A5wDZAObAuQBZgHgAJAAXwDl/z//tP5l/mP+Tf45/or+sv6g/iv/y//N/x8A3wADAd8ADgH8AHoAKwDe/+L+z/12/fn8p/up+n/6U/or+lv6fPqg+iL7zPt6/DD98P27/hf/yP6i/gT/Zf+R/6z/mP9G/yz/nv8oAH8AFwG6AaYBfgEgAuAC8QJvApsB4ACkAKgAlABUAAcA+/81AFAAZADdAHgBigEoARABdAG6AX4BCQHoAEUByAE9AvEC4AOFBMEE7QQcBT0FdgW4BaUFIgWvBJkEWQSeA/ECZAJkASoAV/+r/rD9kfyc++D6L/qn+fH5+/qt+/372vzw/Zj+Kf97/wb/Jf42/RH85vrT+aj4nfck9y/3R/dZ96v3DPgb+D/4x/gt+Uj5Zvld+SL5EPk0+UP5B/nO+Cn5CPrc+pP7P/yw/Cv9A/7a/mf/JgBMAToCtgJbA1cEAQUDBcgEyAQlBZkFqwU4BXoEtAMKA3IC4gF6ASkB1wDKANUAbwAkALQAaAG+AVsCGQNvA+YDwQR0BekFLQYnBiIGDga4BaIF3AXGBa8F3gWkBQgFtgRXBIwDIANvA/YDiAQDBdEEYgTGBEwFpASFA+8CawK8AVsBKwHSADEAe/8p/zn/TP9n/yD/9v22/PT7Kftx+i36Ffo8+rT65PrZ+iT7Z/sR+3z6WfrM+vL6BfqQ+HH3qvZJ9qT2h/dV+O34afnQ+Uz64voG+6D6f/oO+9D7U/yZ/OL8Z/3n/Vj+DP+P/3n/dP/L/yYA6wAdAr8CCAPXA7gEMgXDBSUGxAVPBZoFIwYDBjYFfwQwBNsDegOZA9cDQQNSAgEC7QGtAboBugEpAesAfgH0ASYCmwL8AukCwwLvAmsDmwMMA54C7wIvAw4DDAP9AtkCOgPmAxcEsgPgAtcBIgHzALYAMwDu//f/0/+0/+n/yv/7/i3+g/2t/OT7NvtH+ij5fPjK+KL5B/oT+nz6vPpO+vz57fl0+RD5cvnZ+cH5xfkv+uL6ovsR/IT8YP3u/c79hv32/Bz89vtt/Lb8Kf3a/RX+Sv4X//L/rwCTAS8CXQKpAhADJwMHA8UCcgJ4AsEC1wIZA9wDYgRbBD8E3gM8A/0C3gJrAisCJALeAdUBQwKBAm8CNAKXAbgAGQDj/+P/4P/r/wcAAwAQAKIAigFkAiADogPvAzYEZwRvBHIEOASiA1kDqQPkA8MD4gMeBMYDIgPtAhEDQQN0A3YD8QIMAnQBoAEgAi0C3QG+Ad0B/QHgAT8BSgCh/2n/J/+T/gj+xv2u/cH9Ef5T/lj+Uf5P/lX+af5E/qX95PxI/K/7Q/tO+4H7l/vQ+/v71fvT+zD8a/xk/Ff8Svxr/MP88vwG/X39af6K/5AAPAHKAaYCeAPpA2AEKwXGBakFFQWeBIEEzgRrBQMGRAYnBhEGWQaBBvAFEQVwBMgDAwN/AikCogHXAP//ef9e/1H/7v5C/oz9+fx//Pv7hvte+3/7nPub+9H7cvwr/bL9DP5C/k/+Qf5e/q3+hv6c/dn8Ef3V/V7+gv5X/hj+IP6P/jD/hv83/3v+2v2E/WX9Z/1Z/Rf9Af19/TL+ff5//o/+dv4p/jD+ff5u/gj+2P3y/TD+pf5C/73/CgB0AA4BdAF+Aa8BQQKiApUClwLbAi8DlQMZBJUE3gTKBHYEYgSrBOAE9AQrBWIFsAV4BkIHYgcwBz8HigflB9MHGAeRBpEGRAapBVcFFQXaBBEFVwU2BfYEwwSIBEYE3gNgA+0CUAJxAYoAlv+c/u39Y/2G/Hr7yvqB+j/62/k8+Xr49Pez9233LffA9uH1VvXb9bz2Wffx95X4Q/k2+iL7ovvF+3v75vqe+rz6/fqD+zr8xvxV/Q/+o/7e/vb+LP+N/+f/MwCfANIAmQC4AHoB/QETAkwCbQIQAr8B2wH0AbEBMwHpACYBogHVAdcBAQI4Al0CpgIKAxkDkgLrAcgBFQJgArYC/ALOAnoCawI9Av0BLQI4AnoBqwBiAD8ALwAgAL3/U/9g/6v/BwB8AMkAAQFpAboB1QEiAlkC3gFDAXMBEwJeAkgCCAKoAXMBpAHOAW8BgwBc/3D+Af6e/dP81fvI+qf56/iQ+MP3tfZS9ln2Q/Zi9qD2fPZZ9rr2aPcV+Lb4OPmT+eL5YPoX+7T7HPyT/DL99P2l/s3+dv4y/iv+TP7B/lr/o/+j/6v/6f+BADEBZgFJAXwB+AFKAnICnQLQAggDRQOQAxcEuAQXBT0FVwVVBTAFAQXkBMUEbQTnA3gDNAM9A2ID/wJdAkcCcgJxAoMCXgLBAVIBHQGrAEwAKwD2//T/RQBxAGsAawBOAB8ABQDc/6v/2v9vAA4BhwH0AV0CwQItA4wDsgOgA3QDNAOxAtUB5gA1APD/CgAfAOD/mP+I/4j/bP8E/2n+Iv4j/tr9af02/QP9svyg/O/8RP0//QP99vzi/Ff8qfs6++/66fpb+wj8nPz0/C79rf1g/tH+9v43/7D/JABUAFcAhQD0AH4BNAIpA/IDOgQ/BCkExQMyA84CpgKtAtsCIgN/A+cDNgSBBPIEjwVGBq0GZwb9BfkF8AWKBQUFVQSiA54DPwSXBB4EFQMOAn4BSgEKAVAA1f5M/ef8e/27/TT9XvzZ+yT89PxG/dH8MPyl+0H7NPtm+4r7ovuk+4r7r/tF/PD8cv3w/Xj+Af+W/ysAqQD+AAcB0ACzAK8AegBFAFkAWwAHAMH/3P8fADoAJAAQABQAIAAmADUASQA1ABQAVwD+AIEBxwFMAkcDZARPBfgFVQZKBrsF1QQIBLEDwQPXA70DqwPKAwMEKQT6A1EDmwIpAq8BCgGHADEAFABtABsBqAHVAZ0BPwEiAS0B6QA1AD3/Y/4X/kz+Z/4i/vD9Rv7//rT/FwDc/wr/K/5r/Yb8f/tZ+h35dvjK+Hz55/ne+Xz5YPnm+WT6Q/rH+W35afm2+UP69vp9+7/7HPyg/B79uP0//j/+Ff5i/hj/9P+xAAUBBwEMAUMB2wG/AlEDRwMXAz8DvwNQBKUErwSlBMME2QSKBO0DdgNeA4oDsgOtA5ADaQNBAzIDEAOMAukBfAEQAb8AwQDDAKsA3QA+AaABSAIRA2IDKwPOAnQCIgLMAXYBIgHOAI4AkgDQAPMAswAkAI//I//a/pP+Rv4e/kH+lf7p/kr/z/9SAMUAVQHMAcEBZAEkAekAhwA+AEcAlAAVAZMBogEkAbQA1AAJAZ8AxP/3/j/+l/1D/S798vx//EH8Vfwv/Jn7HPsD+xz7YPvB+xP8dPwX/cH9Hv5B/l7+j/6//gH/mP9fAMMA0gArAbEB9gFbAhkDegMmA6QCRQLrAWgBswAVAM3/pf+R/7D/xv+//9b/HQCUAA4B/gB/AFcAsQBJAdUBtgHBAAcAVQAdAVMBxQADAFX/t/6P/rT+OP4//eL8Pf20/QP+8v2r/c79bv4I/y7/p/6c/df8uPzc/Az9Qf0n/cz87fy5/X/+wv6e/jD+uf27/W7+V//K/7T/mP/K/xIATgBUAOn/Of/B/n/+T/4R/lf9Q/zX+zv8jPxc/Nz7W/tF+7b7J/wr/MP7Mvvn+hX7V/s7+7z6Lfob+sz66/vp/KD9Lv6N/qP+wf4B///+xP7X/in/mv9ZAOYAsQBMAFsAugAkAToBvABmAN0AigHgAe8BgwHMAJkAEAGvATECUwLbATYBFwGmAVkCkAI8AswBkwGdAa0BfwErAeAAuAADAZIBmwE+AToBmwFmAqADPwSrAyADcQMBBFAEOwSyAzYDTgPvA7sEJwXgBIUEsAQTBX0F9AXZBQgFdgSBBLIE5AQDBbAEAwSrAxAEqQScBOsDYANnA9kDPwTvA9kCpgG8AD8AeADbAGIAJf84/jv+uf6//in+yP3p/Sn+j/4M/wb/oP6T/uX+Z/8KAF0AHwDG/3b/Kf85/4T/dv8r/+f+tv7r/kT/1/4X/in+q/7c/gr/O/8u/zf/ff+M/0L/7P7u/qH/qQAZAccAdgDJAJ0BTAJZAt4BTgH6AOsA3QCQAAcAgf9u/wcAqACVABsA4P/n/wcASgB8AEkAyv9g/1H/hP+W/3b/a/92/57/RwA2AX8B/gB4AFsAvgB2AcoBQwGOAG0A/wD4AakChwL9Ab8BzgHoAbwBzgCE//v+Pf9h/xz/pf5R/pj+XP8FAGIAagArACAAVwBQAC0AQwBZAG8AxwAFAfgACQEZAboASgBVAJ8AtgCOAEEA+//5/0EAqADrANAAdABDACYAvf8l/7L+Zf5V/qP+If9p/0z///7c/un+5/6I/pP9dPz7+y38b/xw/Dv8IPyO/G39Rv7M/sT+OP6u/X39Sv3c/IP8mvwK/Y/98v0R/hj+Rv5y/oj+6f5C/9H+Ef4G/nj+tP6a/lj+WP75/sv/IAAHAOD/5/8fAG0AtgDrAO8A4AD/ACkB/AB6AAwABQBZAMcAFQEKAbwAvwBHAcUB8QHgAW8BvgA/APv/6f8qAEMA3v+u/yoArwCmADMAmP8N/+L+E/8u/+D+WP4e/pX+j/88ABIAjP92/9j/GwDY/xz/T/75/Tb+cv5C/tz9u/0y/hr/sv+P/zD/E/8r/1f/d/9V/+z+iv57/uP+iP/3/xsAMQA/AAoAiP8B/8H+rf5r/vD9pf2c/ZP9uP1M/vn+lv8+AIcAPADl/8H/xv8ZAH8AnwCmAK8AqQDMAAUBHQFMAZABtAHvASACvAH2AI4AuAAzAagBvwFxARIBGwGkASQCMgIDAu0BIAKFAsUCvwKOAhkCaAEDAR4BPwEHAZUAKwD2//3/CgDn/5j/RP8R/xH/GP/9/vD+E/8c//T+6f4T/zD/Hv/c/nv+P/5T/nT+af6I/vf+cP/l/38AEgFeAZcB6QE6Am0CbQIiArYBcQE8AeIAgQAfALD/rP9MANUA1AC+AMMAvADFALwAUADT/7//DACKAO8ACgE0AZ4BAQJTAn8CCAIxAdUA2wCoAFQA//+P/1P/iv/j/xUAFADn/+P/PACQAFsAo//9/hP/vf8fAOH/gv+N/xkA0gBFATMBwwCKAO8AdgFzAQUBdgDy//T/dACSAFAAdgCxAIUAeACKADMA0f/I/8v/1f/W/3f/E/8M/97+Uf6t/cz8xfs0+xz7JPtm+7v7yvvg+2X8Gv2y/U3+3v49/4r/xP+C/9X+Z/6B/s/+Af8B/9z+xP7i/lH/6/8kANb/lf/N/z8AsQD0AOQA6ABmAekBCgI2ApsCuAKDAk4CEwLoAR4CjAK2AoUCLQLrAdkBvwF2AUkBaAGeAc4B9AEHAjYCugI9A1sDEwOHAugBgQFTAQ4BsQB2AIMA1wAdAQ4B8QAJARUB2QCDAFsAgQDdABIB+gDvABkBTgGQAd4B9AHMAaABcQE6ARUB6wDmAEEBmQGdAY4BgQF2AaIB0AGHAd8AIACV/4L/p/+I/xX/j/5g/s3+U/9X/wL/jf7r/WD9MP0y/Tj9MP0a/Sv9hv0N/rT+hv9KAJcAegBbADMAy/9a/yP/GP8X//n+xv7C/uz+Bv8C/+v+yv63/pf+Zf57/tX+Cv/3/pr+Gv7w/f/9z/2G/XL9ff2I/Wv9E/3c/PD8A/0R/Tb9RP1D/Vr9a/1n/Xj9lf2a/ZX9p/3X/RH+Pf5P/j3+E/4u/qX+GP9c/3T/I/+c/mv+gf6c/sT+sv5M/jv+t/4R/1z/LQBdAX8CbwPMA6sD0wOBBBUFFQV/BMMDVQMXA8gCkAKDAooCqQLcAu8CxwKKAk4C2wEJAUUAAQDr/73/3P8dANr/Sv8P/xr/MP9V/1z/I//3/uf+u/5t/hz+HP7B/pz/FwCMAGIBHgJHAu0BYAEOARAB8wBxAMv/Rv8G/w//P/90/4L/Y/9P/0b/Cv+j/jj+z/27/Rj+hP63/sr+9v50/xcAbQCDAJ8AqwCZAIEAawBvALEABQEoAfgAiQAVAMv/uf/W//D/9v8vAJ8A0ADOAP8AUgGSAdIB8QGvAUoBJAEpATwBdgG8Ab8BuAEiAucCfwOmA28DDgPiAikDkAPBA8wDtgNKA50C/AGoAZcBfgEpAdQAtAB8ANr/GP+j/nT+Y/59/pH+af5R/pX+5/7w/qf+K/7M/c/96/3B/VP94vyw/O38Y/2r/Zr9Zf1G/Sf9+Pzl/Pj89PzE/Gf85fuG+3v7lfuy+9P75fv0+xr8OPwr/DL8jvwV/Xv9u/3V/c/9Ef7n/iIAfAHIAggEQQUaBmAGvwa/B+AIsAkuCu4JrggXB8gFjgQcA84B/ABxAOX/Pf9I/gT93vv7+mb6dvom+7b7BfyV/Eb9lf2G/WD9P/1I/YH92P1V/r/+vf6K/o/+t/7Y/uf+xv6c/pP+Xv7T/UT9BP07/fb9t/6//v/9DP0//Mb7rfu9++T7P/yi/M789PxE/b39iv6K/0kAxQAUAQUBtgBOAK7/I/80/57/9/9DAF0AOABSAL8A7QD6AGgB4AHXAZ4BigFmARsBygCKAHwAogCfABIASv/s/g3/Qv+R/xcAfADMAKIBuAI4AxADogJMAkwCRwLbAaQBKwIDA7sDPQRwBKcEPQWRBRwFhQRFBPoDqQOgA4gDKwPSArQC+gKXAxcEMgQZBOIDogN2AyQDkwIvAikCRQJOAjECEAIeAjECAQKxAW8BPAEBAboAnQDgAFUBswHZAdsB5gH9AdIBUAGxABIAt//j/z4AZgBrAFAA7v+N/3L/jP/V/y0AIACN/xX/N/+Y/7//4/9iABcBqQHtAdABcwErAQcBmwDC/w//D/+R/woAQQA1AAAA2v+2/17/Bv8K/yn/4/4l/j/9r/zR/GX97v1R/oz+nP62/s3+hP7t/Zj91/1l/sj+0/6y/qP+4/5r/6f/Wv8P//v+zP6p/sT+4/4Y/7D/eAAoAZkB4gFTAs4C0AJrAvQBRwGSAGYAlACzAO0AUAFpARQBswDOAGgB8wEKAuIBzAHkAQ4CBQLDAagB1wH6Ad4BtAGmAbMBxQG+AXwBIgH6AN0AVwCB/+v+zP7I/qL+cv52/rb+Ff9w/7v/5//s/+D/0/+E/+n+lf69/tP+nv52/mX+Yv6g/tz+wv69/gz/NP/j/lX+8P0P/nT+eP4R/rL9hP1p/Tb93vyR/G38OPy/+zj7//ok+2D7jvuv+9H7OPzy/Hj9mv3K/Q3+Mv5r/r/+D/+K/+z/xv+a/wkApgABAUMBZgFVAXEB0AEeAkoCcgJ8AkMCAwL0AQMCIAJBAh0CqwFoAVcBFQHgACQBogH0AQwC/AH6ASsCSgIIApABOAErAUUBIgG0AHoAsQABASQBKwEpATYBcQGtAaIBdgFXASYB9ADbAKYAPgC7/yf/sP6G/oH+bv5V/j/+Tf6K/sj+D/+I/yYA1QA6Ae8AbQBQAFkAYACMAIcALwAXAGsAzgAUAR0B3wCtAMkAIAGBAX8B8wB+AJcAvgB8ABAA3P8QAHgAdAD2/5j/pf/a/////f/V/8b/7v8mAGQAmwCbAHgAmQAdAbEBHQJQAjoCGQI4AlUCCgJ8AekAgwB0AGoACQDK/wMAPgA6ADEAKAAKAOv/rv8//8/+k/6r/vv+F//a/rb+4v4R/wr/0f6C/mX+gv54/jb+Cv7i/bT96f1X/mX+MP47/n3+oP6B/m3+u/4l/zn/NP9P/yX/u/6e/s3+z/6t/o3+V/4I/uf97f3r/eP9xv19/UP9Q/1I/U79ff2u/cP95f0Y/kz+oP7s/u7+3v4K/0z/j//2/1sAhwB0ADYA0f9B/6v+Sv4P/rL9Qf0K/Q/9Of2R/e39Ef5M/tP+Of9I/2H/rv/j/+v/0f+C/yP/Cv83/0//Mv83/5z/MwC0AAEBQQGdAfgBCALTAcUBHgKIAoUCKALoAdABkgEQAZIAVQA+AP3/d//M/jn+HP5r/qL+rv72/mf/kf9E/7T+a/62/g3/8v7X/iP/of/3//D/k/9h/7D/GQA4ABsA6/+c/zL/2P6M/jD+6f3i/e79+f0T/iL+5f10/UP9ff20/Zf9Zf1t/df9uf7K/6AAQwG0AfgBYAK/AoMC0AE4Ae8A1wCfACIABQCoAFABVQH8ANQAGwGSAZ4BEgFdAOn/rv93/yn/8v77/hX/Av/e/vv+Xv+j/4//U/9G/5X/8v8HACQAlADkAAkBlwFpAusCPwOFA2QD1wIkAoMBMQEmASsBbQH4AWkCwwJOA78DygOrA3QDCAOeAngCbwJMAgoCygHdAXYCUwPxA/oDbQO8AkoCAwKpAWABXgGdAfgBRQJdAkcCPAJyAscCvAI2ApkBHgHFAKIAmQBiAAoA1v/K/8v/4f/h/3T/t/4y/iD+Wv7R/mP/z/8kAH8AnwCBAJUA3wAQARIB6ACOAC8ACgBQAPEAgQGgAVsB9gCbAE4AAwCh/yn/tP50/nn+kf6R/qP+1f7g/qL+Rv70/b/9hv3p/Bn84Pta/NP8Cv1X/eD9qf6Y/zEABwBc/8T+af4D/pH9jP0a/uv+wf9+AAcBYgG6AfoB1QErAWAAAAAAABAAMwBiAHgArwArAYUBjAGQAZUBgwFgAQkBfAAZAOX/q/92/0T/Af/V/r/+mP6I/o3+WP4M/hH+Xv6N/l7+Af7l/e79tv1t/VP9Mv35/Mz8jvxD/Db8afya/KX8v/wc/Yj9l/1I/Q79P/2u/fD97v0M/pX+Z/8BADMAVACZAL4AqACHAFcAMwBtAOQAMwFrAdUBZgLSAtICZgITAlcC0ALDAk4CGQJTAsUCKQNHAzQDSgN2A1UD6wJxAu8BcQEvARkB2wCHAJkAKAGrAaYBMwHHAK0AxQCpADMAnP87/yX/Hv/9/t7+3P7s/gb/E/8G/xj/V/9E/73+Rv4D/sr95f17/hf/XP9X/zb/NP9c/3D/RP/g/nD+Lv4E/tX97f19/hj/WP9I/xz/IP9u/8T/5f/V/7L/mv+c/3v/Jf/s/vn+Af/n/vT+Nv9r/2X/HP+g/if+6f3V/bn9kf2B/bD9+f0V/jL+kf72/jf/iP/P/+D/8v84AIoAzgDxAOQAzADSANkA6AAgAVIBMwH0AOsACgEzAXQBtAHSAdUBtgGZAdcBPAJIAhkC+gHrAe0BzgFBAbwAxwDvAOAAAwFOAWIBUwEdAckA6wCTAQcCFwImAlcCogLvAusCaQKxARkBlQD0/1r/Af/V/tr+Nv+w/xQAZACDAIcAwwD+AL8ASgAmAFsAqQDzAEcBzAFoAuQCJwMnAxEDLQM9A94CRQK0ATYB/wAVARIB9gAkAW8BfwF4AY4BkwFvATQB7QDkAFABrwGDATwBRQFgAXMBgwFzAX4BygHSAU4BrQBdAJ8AUAHFAcUByAHgAc4BkgEeAX4AHwAtADoA+/+l/3D/Y/+W/wUAYACBAI4AhQBkAFkAPAADABIASQBHAEMARQDy/6X/3v8UAOv/v/+a/1X/Nv85/+n+V/7t/cT9q/1p/dz8Rvz6+9X7rfuc+6n71fsc/Ej8SPxP/Ff8Svxy/Nz8F/0E/fT8//z9/Nn8rfye/MT8Jf2I/Zr9g/2D/VH98Pzg/OD8jPxt/Iz8P/zw+z/8zPxu/Ub+rf5w/k/+bv52/oL+lf5y/lr+hP7K/iv/hv+W/7f/TgD2AE4BhQF8AQwBxQAMAVkBOgHOAFIAHwBOAHEATAArABsAAAAHAB8AAwDw/wwAKABOAJUAugDiAHMBCAIXAscBbQE2AVMBegEpAbQAqwDvAC0BWwGHAeQBfQIFAyID/ALvAgoDCgPQApUCnQLXAiADVQNtA28DbwOGA7QDsgNHA6sCMgLZAXoBAQGMAHQAygASAfYAtACvAPEAHgHbAG0AegDrAAEBcwDp//T/TgBfAOz/LP+3/uL+Cv+Y/uf9f/2R/Tb+9P4N/7D+lf7n/nn/1f9n/4/+Pf6C/uD+Of+I/8j/KAC+AEkBcwE6Ae8AvwCBAC0AAAAmAKIATgEDArECKQNFAzYDQQNiA44DpwN/A2YDoAO9A5EDeAN8A4wDsQN8A+ACfwJvAh0CbwGvADgAQwBmAD4AGwArADgAKgDN/wj/Wv4K/rL9Of30/C394v2X/vD+LP93/43/hP+g/5j/Cv9B/rv9ef04/ev8sPyp/Pj8a/2a/Yr9l/3n/SL+uf24/Nz7m/vK+xP8F/zr+yL8l/yi/H/8k/yE/E/8QfwK/Jf7bfuM+5H7kfvV+3D8Pf3T/Qb+A/7y/en99P35/fb9Iv6N/gT/f/8DAFsAfACmALoAWQC9/2P/Tf9w/+f/YgCkAOsAXQGzAbYBegFgAZUBqwGDAZUB7QFDArgCHgMZAxADTgNbA/ICXgLvAd4B+AHiAb8BrQGoAQgCxwItAwoDqwJdAnoC3ALDAiYChwEKAdQA7QDmAL8A/ABbATEBmQA/AGoAwQDKAHMA+/+0/8r/BQAdAE4A1wBFASQBzADFAPQA2QBHAJz/Gv+//oj+f/5u/kz+Pf4i/sj9p/0r/uf+U/93/33/Uf8X/wj/HP8r/x7/Ef9E/6H/xv/E/83/tP+T/7f/2P/T/x0AqADVAJkAQwAMAEcAAwG0AcoBWQHtANQA3wDiANcAyQC+AIcA//+E/2n/cP9g/0//cP/0/5sAygCFAGIAmwAJAV0BJAF/ACYAPABDAP//ef/l/rD+3v7i/nv+Gv4n/q7+Z//N/7b/p/8BAHgAiQAXAMH/LQDmAOgAWwAbAIcAaAHxAYcB2wDbAD8BbwE4AbMAfAAKAcMB8QGgAUcBegFpAj0DNAOmAlsCigK8AoUCEwKmAUcBCQHoANsA/wAQAa8APAAgAAoA/f88AGIAQQBbAKYArwC8ADoB9AGOAsUCjAJpArYC8gK2AmYCOgL4AbgBkgFQAfYAigDh/2P/p/9JALQADAFzAdsBHQLFAcoAFQAZAGIAmwCfAHMAmQBQARUCdAI6AmABgwBDAF8ARQDe/2f/Sv+j/wkAQQBkAEkA2v9l/wz/rf4i/nb9/fzc/MT8oPyg/LT84vxe/d797v17/Zr8zvun++376/uZ+2v7rftV/B79yv0p/i7+J/5Y/or+iv5t/jj+Df4r/lr+T/5E/pr+RP/p/x0Apf/C/hf+4v3G/W79//y0/IP8TPxi/AP9l/1//RH92fzZ/OX8pPzX+zv7ZPup+4z7Z/uG+xn8J/32/fT9rv24/Qb+dP6//oj+BP69/eD9Vf67/rb+jf6//gT/BP/l/r3+gf5I/gH+lf1n/dP9l/43/6z/PwDvAHYBvAGrAV0BQQFtAYcBgQGQAdABfAJRA5ADVQM0AwMDjAJDAlICZAJTAkgCUgI6AvEBxwHpASkCWQIrAoMB/gA2AdkBJAK+ARsBKQH4AYMCKwJmAS0B2wGXAkwCTAHHAAcBZAE4AX4A0f/K/y8AVAAVAOH/CgCzAJABCAITAlMCzgL8AtcCfQIBAuABJAIVAqYBcQGKAcMB8QG/AUkBFQFZAdMBIgIeAisCmQLkAoECugE4AUMBcwEpAVsAuf/e/3YAmQAUAJz/wv96AB4B7wA4AAMAagCtAJcAXQAqAC8AcwCpALwA0AD0AA4BBQHtAMEAgQBdAHEAgwBrADoACgAkAIUAqwB8AD8A9P/N/yIAYADw/27/XP9n/3f/of+r/6D/t/+l/0H/+f4T/1z/iv9j//D+k/52/lr+IP7g/bL9tv3r/SP+a/60/s/+8v5E/2H/Qf9V/3n/Sv/e/nT+Sv6M/tz+2v65/tj+Uf/p/x8A3v97/0H/SP9l/1f/SP92/7//KwDKABsBygBQAAAA2P/p/wMA1f9e/wT/9/4K/wj/Av8u/4//6//p/2z/+f4j/8b/MwAoABsAmQCIASkCDAKIAToBWQGFAUUBuAB0ALYAKQFpAXMBmQH4AR0CqQH2AKAAlQBrABsAz/+n/9z/VwCbAIoAdABiAEoAUAA+ANr/Zf9K/5j/EABFAAoAsP+N/8r/EgDe/xr/P/6j/VP9Qf1j/cP9Jf4i/vv9U/7a/tr+Y/7j/Yr9Wv1M/Ur9RP0w/Rz9Lv1l/aP9xP2l/YP9rf3T/aP9bv1n/YT9+/25/jT/NP8I//b+Kf+0/y8AFACe/3v/y/8SAO7/V//C/tX+Yf+5/67/XP/l/s3+HP9E/0b/ef+0/+v/MwBOAEwAhwC2AIoAXwBxAJIAqQC6ALoAzAAKAU4BWwEXAY4A+/+g/33/cP+E/6f/vf/V/+z/EABzAMUAjAASALn/cP9N/1z/a/+e/xcAmQAKAXQBqwGdAVAB3wCdAJQAagA/AFcAdABbADMAagAgAcwB2wFxAd0APgDN/4z/Rv8l/1j/uf8qAIcAlQCHAK8A1AC8AHgA//9h/xf/Wv/3/5IAAQFpAR4C8gJrA3gDTgMgAxUD2wIQAkoBKwFSAVcBUwFBATMBSgFHARIBBwEtATQB+gC0AL4AEgFKAVsBbwGTAdMBIAJBAkwCUwJOAlICbQKBAm0CHgK8AYEBTgEgATMBXQFbASIBlwAAAAAAAAAAAAAAAAAAAAAAAAAAAAAAAAAAAAAAAAAAAAAAAAAAAAAAAAAAAAAAAAAAAAAAAAAAAAAAAAAAAAAAAAAAAAAAAAAAAAAAAAAAAAAAAAAAAAAAAAAAAAAAAAAAAAAAAAAAAAAAAAAAAAAAAAAAAAAAAAAAAAAAAAAAAAAAAAAAAAAAAAAAAAAAAAAAAAAAAAAAAAAAAAAAAAAAAAAAAAAAAAAAAAAAAAAAAAAAAAAAAAAAAAAAAAAAAAAAAAAAAAAAAAAAAAAAAAAAAAAAAAAAAAAAAAAAAAAAAAAAAAAAAAAAAAAAAAAAAAAAAAAAAAAAAAAAAAAAAAAAAAAAAAAAAAAAAAAAAAAAAAAAAAAAAAAAAAAAAAAAAAAAAAAAAAAAAAAAAAAAAAAAAAAAAAAAAAAAAAAAAAAAAAAAAAAAAAAAAAAAAAAAAAAAAAAAAAAAAAAAAAAAAAAAAAAAAAAAAAAAAAAAAAAAAAAAAAAAAAAAAAAAAAAAAAAAAAAAAAAAAAAAAAAAAAAAAAAAAAAAAAAAAAAAAAAAAAAAAAAAAAAAAAAAAAAAAAAAAAAAAAAAAAAAAAAAAAAAAAAAAAAAAAAAAAAAAAAAAAAAAAAAAAAAAAAAAAAAAAAAAAAAAAAAAAAAAAAAAAAAAAAAAAAAAAAAAAAAAAAAAAAAAAAAAAAAAAAAAAAAAAAAAAAAAAAAAAAAAAAAAAAAAAAAAAAAAAAAAAAAAAAAAAAAAAAAAAAAAAAAAAAAAAAAAAAAAAAAAAAAAAAAAAAAAAAAAAAAAAAAAAAAAAAAAAAAAAAAAAAAAAAAAAAAAAAAAAAAAAAAAAAAAAAAAAAAAAAAAAAAAAAAAAAAAAAAAAAAAAAAAAAAAAAAAAAAAAAAAAAAAAAAAAAAAAAAAAAAAAAAAAAAAAAAAAAAAAAAAAAAAAAAAAAAAAAAAAAAAAAAAAAAAAAAAAAAAAAAAAAAAAAAAAAAAAAAAAAAAAAAAAAAAAAAAAAAAAAAAAAAAAAAAAAAAAAAAAAAAAAAAAAAAAAAAAAAAAAAAAAAAAAAAAAAAAAAAAAAAAAAAAAAAAAAAAAAAAAAAAAAAAAAAAAAAAAAAAAAAAAAAAAAAAAAAAAAAAAAAAAAAAAAAAAAAAAAAAAAAAAAAAAAAAAAAAAAAAAAAAAAAAAAAAAAAAAAAAAAAAAAAAAAAAAAAAAAAAAAAAAAAAAAAAAAAAAAAAAAAAAAAAAAAAAAAAAAAAAAAAAAAAAAAAAAAAAAAAAAAAAAAAAAAAAAAAAAAAAAAAAAAAAAAAAAAAAAAAAAAAAAAAAAAAAAAAAAAAAAAAAAAAAAAAAAAAAAAAAAAAAAAAAAAAAAAAAAAAAAAAAAAAAAAAAAAAAAAAAAAAAAAAAAAAAAAAAAAAAAAAAAAAAAAAAAAAAAAAAAAAAAAAAAAAAAAAAAAAAAAAAAAAAAAAAAAAAAAAAAAAAAAAAAAAAAAAAAAAAAAAAAAAAAAAAAAAAAAAAAAAAAAAAAAAAAAAAAAAAAAAAAAAAAAAAAAAAAAAAAAAAAAAAAAAAAAAAAAAAAAAAAAAAAAAAAAAAAAAAAAAAAAAAAAAAAAAAAAAAAAAAAAAAAAAAAAAAAAAAAAAAAAAAAAAAAAAAAAAAAAAAAAAAAAAAAAAAAAAAAAAAAAAAAAAAAAAAAAAAAAAAAAAAAAAAAAAAAAAAAAAAAAAAAAAAAAAAAAAAAAAAAAAAAAAAAAAAAAAAAAAAAAAAAAAAAAAAAAAAAAAAAAAAAAAAAAAAAAAAAAAAAAAAAAAAAAAAAAAAAAAAAAAAAAAAAAAAAAAAAAAAAAAAAAAAAAAAAAAAAAAAAAAAAAAAAAAAAAAAAAAAAAAAAAAAAAAAAAAAAAAAAAAAAAAAAAAAAAAAAAAAAAAAAAAAAAAAAAAAAAAAAAAAAAAAAAAAAAAAAAAAAAAAAAAAAAAAAAAAAAAAAAAAAAAAAAAAAAAAAAAAAAAAAAAAAAAAAAAAAAAAAAAAAAAAAAAAAAAAAAAAAAAAAAAAAAAAAAAAAAAAAAAAAAAAAAAAAAAAAAAAAAAAAAAAAAAAAAAAAAAAAAAAAAAAAAAAAAAAAAAAAAAAAAAAAAAAAAAAAAAAAAAAAAAAAAAAAAAAAAAAAAAAAAAAAAAAAAAAAAAAAAAAAAAAAAAAAAAAAAAAAAAAAAAAAAAAAAAAAAAAAAAAAAAAAAAAAAAAAAAAAAAAAAAAAAAAAAAAAAAAAAAAAAAAAAAAAAAAAAAAAAAAAAAAAAAAAAAAAAAAAAAAAAAAAAAAAAAAAAAAAAAAAAAAAAAAAAAAAAAAAAAAAAAAAAAAAAAAAAAAAAAAAAAAAAAAAAAAAAAAAAAAAAAAAAAAAAAAAAAAAAAAAAAAAAAAAAAAAAAAAAAAAAAAAAAAAAAAAAAAAAAAAAAAAAAAAAAAAAAAAAAAAAAAAAAAAAAAAAAAAAAAAAAAAAAAAAAAAAAAAAAAAAAAAAAAAAAAAAAAAAAAAAAAAAAAAAAAAAAAAAAAAAAAAAAAAAAAAAAAAAAAAAAAAAAAAAAAAAAAAAAAAAAAAAAAAAAAAAAAAAAAAAAAAAAAAAAAAAAAAAAAAAAAAAAAAAAAAAAAAAAAAAAAAAAAAAAAAAAAAAAAAAAAAAAAAAAAAAAAAAAAAAAAAAAAAAAAAAAAAAAAAAAAAAAAAAAAAAAAAAAAAAAAAAAAAAAAAAAAAAAAAAAAAAAAAAAAAAAAAAAAAAAAAAAAAAAAAAAAAAAAAAAAAAAAAAAAAAAAAAAAAAAAAAAAAAAAAAAAAAAAAAAAAAAAAAAAAAAAAAAAAAAAAAAAAAAAAAAAAAAAAAAAAAAAAAAAAAAAAAAAAAAAAAAAAAAAAAAAAAAAAAAAAAAAAAAAAAAAAAAAAAAAAAAAAAAAAAAAAAAAAAAAAAAAAAAAAAAAAAAAAAAAAAAAAAAAAAAAAAAAAAAAAAAAAAAAAAAAAAAAAAAAAAAAAAAAAAAAAAAAAAAAAAAAAAAAAAAAAAAAAAAAAAAAAAAAAAAAAAAAAAAAAAAAAAAAAAAAAAAAAAAAAAAAAAAAAAAAAAAAAAAAAAAAAAAAAAAAAAAAAAAAAAAAAAAAAAAAAAAAAAAAAAAAAAAAAAAAAAAAAAAAAAAAAAAAAAAAAAAAAAAAAAAAAAAAAAAAAAAAAAAAAAAAAAAAAAAAAAAAAAAAAAAAAAAAAAAAAAAAAAAAAAAAAAAAAAAAAAAAAAAAAAAAAAAAAAAAAAAAAAAAAAAAAAAAAAAAAAAAAAAAAAAAAAAAAAAAAAAAAAAAAAAAAAAAAAAAAAAAAAAAAAAAAAAAAAAAAAAAAAAAAAAAAAAAAAAAAAAAAAAAAAAAAAAAAAAAAAAAAAAAAAAAAAAAAAAAAAAAAAAAAAAAAAAAAAAAAAAAAAAAAAAAAAAAAAAAAAAAAAAAAAAAAAAAAAAAAAAAAAAAAAAAAAAAAAAAAAAAAAAAAAAAAAAAAAAAAAAAAAAAAAAAAAAAAAAAAAAAAAAAAAAAAAAAAAAAAAAAAAAAAAAAAAAAAAAAAAAAAAAAAAAAAAAAAAAAAAAAAAAAAAAAAAAAAAAAAAAAAAAAAAAAAAAAAAAAAAAAAAAAAAAAAAAAAAAAAAAAAAAAAAAAAAAAAAAAAAAAAAAAAAAAAAAAAAAAAAAAAAAAAAAAAAAAAAAAAAAAAAAAAAAAAAAAAAAAAAAAAAAAAAAAAAAAAAAAAAAAAAAAAAAAAAAAAAAAAAAAAAAAAAAAAAAAAAAAAAAAAAAAAAAAAAAAAAAAAAAAAAAAAAAAAAAAAAAAAAAAAAAAAAAAAAAAAAAAAAAAAAAAAAAAAAAAAAAAAAAAAAAAAAAAAAAAAAAAAAAAAAAAAAAAAAAAAAAAAAAAAAAAAAAAAAAAAAAAAAAAAAAAAAAAAAAAAAAAAAAAAAAAAAAAAAAAAAAAAAAAAAAAAAAAAAAAAAAAAAAAAAAAAAAAAAAAAAAAAAAAAAAAAAAAAAAAAAAAAAAAAAAAAAAAAAAAAAAAAAAAAAAAAAAAAAAAAAAAAAAAAAAAAAAAAAAAAAAAAAAAAAAAAAAAAAAAAAAAAAAAAAAAAAAAAAAAAAAAAAAAAAAAAAAAAAAAAAAAAAAAAAAAAAAAAAAAAAAAAAAAAAAAAAAAAAAAAAAAAAAAAAAAAAAAAAAAAAAAAAAAAAAAAAAAAAAAAAAAAAAAAAAAAAAAAAAAAAAAAAAAAAAAAAAAAAAAAAAAAAAAAAAAAAAAAAAAAAAAAAAAAAAAAAAAAAAAAAAAAAAAAAAAAAAAAAAAAAAAAAAAAAAAAAAAAAAAAAAAAAAAAAAAAAAAAAAAAAAAAAAAAAAAAAAAAAAAAAAAAAAAAAAAAAAAAAAAAAAAAAAAAAAAAAAAAAAAAAAAAAAAAAAAAAAAAAAAAAAAAAAAAAAAAAAAAAAAAAAAAAAAAAAAAAAAAAAAAAAAAAAAAAAAAAAAAAAAAAAAAAAAAAAAAAAAAAAAAAAAAAAAAAAAAAAAAAAAAAAAAAAAAAAAAAAAAAAAAAAAAAAAAAAAAAAAAAAAAAAAAAAAAAAAAAAAAAAAAAAAAAAAAAAAAAAAAAAAAAAAAAAAAAAAAAAAAAAAAAAAAAAAAAAAAAAAAAAAAAAAAAAAAAAAAAAAAAAAAAAAAAAAAAAAAAAAAAAAAAAAAAAAAAAAAAAAAAAAAAAAAAAAAAAAAAAAAAAAAAAAAAAAAAAAAAAAAAAAAAAAAAAAAAAAAAAAAAAAAAAAAAAAAAAAAAAAAAAAAAAAAAAAAAAAAAAAAAAAAAAAAAAAAAAAAAAAAAAAAAAAAAAAAAAAAAAAAAAAAAAAAAAAAAAAAAAAAAAAAAAAAAAAAAAAAAAAAAAAAAAAAAAAAAAAAAAAAAAAAAAAAAAAAAAAAAAAAAAAAAAAAAAAAAAAAAAAAAAAAAAAAAAAAAAAAAAAAAAAAAAAAAAAAAAAAAAAAAAAAAAAAAAAAAAAAAAAAAAAAAAAAAAAAAAAAAAAAAAAAAAAAAAAAAAAAAAAAAAAAAAAAAAAAAAAAAAAAAAAAAAAAAAAAAAAAAAAAAAAAAAAAAAAAAAAAAAAAAAAAAAAAAAAAAAAAAAAAAAAAAAAAAAAAAAAAAAAAAAAAAAAAAAAAAAAAAAAAAAAAAAAAAAAAAAAAAAAAAAAAAAAAAAAAAAAAAAAAAAAAAAAAAAAAAAAAAAAAAAAAAAAAAAAAAAAAAAAAAAAAAAAAAAAAAAAAAAAAAAAAAAAAAAAAAAAAAAAAAAAAAAAAAAAAAAAAAAAAAAAAAAAAAAAAAAAAAAAAAAAAAAAAAAAAAAAAAAAAAAAAAAAAAAAAAAAAAAAAAAAAAAAAAAAAAAAAAAAAAAAAAAAAAAAAAAAAAAAAAAAAAAAAAAAAAAAAAAAAAAAAAAAAAAAAAAAAAAAAAAAAAAAAAAAAAAAAAAAAAAAAAAAAAAAAAAAAAAAAAAAAAAAAAAAAAAAAAAAAAAAAAAAAAAAAAAAAAAAAAAAAAAAAAAAAAAAAAAAAAAAAAAAAAAAAAAAAAAAAAAAAAAAAAAAAAAAAAAAAAAAAAAAAAAAAAAAAAAAAAAAAAAAAAAAAAAAAAAAAAAAAAAAAAAAAAAAAAAAAAAAAAAAAAAAAAAAAAAAAAAAAAAAAAAAAAAAAAAAAAAAAAAAAAAAAAAAAAAAAAAAAAAAAAAAAAAAAAAAAAAAAAAAAAAAAAAAAAAAAAAAAAAAAAAAAAAAAAAAAAAAAAAAAAAAAAAAAAAAAAAAAAAAAAAAAAAAAAAAAAAAAAAAAAAAAAAAAAAAAAAAAAAAAAAAAAAAAAAAAAAAAAAAAAAAAAAAAAAAAAAAAAAAAAAAAAAAAAAAAAAAAAAAAAAAAAAAAAAAAAAAAAAAAAAAAAAAAAAAAAAAAAAAAAAAAAAAAAAAAAAAAAAAAAAAAAAAAAAAAAAAAAAAAAAAAAAAAAAAAAAAAAAAAAAAAAAAAAAAAAAAAAAAAAAAAAAAAAAAAAAAAAAAAAAAAAAAAAAAAAAAAAAAAAAAAAAAAAAAAAAAAAAAAAAAAAAAAAAAAAAAAAAAAAAAAAAAAAAAAAAAAAAAAAAAAAAAAAAAAAAAAAAAAAAAAAAAAAAAAAAAAAAAAAAAAAAAAAAAAAAAAAAAAAAAAAAAAAAAAAAAAAAAAAAAAAAAAAAAAAAAAAAAAAAAAAAAAAAAAAAAAAAAAAAAAAAAAAAAAAAAAAAAAAAAAAAAAAAAAAAAAAAAAAAAAAAAAAAAAAAAAAAAAAAAAAAAAAAAAAAAAAAAAAAAAAAAAAAAAAAAAAAAAAAAAAAAAAAAAAAAAAAAAAAAAAAAAAAAAAAAAAAAAAAAAAAAAAAAAAAAAAAAAAAAAAAAAAAAAAAAAAAAAAAAAAAAAAAAAAAAAAAAAAAAAAAAAAAAAAAAAAAAAAAAAAAAAAAAAAAAAAAAAAAAAAAAAAAAAAAAAAAAAAAAAAAAAAAAAAAAAAAAAAAAAAAAAAAAAAAAAAAAAAAAAAAAAAAAAAAAAAAAAAAAAAAAAAAAAAAAAAAAAAAAAAAAAAAAAAAAAAAAAAAAAAAAAAAAAAAAAAAAAAAAAAAAAAAAAAAAAAAAAAAAAAAAAAAAAAAAAAAAAAAAAAAAAAAAAAAAAAAAAAAAAAAAAAAAAAAAAAAAAAAAAAAAAAAAAAAAAAAAAAAAAAAAAAAAAAAAAAAAAAAAAAAAAAAAAAAAAAAAAAAAAAAAAAAAAAAAAAAAAAAAAAAAAAAAAAAAAAAAAAAAAAAAAAAAAAAAAAAAAAAAAAAAAAAAAAAAAAAAAAAAAAAAAAAAAAAAAAAAAAAAAAAAAAAAAAAAAAAAAAAAAAAAAAAAAAAAAAAAAAAAAAAAAAAAAAAAAAAAAAAAAAAAAAAAAAAAAAAAAAAAAAAAAAAAAAAAAAAAAAAAAAAAAAAAAAAAAAAAAAAAAAAAAAAAAAAAAAAAAAAAAAAAAAAAAAAAAAAAAAAAAAAAAAAAAAAAAAAAAAAAAAAAAAAAAAAAAAAAAAAAAAAAAAAAAAAAAAAAAAAAAAAAAAAAAAAAAAAAAAAAAAAAAAAAAAAAAAAAAAAAAAAAAAAAAAAAAAAAAAAAAAAAAAAAAAAAAAAAAAAAAAAAAAAAAAAAAAAAAAAAAAAAAAAAAAAAAAAAAAAAAAAAAAAAAAAAAAAAAAAAAAAAAAAAAAAAAAAAAAAAAAAAAAAAAAAAAAAAAAAAAAAAAAAAAAAAAAAAAAAAAAAAAAAAAAAAAAAAAAAAAAAAAAAAAAAAAAAAAAAAAAAAAAAAAAAAAAAAAAAAAAAAAAAAAAAAAAAAAAAAAAAAAAAAAAAAAAAAAAAAAAAAAAAAAAAAAAAAAAAAAAAAAAAAAAAAAAAAAAAAAAAAAAAAAAAAAAAAAAAAAAAAAAAAAAAAAAAAAAAAAAAAAAAAAAAAAAAAAAAAAAAAAAAAAAAAAAAAAAAAAAAAAAAAAAAAAAAAAAAAAAAAAAAAAAAAAAAAAAAAAAAAAAAAAAAAAAAAAAAAAAAAAAAAAAAAAAAAAAAAAAAAAAAAAAAAAAAAAAAAAAAAAAAAAAAAAAAAAAAAAAAAAAAAAAAAAAAAAAAAAAAAAAAAAAAAAAAAAAAAAAAAAAAAAAAAAAAAAAAAAAAAAAAAAAAAAAAAAAAAAAAAAAAAAAAAAAAAAAAAAAAAAAAAAAAAAAAAAAAAAAAAAAAAAAAAAAAAAAAAAAAAAAAAAAAAAAAAAAAAAAAAAAAAAAAAAAAAAAAAAAAAAAAAAAAAAAAAAAAAAAAAAAAAAAAAAAAAAAAAAAAAAAAAAAAAAAAAAAAAAAAAAAAAAAAAAAAAAAAAAAAAAAAAAAAAAAAAAAAAAAAAAAAAAAAAAAAAAAAAAAAAAAAAAAAAAAAAAAAAAAAAAAAAAAAAAAAAAAAAAAAAAAAAAAAAAAAAAAAAAAAAAAAAAAAAAAAAAAAAAAAAAAAAAAAAAAAAAAAAAAAAAAAAAAAAAAAAAAAAAAAAAAAAAAAAAAAAAAAAAAAAAAAAAAAAAAAAAAAAAAAAAAAAAAAAAAAAAAAAAAAAAAAAAAAAAAAAAAAAAAAAAAAAAAAAAAAAAAAAAAAAAAAAAAAAAAAAAAAAAAAAAAAAAAAAAAAAAAAAAAAAAAAAAAAAAAAAAAAAAAAAAAAAAAAAAAAAAAAAAAAAAAAAAAAAAAAAAAAAAAAAAAAAAAAAAAAAAAAAAAAAAAAAAAAAAAAAAAAAAAAAAAAAAAAAAAAAAAAAAAAAAAAAAAAAAAAAAAAAAAAAAAAAAAAAAAAAAAAAAAAAAAAAAAAAAAAAAAAAAAAAAAAAAAAAAAAAAAAAAAAAAAAAAAAAAAAAAAAAAAAAAAAAAAAAAAAAAAAAAAAAAAAAAAAAAAAAAAAAAAAAAAAAAAAAAAAAAAAAAAAAAAAAAAAAAAAAAAAAAAAAAAAAAAAAAAAAAAAAAAAAAAAAAAAAAAAAAAAAAAAAAAAAAAAAAAAAAAAAAAAAAAAAAAAAAAAAAAAAAAAAAAAAAAAAAAAAAAAAAAAAAAAAAAAAAAAAAAAAAAAAAAAAAAAAAAAAAAAAAAAAAAAAAAAAAAAAAAAAAAAAAAAAAAAAAAAAAAAAAAAAAAAAAAAAAAAAAAAAAAAAAAAAAAAAAAAAAAAAAAAAAAAAAAAAAAAAAAAAAAAAAAAAAAAAAAAAAAAAAAAAAAAAAAAAAAAAAAAAAAAAAAAAAAAAAAAAAAAAAAAAAAAAAAAAAAAAAAAAAAAAAAAAAAAAAAAAAAAAAAAAAAAAAAAAAAAAAAAAAAAAAAAAAAAAAAAAAAAAAAAAAAAAAAAAAAAAAAAAAAAAAAAAAAAAAAAAAAAAAAAAAAAAAAAAAAAAAAAAAAAAAAAAAAAAAAAAAAAAAAAAAAAAAAAAAAAAAAAAAAAAAAAAAAAAAAAAAAAAAAAAAAAAAAAAAAAAAAAAAAAAAAAAAAAAAAAAAAAAAAAAAAAAAAAAAAAAAAAAAAAAAAAAAAAAAAAAAAAAAAAAAAAAAAAAAAAAAAAAAAAAAAAAAAAAAAAAAAAAAAAAAAAAAAAAAAAAAAAAAAAAAAAAAAAAAAAAAAAAAAAAAAAAAAAAAAAAAAAAAAAAAAAAAAAAAAAAAAAAAAAAAAAAAAAAAAAAAAAAAAAAAAAAAAAAAAAAAAAAAAAAAAAAAAAAAAAAAAAAAAAAAAAAAAAAAAAAAAAAAAAAAAAAAAAAAAAAAAAAAAAAAAAAAAAAAAAAAAAAAAAAAAAAAAAAAAAAAAAAAAAAAAAAAAAAAAAAAAAAAAAAAAAAAAAAAAAAAAAAAAAAAAAAAAAAAAAAAAAAAAAAAAAAAAAAAAAAAAAAAAAAAAAAAAAAAAAAAAAAAAAAAAAAAAAAAAAAAAAAAAAAAAAAAAAAAAAAAAAAAAAAAAAAAAAAAAAAAAAAAAAAAAAAAAAAAAAAAAAAAAAAAAAAAAAAAAAAAAAAAAAAAAAAAAAAAAAAAAAAAAAAAAAAAAAAAAAAAAAAAAAAAAAAAAAAAAAAAAAAAAAAAAAAAAAAAAAAAAAAAAAAAAAAAAAAAAAAAAAAAAAAAAAAAAAAAAAAAAAAAAAAAAAAAAAAAAAAAAAAAAAAAAAAAAAAAAAAAAAAAAAAAAAAAAAAAAAAAAAAAAAAAAAAAAAAAAAAAAAAAAAAAAAAAAAAAAAAAAAAAAAAAAAAAAAAAAAAAAAAAAAAAAAAAAAAAAAAAAAAAAAAAAAAAAAAAAAAAAAAAAAAAAAAAAAAAAAAAAAAAAAAAAAAAAAAAAAAAAAAAAAAAAAAAAAAAAAAAAAAAAAAAAAAAAAAAAAAAAAAAAAAAAAAAAAAAAAAAAAAAAAAAAAAAAAAAAAAAAAAAAAAAAAAAAAAAAAAAAAAAAAAAAAAAAAAAAAAAAAAAAAAAAAAAAAAAAAAAAAAAAAAAAAAAAAAAAAAAAAAAAAAAAAAAAAAAAAAAAAAAAAAAAAAAAAAAAAAAAAAAAAAAAAAAAAAAAAAAAAAAAAAAAAAAAAAAAAAAAAAAAAAAAAAAAAAAAAAAAAAAAAAAAAAAAAAAAAAAAAAAAAAAAAAAAAAAAAAAAAAAAAAAAAAAAAAAAAAAAAAAAAAAAAAAAAAAAAAAAAAAAAAAAAAAAAAAAAAAAAAAAAAAAAAAAAAAAAAAAAAAAAAAAAAAAAAAAAAAAAAAAAAAAAAAAAAAAAAAAAAAAAAAAAAAAAAAAAAAAAAAAAAAAAAAAAAAAAAAAAAAAAAAAAAAAAAAAAAAAAAAAAAAAAAAAAAAAAAAAAAAAAAAAAAAAAAAAAAAAAAAAAAAAAAAAAAAAAAAAAAAAAAAAAAAAAAAAAAAAAAAAAAAAAAAAAAAAAAAAAAAAAAAAAAAAAAAAAAAAAAAAAAAAAAAAAAAAAAAAAAAAAAAAAAAAAAAAAAAAAAAAAAAAAAAAAAAAAAAAAAAAAAAAAAAAAAAAAAAAAAAAAAAAAAAAAAAAAAAAAAAAAAAAAAAAAAAAAAAAAAAAAAAAAAAAAAAAAAAAAAAAAAAAAAAAAAAAAAAAAAAAAAAAAAAAAAAAAAAAAAAAAAAAAAAAAAAAAAAAAAAAAAAAAAAAAAAAAAAAAAAAAAAAAAAAAAAAAAAAAAAAAAAAAAAAAAAAAAAAAAAAAAAAAAAAAAAAAAAAAAAAAAAAAAAAAAAAAAAAAAAAAAAAAAAAAAAAAAAAAAAAAAAAAAAAAAAAAAAAAAAAAAAAAAAAAAAAAAAAAAAAAAAAAAAAAAAAAAAAAAAAAAAAAAAAAAAAAAAAAAAAAAAAAAAAAAAAAAAAAAAAAAAAAAAAAAAAAAAAAAAAAAAAAAAAAAAAAAAAAAAAAAAAAAAAAAAAAAAAAAAAAAAAAAAAAAAAAAAAAAAAAAAAAAAAAAAAAAAAAAAAAAAAAAAAAAAAAAAAAAAAAAAAAAAAAAAAAAAAAAAAAAAAAAAAAAAAAAAAAAAAAAAAAAAAAAAAAAAAAAAAAAAAAAAAAAAAAAAAAAAAAAAAAAAAAAAAAAAAAAAAAAAAAAAAAAAAAAAAAAAAAAAAAAAAAAAAAAAAAAAAAAAAAAAAAAAAAAAAAAAAAAAAAAAAAAAAAAAAAAAAAAAAAAAAAAAAAAAAAAAAAAAAAAAAAAAAAAAAAAAAAAAAAAAAAAAAAAAAAAAAAAAAAAAAAAAAAAAAAAAAAAAAAAAAAAAAAAAAAAAAAAAAAAAAAAAAAAAAAAAAAAAAAAAAAAAAAAAAAAAAAAAAAAAAAAAAAAAAAAAAAAAAAAAAAAAAAAAAAAAAAAAAAAAAAAAAAAAAAAAAAAAAAAAAAAAAAAAAAAAAAAAAAAAAAAAAAAAAAAAAAAAAAAAAAAAAAAAAAAAAAAAAAAAAAAAAAAAAAAAAAAAAAAAAAAAAAAAAAAAAAAAAAAAAAAAAAAAAAAAAAAAAAAAAAAAAAAAAAAAAAAAAAAAAAAAAAAAAAAAAAAAAAAAAAAAAAAAAAAAAAAAAAAAAAAAAAAAAAAAAAAAAAAAAAAAAAAAAAAAAAAAAAAAAAAAAAAAAAAAAAAAAAAAAAAAAAAAAAAAAAAAAAAAAAAAAAAAAAAAAAAAAAAAAAAAAAAAAAAAAAAAAAAAAAAAAAAAAAAAAAAAAAAAAAAAAAAAAAAAAAAAAAAAAAAAAAAAAAAAAAAAAAAAAAAAAAAAAAAAAAAAAAAAAAAAAAAAAAAAAAAAAAAAAAAAAAAAAAAAAAAAAAAAAAAAAAAAAAAAAAAAAAAAAAAAAAAAAAAAAAAAAAAAAAAAAAAAAAAAAAAAAAAAAAAAAAAAAAAAAAAAAAAAAAAAAAAAAAAAAAAAAAAAAAAAAAAAAAAAAAAAAAAAAAAAAAAAAAAAAAAAAAAAAAAAAAAAAAAAAAAAAAAAAAAAAAAAAAAAAAAAAAAAAAAAAAAAAAAAAAAAAAAAAAAAAAAAAAAAAAAAAAAAAAAAAAAAAAAAAAAAAAAAAAAAAAAAAAAAAAAAAAAAAAAAAAAAAAAAAAAAAAAAAAAAAAAAAAAAAAAAAAAAAAAAAAAAAAAAAAAAAAAAAAAAAAAAAAAAAAAAAAAAAAAAAAAAAAAAAAAAAAAAAAAAAAAAAAAAAAAAAAAAAAAAAAAAAAAAAAAAAAAAAAAAAAAAAAAAAAAAAAAAAAAAAAAAAAAAAAAAAAAAAAAAAAAAAAAAAAAAAAAAAAAAAAAAAAAAAAAAAAAAAAAAAAAAAAAAAAAAAAAAAAAAAAAAAAAAAAAAAAAAAAAAAAAAAAAAAAAAAAAAAAAAAAAAAAAAAAAAAAAAAAAAAAAAAAAAAAAAAAAAAAAAAAAAAAAAAAAAAAAAAAAAAAAAAAAAAAAAAAAAAAAAAAAAAAAAAAAAAAAAAAAAAAAAAAAAAAAAAAAAAAAAAAAAAAAAAAAAAAAAAAAAAAAAAAAAAAAAAAAAAAAAAAAAAAAAAAAAAAAAAAAAAAAAAAAAAAAAAAAAAAAAAAAAAAAAAAAAAAAAAAAAAAAAAAAAAAAAAAAAAAAAAAAAAAAAAAAAAAAAAAAAAAAAAAAAAAAAAAAAAAAAAAAAAAAAAAAAAAAAAAAAAAAAAAAAAAAAAAAAAAAAAAAAAAAAAAAAAAAAAAAAAAAAAAAAAAAAAAAAAAAAAAAAAAAAAAAAAAAAAAAAAAAAAAAAAAAAAAAAAAAAAAAAAAAAAAAAAAAAAAAAAAAAAAAAAAAAAAAAAAAAAAAAAAAAAAAAAAAAAAAAAAAAAAAAAAAAAAAAAAAAAAAAAAAAAAAAAAAAAAAAAAAAAAAAAAAAAAAAAAAAAAAAAAAAAAAAAAAAAAAAAAAAAAAAAAAAAAAAAAAAAAAAAAAAAAAAAAAAAAAAAAAAAAAAAAAAAAAAAAAAAAAAAAAAAAAAAAAAAAAAAAAAAAAAAAAAAAAAAAAAAAAAAAAAAAAAAAAAAAAAAAAAAAAAAAAAAAAAAAAAAAAAAAAAAAAAAAAAAAAAAAAAAAAAAAAAAAAAAAAAAAAAAAAAAAAAAAAAAAAAAAAAAAAAAAAAAAAAAAAAAAAAAAAAAAAAAAAAAAAAAAAAAAAAAAAAAAAAAAAAAAAAAAAAAAAAAAAAAAAAAAAAAAAAAAAAAAAAAAAAAAAAAAAAAAAAAAAAAAAAAAAAAAAAAAAAAAAAAAAAAAAAAAAAAAAAAAAAAAAAAAAAAAAAAAAAAAAAAAAAAAAAAAAAAAAAAAAAAAAAAAAAAAAAAAAAAAAAAAAAAAAAAAAAAAAAAAAAAAAAAAAAAAAAAAAAAAAAAAAAAAAAAAAAAAAAAAAAAAAAAAAAAAAAAAAAAAAAAAAAAAAAAAAAAAAAAAAAAAAAAAAAAAAAAAAAAAAAAAAAAAAAAAAAAAAAAAAAAAAAAAAAAAAAAAAAAAAAAAAAAAAAAAAAAAAAAAAAAAAAAAAAAAAAAAAAAAAAAAAAAAAAAAAAAAAAAAAAAAAAAAAAAAAAAAAAAAAAAAAAAAAAAAAAAAAAAAAAAAAAAAAAAAAAAAAAAAAAAAAAAAAAAAAAAAAAAAAAAAAAAAAAAAAAAAAAAAAAAAAAAAAAAAAAAAAAAAAAAAAAAAAAAAAAAAAAAAAAAAAAAAAAAAAAAAAAAAAAAAAAAAAAAAAAAAAAAAAAAAAAAAAAAAAAAAAAAAAAAAAAAAAAAAAAAAAAAAAAAAAAAAAAAAAAAAAAAAAAAAAAAAAAAAAAAAAAAAAAAAAAAAAAAAAAAAAAAAAAAAAAAAAAAAAAAAAAAAAAAAAAAAAAAAAAAAAAAAAAAAAAAAAAAAAAAAAAAAAAAAAAAAAAAAAAAAAAAAAAAAAAAAAAAAAAAAAAAAAAAAAAAAAAAAAAAAAAAAAAAAAAAAAAAAAAAAAAAAAAAAAAAAAAAAAAAAAAAAAAAAAAAAAAAAAAAAAAAAAAAAAAAAAAAAAAAAAAAAAAAAAAAAAAAAAAAAAAAAAAAAAAAAAAAAAAAAAAAAAAAAAAAAAAAAAAAAAAAAAAAAAAAAAAAAAAAAAAAAAAAAAAAAAAAAAAAAAAAAAAAAAAAAAAAAAAAAAAAAAAAAAAAAAAAAAAAAAAAAAAAAAAAAAAAAAAAAAAAAAAAAAAAAAAAAAAAAAAAAAAAAAAAAAAAAAAAAAAAAAAAAAAAAAAAAAAAAAAAAAAAAAAAAAAAAAAAAAAAAAAAAAAAAAAAAAAAAAAAAAAAAAAAAAAAAAAAAAAAAAAAAAAAAAAAAAAAAAAAAAAAAAAAAAAAAAAAAAAAAAAAAAAAAAAAAAAAAAAAAAAAAAAAAAAAAAAAAAAAAAAAAAAAAAAAAAAAAAAAAAAAAAAAAAAAAAAAAAAAAAAAAAAAAAAAAAAAAAAAAAAAAAAAAAAAAAAAAAAAAAAAAAAAAAAAAAAAAAAAAAAAAAAAAAAAAAAAAAAAAAAAAAAAAAAAAAAAAAAAAAAAAAAAAAAAAAAAAAAAAAAAAAAAAAAAAAAAAAAAAAAAAAAAAAAAAAAAAAAAAAAAAAAAAAAAAAAAAAAAAAAAAAAAAAAAAAAAAAAAAAAAAAAAAAAAAAAAAAAAAAAAAAAAAAAAAAAAAAAAAAAAAAAAAAAAAAAAAAAAAAAAAAAAAAAAAAAAAAAAAAAAAAAAAAAAAAAAAAAAAAAAAAAAAAAAAAAAAAAAAAAAAAAAAAAAAAAAAAAAAAAAAAAAAAAAAAAAAAAAAAAAAAAAAAAAAAAAAAAAAAAAAAAAAAAAAAAAAAAAAAAAAAAAAAAAAAAAAAAAAAAAAAAAAAAAAAAAAAAAAAAAAAAAAAAAAAAAAAAAAAAAAAAAAAAAAAAAAAAAAAAAAAAAAAAAAAAAAAAAAAAAAAAAAAAAAAAAAAAAAAAAAAAAAAAAAAAAAAAAAAAAAAAAAAAAAAAAAAAAAAAAAAAAAAAAAAAAAAAAAAAAAAAAAAAAAAAAAAAAAAAAAAAAAAAAAAAAAAAAAAAAAAAAAAAAAAAAAAAAAAAAAAAAAAAAAAAAAAAAAAAAAAAAAAAAAAAAAAAAAAAAAAAAAAAAAAAAAAAAAAAAAAAAAAAAAAAAAAAAAAAAAAAAAAAAAAAAAAAAAAAAAAAAAAAAAAAAAAAAAAAAAAAAAAAAAAAAAAAAAAAAAAAAAAAAAAAAAAAAAAAAAAAAAAAAAAAAAAAAAAAAAAAAAAAAAAAAAAAAAAAAAAAAAAAAAAAAAAAAAAAAAAAAAAAAAAAAAAAAAAAAAAAAAAAAAAAAAAAAAAAAAAAAAAAAAAAAAAAAAAAAAAAAAAAAAAAAAAAAAAAAAAAAAAAAAAAAAAAAAAAAAAAAAAAAAAAAAAAAAAAAAAAAAAAAAAAAAAAAAAAAAAAAAAAAAAAAAAAAAAAAAAAAAAAAAAAAAAAAAAAAAAAAAAAAAAAAAAAAAAAAAAAAAAAAAAAAAAAAAAAAAAAAAAAAAAAAAAAAAAAAAAAAAAAAAAAAAAAAAAAAAAAAAAAAAAAAAAAAAAAAAAAAAAAAAAAAAAAAAAAAAAAAAAAAAAAAAAAAAAAAAAAAAAAAAAAAAAAAAAAAAAAAAAAAAAAAAAAAAAAAAAAAAAAAAAAAAAAAAAAAAAAAAAAAAAAAAAAAAAAAAAAAAAAAAAAAAAAAAAAAAAAAAAAAAAAAAAAAAAAAAAAAAAAAAAAAAAAAAAAAAAAAAAAAAAAAAAAAAAAAAAAAAAAAAAAAAAAAAAAAAAAAAAAAAAAAAAAAAAAAAAAAAAAAAAAAAAAAAAAAAAAAAAAAAAAAAAAAAAAAAAAAAAAAAAAAAAAAAAAAAAAAAAAAAAAAAAAAAAAAAAAAAAAAAAAAAAAAAAAAAAAAAAAAAAAAAAAAAAAAAAAAAAAAAAAAAAAAAAAAAAAAAAAAAAAAAAAAAAAAAAAAAAAAAAAAAAAAAAAAAAAAAAAAAAAAAAAAAAAAAAAAAAAAAAAAAAAAAAAAAAAAAAAAAAAAAAAAAAAAAAAAAAAAAAAAAAAAAAAAAAAAAAAAAAAAAAAAAAAAAAAAAAAAAAAAAAAAAAAAAAAAAAAAAAAAAAAAAAAAAAAAAAAAAAAAAAAAAAAAAAAAAAAAAAAAAAAAAAAAAAAAAAAAAAAAAAAAAAAAAAAAAAAAAAAAAAAAAAAAAAAAAAAAAAAAAAAAAAAAAAAAAAAAAAAAAAAAAAAAAAAAAAAAAAAAAAAAAAAAAAAAAAAAAAAAAAAAAAAAAAAAAAAAAAAAAAAAAAAAAAAAAAAAAAAAAAAAAAAAAAAAAAAAAAAAAAAAAAAAAAAAAAAAAAAAAAAAAAAAAAAAAAAAAAAAAAAAAAAAAAAAAAAAAAAAAAAAAAAAAAAAAAAAAAAAAAAAAAAAAAAAAAAAAAAAAAAAAAAAAAAAAAAAAAAAAAAAAAAAAAAAAAAAAAAAAAAAAAAAAAAAAAAAAAAAAAAAAAAAAAAAAAAAAAAAAAAAAAAAAAAAAAAAAAAAAAAAAAAAAAAAAAAAAAAAAAAAAAAAAAAAAAAAAAAAAAAAAAAAAAAAAAAAAAAAAAAAAAAAAAAAAAAAAAAAAAAAAAAAAAAAAAAAAAAAAAAAAAAAAAAAAAAAAAAAAAAAAAAAAAAAAAAAAAAAAAAAAAAAAAAAAAAAAAAAAAAAAAAAAAAAAAAAAAAAAAAAAAAAAAAAAAAAAAAAAAAAAAAAAAAAAAAAAAAAAAAAAAAAAAAAAAAAAAAAAAAAAAAAAAAAAAAAAAAAAAAAAAAAAAAAAAAAAAAAAAAAAAAAAAAAAAAAAAAAAAAAAAAAAAAAAAAAAAAAAAAAAAAAAAAAAAAAAAAAAAAAAAAAAAAAAAAAAAAAAAAAAAAAAAAAAAAAAAAAAAAAAAAAAAAAAAAAAAAAAAAAAAAAAAAAAAAAAAAAAAAAAAAAAAAAAAAAAAAAAAAAAAAAAAAAAAAAAAAAAAAAAAAAAAAAAAAAAAAAAAAAAAAAAAAAAAAAAAAAAAAAAAAAAAAAAAAAAAAAAAAAAAAAAAAAAAAAAAAAAAAAAAAAAAAAAAAAAAAAAAAAAAAAAAAAAAAAAAAAAAAAAAAAAAAAAAAAAAAAAAAAAAAAAAAAAAAAAAAAAAAAAAAAAAAAAAAAAAAAAAAAAAAAAAAAAAAAAAAAAAAAAAAAAAAAAAAAAAAAAAAAAAAAAAAAAAAAAAAAAAAAAAAAAAAAAAAAAAAAAAAAAAAAAAAAAAAAAAAAAAAAAAAAAAAAAAAAAAAAAAAAAAAAAAAAAAAAAAAAAAAAAAAAAAAAAAAAAAAAAAAAAAAAAAAAAAAAAAAAAAAAAAAAAAAAAAAAAAAAAAAAAAAAAAAAAAAAAAAAAAAAAAAAAAAAAAAAAAAAAAAAAAAAAAAAAAAAAAAAAAAAAAAAAAAAAAAAAAAAAAAAAAAAAAAAAAAAAAAAAAAAAAAAAAAAAAAAAAAAAAAAAAAAAAAAAAAAAAAAAAAAAAAAAAAAAAAAAAAAAAAAAAAAAAAAAAAAAAAAAAAAAAAAAAAAAAAAAAAAAAAAAAAAAAAAAAAAAAAAAAAAAAAAAAAAAAAAAAAAAAAAAAAAAAAAAAAAAAAAAAAAAAAAAAAAAAAAAAAAAAAAAAAAAAAAAAAAAAAAAAAAAAAAAAAAAAAAAAAAAAAAAAAAAAAAAAAAAAAAAAAAAAAAAAAAAAAAAAAAAAAAAAAAAAAAAAAAAAAAAAAAAAAAAAAAAAAAAAAAAAAAAAAAAAAAAAAAAAAAAAAAAAAAAAAAAAAAAAAAAAAAAAAAAAAAAAAAAAAAAAAAAAAAAAAAAAAAAAAAAAAAAAAAAAAAAAAAAAAAAAAAAAAAAAAAAAAAAAAAAAAAAAAAAAAAAAAAAAAAAAAAAAAAAAAAAAAAAAAAAAAAAAAAAAAAAAAAAAAAAAAAAAAAAAAAAAAAAAAAAAAAAAAAAAAAAAAAAAAAAAAAAAAAAAAAAAAAAAAAAAAAAAAAAAAAAAAAAAAAAAAAAAAAAAAAAAAAAAAAAAAAAAAAAAAAAAAAAAAAAAAAAAAAAAAAAAAAAAAAAAAAAAAAAAAAAAAAAAAAAAAAAAAAAAAAAAAAAAAAAAAAAAAAAAAAAAAAAAAAAAAAAAAAAAAAAAAAAAAAAAAAAAAAAAAAAAAAAAAAAAAAAAAAAAAAAAAAAAAAAAAAAAAAAAAAAAAAAAAAAAAAAAAAAAAAAAAAAAAAAAAAAAAAAAAAAAAAAAAAAAAAAAAAAAAAAAAAAAAAAAAAAAAAAAAAAAAAAAAAAAAAAAAAAAAAAAAAAAAAAAAAAAAAAAAAAAAAAAAAAAAAAAAAAAAAAAAAAAAAAAAAAAAAAAAAAAAAAAAAAAAAAAAAAAAAAAAAAAAAAAAAAAAAAAAAAAAAAAAAAAAAAAAAAAAAAAAAAAAAAAAAAAAAAAAAAAAAAAAAAAAAAAAAAAAAAAAAAAAAAAAAAAAAAAAAAAAAAAAAAAAAAAAAAAAAAAAAAAAAAAAAAAAAAAAAAAAAAAAAAAAAAAAAAAAAAAAAAAAAAAAAAAAAAAAAAAAAAAAAAAAAAAAAAAAAAAAAAAAAAAAAAAAAAAAAAAAAAAAAAAAAAAAAAAAAAAAAAAAAAAAAAAAAAAAAAAAAAAAAAAAAAAAAAAAAAAAAAAAAAAAAAAAAAAAAAAAAAAAAAAAAAAAAAAAAAAAAAAAAAAAAAAAAAAAAAAAAAAAAAAAAAAAAAAAAAAAAAAAAAAAAAAAAAAAAAAAAAAAAAAAAAAAAAAAAAAAAAAAAAAAAAAAAAAAAAAAAAAAAAAAAAAAAAAAAAAAAAAAAAAAAAAAAAAAAAAAAAAAAAAAAAAAAAAAAAAAAAAAAAAAAAAAAAAAAAAAAAAAAAAAAAAAAAAAAAAAAAAAAAAAAAAAAAAAAAAAAAAAAAAAAAAAAAAAAAAAAAAAAAAAAAAAAAAAAAAAAAAAAAAAAAAAAAAAAAAAAAAAAAAAAAAAAAAAAAAAAAAAAAAAAAAAAAAAAAAAAAAAAAAAAAAAAAAAAAAAAAAAAAAAAAAAAAAAAAAAAAAAAAAAAAAAAAAAAAAAAAAAAAAAAAAAAAAAAAAAAAAAAAAAAAAAAAAAAAAAAAAAAAAAAAAAAAAAAAAAAAAAAAAAAAAAAAAAAAAAAAAAAAAAAAAAAAAAAAAAAAAAAAAAAAAAAAAAAAAAAAAAAAAAAAAAAAAAAAAAAAAAAAAAAAAAAAAAAAAAAAAAAAAAAAAAAAAAAAAAAAAAAAAAAAAAAAAAAAAAAAAAAAAAAAAAAAAAAAAAAAAAAAAAAAAAAAAAAAAAAAAAAAAAAAAAAAAAAAAAAAAAAAAAAAAAAAAAAAAAAAAAAAAAAAAAAAAAAAAAAAAAAAAAAAAAAAAAAAAAAAAAAAAAAAAAAAAAAAAAAAAAAAAAAAAAAAAAAAAAAAAAAAAAAAAAAAAAAAAAAAAAAAAAAAAAAAAAAAAAAAAAAAAAAAAAAAAAAAAAAAAAAAAAAAAAAAAAAAAAAAAAAAAAAAAAAAAAAAAAAAAAAAAAAAAAAAAAAAAAAAAAAAAAAAAAAAAAAAAAAAAAAAAAAAAAAAAAAAAAAAAAAAAAAAAAAAAAAAAAAAAAAAAAAAAAAAAAAAAAAAAAAAAAAAAAAAAAAAAAAAAAAAAAAAAAAAAAAAAAAAAAAAAAAAAAAAAAAAAAAAAAAAAAAAAAAAAAAAAAAAAAAAAAAAAAAAAAAAAAAAAAAAAAAAAAAAAAAAAAAAAAAAAAAAAAAAAAAAAAAAAAAAAAAAAAAAAAAAAAAAAAAAAAAAAAAAAAAAAAAAAAAAAAAAAAAAAAAAAAAAAAAAAAAAAAAAAAAAAAAAAAAAAAAAAAAAAAAAAAAAAAAAAAAAAAAAAAAAAAAAAAAAAAAAAAAAAAAAAAAAAAAAAAAAAAAAAAAAAAAAAAAAAAAAAAAAAAAAAAAAAAAAAAAAAAAAAAAAAAAAAAAAAAAAAAAAAAAAAAAAAAAAAAAAAAAAAAAAAAAAAAAAAAAAAAAAAAAAAAAAAAAAAAAAAAAAAAAAAAAAAAAAAAAAAAAAAAAAAAAAAAAAAAAAAAAAAAAAAAAAAAAAAAAAAAAAAAAAAAAAAAAAAAAAAAAAAAAAAAAAAAAAAAAAAAAAAAAAAAAAAAAAAAAAAAAAAAAAAAAAAAAAAAAAAAAAAAAAAAAAAAAAAAAAAAAAAAAAAAAAAAAAAAAAAAAAAAAAAAAAAAAAAAAAAAAAAAAAAAAAAAAAAAAAAAAAAAAAAAAAAAAAAAAAAAAAAAAAAAAAAAAAAAAAAAAAAAAAAAAAAAAAAAAAAAAAAAAAAAAAAAAAAAAAAAAAAAAAAAAAAAAAAAAAAAAAAAAAAAAAAAAAAAAAAAAAAAAAAAAAAAAAAAAAAAAAAAAAAAAAAAAAAAAAAAAAAAAAAAAAAAAAAAAAAAAAAAAAAAAAAAAAAAAAAAAAAAAAAAAAAAAAAAAAAAAAAAAAAAAAAAAAAAAAAAAAAAAAAAAAAAAAAAAAAAAAAAAAAAAAAAAAAAAAAAAAAAAAAAAAAAAAAAAAAAAAAAAAAAAAAAAAAAAAAAAAAAAAAAAAAAAAAAAAAAAAAAAAAAAAAAAAAAAAAAAAAAAAAAAAAAAAAAAAAAAAAAAAAAAAAAAAAAAAAAAAAAAAAAAAAAAAAAAAAAAAAAAAAAAAAAAAAAAAAAAAAAAAAAAAAAAAAAAAAAAAAAAAAAAAAAAAAAAAAAAAAAAAAAAAAAAAAAAAAAAAAAAAAAAAAAAAAAAAAAAAAAAAAAAAAAAAAAAAAAAAAAAAAAAAAAAAAAAAAAAAAAAAAAAAAAAAAAAAAAAAAAAAAAAAAAAAAAAAAAAAAAAAAAAAAAAAAAAAAAAAAAAAAAAAAAAAAAAAAAAAAAAAAAAAAAAAAAAAAAAAAAAAAAAAAAAAAAAAAAAAAAAAAAAAAAAAAAAAAAAAAAAAAAAAAAAAAAAAAAAAAAAAAAAAAAAAAAAAAAAAAAAAAAAAAAAAAAAAAAAAAAAAAAAAAAAAAAAAAAAAAAAAAAAAAAAAAAAAAAAAAAAAAAAAAAAAAAAAAAAAAAAAAAAAAAAAAAAAAAAAAAAAAAAAAAAAAAAAAAAAAAAAAAAAAAAAAAAAAAAAAAAAAAAAAAAAAAAAAAAAAAAAAAAAAAAAAAAAAAAAAAAAAAAAAAAAAAAAAAAAAAAAAAAAAAAAAAAAAAAAAAAAAAAAAAAAAAAAAAAAAAAAAAAAAAAAAAAAAAAAAAAAAAAAAAAAAAAAAAAAAAAAAAAAAAAAAAAAAAAAAAAAAAAAAAAAAAAAAAAAAAAAAAAAAAAAAAAAAAAAAAAAAAAAAAAAAAAAAAAAAAAAAAAAAAAAAAAAAAAAAAAAAAAAAAAAAAAAAAAAAAAAAAAAAAAAAAAAAAAAAAAAAAAAAAAAAAAAAAAAAAAAAAAAAAAAAAAAAAAAAAAAAAAAAAAAAAAAAAAAAAAAAAAAAAAAAAAAAAAAAAAAAAAAAAAAAAAAAAAAAAAAAAAAAAAAAAAAAAAAAAAAAAAAAAAAAAAAAAAAAAAAAAAAAAAAAAAAAAAAAAAAAAAAAAAAAAAAAAAAAAAAAAAAAAAAAAAAAAAAAAAAAAAAAAAAAAAAAAAAAAAAAAAAAAAAAAAAAAAAAAAAAAAAAAAAAAAAAAAAAAAAAAAAAAAAAAAAAAAAAAAAAAAAAAAAAAAAAAAAAAAAAAAAAAAAAAAAAAAAAAAAAAAAAAAAAAAAAAAAAAAAAAAAAAAAAAAAAAAAAAAAAAAAAAAAAAAAAAAAAAAAAAAAAAAAAAAAAAAAAAAAAAAAAAAAAAAAAAAAAAAAAAAAAAAAAAAAAAAAAAAAAAAAAAAAAAAAAAAAAAAAAAAAAAAAAAAAAAAAAAAAAAAAAAAAAAAAAAAAAAAAAAAAAAAAAAAAAAAAAAAAAAAAAAAAAAAAAAAAAAAAAAAAAAAAAAAAAAAAAAAAAAAAAAAAAAAAAAAAAAAAAAAAAAAAAAAAAAAAAAAAAAAAAAAAAAAAAAAAAAAAAAAAAAAAAAAAAAAAAAAAAAAAAAAAAAAAAAAAAAAAAAAAAAAAAAAAAAAAAAAAAAAAAAAAAAAAAAAAAAAAAAAAAAAAAAAAAAAAAAAAAAAAAAAAAAAAAAAAAAAAAAAAAAAAAAAAAAAAAAAAAAAAAAAAAAAAAAAAAAAAAAAAAAAAAAAAAAAAAAAAAAAAAAAAAAAAAAAAAAAAAAAAAAAAAAAAAAAAAAAAAAAAAAAAAAAAAAAAAAAAAAAAAAAAAAAAAAAAAAAAAAAAAAAAAAAAAAAAAAAAAAAAAAAAAAAAAAAAAAAAAAAAAAAAAAAAAAAAAAAAAAAAAAAAAAAAAAAAAAAAAAAAAAAAAAAAAAAAAAAAAAAAAAAAAAAAAAAAAAAAAAAAAAAAAAAAAAAAAAAAAAAAAAAAAAAAAAAAAAAAAAAAAAAAAAAAAAAAAAAAAAAAAAAAAAAAAAAAAAAAAAAAAAAAAAAAAAAAAAAAAAAAAAAAAAAAAAAAAAAAAAAAAAAAAAAAAAAAAAAAAAAAAAAAAAAAAAAAAAAAAAAAAAAAAAAAAAAAAAAAAAAAAAAAAAAAAAAAAAAAAAAAAAAAAAAAAAAAAAAAAAAAAAAAAAAAAAAAAAAAAAAAAAAAAAAAAAAAAAAAAAAAAAAAAAAAAAAAAAAAAAAAAAAAAAAAAAAAAAAAAAAAAAAAAAAAAAAAAAAAAAAAAAAAAAAAAAAAAAAAAAAAAAAAAAAAAAAAAAAAAAAAAAAAAAAAAAAAAAAAAAAAAAAAAAAAAAAAAAAAAAAAAAAAAAAAAAAAAAAAAAAAAAAAAAAAAAAAAAAAAAAAAAAAAAAAAAAAAAAAAAAAAAAAAAAAAAAAAAAAAAAAAAAAAAAAAAAAAAAAAAAAAAAAAAAAAAAAAAAAAAAAAAAAAAAAAAAAAAAAAAAAAAAAAAAAAAAAAAAAAAAAAAAAAAAAAAAAAAAAAAAAAAAAAAAAAAAAAAAAAAAAAAAAAAAAAAAAAAAAAAAAAAAAAAAAAAAAAAAAAAAAAAAAAAAAAAAAAAAAAAAAAAAAAAAAAAAAAAAAAAAAAAAAAAAAAAAAAAAAAAAAAAAAAAAAAAAAAAAAAAAAAAAAAAAAAAAAAAAAAAAAAAAAAAAAAAAAAAAAAAAAAAAAAAAAAAAAAAAAAAAAAAAAAAAAAAAAAAAAAAAAAAAAAAAAAAAAAAAAAAAAAAAAAAAAAAAAAAAAAAAAAAAAAAAAAAAAAAAAAAAAAAAAAAAAAAAAAAAAAAAAAAAAAAAAAAAAAAAAAAAAAAAAAAAAAAAAAAAAAAAAAAAAAAAAAAAAAAAAAAAAAAAAAAAAAAAAAAAAAAAAAAAAAAAAAAAAAAAAAAAAAAAAAAAAAAAAAAAAAAAAAAAAAAAAAAAAAAAAAAAAAAAAAAAAAAAAAAAAAAAAAAAAAAAAAAAAAAAAAAAAAAAAAAAAAAAAAAAAAAAAAAAAAAAAAAAAAAAAAAAAAAAAAAAAAAAAAAAAAAAAAAAAAAAAAAAAAAAAAAAAAAAAAAAAAAAAAAAAAAAAAAAAAAAAAAAAAAAAAAAAAAAAAAAAAAAAAAAAAAAAAAAAAAAAAAAAAAAAAAAAAAAAAAAAAAAAAAAAAAAAAAAAAAAAAAAAAAAAAAAAAAAAAAAAAAAAAAAAAAAAAAAAAAAAAAAAAAAAAAAAAAAAAAAAAAAAAAAAAAAAAAAAAAAAAAAAAAAAAAAAAAAAAAAAAAAAAAAAAAAAAAAAAAAAAAAAAAAAAAAAAAAAAAAAAAAAAAAAAAAAAAAAAAAAAAAAAAAAAAAAAAAAAAAAAAAAAAAAAAAAAAAAAAAAAAAAAAAAAAAAAAAAAAAAAAAAAAAAAAAAAAAAAAAAAAAAAAAAAAAAAAAAAAAAAAAAAAAAAAAAAAAAAAAAAAAAAAAAAAAAAAAAAAAAAAAAAAAAAAAAAAAAAAAAAAAAAAAAAAAAAAAAAAAAAAAAAAAAAAAAAAAAAAAAAAAAAAAAAAAAAAAAAAAAAAAAAAAAAAAAAAAAAAAAAAAAAAAAAAAAAAAAAAAAAAAAAAAAAAAAAAAAAAAAAAAAAAAAAAAAAAAAAAAAAAAAAAAAAAAAAAAAAAAAAAAAAAAAAAAAAAAAAAAAAAAAAAAAAAAAAAAAAAAAAAAAAAAAAAAAAAAAAAAAAAAAAAAAAAAAAAAAAAAAAAAAAAAAAAAAAAAAAAAAAAAAAAAAAAAAAAAAAAAAAAAAAAAAAAAAAAAAAAAAAAAAAAAAAAAAAAAAAAAAAAAAAAAAAAAAAAAAAAAAAAAAAAAAAAAAAAAAAAAAAAAAAAAAAAAAAAAAAAAAAAAAAAAAAAAAAAAAAAAAAAAAAAAAAAAAAAAAAAAAAAAAAAAAAAAAAAAAAAAAAAAAAAAAAAAAAAAAAAAAAAAAAAAAAAAAAAAAAAAAAAAAAAAAAAAAAAAAAAAAAAAAAAAAAAAAAAAAAAAAAAAAAAAAAAAAAAAAAAAAAAAAAAAAAAAAAAAAAAAAAAAAAAAAAAAAAAAAAAAAAAAAAAAAAAAAAAAAAAAAAAAAAAAAAAAAAAAAAAAAAAAAAAAAAAAAAAAAAAAAAAAAAAAAAAAAAAAAAAAAAAAAAAAAAAAAAAAAAAAAAAAAAAAAAAAAAAAAAAAAAAAAAAAAAAAAAAAAAAAAAAAAAAAAAAAAAAAAAAAAAAAAAAAAAAAAAAAAAAAAAAAAAAAAAAAAAAAAAAAAAAAAAAAAAAAAAAAAAAAAAAAAAAAAAAAAAAAAAAAAAAAAAAAAAAAAAAAAAAAAAAAAAAAAAAAAAAAAAAAAAAAAAAAAAAAAAAAAAAAAAAAAAAAAAAAAAAAAAAAAAAAAAAAAAAAAAAAAAAAAAAAAAAAAAAAAAAAAAAAAAAAAAAAAAAAAAAAAAAAAAAAAAAAAAAAAAAAAAAAAAAAAAAAAAAAAAAAAAAAAAAAAAAAAAAAAAAAAAAAAAAAAAAAAAAAAAAAAAAAAAAAAAAAAAAAAAAAAAAAAAAAAAAAAAAAAAAAAAAAAAAAAAAAAAAAAAAAAAAAAAAAAAAAAAAAAAAAAAAAAAAAAAAAAAAAAAAAAAAAAAAAAAAAAAAAAAAAAAAAAAAAAAAAAAAAAAAAAAAAAAAAAAAAAAAAAAAAAAAAAAAAAAAAAAAAAAAAAAAAAAAAAAAAAAAAAAAAAAAAAAAAAAAAAAAAAAAAAAAAAAAAAAAAAAAAAAAAAAAAAAAAAAAAAAAAAAAAAAAAAAAAAAAAAAAAAAAAAAAAAAAAAAAAAAAAAAAAAAAAAAAAAAAAAAAAAAAAAAAAAAAAAAAAAAAAAAAAAAAAAAAAAAAAAAAAAAAAAAAAAAAAAAAAAAAAAAAAAAAAAAAAAAAAAAAAAAAAAAAAAAAAAAAAAAAAAAAAAAAAAAAAAAAAAAAAAAAAAAAAAAAAAAAAAAAAAAAAAAAAAAAAAAAAAAAAAAAAAAAAAAAAAAAAAAAAAAAAAAAAAAAAAAAAAAAAAAAAAAAAAAAAAAAAAAAAAAAAAAAAAAAAAAAAAAAAAAAAAAAAAAAAAAAAAAAAAAAAAAAAAAAAAAAAAAAAAAAAAAAAAAAAAAAAAAAAAAAAAAAAAAAAAAAAAAAAAAAAAAAAAAAAAAAAAAAAAAAAAAAAAAAAAAAAAAAAAAAAAAAAAAAAAAAAAAAAAAAAAAAAAAAAAAAAAAAAAAAAAAAAAAAAAAAAAAAAAAAAAAAAAAAAAAAAAAAAAAAAAAAAAAAAAAAAAAAAAAAAAAAAAAAAAAAAAAAAAAAAAAAAAAAAAAAAAAAAAAAAAAAAAAAAAAAAAAAAAAAAAAAAAAAAAAAAAAAAAAAAAAAAAAAAAAAAAAAAAAAAAAAAAAAAAAAAAAAAAAAAAAAAAAAAAAAAAAAAAAAAAAAAAAAAAAAAAAAAAAAAAAAAAAAAAAAAAAAAAAAAAAAAAAAAAAAAAAAAAAAAAAAAAAAAAAAAAAAAAAAAAAAAAAAAAAAAAAAAAAAAAAAAAAAAAAAAAAAAAAAAAAAAAAAAAAAAAAAAAAAAAAAAAAAAAAAAAAAAAAAAAAAAAAAAAAAAAAAAAAAAAAAAAAAAAAAAAAAAAAAAAAAAAAAAAAAAAAAAAAAAAAAAAAAAAAAAAAAAAAAAAAAAAAAAAAAAAAAAAAAAAAAAAAAAAAAAAAAAAAAAAAAAAAAAAAAAAAAAAAAAAAAAAAAAAAAAAAAAAAAAAAAAAAAAAAAAAAAAAAAAAAAAAAAAAAAAAAAAAAAAAAAAAAAAAAAAAAAAAAAAAAAAAAAAAAAAAAAAAAAAAAAAAAAAAAAAAAAAAAAAAAAAAAAAAAAAAAAAAAAAAAAAAAAAAAAAAAAAAAAAAAAAAAAAAAAAAAAAAAAAAAAAAAAAAAAAAAAAAAAAAAAAAAAAAAAAAAAAAAAAAAAAAAAAAAAAAAAAAAAAAAAAAAAAAAAAAAAAAAAAAAAAAAAAAAAAAAAAAAAAAAAAAAAAAAAAAAAAAAAAAAAAAAAAAAAAAAAAAAAAAAAAAAAAAAAAAAAAAAAAAAAAAAAAAAAAAAAAAAAAAAAAAAAAAAAAAAAAAAAAAAAAAAAAAAAAAAAAAAAAAAAAAAAAAAAAAAAAAAAAAAAAAAAAAAAAAAAAAAAAAAAAAAAAAAAAAAAAAAAAAAAAAAAAAAAAAAAAAAAAAAAAAAAAAAAAAAAAAAAAAAAAAAAAAAAAAAAAAAAAAAAAAAAAAAAAAAAAAAAAAAAAAAAAAAAAAAAAAAAAAAAAAAAAAAAAAAAAAAAAAAAAAAAAAAAAAAAAAAAAAAAAAAAAAAAAAAAAAAAAAAAAAAAAAAAAAAAAAAAAAAAAAAAAAAAAAAAAAAAAAAAAAAAAAAAAAAAAAAAAAAAAAAAAAAAAAAAAAAAAAAAAAAAAAAAAAAAAAAAAAAAAAAAAAAAAAAAAAAAAAAAAAAAAAAAAAAAAAAAAAAAAAAAAAAAAAAAAAAAAAAAAAAAAAAAAAAAAAAAAAAAAAAAAAAAAAAAAAAAAAAAAAAAAAAAAAAAAAAAAAAAAAAAAAAAAAAAAAAAAAAAAAAAAAAAAAAAAAAAAAAAAAAAAAAAAAAAAAAAAAAAAAAAAAAAAAAAAAAAAAAAAAAAAAAAAAAAAAAAAAAAAAAAAAAAAAAAAAAAAAAAAAAAAAAAAAAAAAAAAAAAAAAAAAAAAAAAAAAAAAAAAAAAAAAAAAAAAAAAAAAAAAAAAAAAAAAAAAAAAAAAAAAAAAAAAAAAAAAAAAAAAAAAAAAAAAAAAAAAAAAAAAAAAAAAAAAAAAAAAAAAAAAAAAAAAAAAAAAAAAAAAAAAAAAAAAAAAAAAAAAAAAAAAAAAAAAAAAAAAAAAAAAAAAAAAAAAAAAAAAAAAAAAAAAAAAAAAAAAAAAAAAAAAAAAAAAAAAAAAAAAAAAAAAAAAAAAAAAAAAAAAAAAAAAAAAAAAAAAAAAAAAAAAAAAAAAAAAAAAAAAAAAAAAAAAAAAAAAAAAAAAAAAAAAAAAAAAAAAAAAAAAAAAAAAAAAAAAAAAAAAAAAAAAAAAAAAAAAAAAAAAAAAAAAAAAAAAAAAAAAAAAAAAAAAAAAAAAAAAAAAAAAAAAAAAAAAAAAAAAAAAAAAAAAAAAAAAAAAAAAAAAAAAAAAAAAAAAAAAAAAAAAAAAAAAAAAAAAAAAAAAAAAAAAAAAAAAAAAAAAAAAAAAAAAAAAAAAAAAAAAAAAAAAAAAAAAAAAAAAAAAAAAAAAAAAAAAAAAAAAAAAAAAAAAAAAAAAAAAAAAAAAAAAAAAAAAAAAAAAAAAAAAAAAAAAAAAAAAAAAAAAAAAAAAAAAAAAAAAAAAAAAAAAAAAAAAAAAAAAAAAAAAAAAAAAAAAAAAAAAAAAAAAAAAAAAAAAAAAAAAAAAAAAAAAAAAAAAAAAAAAAAAAAAAAAAAAAAAAAAAAAAAAAAAAAAAAAAAAAAAAAAAAAAAAAAAAAAAAAAAAAAAAAAAAAAAAAAAAAAAAAAAAAAAAAAAAAAAAAAAAAAAAAAAAAAAAAAAAAAAAAAAAAAAAAAAAAAAAAAAAAAAAAAAAAAAAAAAAAAAAAAAAAAAAAAAAAAAAAAAAAAAAAAAAAAAAAAAAAAAAAAAAAAAAAAAAAAAAAAAAAAAAAAAAAAAAAAAAAAAAAAAAAAAAAAAAAAAAAAAAAAAAAAAAAAAAAAAAAAAAAAAAAAAAAAAAAAAAAAAAAAAAAAAAAAAAAAAAAAAAAAAAAAAAAAAAAAAAAAAAAAAAAAAAAAAAAAAAAAAAAAAAAAAAAAAAAAAAAAAAAAAAAAAAAAAAAAAAAAAAAAAAAAAAAAAAAAAAAAAAAAAAAAAAAAAAAAAAAAAAAAAAAAAAAAAAAAAAAAAAAAAAAAAAAAAAAAAAAAAAAAAAAAAAAAAAAAAAAAAAAAAAAAAAAAAAAAAAAAAAAAAAAAAAAAAAAAAAAAAAAAAAAAAAAAAAAAAAAAAAAAAAAAAAAAAAAAAAAAAAAAAAAAAAAAAAAAAAAAAAAAAAAAAAAAAAAAAAAAAAAAAAAAAAAAAAAAAAAAAAAAAAAAAAAAAAAAAAAAAAAAAAAAAAAAAAAAAAAAAAAAAAAAAAAAAAAAAAAAAAAAAAAAAAAAAAAAAAAAAAAAAAAAAAAAAAAAAAAAAAAAAAAAAAAAAAAAAAAAAAAAAAAAAAAAAAAAAAAAAAAAAAAAAAAAAAAAAAAAAAAAAAAAAAAAAAAAAAAAAAAAAAAAAAAAAAAAAAAAAAAAAAAAAAAAAAAAAAAAAAAAAAAAAAAAAAAAAAAAAAAAAAAAAAAAAAAAAAAAAAAAAAAAAAAAAAAAAAAAAAAAAAAAAAAAAAAAAAAAAAAAAAAAAAAAAAAAAAAAAAAAAAAAAAAAAAAAAAAAAAAAAAAAAAAAAAAAAAAAAAAAAAAAAAAAAAAAAAAAAAAAAAAAAAAAAAAAAAAAAAAAAAAAAAAAAAAAAAAAAAAAAAAAAAAAAAAAAAAAAAAAAAAAAAAAAAAAAAAAAAAAAAAAAAAAAAAAAAAAAAAAAAAAAAAAAAAAAAAAAAAAAAAAAAAAAAAAAAAAAAAAAAAAAAAAAAAAAAAAAAAAAAAAAAAAAAAAAAAAAAAAAAAAAAAAAAAAAAAAAAAAAAAAAAAAAAAAAAAAAAAAAAAAAAAAAAAAAAAAAAAAAAAAAAAAAAAAAAAAAAAAAAAAAAAAAAAAAAAAAAAAAAAAAAAAAAAAAAAAAAAAAAAAAAAAAAAAAAAAAAAAAAAAAAAAAAAAAAAAAAAAAAAAAAAAAAAAAAAAAAAAAAAAAAAAAAAAAAAAAAAAAAAAAAAAAAAAAAAAAAAAAAAAAAAAAAAAAAAAAAAAAAAAAAAAAAAAAAAAAAAAAAAAAAAAAAAAAAAAAAAAAAAAAAAAAAAAAAAAAAAAAAAAAAAAAAAAAAAAAAAAAAAAAAAAAAAAAAAAAAAAAAAAAAAAAAAAAAAAAAAAAAAAAAAAAAAAAAAAAAAAAAAAAAAAAAAAAAAAAAAAAAAAAAAAAAAAAAAAAAAAAAAAAAAAAAAAAAAAAAAAAAAAAAAAAAAAAAAAAAAAAAAAAAAAAAAAAAAAAAAAAAAAAAAAAAAAAAAAAAAAAAAAAAAAAAAAAAAAAAAAAAAAAAAAAAAAAAAAAAAAAAAAAAAAAAAAAAAAAAAAAAAAAAAAAAAAAAAAAAAAAAAAAAAAAAAAAAAAAAAAAAAAAAAAAAAAAAAAAAAAAAAAAAAAAAAAAAAAAAAAAAAAAAAAAAAAAAAAAAAAAAAAAAAAAAAAAAAAAAAAAAAAAAAAAAAAAAAAAAAAAAAAAAAAAAAAAAAAAAAAAAAAAAAAAAAAAAAAAAAAAAAAAAAAAAAAAAAAAAAAAAAAAAAAAAAAAAAAAAAAAAAAAAAAAAAAAAAAAAAAAAAAAAAAAAAAAAAAAAAAAAAAAAAAAAAAAAAAAAAAAAAAAAAAAAAAAAAAAAAAAAAAAAAAAAAAAAAAAAAAAAAAAAAAAAAAAAAAAAAAAAAAAAAAAAAAAAAAAAAAAAAAAAAAAAAAAAAAAAAAAAAAAAAAAAAAAAAAAAAAAAAAAAAAAAAAAAAAAAAAAAAAAAAAAAAAAAAAAAAAAAAAAAAAAAAAAAAAAAAAAAAAAAAAAAAAAAAAAAAAAAAAAAAAAAAAAAAAAAAAAAAAAAAAAAAAAAAAAAAAAAAAAAAAAAAAAAAAAAAAAAAAAAAAAAAAAAAAAAAAAAAAAAAAAAAAAAAAAAAAAAAAAAAAAAAAAAAAAAAAAAAAAAAAAAAAAAAAAAAAAAAAAAAAAAAAAAAAAAAAAAAAAAAAAAAAAAAAAAAAAAAAAAAAAAAAAAAAAAAAAAAAAAAAAAAAAAAAAAAAAAAAAAAAAAAAAAAAAAAAAAAAAAAAAAAAAAAAAAAAAAAAAAAAAAAAAAAAAAAAAAAAAAAAAAAAAAAAAAAAAAAAAAAAAAAAAAAAAAAAAAAAAAAAAAAAAAAAAAAAAAAAAAAAAAAAAAAAAAAAAAAAAAAAAAAAAAAAAAAAAAAAAAAAAAAAAAAAAAAAAAAAAAAAAAAAAAAAAAAAAAAAAAAAAAAAAAAAAAAAAAAAAAAAAAAAAAAAAAAAAAAAAAAAAAAAAAAAAAAAAAAAAAAAAAAAAAAAAAAAAAAAAAAAAAAAAAAAAAAAAAAAAAAAAAAAAAAAAAAAAAAAAAAAAAAAAAAAAAAAAAAAAAAAAAAAAAAAAAAAAAAAAAAAAAAAAAAAAAAAAAAAAAAAAAAAAAAAAAAAAAAAAAAAAAAAAAAAAAAAAAAAAAAAAAAAAAAAAAAAAAAAAAAAAAAAAAAAAAAAAAAAAAAAAAAAAAAAAAAAAAAAAAAAAAAAAAAAAAAAAAAAAAAAAAAAAAAAAAAAAAAAAAAAAAAAAAAAAAAAAAAAAAAAAAAAAAAAAAAAAAAAAAAAAAAAAAAAAAAAAAAAAAAAAAAAAAAAAAAAAAAAAAAAAAAAAAAAAAAAAAAAAAAAAAAAAAAAAAAAAAAAAAAAAAAAAAAAAAAAAAAAAAAAAAAAAAAAAAAAAAAAAAAAAAAAAAAAAAAAAAAAAAAAAAAAAAAAAAAAAAAAAAAAAAAAAAAAAAAAAAAAAAAAAAAAAAAAAAAAAAAAAAAAAAAAAAAAAAAAAAAAAAAAAAAAAAAAAAAAAAAAAAAAAAAAAAAAAAAAAAAAAAAAAAAAAAAAAAAAAAAAAAAAAAAAAAAAAAAAAAAAAAAAAAAAAAAAAAAAAAAAAAAAAAAAAAAAAAAAAAAAAAAAAAAAAAAAAAAAAAAAAAAAAAAAAAAAAAAAAAAAAAAAAAAAAAAAAAAAAAAAAAAAAAAAAAAAAAAAAAAAAAAAAAAAAAAAAAAAAAAAAAAAAAAAAAAAAAAAAAAAAAAAAAAAAAAAAAAAAAAAAAAAAAAAAAAAAAAAAAAAAAAAAAAAAAAAAAAAAAAAAAAAAAAAAAAAAAAAAAAAAAAAAAAAAAAAAAAAAAAAAAAAAAAAAAAAAAAAAAAAAAAAAAAAAAAAAAAAAAAAAAAAAAAAAAAAAAAAAAAAAAAAAAAAAAAAAAAAAAAAAAAAAAAAAAAAAAAAAAAAAAAAAAAAAAAAAAAAAAAAAAAAAAAAAAAAAAAAAAAAAAAAAAAAAAAAAAAAAAAAAAAAAAAAAAAAAAAAAAAAAAAAAAAAAAAAAAAAAAAAAAAAAAAAAAAAAAAAAAAAAAAAAAAAAAAAAAAAAAAAAAAAAAAAAAAAAAAAAAAAAAAAAAAAAAAAAAAAAAAAAAAAAAAAAAAAAAAAAAAAAAAAAAAAAAAAAAAAAAAAAAAAAAAAAAAAAAAAAAAAAAAAAAAAAAAAAAAAAAAAAAAAAAAAAAAAAAAAAAAAAAAAAAAAAAAAAAAAAAAAAAAAAAAAAAAAAAAAAAAAAAAAAAAAAAAAAAAAAAAAAAAAAAAAAAAAAAAAAAAAAAAAAAAAAAAAAAAAAAAAAAAAAAAAAAAAAAAAAAAAAAAAAAAAAAAAAAAAAAAAAAAAAAAAAAAAAAAAAAAAAAAAAAAAAAAAAAAAAAAAAAAAAAAAAAAAAAAAAAAAAAAAAAAAAAAAAAAAAAAAAAAAAAAAAAAAAAAAAAAAAAAAAAAAAAAAAAAAAAAAAAAAAAAAAAAAAAAAAAAAAAAAAAAAAAAAAAAAAAAAAAAAAAAAAAAAAAAAAAAAAAAAAAAAAAAAAAAAAAAAAAAAAAAAAAAAAAAAAAAAAAAAAAAAAAAAAAAAAAAAAAAAAAAAAAAAAAAAAAAAAAAAAAAAAAAAAAAAAAAAAAAAAAAAAAAAAAAAAAAAAAAAAAAAAAAAAAAAAAAAAAAAAAAAAAAAAAAAAAAAAAAAAAAAAAAAAAAAAAAAAAAAAAAAAAAAAAAAAAAAAAAAAAAAAAAAAAAAAAAAAAAAAAAAAAAAAAAAAAAAAAAAAAAAAAAAAAAAAAAAAAAAAAAAAAAAAAAAAAAAAAAAAAAAAAAAAAAAAAAAAAAAAAAAAAAAAAAAAAAAAAAAAAAAAAAAAAAAAAAAAAAAAAAAAAAAAAAAAAAAAAAAAAAAAAAAAAAAAAAAAAAAAAAAAAAAAAAAAAAAAAAAAAAAAAAAAAAAAAAAAAAAAAAAAAAAAAAAAAAAAAAAAAAAAAAAAAAAAAAAAAAAAAAAAAAAAAAAAAAAAAAAAAAAAAAAAAAAAAAAAAAAAAAAAAAAAAAAAAAAAAAAAAAAAAAAAAAAAAAAAAAAAAAAAAAAAAAAAAAAAAAAAAAAAAAAAAAAAAAAAAAAAAAAAAAAAAAAAAAAAAAAAAAAAAAAAAAAAAAAAAAAAAAAAAAAAAAAAAAAAAAAAAAAAAAAAAAAAAAAAAAAAAAAAAAAAAAAAAAAAAAAAAAAAAAAAAAAAAAAAAAAAAAAAAAAAAAAAAAAAAAAAAAAAAAAAAAAAAAAAAAAAAAAAAAAAAAAAAAAAAAAAAAAAAAAAAAAAAAAAAAAAAAAAAAAAAAAAAAAAAAAAAAAAAAAAAAAAAAAAAAAAAAAAAAAAAAAAAAAAAAAAAAAAAAAAAAAAAAAAAAAAAAAAAAAAAAAAAAAAAAAAAAAAAAAAAAAAAAAAAAAAAAAAAAAAAAAAAAAAAAAAAAAAAAAAAAAAAAAAAAAAAAAAAAAAAAAAAAAAAAAAAAAAAAAAAAAAAAAAAAAAAAAAAAAAAAAAAAAAAAAAAAAAAAAAAAAAAAAAAAAAAAAAAAAAAAAAAAAAAAAAAAAAAAAAAAAAAAAAAAAAAAAAAAAAAAAAAAAAAAAAAAAAAAAAAAAAAAAAAAAAAAAAAAAAAAAAAAAAAAAAAAAAAAAAAAAAAAAAAAAAAAAAAAAAAAAAAAAAAAAAAAAAAAAAAAAAAAAAAAAAAAAAAAAAAAAAAAAAAAAAAAAAAAAAAAAAAAAAAAAAAAAAAAAAAAAAAAAAAAAAAAAAAAAAAAAAAAAAAAAAAAAAAAAAAAAAAAAAAAAAAAAAAAAAAAAAAAAAAAAAAAAAAAAAAAAAAAAAAAAAAAAAAAAAAAAAAAAAAAAAAAAAAAAAAAAAAAAAAAAAAAAAAAAAAAAAAAAAAAAAAAAAAAAAAAAAAAAAAAAAAAAAAAAAAAAAAAAAAAAAAAAAAAAAAAAAAAAAAAAAAAAAAAAAAAAAAAAAAAAAAAAAAAAAAAAAAAAAAAAAAAAAAAAAAAAAAAAAAAAAAAAAAAAAAAAAAAAAAAAAAAAAAAAAAAAAAAAAAAAAAAAAAAAAAAAAAAAAAAAAAAAAAAAAAAAAAAAAAAAAAAAAAAAAAAAAAAAAAAAAAAAAAAAAAAAAAAAAAAAAAAAAAAAAAAAAAAAAAAAAAAAAAAAAAAAAAAAAAAAAAAAAAAAAAAAAAAAAAAAAAAAAAAAAAAAAAAAAAAAAAAAAAAAAAAAAAAAAAAAAAAAAAAAAAAAAAAAAAAAAAAAAAAAAAAAAAAAAAAAAAAAAAAAAAAAAAAAAAAAAAAAAAAAAAAAAAAAAAAAAAAAAAAAAAAAAAAAAAAAAAAAAAAAAAAAAAAAAAAAAAAAAAAAAAAAAAAAAAAAAAAAAAAAAAAAAAAAAAAAAAAAAAAAAAAAAAAAAAAAAAAAAAAAAAAAAAAAAAAAAAAAAAAAAAAAAAAAAAAAAAAAAAAAAAAAAAAAAAAAAAAAAAAAAAAAAAAAAAAAAAAAAAAAAAAAAAAAAAAAAAAAAAAAAAAAAAAAAAAAAAAAAAAAAAAAAAAAAAAAAAAAAAAAAAAAAAAAAAAAAAAAAAAAAAAAAAAAAAAAAAAAAAAAAAAAAAAAAAAAAAAAAAAAAAAAAAAAAAAAAAAAAAAAAAAAAAAAAAAAAAAAAAAAAAAAAAAAAAAAAAAAAAAAAAAAAAAAAAAAAAAAAAAAAAAAAAAAAAAAAAAAAAAAAAAAAAAAAAAAAAAAAAAAAAAAAAAAAAAAAAAAAAAAAAAAAAAAAAAAAAAAAAAAAAAAAAAAAAAAAAAAAAAAAAAAAAAAAAAAAAAAAAAAAAAAAAAAAAAAAAAAAAAAAAAAAAAAAAAAAAAAAAAAAAAAAAAAAAAAAAAAAAAAAAAAAAAAAAAAAAAAAAAAAAAAAAAAAAAAAAAAAAAAAAAAAAAAAAAAAAAAAAAAAAAAAAAAAAAAAAAAAAAAAAAAAAAAAAAAAAAAAAAAAAAAAAAAAAAAAAAAAAAAAAAAAAAAAAAAAAAAAAAAAAAAAAAAAAAAAAAAAAAAAAAAAAAAAAAAAAAAAAAAAAAAAAAAAAAAAAAAAAAAAAAAAAAAAAAAAAAAAAAAAAAAAAAAAAAAAAAAAAAAAAAAAAAAAAAAAAAAAAAAAAAAAAAAAAAAAAAAAAAAAAAAAAAAAAAAAAAAAAAAAAAAAAAAAAAAAAAAAAAAAAAAAAAAAAAAAAAAAAAAAAAAAAAAAAAAAAAAAAAAAAAAAAAAAAAAAAAAAAAAAAAAAAAAAAAAAAAAAAAAAAAAAAAAAAAAAAAAAAAAAAAAAAAAAAAAAAAAAAAAAAAAAAAAAAAAAAAAAAAAAAAAAAAAAAAAAAAAAAAAAAAAAAAAAAAAAAAAAAAAAAAAAAAAAAAAAAAAAAAAAAAAAAAAAAAAAAAAAAAAAAAAAAAAAAAAAAAAAAAAAAAAAAAAAAAAAAAAAAAAAAAAAAAAAAAAAAAAAAAAAAAAAAAAAAAAAAAAAAAAAAAAAAAAAAAAAAAAAAAAAAAAAAAAAAAAAAAAAAAAAAAAAAAAAAAAAAAAAAAAAAAAAAAAAAAAAAAAAAAAAAAAAAAAAAAAAAAAAAAAAAAAAAAAAAAAAAAAAAAAAAAAAAAAAAAAAAAAAAAAAAAAAAAAAAAAAAAAAAAAAAAAAAAAAAAAAAAAAAAAAAAAAAAAAAAAAAAAAAAAAAAAAAAAAAAAAAAAAAAAAAAAAAAAAAAAAAAAAAAAAAAAAAAAAAAAAAAAAAAAAAAAAAAAAAAAAAAAAAAAAAAAAAAAAAAAAAAAAAAAAAAAAAAAAAAAAAAAAAAAAAAAAAAAAAAAAAAAAAAAAAAAAAAAAAAAAAAAAAAAAAAAAAAAAAAAAAAAAAAAAAAAAAAAAAAAAAAAAAAAAAAAAAAAAAAAAAAAAAAAAAAAAAAAAAAAAAAAAAAAAAAAAAAAAAAAAAAAAAAAAAAAAAAAAAAAAAAAAAAAAAAAAAAAAAAAAAAAAAAAAAAAAAAAAAAAAAAAAAAAAAAAAAAAAAAAAAAAAAAAAAAAAAAAAAAAAAAAAAAAAAAAAAAAAAAAAAAAAAAAAAAAAAAAAAAAAAAAAAAAAAAAAAAAAAAAAAAAAAAAAAAAAAAAAAAAAAAAAAAAAAAAAAAAAAAAAAAAAAAAAAAAAAAAAAAAAAAAAAAAAAAAAAAAAAAAAAAAAAAAAAAAAAAAAAAAAAAAAAAAAAAAAAAAAAAAAAAAAAAAAAAAAAAAAAAAAAAAAAAAAAAAAAAAAAAAAAAAAAAAAAAAAAAAAAAAAAAAAAAAAAAAAAAAAAAAAAAAAAAAAAAAAAAAAAAAAAAAAAAAAAAAAAAAAAAAAAAAAAAAAAAAAAAAAAAAAAAAAAAAAAAAAAAAAAAAAAAAAAAAAAAAAAAAAAAAAAAAAAAAAAAAAAAAAAAAAAAAAAAAAAAAAAAAAAAAAAAAAAAAAAAAAAAAAAAAAAAAAAAAAAAAAAAAAAAAAAAAAAAAAAAAAAAAAAAAAAAAAAAAAAAAAAAAAAAAAAAAAAAAAAAAAAAAAAAAAAAAAAAAAAAAAAAAAAAAAAAAAAAAAAAAAAAAAAAAAAAAAAAAAAAAAAAAAAAAAAAAAAAAAAAAAAAAAAAAAAAAAAAAAAAAAAAAAAAAAAAAAAAAAAAAAAAAAAAAAAAAAAAAAAAAAAAAAAAAAAAAAAAAAAAAAAAAAAAAAAAAAAAAAAAAAAAAAAAAAAAAAAAAAAAAAAAAAAAAAAAAAAAAAAAAAAAAAAAAAAAAAAAAAAAAAAAAAAAAAAAAAAAAAAAAAAAAAAAAAAAAAAAAAAAAAAAAAAAAAAAAAAAAAAAAAAAAAAAAAAAAAAAAAAAAAAAAAAAAAAAAAAAAAAAAAAAAAAAAAAAAAAAAAAAAAAAAAAAAAAAAAAAAAAAAAAAAAAAAAAAAAAAAAAAAAAAAAAAAAAAAAAAAAAAAAAAAAAAAAAAAAAAAAAAAAAAAAAAAAAAAAAAAAAAAAAAAAAAAAAAAAAAAAAAAAAAAAAAAAAAAAAAAAAAAAAAAAAAAAAAAAAAAAAAAAAAAAAAAAAAAAAAAAAAAAAAAAAAAAAAAAAAAAAAAAAAAAAAAAAAAAAAAAAAAAAAAAAAAAAAAAAAAAAAAAAAAAAAAAAAAAAAAAAAAAAAAAAAAAAAAAAAAAAAAAAAAAAAAAAAAAAAAAAAAAAAAAAAAAAAAAAAAAAAAAAAAAAAAAAAAAAAAAAAAAAAAAAAAAAAAAAAAAAAAAAAAAAAAAAAAAAAAAAAAAAAAAAAAAAAAAAAAAAAAAAAAAAAAAAAAAAAAAAAAAAAAAAAAAAAAAAAAAAAAAAAAAAAAAAAAAAAAAAAAAAAAAAAAAAAAAAAAAAAAAAAAAAAAAAAAAAAAAAAAAAAAAAAAAAAAAAAAAAAAAAAAAAAAAAAAAAAAAAAAAAAAAAAAAAAAAAAAAAAAAAAAAAAAAAAAAAAAAAAAAAAAAAAAAAAAAAAAAAAAAAAAAAAAAAAAAAAAAAAAAAAAAAAAAAAAAAAAAAAAAAAAAAAAAAAAAAAAAAAAAAAAAAAAAAAAAAAAAAAAAAAAAAAAAAAAAAAAAAAAAAAAAAAAAAAAAAAAAAAAAAAAAAAAAAAAAAAAAAAAAAAAAAAAAAAAAAAAAAAAAAAAAAAAAAAAAAAAAAAAAAAAAAAAAAAAAAAAAAAAAAAAAAAAAAAAAAAAAAAAAAAAAAAAAAAAAAAAAAAAAAAAAAAAAAAAAAAAAAAAAAAAAAAAAAAAAAAAAAAAAAAAAAAAAAAAAAAAAAAAAAAAAAAAAAAAAAAAAAAAAAAAAAAAAAAAAAAAAAAAAAAAAAAAAAAAAAAAAAAAAAAAAAAAAAAAAAAAAAAAAAAAAAAAAAAAAAAAAAAAAAAAAAAAAAAAAAAAAAAAAAAAAAAAAAAAAAAAAAAAAAAAAAAAAAAAAAAAAAAAAAAAAAAAAAAAAAAAAAAAAAAAAAAAAAAAAAAAAAAAAAAAAAAAAAAAAAAAAAAAAAAAAAAAAAAAAAAAAAAAAAAAAAAAAAAAAAAAAAAAAAAAAAAAAAAAAAAAAAAAAAAAAAAAAAAAAAAAAAAAAAAAAAAAAAAAAAAAAAAAAAAAAAAAAAAAAAAAAAAAAAAAAAAAAAAAAAAAAAAAAAAAAAAAAAAAAAAAAAAAAAAAAAAAAAAAAAAAAAAAAAAAAAAAAAAAAAAAAAAAAAAAAAAAAAAAAAAAAAAAAAAAAAAAAAAAAAAAAAAAAAAAAAAAAAAAAAAAAAAAAAAAAAAAAAAAAAAAAAAAAAAAAAAAAAAAAAAAAAAAAAAAAAAAAAAAAAAAAAAAAAAAAAAAAAAAAAAAAAAAAAAAAAAAAAAAAAAAAAAAAAAAAAAAAAAAAAAAAAAAAAAAAAAAAAAAAAAAAAAAAAAAAAAAAAAAAAAAAAAAAAAAAAAAAAAAAAAAAAAAAAAAAAAAAAAAAAAAAAAAAAAAAAAAAAAAAAAAAAAAAAAAAAAAAAAAAAAAAAAAAAAAAAAAAAAAAAAAAAAAAAAAAAAAAAAAAAAAAAAAAAAAAAAAAAAAAAAAAAAAAAAAAAAAAAAAAAAAAAAAAAAAAAAAAAAAAAAAAAAAAAAAAAAAAAAAAAAAAAAAAAAAAAAAAAAAAAAAAAAAAAAAAAAAAAAAAAAAAAAAAAAAAAAAAAAAAAAAAAAAAAAAAAAAAAAAAAAAAAAAAAAAAAAAAAAAAAAAAAAAAAAAAAAAAAAAAAAAAAAAAAAAAAAAAAAAAAAAAAAAAAAAAAAAAAAAAAAAAAAAAAAAAAAAAAAAAAAAAAAAAAAAAAAAAAAAAAAAAAAAAAAAAAAAAAAAAAAAAAAAAAAAAAAAAAAAAAAAAAAAAAAAAAAAAAAAAAAAAAAAAAAAAAAAAAAAAAAAAAAAAAAAAAAAAAAAAAAAAAAAAAAAAAAAAAAAAAAAAAAAAAAAAAAAAAAAAAAAAAAAAAAAAAAAAAAAAAAAAAAAAAAAAAAAAAAAAAAAAAAAAAAAAAAAAAAAAAAAAAAAAAAAAAAAAAAAAAAAAAAAAAAAAAAAAAAAAAAAAAAAAAAAAAAAAAAAAAAAAAAAAAAAAAAAAAAAAAAAAAAAAAAAAAAAAAAAAAAAAAAAAAAAAAAAAAAAAAAAAAAAAAAAAAAAAAAAAAAAAAAAAAAAAAAAAAAAAAAAAAAAAAAAAAAAAAAAAAAAAAAAAAAAAAAAAAAAAAAAAAAAAAAAAAAAAAAAAAAAAAAAAAAAAAAAAAAAAAAAAAAAAAAAAAAAAAAAAAAAAAAAAAAAAAAAAAAAAAAAAAAAAAAAAAAAAAAAAAAAAAAAAAAAAAAAAAAAAAAAAAAAAAAAAAAAAAAAAAAAAAAAAAAAAAAAAAAAAAAAAAAAAAAAAAAAAAAAAAAAAAAAAAAAAAAAAAAAAAAAAAAAAAAAAAAAAAAAAAAAAAAAAAAAAAAAAAAAAAAAAAAAAAAAAAAAAAAAAAAAAAAAAAAAAAAAAAAAAAAAAAAAAAAAAAAAAAAAAAAAAAAAAAAAAAAAAAAAAAAAAAAAAAAAAAAAAAAAAAAAAAAAAAAAAAAAAAAAAAAAAAAAAAAAAAAAAAAAAAAAAAAAAAAAAAAAAAAAAAAAAAAAAAAAAAAAAAAAAAAAAAAAAAAAAAAAAAAAAAAAAAAAAAAAAAAAAAAAAAAAAAAAAAAAAAAAAAAAAAAAAAAAAAAAAAAAAAAAAAAAAAAAAAAAAAAAAAAAAAAAAAAAAAAAAAAAAAAAAAAAAAAAAAAAAAAAAAAAAAAAAAAAAAAAAAAAAAAAAAAAAAAAAAAAAAAAAAAAAAAAAAAAAAAAAAAAAAAAAAAAAAAAAAAAAAAAAAAAAAAAAAAAAAAAAAAAAAAAAAAAAAAAAAAAAAAAAAAAAAAAAAAAAAAAAAAAAAAAAAAAAAAAAAAAAAAAAAAAAAAAAAAAAAAAAAAAAAAAAAAAAAAAAAAAAAAAAAAAAAAAAAAAAAAAAAAAAAAAAAAAAAAAAAAAAAAAAAAAAAAAAAAAAAAAAAAAAAAAAAAAAAAAAAAAAAAAAAAAAAAAAAAAAAAAAAAAAAAAAAAAAAAAAAAAAAAAAAAAAAAAAAAAAAAAAAAAAAAAAAAAAAAAAAAAAAAAAAAAAAAAAAAAAAAAAAAAAAAAAAAAAAAAAAAAAAAAAAAAAAAAAAAAAAAAAAAAAAAAAAAAAAAAAAAAAAAAAAAAAAAAAAAAAAAAAAAAAAAAAAAAAAAAAAAAAAAAAAAAAAAAAAAAAAAAAAAAAAAAAAAAAAAAAAAAAAAAAAAAAAAAAAAAAAAAAAAAAAAAAAAAAAAAAAAAAAAAAAAAAAAAAAAAAAAAAAAAAAAAAAAAAAAAAAAAAAAAAAAAAAAAAAAAAAAAAAAAAAAAAAAAAAAAAAAAAAAAAAAAAAAAAAAAAAAAAAAAAAAAAAAAAAAAAAAAAAAAAAAAAAAAAAAAAAAAAAAAAAAAAAAAAAAAAAAAAAAAAAAAAAAAAAAAAAAAAAAAAAAAAAAAAAAAAAAAAAAAAAAAAAAAAAAAAAAAAAAAAAAAAAAAAAAAAAAAAAAAAAAAAAAAAAAAAAAAAAAAAAAAAAAAAAAAAAAAAAAAAAAAAAAAAAAAAAAAAAAAAAAAAAAAAAAAAAAAAAAAAAAAAAAAAAAAAAAAAAAAAAAAAAAAAAAAAAAAAAAAAAAAAAAAAAAAAAAAAAAAAAAAAAAAAAAAAAAAAAAAAAAAAAAAAAAAAAAAAAAAAAAAAAAAAAAAAAAAAAAAAAAAAAAAAAAAAAAAAAAAAAAAAAAAAAAAAAAAAAAAAAAAAAAAAAAAAAAAAAAAAAAAAAAAAAAAAAAAAAAAAAAAAAAAAAAAAAAAAAAAAAAAAAAAAAAAAAAAAAAAAAAAAAAAAAAAAAAAAAAAAAAAAAAAAAAAAAAAAAAAAAAAAAAAAAAAAAAAAAAAAAAAAAAAAAAAAAAAAAAAAAAAAAAAAAAAAAAAAAAAAAAAAAAAAAAAAAAAAAAAAAAAAAAAAAAAAAAAAAAAAAAAAAAAAAAAAAAAAAAAAAAAAAAAAAAAAAAAAAAAAAAAAAAAAAAAAAAAAAAAAAAAAAAAAAAAAAAAAAAAAAAAAAAAAAAAAAAAAAAAAAAAAAAAAAAAAAAAAAAAAAAAAAAAAAAAAAAAAAAAAAAAAAAAAAAAAAAAAAAAAAAAAAAAAAAAAAAAAAAAAAAAAAAAAAAAAAAAAAAAAAAAAAAAAAAAAAAAAAAAAAAAAAAAAAAAAAAAAAAAAAAAAAAAAAAAAAAAAAAAAAAAAAAAAAAAAAAAAAAAAAAAAAAAAAAAAAAAAAAAAAAAAAAAAAAAAAAAAAAAAAAAAAAAAAAAAAAAAAAAAAAAAAAAAAAAAAAAAAAAAAAAAAAAAAAAAAAAAAAAAAAAAAAAAAAAAAAAAAAAAAAAAAAAAAAAAAAAAAAAAAAAAAAAAAAAAAAAAAAAAAAAAAAAAAAAAAAAAAAAAAAAAAAAAAAAAAAAAAAAAAAAAAAAAAAAAAAAAAAAAAAAAAAAAAAAAAAAAAAAAAAAAAAAAAAAAAAAAAAAAAAAAAAAAAAAAAAAAAAAAAAAAAAAAAAAAAAAAAAAAAAAAAAAAAAAAAAAAAAAAAAAAAAAAAAAAAAAAAAAAAAAAAAAAAAAAAAAAAAAAAAAAAAAAAAAAAAAAAAAAAAAAAAAAAAAAAAAAAAAAAAAAAAAAAAAAAAAAAAAAAAAAAAAAAAAAAAAAAAAAAAAAAAAAAAAAAAAAAAAAAAAAAAAAAAAAAAAAAAAAAAAAAAAAAAAAAAAAAAAAAAAAAAAAAAAAAAAAAAAAAAAAAAAAAAAAAAAAAAAAAAAAAAAAAAAAAAAAAAAAAAAAAAAAAAAAAAAAAAAAAAAAAAAAAAAAAAAAAAAAAAAAAAAAAAAAAAAAAAAAAAAAAAAAAAAAAAAAAAAAAAAAAAAAAAAAAAAAAAAAAAAAAAAAAAAAAAAAAAAAAAAAAAAAAAAAAAAAAAAAAAAAAAAAAAAAAAAAAAAAAAAAAAAAAAAAAAAAAAAAAAAAAAAAAAAAAAAAAAAAAAAAAAAAAAAAAAAAAAAAAAAAAAAAAAAAAAAAAAAAAAAAAAAAAAAAAAAAAAAAAAAAAAAAAAAAAAAAAAAAAAAAAAAAAAAAAAAAAAAAAAAAAAAAAAAAAAAAAAAAAAAAAAAAAAAAAAAAAAAAAAAAAAAAAAAAAAAAAAAAAAAAAAAAAAAAAAAAAAAAAAAAAAAAAAAAAAAAAAAAAAAAAAAAAAAAAAAAAAAAAAAAAAAAAAAAAAAAAAAAAAAAAAAAAAAAAAAAAAAAAAAAAAAAAAAAAAAAAAAAAAAAAAAAAAAAAAAAAAAAAAAAAAAAAAAAAAAAAAAAAAAAAAAAAAAAAAAAAAAAAAAAAAAAAAAAAAAAAAAAAAAAAAAAAAAAAAAAAAAAAAAAAAAAAAAAAAAAAAAAAAAAAAAAAAAAAAAAAAAAAAAAAAAAAAAAAAAAAAAAAAAAAAAAAAAAAAAAAAAAAAAAAAAAAAAAAAAAAAAAAAAAAAAAAAAAAAAAAAAAAAAAAAAAAAAAAAAAAAAAAAAAAAAAAAAAAAAAAAAAAAAAAAAAAAAAAAAAAAAAAAAAAAAAAAAAAAAAAAAAAAAAAAAAAAAAAAAAAAAAAAAAAAAAAAAAAAAAAAAAAAAAAAAAAAAAAAAAAAAAAAAAAAAAAAAAAAAAAAAAAAAAAAAAAAAAAAAAAAAAAAAAAAAAAAAAAAAAAAAAAAAAAAAAAAAAAAAAAAAAAAAAAAAAAAAAAAAAAAAAAAAAAAAAAAAAAAAAAAAAAAAAAAAAAAAAAAAAAAAAAAAAAAAAAAAAAAAAAAAAAAAAAAAAAAAAAAAAAAAAAAAAAAAAAAAAAAAAAAAAAAAAAAAAAAAAAAAAAAAAAAAAAAAAAAAAAAAAAAAAAAAAAAAAAAAAAAAAAAAAAAAAAAAAAAAAAAAAAAAAAAAAAAAAAAAAAAAAAAAAAAAAAAAAAAAAAAAAAAAAAAAAAAAAAAAAAAAAAAAAAAAAAAAAAAAAAAAAAAAAAAAAAAAAAAAAAAAAAAAAAAAAAAAAAAAAAAAAAAAAAAAAAAAAAAAAAAAAAAAAAAAAAAAAAAAAAAAAAAAAAAAAAAAAAAAAAAAAAAAAAAAAAAAAAAAAAAAAAAAAAAAAAAAAAAAAAAAAAAAAAAAAAAAAAAAAAAAAAAAAAAAAAAAAAAAAAAAAAAAAAAAAAAAAAAAAAAAAAAAAAAAAAAAAAAAAAAAAAAAAAAAAAAAAAAAAAAAAAAAAAAAAAAAAAAAAAAAAAAAAAAAAAAAAAAAAAAAAAAAAAAAAAAAAAAAAAAAAAAAAAAAAAAAAAAAAAAAAAAAAAAAAAAAAAAAAAAAAAAAAAAAAAAAAAAAAAAAAAAAAAAAAAAAAAAAAAAAAAAAAAAAAAAAAAAAAAAAAAAAAAAAAAAAAAAAAAAAAAAAAAAAAAAAAAAAAAAAAAAAAAAAAAAAAAAAAAAAAAAAAAAAAAAAAAAAAAAAAAAAAAAAAAAAAAAAAAAAAAAAAAAAAAAAAAAAAAAAAAAAAAAAAAAAAAAAAAAAAAAAAAAAAAAAAAAAAAAAAAAAAAAAAAAAAAAAAAAAAAAAAAAAAAAAAAAAAAAAAAAAAAAAAAAAAAAAAAAAAAAAAAAAAAAAAAAA=\" type=\"audio/wav\" />\n",
       "                    Your browser does not support the audio element.\n",
       "                </audio>\n",
       "              "
      ],
      "text/plain": [
       "<IPython.lib.display.Audio object>"
      ]
     },
     "execution_count": 24,
     "metadata": {},
     "output_type": "execute_result"
    }
   ],
   "source": [
    "def play_audio(audio_signal, sample_rate):\n",
    "    return Audio(audio_signal, rate=sample_rate)\n",
    "\n",
    "play_audio(audio_signal, SAMPLE_RATE)"
   ]
  },
  {
   "cell_type": "markdown",
   "metadata": {},
   "source": [
    "# Feature Extraction "
   ]
  },
  {
   "cell_type": "markdown",
   "metadata": {},
   "source": [
    "## Extracting MFCCS"
   ]
  },
  {
   "cell_type": "code",
   "execution_count": 25,
   "metadata": {},
   "outputs": [],
   "source": [
    "def extract_features(root_folder, n_mfcc=13, hop_length=512, n_fft=1024):\n",
    "    features = []\n",
    "    labels = []\n",
    "\n",
    "    for foldername in os.listdir(root_folder):\n",
    "        folder_path = os.path.join(root_folder, foldername)\n",
    "\n",
    "        if os.path.isdir(folder_path):\n",
    "            for audio_filename in os.listdir(folder_path):\n",
    "                audio_path = os.path.join(folder_path, audio_filename)\n",
    "\n",
    "                # Load audio file and extract features\n",
    "                try:\n",
    "                    audio_signal, sample_rate = librosa.load(audio_path, sr=None)  # Remove duration parameter\n",
    "                    mfccs = librosa.feature.mfcc(y=audio_signal, sr=sample_rate, n_mfcc=n_mfcc, hop_length=hop_length, n_fft=n_fft)\n",
    "                    mfccs_mean = np.mean(mfccs, axis=1)  # Take the mean of MFCCs over time\n",
    "                    features.append(mfccs_mean)\n",
    "                    labels.append(foldername)  # Assuming folder names are the labels/categories\n",
    "                except Exception as e:\n",
    "                    print(f\"Error encountered while processing {audio_path}: {e}\")\n",
    "\n",
    "    return np.array(features), np.array(labels)\n"
   ]
  },
  {
   "cell_type": "code",
   "execution_count": 26,
   "metadata": {},
   "outputs": [],
   "source": [
    "features, labels = extract_features(data_dir, n_mfcc=13, hop_length=512, n_fft=1024)"
   ]
  },
  {
   "cell_type": "code",
   "execution_count": 27,
   "metadata": {},
   "outputs": [
    {
     "name": "stdout",
     "output_type": "stream",
     "text": [
      "Features shape: (3600, 13)\n",
      "Labels shape: (3600,)\n",
      "['emabega' 'emabega' 'emabega' ... 'yimirira' 'yimirira' 'yimirira']\n"
     ]
    }
   ],
   "source": [
    "# Display the shape of the extracted features and labels\n",
    "print(\"Features shape:\", features.shape)\n",
    "print(\"Labels shape:\", labels.shape)\n",
    "print(labels)"
   ]
  },
  {
   "cell_type": "markdown",
   "metadata": {},
   "source": [
    "## Plot MFCC"
   ]
  },
  {
   "cell_type": "code",
   "execution_count": 28,
   "metadata": {},
   "outputs": [],
   "source": [
    "def plot_mfcc(mfccs, sample_rate=22050, hop_length=512):\n",
    "    mfccs_normalized = librosa.util.normalize(mfccs)\n",
    "\n",
    "    plt.figure(figsize=(10, 4))\n",
    "    librosa.display.specshow(mfccs_normalized, sr=sample_rate, hop_length=hop_length, x_axis='time')\n",
    "    plt.colorbar(format='%+2.0f dB')\n",
    "    plt.title('Normalized MFCCs')\n",
    "    plt.xlabel('Time')\n",
    "    plt.ylabel('MFCC Coefficients')\n",
    "    plt.show()\n",
    "\n"
   ]
  },
  {
   "cell_type": "code",
   "execution_count": 29,
   "metadata": {},
   "outputs": [
    {
     "ename": "NameError",
     "evalue": "name 'hop_length' is not defined",
     "output_type": "error",
     "traceback": [
      "\u001b[0;31m---------------------------------------------------------------------------\u001b[0m",
      "\u001b[0;31mNameError\u001b[0m                                 Traceback (most recent call last)",
      "Cell \u001b[0;32mIn[29], line 2\u001b[0m\n\u001b[1;32m      1\u001b[0m audio_signal, sample_rate \u001b[38;5;241m=\u001b[39m librosa\u001b[38;5;241m.\u001b[39mload(example_audio_path, sr\u001b[38;5;241m=\u001b[39mSAMPLE_RATE)\n\u001b[0;32m----> 2\u001b[0m mfccs \u001b[38;5;241m=\u001b[39m librosa\u001b[38;5;241m.\u001b[39mfeature\u001b[38;5;241m.\u001b[39mmfcc(y\u001b[38;5;241m=\u001b[39maudio_signal, sr\u001b[38;5;241m=\u001b[39mSAMPLE_RATE, n_mfcc\u001b[38;5;241m=\u001b[39m\u001b[38;5;241m13\u001b[39m, hop_length\u001b[38;5;241m=\u001b[39m\u001b[43mhop_length\u001b[49m, n_fft\u001b[38;5;241m=\u001b[39m\u001b[38;5;241m1024\u001b[39m)\n\u001b[1;32m      3\u001b[0m plot_mfcc(mfccs)\n",
      "\u001b[0;31mNameError\u001b[0m: name 'hop_length' is not defined"
     ]
    }
   ],
   "source": [
    "audio_signal, sample_rate = librosa.load(example_audio_path, sr=SAMPLE_RATE)\n",
    "mfccs = librosa.feature.mfcc(y=audio_signal, sr=SAMPLE_RATE, n_mfcc=13, hop_length=hop_length, n_fft=1024)\n",
    "plot_mfcc(mfccs)\n"
   ]
  },
  {
   "cell_type": "markdown",
   "metadata": {},
   "source": [
    "# Data augmentation"
   ]
  },
  {
   "cell_type": "code",
   "execution_count": null,
   "metadata": {},
   "outputs": [],
   "source": [
    "def augment_data(features, labels, speed_factors, sample_rate):\n",
    "    augmented_features = []\n",
    "    augmented_labels = []\n",
    "\n",
    "    for idx, feature in enumerate(features):\n",
    "        for speed_factor in speed_factors:\n",
    "            # Time stretch the audio feature\n",
    "            augmented_feature = librosa.effects.time_stretch(feature, rate=speed_factor)\n",
    "            # Resample the augmented feature to match the original sample rate\n",
    "            augmented_feature = librosa.resample(augmented_feature, orig_sr=len(augmented_feature), target_sr=sample_rate)\n",
    "            augmented_features.append(augmented_feature)\n",
    "            augmented_labels.append(labels[idx])\n",
    "\n",
    "    return np.array(augmented_features), np.array(augmented_labels)\n",
    "\n"
   ]
  },
  {
   "cell_type": "code",
   "execution_count": null,
   "metadata": {},
   "outputs": [],
   "source": [
    "# Example usage:\n",
    "speed_factors = [0.9, 1.1]  # Adjust as needed\n",
    "augmented_features, augmented_labels = augment_data(features, labels, speed_factors, sample_rate)\n"
   ]
  },
  {
   "cell_type": "code",
   "execution_count": null,
   "metadata": {},
   "outputs": [],
   "source": [
    "augmented_features.shape"
   ]
  },
  {
   "cell_type": "markdown",
   "metadata": {},
   "source": [
    "# Feature Scaling"
   ]
  },
  {
   "cell_type": "code",
   "execution_count": null,
   "metadata": {},
   "outputs": [],
   "source": [
    "def scale_features(features):\n",
    "    scaler = StandardScaler()\n",
    "    scaled_features = scaler.fit_transform(features)\n",
    "    return scaled_features\n",
    "\n",
    "scaled_features = scale_features(augmented_features)\n"
   ]
  },
  {
   "cell_type": "code",
   "execution_count": null,
   "metadata": {},
   "outputs": [],
   "source": [
    "scaled_features.shape"
   ]
  },
  {
   "cell_type": "markdown",
   "metadata": {},
   "source": [
    "# Splitting data"
   ]
  },
  {
   "cell_type": "code",
   "execution_count": null,
   "metadata": {},
   "outputs": [],
   "source": [
    "def split_data(features, labels, test_size=0.2, validation_size=0.1):\n",
    "    X_train, X_test, y_train, y_test = train_test_split(features, labels, test_size=test_size, random_state=42)\n",
    "    X_train, X_val, y_train, y_val = train_test_split(X_train, y_train, test_size=validation_size/(1-test_size), random_state=42)\n",
    "    return X_train, X_val, X_test, y_train, y_val, y_test"
   ]
  },
  {
   "cell_type": "code",
   "execution_count": 49,
   "metadata": {},
   "outputs": [],
   "source": [
    "# Example usage:\n",
    "X_train, X_val, X_test, y_train, y_val, y_test = split_data(scaled_features, augmented_labels)\n"
   ]
  },
  {
   "cell_type": "code",
   "execution_count": 50,
   "metadata": {},
   "outputs": [
    {
     "data": {
      "text/plain": [
       "(5040, 22050)"
      ]
     },
     "execution_count": 50,
     "metadata": {},
     "output_type": "execute_result"
    }
   ],
   "source": [
    "X_train.shape"
   ]
  },
  {
   "cell_type": "code",
   "execution_count": 51,
   "metadata": {},
   "outputs": [
    {
     "data": {
      "text/plain": [
       "(720, 22050)"
      ]
     },
     "execution_count": 51,
     "metadata": {},
     "output_type": "execute_result"
    }
   ],
   "source": [
    "X_val.shape"
   ]
  },
  {
   "cell_type": "code",
   "execution_count": 52,
   "metadata": {},
   "outputs": [
    {
     "data": {
      "text/plain": [
       "(1440, 22050)"
      ]
     },
     "execution_count": 52,
     "metadata": {},
     "output_type": "execute_result"
    }
   ],
   "source": [
    "X_test.shape"
   ]
  },
  {
   "cell_type": "code",
   "execution_count": 53,
   "metadata": {},
   "outputs": [],
   "source": [
    "from sklearn.preprocessing import LabelEncoder\n",
    "\n",
    "# Convert labels to integers\n",
    "label_encoder = LabelEncoder()\n",
    "y_train_encoded = label_encoder.fit_transform(y_train)\n",
    "y_val_encoded = label_encoder.transform(y_val)"
   ]
  },
  {
   "cell_type": "markdown",
   "metadata": {},
   "source": [
    "# Model Building"
   ]
  },
  {
   "cell_type": "code",
   "execution_count": 60,
   "metadata": {
    "collapsed": true,
    "jupyter": {
     "outputs_hidden": true
    },
    "scrolled": true
   },
   "outputs": [
    {
     "name": "stdout",
     "output_type": "stream",
     "text": [
      "Epoch 1/10\n",
      "158/158 [==============================] - 3s 15ms/step - loss: 8.2328 - accuracy: 0.6149 - val_loss: 2.1692 - val_accuracy: 0.8125\n",
      "Epoch 2/10\n",
      "158/158 [==============================] - 2s 14ms/step - loss: 5.0987 - accuracy: 0.7389 - val_loss: 1.6608 - val_accuracy: 0.8528\n",
      "Epoch 3/10\n",
      "158/158 [==============================] - 2s 14ms/step - loss: 4.2397 - accuracy: 0.7627 - val_loss: 1.0585 - val_accuracy: 0.9000\n",
      "Epoch 4/10\n",
      "158/158 [==============================] - 2s 14ms/step - loss: 3.1731 - accuracy: 0.8050 - val_loss: 0.9460 - val_accuracy: 0.9153\n",
      "Epoch 5/10\n",
      "158/158 [==============================] - 2s 14ms/step - loss: 2.7003 - accuracy: 0.8038 - val_loss: 0.6903 - val_accuracy: 0.9278\n",
      "Epoch 6/10\n",
      "158/158 [==============================] - 2s 14ms/step - loss: 2.1198 - accuracy: 0.8280 - val_loss: 0.8930 - val_accuracy: 0.9042\n",
      "Epoch 7/10\n",
      "158/158 [==============================] - 2s 13ms/step - loss: 1.8676 - accuracy: 0.8363 - val_loss: 0.5515 - val_accuracy: 0.9375\n",
      "Epoch 8/10\n",
      "158/158 [==============================] - 2s 13ms/step - loss: 1.4538 - accuracy: 0.8514 - val_loss: 0.4378 - val_accuracy: 0.9472\n",
      "Epoch 9/10\n",
      "158/158 [==============================] - 2s 14ms/step - loss: 1.0806 - accuracy: 0.8635 - val_loss: 0.4001 - val_accuracy: 0.9347\n",
      "Epoch 10/10\n",
      "158/158 [==============================] - 2s 14ms/step - loss: 0.9921 - accuracy: 0.8581 - val_loss: 0.3820 - val_accuracy: 0.9403\n"
     ]
    }
   ],
   "source": [
    "# Define the model architecture\n",
    "model = Sequential([\n",
    "    Dense(64, activation='relu', input_shape=X_train[0].shape),\n",
    "    Dropout(0.5),\n",
    "    Dense(len(set(labels)), activation='softmax')\n",
    "])\n",
    "\n",
    "# Compile the model\n",
    "model.compile(optimizer='adam', loss='sparse_categorical_crossentropy', metrics=['accuracy'])\n",
    "\n",
    "# Train the model\n",
    "history = model.fit(X_train, y_train_encoded, epochs=10, validation_data=(X_val, y_val_encoded))\n"
   ]
  },
  {
   "cell_type": "code",
   "execution_count": 66,
   "metadata": {},
   "outputs": [
    {
     "name": "stdout",
     "output_type": "stream",
     "text": [
      "23/23 [==============================] - 0s 3ms/step - loss: 0.3820 - accuracy: 0.9403\n",
      "Test loss: 0.3819790780544281, Test accuracy: 0.9402777552604675\n"
     ]
    }
   ],
   "source": [
    "# Evaluate the model\n",
    "loss, accuracy = model.evaluate(X_val, y_val_encoded)\n",
    "print(f\"Test loss: {loss}, Test accuracy: {accuracy}\")"
   ]
  },
  {
   "cell_type": "code",
   "execution_count": null,
   "metadata": {},
   "outputs": [],
   "source": []
  },
  {
   "cell_type": "code",
   "execution_count": 61,
   "metadata": {},
   "outputs": [
    {
     "name": "stdout",
     "output_type": "stream",
     "text": [
      "23/23 [==============================] - 0s 3ms/step - loss: 0.3820 - accuracy: 0.9403\n"
     ]
    }
   ],
   "source": [
    "val_loss, val_accuracy = model.evaluate(X_val, y_val_encoded)"
   ]
  },
  {
   "cell_type": "code",
   "execution_count": 63,
   "metadata": {},
   "outputs": [
    {
     "name": "stdout",
     "output_type": "stream",
     "text": [
      "45/45 [==============================] - 0s 2ms/step\n"
     ]
    }
   ],
   "source": [
    "y_pred_prob = model.predict(X_test)\n",
    "y_pred = np.argmax(y_pred_prob, axis=1)\n",
    "\n",
    "y_true = y_test.reshape(-1, 1) "
   ]
  },
  {
   "cell_type": "code",
   "execution_count": 64,
   "metadata": {},
   "outputs": [
    {
     "name": "stderr",
     "output_type": "stream",
     "text": [
      "/home/vx/Desktop/allenv/lib/python3.11/site-packages/sklearn/preprocessing/_label.py:114: DataConversionWarning: A column-vector y was passed when a 1d array was expected. Please change the shape of y to (n_samples, ), for example using ravel().\n",
      "  y = column_or_1d(y, warn=True)\n"
     ]
    },
    {
     "ename": "ValueError",
     "evalue": "y contains previously unseen labels: '2'",
     "output_type": "error",
     "traceback": [
      "\u001b[0;31m---------------------------------------------------------------------------\u001b[0m",
      "\u001b[0;31mKeyError\u001b[0m                                  Traceback (most recent call last)",
      "File \u001b[0;32m~/Desktop/allenv/lib/python3.11/site-packages/sklearn/utils/_encode.py:225\u001b[0m, in \u001b[0;36m_encode\u001b[0;34m(values, uniques, check_unknown)\u001b[0m\n\u001b[1;32m    224\u001b[0m \u001b[38;5;28;01mtry\u001b[39;00m:\n\u001b[0;32m--> 225\u001b[0m     \u001b[38;5;28;01mreturn\u001b[39;00m \u001b[43m_map_to_integer\u001b[49m\u001b[43m(\u001b[49m\u001b[43mvalues\u001b[49m\u001b[43m,\u001b[49m\u001b[43m \u001b[49m\u001b[43muniques\u001b[49m\u001b[43m)\u001b[49m\n\u001b[1;32m    226\u001b[0m \u001b[38;5;28;01mexcept\u001b[39;00m \u001b[38;5;167;01mKeyError\u001b[39;00m \u001b[38;5;28;01mas\u001b[39;00m e:\n",
      "File \u001b[0;32m~/Desktop/allenv/lib/python3.11/site-packages/sklearn/utils/_encode.py:165\u001b[0m, in \u001b[0;36m_map_to_integer\u001b[0;34m(values, uniques)\u001b[0m\n\u001b[1;32m    164\u001b[0m table \u001b[38;5;241m=\u001b[39m _nandict({val: i \u001b[38;5;28;01mfor\u001b[39;00m i, val \u001b[38;5;129;01min\u001b[39;00m \u001b[38;5;28menumerate\u001b[39m(uniques)})\n\u001b[0;32m--> 165\u001b[0m \u001b[38;5;28;01mreturn\u001b[39;00m np\u001b[38;5;241m.\u001b[39marray(\u001b[43m[\u001b[49m\u001b[43mtable\u001b[49m\u001b[43m[\u001b[49m\u001b[43mv\u001b[49m\u001b[43m]\u001b[49m\u001b[43m \u001b[49m\u001b[38;5;28;43;01mfor\u001b[39;49;00m\u001b[43m \u001b[49m\u001b[43mv\u001b[49m\u001b[43m \u001b[49m\u001b[38;5;129;43;01min\u001b[39;49;00m\u001b[43m \u001b[49m\u001b[43mvalues\u001b[49m\u001b[43m]\u001b[49m)\n",
      "File \u001b[0;32m~/Desktop/allenv/lib/python3.11/site-packages/sklearn/utils/_encode.py:165\u001b[0m, in \u001b[0;36m<listcomp>\u001b[0;34m(.0)\u001b[0m\n\u001b[1;32m    164\u001b[0m table \u001b[38;5;241m=\u001b[39m _nandict({val: i \u001b[38;5;28;01mfor\u001b[39;00m i, val \u001b[38;5;129;01min\u001b[39;00m \u001b[38;5;28menumerate\u001b[39m(uniques)})\n\u001b[0;32m--> 165\u001b[0m \u001b[38;5;28;01mreturn\u001b[39;00m np\u001b[38;5;241m.\u001b[39marray([\u001b[43mtable\u001b[49m\u001b[43m[\u001b[49m\u001b[43mv\u001b[49m\u001b[43m]\u001b[49m \u001b[38;5;28;01mfor\u001b[39;00m v \u001b[38;5;129;01min\u001b[39;00m values])\n",
      "File \u001b[0;32m~/Desktop/allenv/lib/python3.11/site-packages/sklearn/utils/_encode.py:159\u001b[0m, in \u001b[0;36m_nandict.__missing__\u001b[0;34m(self, key)\u001b[0m\n\u001b[1;32m    158\u001b[0m     \u001b[38;5;28;01mreturn\u001b[39;00m \u001b[38;5;28mself\u001b[39m\u001b[38;5;241m.\u001b[39mnan_value\n\u001b[0;32m--> 159\u001b[0m \u001b[38;5;28;01mraise\u001b[39;00m \u001b[38;5;167;01mKeyError\u001b[39;00m(key)\n",
      "\u001b[0;31mKeyError\u001b[0m: '2'",
      "\nDuring handling of the above exception, another exception occurred:\n",
      "\u001b[0;31mValueError\u001b[0m                                Traceback (most recent call last)",
      "Cell \u001b[0;32mIn[64], line 12\u001b[0m\n\u001b[1;32m     10\u001b[0m \u001b[38;5;66;03m# Fit and transform labels\u001b[39;00m\n\u001b[1;32m     11\u001b[0m y_true_encoded \u001b[38;5;241m=\u001b[39m label_encoder\u001b[38;5;241m.\u001b[39mfit_transform(y_true)\n\u001b[0;32m---> 12\u001b[0m y_pred_encoded \u001b[38;5;241m=\u001b[39m \u001b[43mlabel_encoder\u001b[49m\u001b[38;5;241;43m.\u001b[39;49m\u001b[43mtransform\u001b[49m\u001b[43m(\u001b[49m\u001b[43my_pred\u001b[49m\u001b[43m)\u001b[49m\n\u001b[1;32m     14\u001b[0m \u001b[38;5;66;03m# Now both y_true_encoded and y_pred_encoded should contain numerical labels\u001b[39;00m\n\u001b[1;32m     15\u001b[0m \u001b[38;5;66;03m# Proceed to compute the confusion matrix using these numerical labels\u001b[39;00m\n\u001b[1;32m     16\u001b[0m conf_matrix \u001b[38;5;241m=\u001b[39m confusion_matrix(y_true_encoded, y_pred_encoded)\n",
      "File \u001b[0;32m~/Desktop/allenv/lib/python3.11/site-packages/sklearn/preprocessing/_label.py:137\u001b[0m, in \u001b[0;36mLabelEncoder.transform\u001b[0;34m(self, y)\u001b[0m\n\u001b[1;32m    134\u001b[0m \u001b[38;5;28;01mif\u001b[39;00m _num_samples(y) \u001b[38;5;241m==\u001b[39m \u001b[38;5;241m0\u001b[39m:\n\u001b[1;32m    135\u001b[0m     \u001b[38;5;28;01mreturn\u001b[39;00m np\u001b[38;5;241m.\u001b[39marray([])\n\u001b[0;32m--> 137\u001b[0m \u001b[38;5;28;01mreturn\u001b[39;00m \u001b[43m_encode\u001b[49m\u001b[43m(\u001b[49m\u001b[43my\u001b[49m\u001b[43m,\u001b[49m\u001b[43m \u001b[49m\u001b[43muniques\u001b[49m\u001b[38;5;241;43m=\u001b[39;49m\u001b[38;5;28;43mself\u001b[39;49m\u001b[38;5;241;43m.\u001b[39;49m\u001b[43mclasses_\u001b[49m\u001b[43m)\u001b[49m\n",
      "File \u001b[0;32m~/Desktop/allenv/lib/python3.11/site-packages/sklearn/utils/_encode.py:227\u001b[0m, in \u001b[0;36m_encode\u001b[0;34m(values, uniques, check_unknown)\u001b[0m\n\u001b[1;32m    225\u001b[0m         \u001b[38;5;28;01mreturn\u001b[39;00m _map_to_integer(values, uniques)\n\u001b[1;32m    226\u001b[0m     \u001b[38;5;28;01mexcept\u001b[39;00m \u001b[38;5;167;01mKeyError\u001b[39;00m \u001b[38;5;28;01mas\u001b[39;00m e:\n\u001b[0;32m--> 227\u001b[0m         \u001b[38;5;28;01mraise\u001b[39;00m \u001b[38;5;167;01mValueError\u001b[39;00m(\u001b[38;5;124mf\u001b[39m\u001b[38;5;124m\"\u001b[39m\u001b[38;5;124my contains previously unseen labels: \u001b[39m\u001b[38;5;132;01m{\u001b[39;00m\u001b[38;5;28mstr\u001b[39m(e)\u001b[38;5;132;01m}\u001b[39;00m\u001b[38;5;124m\"\u001b[39m)\n\u001b[1;32m    228\u001b[0m \u001b[38;5;28;01melse\u001b[39;00m:\n\u001b[1;32m    229\u001b[0m     \u001b[38;5;28;01mif\u001b[39;00m check_unknown:\n",
      "\u001b[0;31mValueError\u001b[0m: y contains previously unseen labels: '2'"
     ]
    }
   ],
   "source": [
    "from sklearn.metrics import confusion_matrix\n",
    "import seaborn as sns\n",
    "import matplotlib.pyplot as plt\n",
    "\n",
    "from sklearn.preprocessing import LabelEncoder\n",
    "\n",
    "# Initialize LabelEncoder\n",
    "label_encoder = LabelEncoder()\n",
    "\n",
    "# Fit and transform labels\n",
    "y_true_encoded = label_encoder.fit_transform(y_true)\n",
    "y_pred_encoded = label_encoder.transform(y_pred)\n",
    "\n",
    "# Now both y_true_encoded and y_pred_encoded should contain numerical labels\n",
    "# Proceed to compute the confusion matrix using these numerical labels\n",
    "conf_matrix = confusion_matrix(y_true_encoded, y_pred_encoded)\n",
    "\n",
    "\n",
    "\n",
    "# Plot the confusion matrix\n",
    "plt.figure(figsize=(10, 8))\n",
    "sns.heatmap(conf_matrix, annot=True, fmt='d', cmap='Blues')\n",
    "plt.title('Confusion Matrix')\n",
    "plt.xlabel('Predicted Label')\n",
    "plt.ylabel('True Label')\n",
    "plt.show()\n"
   ]
  },
  {
   "cell_type": "code",
   "execution_count": null,
   "metadata": {},
   "outputs": [],
   "source": []
  },
  {
   "cell_type": "code",
   "execution_count": null,
   "metadata": {},
   "outputs": [],
   "source": []
  },
  {
   "cell_type": "code",
   "execution_count": null,
   "metadata": {},
   "outputs": [],
   "source": []
  },
  {
   "cell_type": "code",
   "execution_count": null,
   "metadata": {},
   "outputs": [],
   "source": []
  },
  {
   "cell_type": "code",
   "execution_count": null,
   "metadata": {},
   "outputs": [],
   "source": []
  },
  {
   "cell_type": "code",
   "execution_count": null,
   "metadata": {},
   "outputs": [],
   "source": []
  },
  {
   "cell_type": "code",
   "execution_count": null,
   "metadata": {},
   "outputs": [],
   "source": []
  },
  {
   "cell_type": "code",
   "execution_count": null,
   "metadata": {},
   "outputs": [],
   "source": []
  },
  {
   "cell_type": "code",
   "execution_count": null,
   "metadata": {},
   "outputs": [],
   "source": []
  },
  {
   "cell_type": "code",
   "execution_count": null,
   "metadata": {},
   "outputs": [],
   "source": []
  },
  {
   "cell_type": "code",
   "execution_count": null,
   "metadata": {},
   "outputs": [],
   "source": []
  },
  {
   "cell_type": "code",
   "execution_count": null,
   "metadata": {},
   "outputs": [],
   "source": []
  },
  {
   "cell_type": "code",
   "execution_count": null,
   "metadata": {},
   "outputs": [],
   "source": []
  },
  {
   "cell_type": "code",
   "execution_count": null,
   "metadata": {},
   "outputs": [],
   "source": []
  },
  {
   "cell_type": "code",
   "execution_count": null,
   "metadata": {},
   "outputs": [],
   "source": []
  },
  {
   "cell_type": "code",
   "execution_count": null,
   "metadata": {},
   "outputs": [],
   "source": []
  },
  {
   "cell_type": "code",
   "execution_count": null,
   "metadata": {},
   "outputs": [],
   "source": []
  },
  {
   "cell_type": "code",
   "execution_count": null,
   "metadata": {},
   "outputs": [],
   "source": []
  },
  {
   "cell_type": "code",
   "execution_count": null,
   "metadata": {},
   "outputs": [],
   "source": []
  },
  {
   "cell_type": "code",
   "execution_count": null,
   "metadata": {},
   "outputs": [],
   "source": []
  },
  {
   "cell_type": "markdown",
   "metadata": {},
   "source": [
    "# Split into Train and validation"
   ]
  },
  {
   "cell_type": "code",
   "execution_count": null,
   "metadata": {
    "colab": {
     "base_uri": "https://localhost:8080/"
    },
    "executionInfo": {
     "elapsed": 13076,
     "status": "ok",
     "timestamp": 1703162129584,
     "user": {
      "displayName": "adi sam",
      "userId": "04727694002057940011"
     },
     "user_tz": -180
    },
    "id": "mFM4c3aMC8Qv",
    "outputId": "2e187993-a0cf-40bc-9f86-9789dc3d0254"
   },
   "outputs": [],
   "source": [
    "train_ds, val_ds = tf.keras.utils.audio_dataset_from_directory(\n",
    "    directory=data_dir,\n",
    "    batch_size=64,\n",
    "    validation_split=0.2,\n",
    "    seed=0,\n",
    "    output_sequence_length=SAMPLE_RATE,\n",
    "    subset='both')\n",
    "\n",
    "label_names = np.array(train_ds.class_names)\n",
    "print()\n",
    "print(\"label names:\", label_names)"
   ]
  },
  {
   "cell_type": "markdown",
   "metadata": {
    "id": "cestp83qFnU5"
   },
   "source": [
    "## The shape of the audio clip\n",
    "- `(batch, samples, channels)`"
   ]
  },
  {
   "cell_type": "code",
   "execution_count": null,
   "metadata": {
    "colab": {
     "base_uri": "https://localhost:8080/"
    },
    "executionInfo": {
     "elapsed": 5,
     "status": "ok",
     "timestamp": 1703162129584,
     "user": {
      "displayName": "adi sam",
      "userId": "04727694002057940011"
     },
     "user_tz": -180
    },
    "id": "3yU6SQGIFb3H",
    "outputId": "5aec1e38-a12d-405e-88a2-7ac98c1af3c8"
   },
   "outputs": [],
   "source": [
    "train_ds.element_spec"
   ]
  },
  {
   "cell_type": "code",
   "execution_count": null,
   "metadata": {
    "executionInfo": {
     "elapsed": 3,
     "status": "ok",
     "timestamp": 1703162129584,
     "user": {
      "displayName": "adi sam",
      "userId": "04727694002057940011"
     },
     "user_tz": -180
    },
    "id": "Xl-tnniUIBlM"
   },
   "outputs": [],
   "source": [
    "def squeeze(audio, labels):\n",
    "  audio = tf.squeeze(audio, axis=-1)\n",
    "  return audio, labels\n",
    "\n",
    "train_ds = train_ds.map(squeeze, tf.data.AUTOTUNE)\n",
    "val_ds = val_ds.map(squeeze, tf.data.AUTOTUNE)"
   ]
  },
  {
   "cell_type": "code",
   "execution_count": null,
   "metadata": {
    "executionInfo": {
     "elapsed": 3,
     "status": "ok",
     "timestamp": 1703162129584,
     "user": {
      "displayName": "adi sam",
      "userId": "04727694002057940011"
     },
     "user_tz": -180
    },
    "id": "u5UEGsqM5Gss"
   },
   "outputs": [],
   "source": [
    "test_ds = val_ds.shard(num_shards=2, index=0)\n",
    "val_ds = val_ds.shard(num_shards=2, index=1)"
   ]
  },
  {
   "cell_type": "code",
   "execution_count": null,
   "metadata": {
    "colab": {
     "base_uri": "https://localhost:8080/"
    },
    "executionInfo": {
     "elapsed": 221726,
     "status": "ok",
     "timestamp": 1703162351307,
     "user": {
      "displayName": "adi sam",
      "userId": "04727694002057940011"
     },
     "user_tz": -180
    },
    "id": "xIeoJcwJH5h9",
    "outputId": "ca872edd-1bcf-4feb-8518-3ba24753764c"
   },
   "outputs": [],
   "source": [
    "for example_audio, example_labels in train_ds.take(1):\n",
    "  print(example_audio.shape)\n",
    "  print(example_labels.shape)"
   ]
  },
  {
   "cell_type": "markdown",
   "metadata": {
    "id": "voxGEwvuh2L7"
   },
   "source": [
    "### Plot a few audio waveforms:"
   ]
  },
  {
   "cell_type": "code",
   "execution_count": null,
   "metadata": {
    "colab": {
     "base_uri": "https://localhost:8080/"
    },
    "executionInfo": {
     "elapsed": 6,
     "status": "ok",
     "timestamp": 1703162351308,
     "user": {
      "displayName": "adi sam",
      "userId": "04727694002057940011"
     },
     "user_tz": -180
    },
    "id": "dYtGq2zYNHuT",
    "outputId": "da394373-3e8a-4598-e1c6-ab07ad5d1719"
   },
   "outputs": [],
   "source": [
    "label_names[[0,1,2,3,4,5]]"
   ]
  },
  {
   "cell_type": "code",
   "execution_count": null,
   "metadata": {
    "colab": {
     "base_uri": "https://localhost:8080/",
     "height": 853
    },
    "executionInfo": {
     "elapsed": 4766,
     "status": "ok",
     "timestamp": 1703162356071,
     "user": {
      "displayName": "adi sam",
      "userId": "04727694002057940011"
     },
     "user_tz": -180
    },
    "id": "8yuX6Nqzf6wT",
    "outputId": "c06d4244-0e7e-4b7d-b8e9-34b763227291"
   },
   "outputs": [],
   "source": [
    "plt.figure(figsize=(16, 10))\n",
    "rows = 2\n",
    "cols = 3\n",
    "n = rows * cols\n",
    "for i in range(n):\n",
    "  plt.subplot(rows, cols, i+1)\n",
    "  audio_signal = example_audio[i]\n",
    "  plt.plot(audio_signal)\n",
    "  plt.title(label_names[example_labels[i]])\n",
    "  plt.yticks(np.arange(-1.2, 1.2, 0.2))\n",
    "  plt.ylim([-1.1, 1.1])"
   ]
  },
  {
   "cell_type": "markdown",
   "metadata": {},
   "source": [
    "# Extract Spectrograms"
   ]
  },
  {
   "cell_type": "code",
   "execution_count": null,
   "metadata": {
    "executionInfo": {
     "elapsed": 15,
     "status": "ok",
     "timestamp": 1703162356072,
     "user": {
      "displayName": "adi sam",
      "userId": "04727694002057940011"
     },
     "user_tz": -180
    },
    "id": "_4CK75DHz_OR"
   },
   "outputs": [],
   "source": [
    "def get_spectrogram(waveform):\n",
    "  spectrogram = tf.signal.stft(\n",
    "      waveform, frame_length=255, frame_step=128)\n",
    "  spectrogram = tf.abs(spectrogram)\n",
    "  spectrogram = spectrogram[..., tf.newaxis]\n",
    "  return spectrogram"
   ]
  },
  {
   "cell_type": "markdown",
   "metadata": {
    "id": "5rdPiPYJphs2"
   },
   "source": [
    "### The shapes of a tensorized waveform and the corresponding spectrogram, and play the original audio:"
   ]
  },
  {
   "cell_type": "code",
   "execution_count": null,
   "metadata": {
    "colab": {
     "base_uri": "https://localhost:8080/",
     "height": 401
    },
    "executionInfo": {
     "elapsed": 14,
     "status": "ok",
     "timestamp": 1703162356072,
     "user": {
      "displayName": "adi sam",
      "userId": "04727694002057940011"
     },
     "user_tz": -180
    },
    "id": "4Mu6Y7Yz3C-V",
    "outputId": "e3bbd895-1a19-429f-c216-341cd2c57734"
   },
   "outputs": [],
   "source": [
    "for i in range(3):\n",
    "  label = label_names[example_labels[i]]\n",
    "  waveform = example_audio[i]\n",
    "  spectrogram = get_spectrogram(waveform)\n",
    "\n",
    "  print('Label:', label)\n",
    "  print('Waveform shape:', waveform.shape)\n",
    "  print('Spectrogram shape:', spectrogram.shape)\n",
    "  print('Audio playback')\n",
    "  display.display(display.Audio(waveform, rate=SAMPLE_RATE))"
   ]
  },
  {
   "cell_type": "markdown",
   "metadata": {
    "id": "xnSuqyxJ1isF"
   },
   "source": [
    "### Displaying a spectrogram:"
   ]
  },
  {
   "cell_type": "code",
   "execution_count": null,
   "metadata": {
    "executionInfo": {
     "elapsed": 9,
     "status": "ok",
     "timestamp": 1703162356072,
     "user": {
      "displayName": "adi sam",
      "userId": "04727694002057940011"
     },
     "user_tz": -180
    },
    "id": "e62jzb36-Jog"
   },
   "outputs": [],
   "source": [
    "def plot_spectrogram(spectrogram, ax):\n",
    "  if len(spectrogram.shape) > 2:\n",
    "    assert len(spectrogram.shape) == 3\n",
    "    spectrogram = np.squeeze(spectrogram, axis=-1)\n",
    "      \n",
    "  log_spec = np.log(spectrogram.T + np.finfo(float).eps)\n",
    "  height = log_spec.shape[0]\n",
    "  width = log_spec.shape[1]\n",
    "  X = np.linspace(0, np.size(spectrogram), num=width, dtype=int)\n",
    "  Y = range(height)\n",
    "  ax.pcolormesh(X, Y, log_spec)"
   ]
  },
  {
   "cell_type": "markdown",
   "metadata": {
    "id": "baa5c91e8603"
   },
   "source": [
    "### Plot of waveform over time and the corresponding spectrogram."
   ]
  },
  {
   "cell_type": "code",
   "execution_count": null,
   "metadata": {
    "colab": {
     "base_uri": "https://localhost:8080/",
     "height": 756
    },
    "executionInfo": {
     "elapsed": 4652,
     "status": "ok",
     "timestamp": 1703162421737,
     "user": {
      "displayName": "adi sam",
      "userId": "04727694002057940011"
     },
     "user_tz": -180
    },
    "id": "d2_CikgY1tjv",
    "outputId": "6799eba9-0a67-46eb-ee1e-ebcfb3aa37bf"
   },
   "outputs": [],
   "source": [
    "fig, axes = plt.subplots(2, figsize=(12, 8))\n",
    "timescale = np.arange(waveform.shape[0])\n",
    "axes[0].plot(timescale, waveform.numpy())\n",
    "axes[0].set_title('Waveform')\n",
    "axes[0].set_xlim([0, SAMPLE_RATE])\n",
    "\n",
    "plot_spectrogram(spectrogram.numpy(), axes[1])\n",
    "axes[1].set_title('Spectrogram')\n",
    "plt.suptitle(label.title())\n",
    "plt.show()"
   ]
  },
  {
   "cell_type": "markdown",
   "metadata": {
    "id": "GyYXjW07jCHA"
   },
   "source": [
    "## Create spectrogram datasets from the audio datasets:"
   ]
  },
  {
   "cell_type": "code",
   "execution_count": null,
   "metadata": {
    "executionInfo": {
     "elapsed": 10,
     "status": "ok",
     "timestamp": 1703162765777,
     "user": {
      "displayName": "adi sam",
      "userId": "04727694002057940011"
     },
     "user_tz": -180
    },
    "id": "mAD0LpkgqtQo"
   },
   "outputs": [],
   "source": [
    "def make_spec_ds(ds):\n",
    "  return ds.map(\n",
    "      map_func=lambda audio,label: (get_spectrogram(audio), label),\n",
    "      num_parallel_calls=tf.data.AUTOTUNE)"
   ]
  },
  {
   "cell_type": "code",
   "execution_count": null,
   "metadata": {
    "executionInfo": {
     "elapsed": 3334,
     "status": "ok",
     "timestamp": 1703162769104,
     "user": {
      "displayName": "adi sam",
      "userId": "04727694002057940011"
     },
     "user_tz": -180
    },
    "id": "yEVb_oK0oBLQ"
   },
   "outputs": [],
   "source": [
    "train_spectrogram_ds = make_spec_ds(train_ds)\n",
    "val_spectrogram_ds = make_spec_ds(val_ds)\n",
    "test_spectrogram_ds = make_spec_ds(test_ds)"
   ]
  },
  {
   "cell_type": "markdown",
   "metadata": {
    "id": "6gQpAAgMnyDi"
   },
   "source": [
    "Examine the spectrograms for different examples of the dataset:"
   ]
  },
  {
   "cell_type": "code",
   "execution_count": null,
   "metadata": {
    "id": "EaM2q5aGis-d"
   },
   "outputs": [],
   "source": [
    "for example_spectrograms, example_spect_labels in train_spectrogram_ds.take(1):\n",
    "  break"
   ]
  },
  {
   "cell_type": "code",
   "execution_count": null,
   "metadata": {
    "colab": {
     "base_uri": "https://localhost:8080/",
     "height": 776
    },
    "executionInfo": {
     "elapsed": 5233,
     "status": "ok",
     "timestamp": 1703138427307,
     "user": {
      "displayName": "adi sam",
      "userId": "04727694002057940011"
     },
     "user_tz": -180
    },
    "id": "QUbHfTuon4iF",
    "outputId": "3ee28e33-11b1-4d3b-c0c0-6586e6b68414",
    "scrolled": true
   },
   "outputs": [],
   "source": [
    "rows = 2\n",
    "cols = 3\n",
    "n = rows*cols\n",
    "fig, axes = plt.subplots(rows, cols, figsize=(16, 9))\n",
    "\n",
    "for i in range(n):\n",
    "    r = i // cols\n",
    "    c = i % cols\n",
    "    ax = axes[r][c]\n",
    "    plot_spectrogram(example_spectrograms[i].numpy(), ax)\n",
    "    ax.set_title(label_names[example_spect_labels[i].numpy()])\n",
    "\n",
    "plt.show()"
   ]
  },
  {
   "cell_type": "markdown",
   "metadata": {
    "id": "GS1uIh6F_TN9"
   },
   "source": [
    " `Dataset.cache` and `Dataset.prefetch` operations to reduce read latency while training the model:"
   ]
  },
  {
   "cell_type": "code",
   "execution_count": null,
   "metadata": {
    "id": "fdZ6M-F5_QzY"
   },
   "outputs": [],
   "source": [
    "train_spectrogram_ds = train_spectrogram_ds.cache().shuffle(10000).prefetch(tf.data.AUTOTUNE)\n",
    "val_spectrogram_ds = val_spectrogram_ds.cache().prefetch(tf.data.AUTOTUNE)\n",
    "test_spectrogram_ds = test_spectrogram_ds.cache().prefetch(tf.data.AUTOTUNE)"
   ]
  },
  {
   "cell_type": "code",
   "execution_count": null,
   "metadata": {},
   "outputs": [],
   "source": [
    "train_spectrogram_ds"
   ]
  },
  {
   "cell_type": "markdown",
   "metadata": {},
   "source": [
    "# Building Models"
   ]
  },
  {
   "cell_type": "markdown",
   "metadata": {
    "id": "z5KdY8IF8rkt"
   },
   "source": [
    "## Model 1\n",
    "\n",
    "1. **Input Layer:** Defines the input shape for the model based on the shape of the spectrogram images.\n",
    "2. **Resizing Layer:** Resizes the input spectrogram images to a fixed size of 32x32 pixels.\n",
    "3. **Normalization Layer:** Normalizes the input data using statistics computed from the training dataset.\n",
    "4. **Convolutional Layers:** Two Conv2D layers with ReLU activation functions, followed by max pooling.\n",
    "5. **Dropout Layer:** Applies dropout regularization to prevent overfitting.\n",
    "6. **Flatten Layer:** Flattens the output of the previous layer into a 1D vector.\n",
    "7. **Dense Layers:** Two Dense layers with ReLU activation functions, followed by the output layer with logits for each class."
   ]
  },
  {
   "cell_type": "markdown",
   "metadata": {},
   "source": [
    "### Model Arch"
   ]
  },
  {
   "cell_type": "code",
   "execution_count": null,
   "metadata": {
    "colab": {
     "base_uri": "https://localhost:8080/"
    },
    "executionInfo": {
     "elapsed": 408700,
     "status": "ok",
     "timestamp": 1703138842661,
     "user": {
      "displayName": "adi sam",
      "userId": "04727694002057940011"
     },
     "user_tz": -180
    },
    "id": "ALYz7PFCHblP",
    "outputId": "4cf09e2d-71f1-4971-c64a-451c6134d8b3"
   },
   "outputs": [],
   "source": [
    "input_shape = example_spectrograms.shape[1:]\n",
    "print('Input shape:', input_shape)\n",
    "num_labels = len(label_names)\n",
    "norm_layer = layers.Normalization()\n",
    "norm_layer.adapt(data=train_spectrogram_ds.map(map_func=lambda spec, label: spec))\n",
    "\n",
    "model = models.Sequential([\n",
    "    layers.Input(shape=input_shape),\n",
    "    layers.Resizing(32, 32),\n",
    "    norm_layer,\n",
    "    layers.Conv2D(32, 3, activation='relu'),\n",
    "    layers.Conv2D(64, 3, activation='relu'),\n",
    "    layers.MaxPooling2D(),\n",
    "    layers.Dropout(0.25),\n",
    "    layers.Flatten(),\n",
    "    layers.Dense(128, activation='relu'),\n",
    "    layers.Dropout(0.5),\n",
    "    layers.Dense(num_labels),\n",
    "])\n",
    "\n",
    "model.summary()"
   ]
  },
  {
   "cell_type": "markdown",
   "metadata": {},
   "source": [
    "### Compile the model"
   ]
  },
  {
   "cell_type": "code",
   "execution_count": null,
   "metadata": {
    "id": "wFjj7-EmsTD-"
   },
   "outputs": [],
   "source": [
    "model.compile(\n",
    "    optimizer=tf.keras.optimizers.Adam(),\n",
    "    loss=tf.keras.losses.SparseCategoricalCrossentropy(from_logits=True),\n",
    "    metrics=['accuracy'],\n",
    ")"
   ]
  },
  {
   "cell_type": "markdown",
   "metadata": {
    "id": "f42b9e3a4705"
   },
   "source": [
    "### Train the model"
   ]
  },
  {
   "cell_type": "code",
   "execution_count": null,
   "metadata": {
    "colab": {
     "base_uri": "https://localhost:8080/"
    },
    "executionInfo": {
     "elapsed": 379861,
     "status": "ok",
     "timestamp": 1703139278187,
     "user": {
      "displayName": "adi sam",
      "userId": "04727694002057940011"
     },
     "user_tz": -180
    },
    "id": "ttioPJVMcGtq",
    "outputId": "32bf9ea7-432f-4942-d041-6d0b4c45543b"
   },
   "outputs": [],
   "source": [
    "EPOCHS = 10\n",
    "history = model.fit(\n",
    "    train_spectrogram_ds,\n",
    "    validation_data=val_spectrogram_ds,\n",
    "    epochs=EPOCHS,\n",
    "    callbacks=tf.keras.callbacks.EarlyStopping(verbose=1, patience=2),\n",
    ")"
   ]
  },
  {
   "cell_type": "markdown",
   "metadata": {
    "id": "gjpCDeQ4mUfS"
   },
   "source": [
    "### Plot Accuracy and Loss"
   ]
  },
  {
   "cell_type": "code",
   "execution_count": null,
   "metadata": {
    "colab": {
     "base_uri": "https://localhost:8080/",
     "height": 564
    },
    "executionInfo": {
     "elapsed": 1439,
     "status": "ok",
     "timestamp": 1703139349809,
     "user": {
      "displayName": "adi sam",
      "userId": "04727694002057940011"
     },
     "user_tz": -180
    },
    "id": "nzhipg3Gu2AY",
    "outputId": "24210bf5-8be1-40bb-9156-6894e9d4b957"
   },
   "outputs": [],
   "source": [
    "metrics = history.history\n",
    "plt.figure(figsize=(14,5))\n",
    "plt.subplot(1,2,1)\n",
    "plt.plot(history.epoch, metrics['loss'], metrics['val_loss'])\n",
    "plt.legend(['loss', 'val_loss'])\n",
    "plt.ylim([0, max(plt.ylim())])\n",
    "plt.xlabel('Epoch')\n",
    "plt.ylabel('Loss [CrossEntropy]')\n",
    "\n",
    "plt.subplot(1,2,2)\n",
    "plt.plot(history.epoch, 100*np.array(metrics['accuracy']), 100*np.array(metrics['val_accuracy']))\n",
    "plt.legend(['accuracy', 'val_accuracy'])\n",
    "plt.ylim([0, 100])\n",
    "plt.xlabel('Epoch')\n",
    "plt.ylabel('Accuracy [%]')"
   ]
  },
  {
   "cell_type": "markdown",
   "metadata": {
    "id": "5ZTt3kO3mfm4"
   },
   "source": [
    "### Evaluate the model performance\n",
    "\n",
    "Run the model on the test set and check the model's performance:"
   ]
  },
  {
   "cell_type": "code",
   "execution_count": null,
   "metadata": {
    "colab": {
     "base_uri": "https://localhost:8080/"
    },
    "executionInfo": {
     "elapsed": 7154,
     "status": "ok",
     "timestamp": 1703139376174,
     "user": {
      "displayName": "adi sam",
      "userId": "04727694002057940011"
     },
     "user_tz": -180
    },
    "id": "FapuRT_SsWGQ",
    "outputId": "7e126f2f-b528-4a64-facb-a1d3a6d84e1e"
   },
   "outputs": [],
   "source": [
    "model.evaluate(test_spectrogram_ds, return_dict=True)"
   ]
  },
  {
   "cell_type": "markdown",
   "metadata": {
    "id": "en9Znt1NOabH"
   },
   "source": [
    "### Display a confusion matrix"
   ]
  },
  {
   "cell_type": "code",
   "execution_count": null,
   "metadata": {
    "colab": {
     "base_uri": "https://localhost:8080/"
    },
    "executionInfo": {
     "elapsed": 967,
     "status": "ok",
     "timestamp": 1703139380080,
     "user": {
      "displayName": "adi sam",
      "userId": "04727694002057940011"
     },
     "user_tz": -180
    },
    "id": "5Y6vmWWQuuT1",
    "outputId": "ac6ec6b1-6281-4a79-b43e-fc05a58ae8d8"
   },
   "outputs": [],
   "source": [
    "y_pred = model.predict(test_spectrogram_ds)"
   ]
  },
  {
   "cell_type": "code",
   "execution_count": null,
   "metadata": {
    "id": "d6F0il82u7lW"
   },
   "outputs": [],
   "source": [
    "y_pred = tf.argmax(y_pred, axis=1)"
   ]
  },
  {
   "cell_type": "code",
   "execution_count": null,
   "metadata": {
    "id": "vHSNoBYLvX81"
   },
   "outputs": [],
   "source": [
    "y_true = tf.concat(list(test_spectrogram_ds.map(lambda s,lab: lab)), axis=0)"
   ]
  },
  {
   "cell_type": "code",
   "execution_count": null,
   "metadata": {
    "colab": {
     "base_uri": "https://localhost:8080/",
     "height": 696
    },
    "executionInfo": {
     "elapsed": 913,
     "status": "ok",
     "timestamp": 1703139388572,
     "user": {
      "displayName": "adi sam",
      "userId": "04727694002057940011"
     },
     "user_tz": -180
    },
    "id": "LvoSAOiXU3lL",
    "outputId": "68f1975b-79c5-4fb3-c950-d259ae3a28ac"
   },
   "outputs": [],
   "source": [
    "confusion_mtx = tf.math.confusion_matrix(y_true, y_pred)\n",
    "plt.figure(figsize=(6, 4))\n",
    "sns.heatmap(confusion_mtx,\n",
    "            xticklabels=label_names,\n",
    "            yticklabels=label_names,\n",
    "            annot=True, fmt='g')\n",
    "plt.xlabel('Prediction')\n",
    "plt.ylabel('Label')\n",
    "plt.show()"
   ]
  },
  {
   "cell_type": "markdown",
   "metadata": {
    "id": "mQGi_mzPcLvl"
   },
   "source": [
    "## Model 2\n",
    "\n",
    "\n",
    "1. **Input Layer**: Defines the input shape for the model based on the shape of the spectrogram images.\n",
    "2. **Resizing Layer**: Resizes the input spectrogram images to a fixed size of 32x32 pixels.\n",
    "3. **Normalization Layer**: Normalizes the input data using statistics computed from the training dataset.\n",
    "4. **Convolutional Layers**:\n",
    "   - 4.1. First Conv2D Layer: Applies 32 filters with a 3x3 kernel size and ReLU activation function.\n",
    "   - 4.2. Batch Normalization Layer: Normalizes the activations of the previous convolutional layer.\n",
    "   - 4.3. MaxPooling2D Layer: Performs max pooling to downsample the feature maps.\n",
    "5. **Convolutional Layers**:\n",
    "   - 5.1. Second Conv2D Layer: Applies 64 filters with a 3x3 kernel size and ReLU activation function.\n",
    "   - 5.2. Batch Normalization Layer: Normalizes the activations of the previous convolutional layer.\n",
    "   - 5.3. MaxPooling2D Layer: Performs max pooling to downsample the feature maps.\n",
    "6. **Dropout Layer**: Applies dropout regularization with a dropout rate of 0.25 to prevent overfitting.\n",
    "7. **Flatten Layer**: Flattens the output of the previous layer into a 1D vector.\n",
    "8. **Dense Layers**:\n",
    "   - 8.1. First Dense Layer: Applies 128 neurons with ReLU activation function.\n",
    "   - 8.2. Dropout Layer: Applies dropout regularization with a dropout rate of 0.5.\n",
    "   - 8.3. Second Dense Layer: Outputs logits for each class, with the number of units equal to the number of labels."
   ]
  },
  {
   "cell_type": "markdown",
   "metadata": {},
   "source": [
    "### Model Arch"
   ]
  },
  {
   "cell_type": "code",
   "execution_count": null,
   "metadata": {},
   "outputs": [],
   "source": [
    "model2 = models.Sequential([\n",
    "    layers.Input(shape=input_shape),\n",
    "    layers.Resizing(32, 32),\n",
    "    norm_layer,\n",
    "    layers.Conv2D(32, 3, activation='relu'),\n",
    "    layers.BatchNormalization(),\n",
    "    layers.MaxPooling2D(),\n",
    "    layers.Conv2D(64, 3, activation='relu'),\n",
    "    layers.BatchNormalization(),\n",
    "    layers.MaxPooling2D(),\n",
    "    layers.Dropout(0.25),\n",
    "    layers.Flatten(),\n",
    "    layers.Dense(128, activation='relu'),\n",
    "    layers.Dropout(0.5),\n",
    "    layers.Dense(num_labels),\n",
    "])\n",
    "\n",
    "model2.summary()\n"
   ]
  },
  {
   "cell_type": "markdown",
   "metadata": {},
   "source": [
    "### Compile the  Model"
   ]
  },
  {
   "cell_type": "code",
   "execution_count": null,
   "metadata": {},
   "outputs": [],
   "source": [
    "model2.compile(\n",
    "    optimizer=tf.keras.optimizers.Adam(),\n",
    "    loss=tf.keras.losses.SparseCategoricalCrossentropy(from_logits=True),\n",
    "    metrics=['accuracy'],\n",
    ")\n",
    "\n",
    "timizer=tf.keras.optimizers.Adam(),\n",
    "loss=tf.keras.losses.SparseCategoricalCrossentropy(from_logits=True),\n"
   ]
  },
  {
   "cell_type": "markdown",
   "metadata": {},
   "source": [
    "### Train the Model"
   ]
  },
  {
   "cell_type": "code",
   "execution_count": null,
   "metadata": {},
   "outputs": [],
   "source": [
    "EPOCHS = 10\n",
    "history = model2.fit(\n",
    "    train_spectrogram_ds,\n",
    "    validation_data=val_spectrogram_ds,\n",
    "    epochs=EPOCHS,\n",
    "    callbacks=tf.keras.callbacks.EarlyStopping(verbose=1, patience=2),\n",
    ")"
   ]
  },
  {
   "cell_type": "markdown",
   "metadata": {},
   "source": [
    "### Plot Accuracy and Loss"
   ]
  },
  {
   "cell_type": "code",
   "execution_count": null,
   "metadata": {},
   "outputs": [],
   "source": [
    "metrics = history.history\n",
    "plt.figure(figsize=(16,6))\n",
    "plt.subplot(1,2,1)\n",
    "plt.plot(history.epoch, metrics['loss'], metrics['val_loss'])\n",
    "plt.legend(['loss', 'val_loss'])\n",
    "plt.ylim([0, max(plt.ylim())])\n",
    "plt.xlabel('Epoch')\n",
    "plt.ylabel('Loss [CrossEntropy]')\n",
    "\n",
    "plt.subplot(1,2,2)\n",
    "plt.plot(history.epoch, 100*np.array(metrics['accuracy']), 100*np.array(metrics['val_accuracy']))\n",
    "plt.legend(['accuracy', 'val_accuracy'])\n",
    "plt.ylim([0, 100])\n",
    "plt.xlabel('Epoch')\n",
    "plt.ylabel('Accuracy [%]')"
   ]
  },
  {
   "cell_type": "markdown",
   "metadata": {},
   "source": [
    "### Evaluate the model"
   ]
  },
  {
   "cell_type": "code",
   "execution_count": null,
   "metadata": {},
   "outputs": [],
   "source": [
    "model2.evaluate(test_spectrogram_ds, return_dict=True)"
   ]
  },
  {
   "cell_type": "markdown",
   "metadata": {},
   "source": [
    "### Display a confusion matrix"
   ]
  },
  {
   "cell_type": "code",
   "execution_count": null,
   "metadata": {},
   "outputs": [],
   "source": [
    "y_pred = model2.predict(test_spectrogram_ds)\n",
    "y_pred = tf.argmax(y_pred, axis=1)\n",
    "y_true = tf.concat(list(test_spectrogram_ds.map(lambda s,lab: lab)), axis=0)"
   ]
  },
  {
   "cell_type": "code",
   "execution_count": null,
   "metadata": {},
   "outputs": [],
   "source": [
    "confusion_mtx = tf.math.confusion_matrix(y_true, y_pred)\n",
    "plt.figure(figsize=(6, 4))\n",
    "sns.heatmap(confusion_mtx,\n",
    "            xticklabels=label_names,\n",
    "            yticklabels=label_names,\n",
    "            annot=True, fmt='g')\n",
    "plt.xlabel('Prediction')\n",
    "plt.ylabel('Label')\n",
    "plt.show()"
   ]
  },
  {
   "cell_type": "markdown",
   "metadata": {},
   "source": [
    "## Model 3\n",
    "\n",
    "1. **Input Layer**: Defines the input shape for the model based on the shape of the spectrogram images.\n",
    "2. **Convolutional Layers**:\n",
    "   - 2.1. First Conv2D Layer: Applies 32 filters with a 3x3 kernel size, ReLU activation function, and dilation rate of (2, 2).\n",
    "   - 2.2. MaxPooling2D Layer: Performs max pooling to downsample the feature maps.\n",
    "3. **Convolutional Layers**:\n",
    "   - 3.1. Second Conv2D Layer: Applies 64 filters with a 3x3 kernel size, ReLU activation function, and dilation rate of (2, 2).\n",
    "   - 3.2. MaxPooling2D Layer: Performs max pooling to downsample the feature maps.\n",
    "4. **Convolutional Layers**:\n",
    "   - 4.1. Third Conv2D Layer: Applies 128 filters with a 3x3 kernel size, ReLU activation function, and dilation rate of (2, 2).\n",
    "   - 4.2. GlobalAveragePooling2D Layer: Performs global average pooling to reduce spatial dimensions.\n",
    "5. **Dense Layers**:\n",
    "   - 5.1. Dense Layer: Applies 128 neurons with ReLU activation function.\n",
    "   - 5.2. Dropout Layer: Applies dropout regularization with a dropout rate of 0.5.\n",
    "   - 5.3. Dense Layer: Outputs logits for each class, with the number of units equal to the number of labels."
   ]
  },
  {
   "cell_type": "markdown",
   "metadata": {
    "scrolled": true
   },
   "source": [
    "### Model Arch"
   ]
  },
  {
   "cell_type": "code",
   "execution_count": null,
   "metadata": {},
   "outputs": [],
   "source": [
    "model3 = models.Sequential([\n",
    "    layers.Input(shape=input_shape),\n",
    "    layers.Conv2D(32, 3, activation='relu', dilation_rate=(2, 2)),\n",
    "    layers.MaxPooling2D(),\n",
    "    layers.Conv2D(64, 3, activation='relu', dilation_rate=(2, 2)),\n",
    "    layers.MaxPooling2D(),\n",
    "    layers.Conv2D(128, 3, activation='relu', dilation_rate=(2, 2)),\n",
    "    layers.GlobalAveragePooling2D(),\n",
    "    layers.Dense(128, activation='relu'),\n",
    "    layers.Dropout(0.5),\n",
    "    layers.Dense(num_labels),\n",
    "])\n",
    "\n",
    "model3.summary()\n"
   ]
  },
  {
   "cell_type": "markdown",
   "metadata": {},
   "source": [
    "### Model compile"
   ]
  },
  {
   "cell_type": "code",
   "execution_count": null,
   "metadata": {},
   "outputs": [],
   "source": [
    "model3.compile(\n",
    "    optimizer=tf.keras.optimizers.Adam(),\n",
    "    loss=tf.keras.losses.SparseCategoricalCrossentropy(from_logits=True),\n",
    "    metrics=['accuracy'],\n",
    ")"
   ]
  },
  {
   "cell_type": "markdown",
   "metadata": {},
   "source": [
    "### Train the model"
   ]
  },
  {
   "cell_type": "code",
   "execution_count": null,
   "metadata": {},
   "outputs": [],
   "source": [
    "EPOCHS = 10\n",
    "history = model3.fit(\n",
    "    train_spectrogram_ds,\n",
    "    validation_data=val_spectrogram_ds,\n",
    "    epochs=EPOCHS,\n",
    "    callbacks=tf.keras.callbacks.EarlyStopping(verbose=1, patience=2),\n",
    ")"
   ]
  },
  {
   "cell_type": "markdown",
   "metadata": {},
   "source": [
    "### Plot Loaa and accuracy"
   ]
  },
  {
   "cell_type": "code",
   "execution_count": null,
   "metadata": {},
   "outputs": [],
   "source": [
    "metrics = history.history\n",
    "plt.figure(figsize=(16,6))\n",
    "plt.subplot(1,2,1)\n",
    "plt.plot(history.epoch, metrics['loss'], metrics['val_loss'])\n",
    "plt.legend(['loss', 'val_loss'])\n",
    "plt.ylim([0, max(plt.ylim())])\n",
    "plt.xlabel('Epoch')\n",
    "plt.ylabel('Loss [CrossEntropy]')\n",
    "\n",
    "plt.subplot(1,2,2)\n",
    "plt.plot(history.epoch, 100*np.array(metrics['accuracy']), 100*np.array(metrics['val_accuracy']))\n",
    "plt.legend(['accuracy', 'val_accuracy'])\n",
    "plt.ylim([0, 100])\n",
    "plt.xlabel('Epoch')\n",
    "plt.ylabel('Accuracy [%]')"
   ]
  },
  {
   "cell_type": "markdown",
   "metadata": {},
   "source": [
    "### Evaluate the model"
   ]
  },
  {
   "cell_type": "code",
   "execution_count": null,
   "metadata": {},
   "outputs": [],
   "source": [
    "model3.evaluate(test_spectrogram_ds, return_dict=True)"
   ]
  },
  {
   "cell_type": "markdown",
   "metadata": {},
   "source": [
    "### Display a confusion matrix"
   ]
  },
  {
   "cell_type": "code",
   "execution_count": null,
   "metadata": {},
   "outputs": [],
   "source": [
    "y_pred = model3.predict(test_spectrogram_ds)\n",
    "y_pred = tf.argmax(y_pred, axis=1)\n",
    "y_true = tf.concat(list(test_spectrogram_ds.map(lambda s,lab: lab)), axis=0)"
   ]
  },
  {
   "cell_type": "code",
   "execution_count": null,
   "metadata": {},
   "outputs": [],
   "source": [
    "confusion_mtx = tf.math.confusion_matrix(y_true, y_pred)\n",
    "plt.figure(figsize=(6, 4))\n",
    "sns.heatmap(confusion_mtx,\n",
    "            xticklabels=label_names,\n",
    "            yticklabels=label_names,\n",
    "            annot=True, fmt='g')\n",
    "plt.xlabel('Prediction')\n",
    "plt.ylabel('Label')\n",
    "plt.show()"
   ]
  },
  {
   "cell_type": "markdown",
   "metadata": {},
   "source": [
    "# Exporting a model"
   ]
  },
  {
   "cell_type": "markdown",
   "metadata": {},
   "source": [
    "## Export the model with preprocessing"
   ]
  },
  {
   "cell_type": "code",
   "execution_count": null,
   "metadata": {},
   "outputs": [],
   "source": [
    "class ExportModel(tf.Module):\n",
    "  def __init__(self, model):\n",
    "    self.model = model\n",
    "\n",
    "    # Accept either a string-filename or a batch of waveforms.\n",
    "    # YOu could add additional signatures for a single wave, or a ragged-batch.\n",
    "    self.__call__.get_concrete_function(\n",
    "        x=tf.TensorSpec(shape=(), dtype=tf.string))\n",
    "    self.__call__.get_concrete_function(\n",
    "       x=tf.TensorSpec(shape=[None, SAMPLE_RATE], dtype=tf.float32))\n",
    "\n",
    "\n",
    "  @tf.function\n",
    "  def __call__(self, x):\n",
    "    # If they pass a string, load the file and decode it.\n",
    "    if x.dtype == tf.string:\n",
    "      x = tf.io.read_file(x)\n",
    "      x, _ = tf.audio.decode_wav(x, desired_channels=1, desired_samples=SAMPLE_RATE,)\n",
    "      x = tf.squeeze(x, axis=-1)\n",
    "      x = x[tf.newaxis, :]\n",
    "\n",
    "    x = get_spectrogram(x)\n",
    "    result = self.model(x, training=False)\n",
    "\n",
    "    class_ids = tf.argmax(result, axis=-1)\n",
    "    class_names = tf.gather(label_names, class_ids)\n",
    "    return {'predictions':result,\n",
    "            'class_ids': class_ids,\n",
    "            'class_names': class_names}"
   ]
  },
  {
   "cell_type": "code",
   "execution_count": null,
   "metadata": {},
   "outputs": [],
   "source": [
    "export = ExportModel(model)\n",
    "export(tf.constant(str('own/ddyo/audio #2001.wav')))"
   ]
  },
  {
   "cell_type": "markdown",
   "metadata": {},
   "source": [
    "Save and reload the model, the reloaded model gives identical output:"
   ]
  },
  {
   "cell_type": "code",
   "execution_count": null,
   "metadata": {},
   "outputs": [],
   "source": [
    "tf.saved_model.save(export, \"saved\")\n",
    "imported = tf.saved_model.load(\"saved\")\n",
    "imported(waveform[tf.newaxis, :])"
   ]
  },
  {
   "cell_type": "code",
   "execution_count": null,
   "metadata": {},
   "outputs": [],
   "source": []
  },
  {
   "cell_type": "code",
   "execution_count": null,
   "metadata": {},
   "outputs": [],
   "source": []
  }
 ],
 "metadata": {
  "colab": {
   "provenance": []
  },
  "kernelspec": {
   "display_name": "Python 3 (ipykernel)",
   "language": "python",
   "name": "python3"
  },
  "language_info": {
   "codemirror_mode": {
    "name": "ipython",
    "version": 3
   },
   "file_extension": ".py",
   "mimetype": "text/x-python",
   "name": "python",
   "nbconvert_exporter": "python",
   "pygments_lexer": "ipython3",
   "version": "3.11.6"
  }
 },
 "nbformat": 4,
 "nbformat_minor": 4
}
