{
 "cells": [
  {
   "cell_type": "markdown",
   "metadata": {},
   "source": [
    "# Work FLow\n",
    "- `Packages and Libraries`\n",
    "-  `Load raw audio data` from files in .WAV format that can be processed\n",
    "-  `EDA`\n",
    "-  `Spectral Representations` Convert the audio signal into a frequency domain representation, such as a spectrogram or mel spectrogram.\n",
    "-  `Conversion to TensorFlow` Convert the preprocessed data into a format suitable for the deep learning framework.\n",
    "-  `Data Splitting` Split the dataset into training, validation, and testing sets.\n",
    "-  `Model Building` Build your machine learning model using the preprocessed data.\n",
    "-  `Converting to TFLite model`"
   ]
  },
  {
   "cell_type": "markdown",
   "metadata": {},
   "source": [
    "# Packages and Libraries"
   ]
  },
  {
   "cell_type": "code",
   "execution_count": 3,
   "metadata": {},
   "outputs": [],
   "source": [
    "import os\n",
    "import json\n",
    "import math\n",
    "import wave\n",
    "import h5py\n",
    "import librosa\n",
    "import pathlib\n",
    "import logging\n",
    "import numpy as np\n",
    "import pandas as pd\n",
    "import seaborn as sns\n",
    "import soundfile as sf\n",
    "import tensorflow as tf \n",
    "from sys import getsizeof\n",
    "from tensorflow import keras\n",
    "import matplotlib.pyplot as plt\n",
    "import IPython.display as display\n",
    "from IPython.display import Audio\n",
    "from tensorflow.keras import layers, models\n",
    "from sklearn.model_selection import train_test_split\n",
    "from sklearn.metrics import accuracy_score, confusion_matrix, precision_score, recall_score, f1_score"
   ]
  },
  {
   "cell_type": "code",
   "execution_count": 5,
   "metadata": {},
   "outputs": [],
   "source": [
    "logging.getLogger('tensorflow').setLevel(logging.ERROR)\n",
    "tf.get_logger().setLevel(logging.ERROR)"
   ]
  },
  {
   "cell_type": "markdown",
   "metadata": {},
   "source": [
    "# Loading Raw Audio Data\n",
    "\n",
    "The dataset's audio clips are of 6 classes and stored in six folders corresponding to each speech command: \n",
    "- `ddyo`\n",
    "- `kkono`\n",
    "- `mu maaso`\n",
    "- `emabega`\n",
    "- `yimirira`\n",
    "- `gaali`"
   ]
  },
  {
   "cell_type": "markdown",
   "metadata": {},
   "source": [
    "## Mount google drive\n",
    "adisamproject@gmail.com"
   ]
  },
  {
   "cell_type": "code",
   "execution_count": null,
   "metadata": {},
   "outputs": [],
   "source": [
    "# from google.colab import drive\n",
    "# drive.mount('/content/drive')\n",
    "# DATASET_PATH = \"/content/drive/My Drive/2_Luganda/dataset\"\n",
    "# data_dir = pathlib.Path(DATASET_PATH)"
   ]
  },
  {
   "cell_type": "markdown",
   "metadata": {},
   "source": [
    "## Dataset path"
   ]
  },
  {
   "cell_type": "code",
   "execution_count": 7,
   "metadata": {},
   "outputs": [],
   "source": [
    "TRAIN_DATASET_PATH = 'Dataset/Train'\n",
    "TEST_DATASET_PATH = 'Dataset/Test'\n",
    "\n",
    "train_data_dir = pathlib.Path(TRAIN_DATASET_PATH)\n",
    "test_data_dir = pathlib.Path(TEST_DATASET_PATH)"
   ]
  },
  {
   "cell_type": "markdown",
   "metadata": {},
   "source": [
    "# Exploratory Data Analysis (EDA) "
   ]
  },
  {
   "cell_type": "markdown",
   "metadata": {},
   "source": [
    "## Labels (Train and Test Directories)"
   ]
  },
  {
   "cell_type": "code",
   "execution_count": 7,
   "metadata": {
    "scrolled": true
   },
   "outputs": [
    {
     "name": "stdout",
     "output_type": "stream",
     "text": [
      "Train commands labels:\n",
      " ['emabega' 'ddyo' 'gaali' 'kkono' 'mu masso' 'yimirira']\n"
     ]
    }
   ],
   "source": [
    "commands = np.array(tf.io.gfile.listdir(str(train_data_dir)))\n",
    "print('Train commands labels:\\n', commands)"
   ]
  },
  {
   "cell_type": "code",
   "execution_count": 8,
   "metadata": {
    "colab": {
     "base_uri": "https://localhost:8080/"
    },
    "executionInfo": {
     "elapsed": 1952,
     "status": "ok",
     "timestamp": 1703162116515,
     "user": {
      "displayName": "adi sam",
      "userId": "04727694002057940011"
     },
     "user_tz": -180
    },
    "id": "70IBxSKxA1N9",
    "outputId": "902b877b-bf8a-4310-8507-8344428aa844",
    "scrolled": true
   },
   "outputs": [
    {
     "name": "stdout",
     "output_type": "stream",
     "text": [
      "Test commands labels:\n",
      " ['emabega' 'ddyo' 'gaali' 'kkono' 'mu masso' 'yimirira']\n"
     ]
    }
   ],
   "source": [
    "commands = np.array(tf.io.gfile.listdir(str(test_data_dir)))\n",
    "print('Test commands labels:\\n', commands)"
   ]
  },
  {
   "cell_type": "markdown",
   "metadata": {},
   "source": [
    "## Number of audio files"
   ]
  },
  {
   "cell_type": "code",
   "execution_count": 10,
   "metadata": {},
   "outputs": [],
   "source": [
    "def count_audio_files_in_subfolders(data_dir):\n",
    "    counts = {}\n",
    "    for subfolder in os.listdir(data_dir):\n",
    "        subfolder_path = os.path.join(data_dir, subfolder)\n",
    "\n",
    "        if os.path.isdir(subfolder_path):\n",
    "            audio_files_count = len([f for f in os.listdir(subfolder_path) if f.endswith('.wav')])\n",
    "            counts[subfolder] = audio_files_count\n",
    "\n",
    "    return counts"
   ]
  },
  {
   "cell_type": "markdown",
   "metadata": {},
   "source": [
    "### Training dataset"
   ]
  },
  {
   "cell_type": "code",
   "execution_count": 11,
   "metadata": {},
   "outputs": [],
   "source": [
    "counts = count_audio_files_in_subfolders(train_data_dir)"
   ]
  },
  {
   "cell_type": "code",
   "execution_count": 12,
   "metadata": {
    "collapsed": true,
    "jupyter": {
     "outputs_hidden": true
    }
   },
   "outputs": [
    {
     "data": {
      "image/png": "[encoded data removed]",
      "text/plain": [
       "<Figure size 1200x500 with 1 Axes>"
      ]
     },
     "metadata": {},
     "output_type": "display_data"
    }
   ],
   "source": [
    "plt.figure(figsize=(12, 5))\n",
    "plt.barh(list(counts.keys()), list(counts.values()), color='green')\n",
    "plt.xlabel('Number of Audio Files')\n",
    "plt.ylabel('Command labels')\n",
    "plt.title('Number of Audio Files For Training for Each Command')\n",
    "plt.show()"
   ]
  },
  {
   "cell_type": "markdown",
   "metadata": {},
   "source": [
    "### Test dataset"
   ]
  },
  {
   "cell_type": "code",
   "execution_count": 14,
   "metadata": {},
   "outputs": [],
   "source": [
    "counts = count_audio_files_in_subfolders(test_data_dir)"
   ]
  },
  {
   "cell_type": "code",
   "execution_count": 15,
   "metadata": {},
   "outputs": [
    {
     "data": {
      "image/png": "[encoded data removed]",
      "text/plain": [
       "<Figure size 1200x500 with 1 Axes>"
      ]
     },
     "metadata": {},
     "output_type": "display_data"
    }
   ],
   "source": [
    "plt.figure(figsize=(12, 5))\n",
    "plt.barh(list(counts.keys()), list(counts.values()), color='green')\n",
    "plt.xlabel('Number of Audio Files')\n",
    "plt.ylabel('Command labels')\n",
    "plt.title('Number of Audio Files For Testing for Each Command')\n",
    "plt.show()"
   ]
  },
  {
   "cell_type": "markdown",
   "metadata": {},
   "source": [
    "## Audio Properties and Parameters\n",
    "- using one audio file"
   ]
  },
  {
   "cell_type": "code",
   "execution_count": 16,
   "metadata": {},
   "outputs": [],
   "source": [
    "SAMPLE_RATE = 16000"
   ]
  },
  {
   "cell_type": "code",
   "execution_count": 17,
   "metadata": {},
   "outputs": [],
   "source": [
    "example_audio_path = os.path.join(TRAIN_DATASET_PATH, 'emabega', 'audio #4251.wav')\n",
    "audio_signal, sample_rate = librosa.load(example_audio_path, sr=SAMPLE_RATE)\n",
    "audio = wave.open(example_audio_path, 'rb')"
   ]
  },
  {
   "cell_type": "code",
   "execution_count": 18,
   "metadata": {},
   "outputs": [],
   "source": [
    "num_channels = audio.getnchannels()\n",
    "sample_width = audio.getsampwidth()\n",
    "frame_rate = audio.getframerate()\n",
    "num_frames = audio.getnframes()\n",
    "duration = num_frames / float(frame_rate)"
   ]
  },
  {
   "cell_type": "code",
   "execution_count": 19,
   "metadata": {
    "scrolled": true
   },
   "outputs": [
    {
     "name": "stdout",
     "output_type": "stream",
     "text": [
      "Number of channels:     1\n",
      "Sample width (bytes):   2\n",
      "Frame rate (Hz):        16000\n",
      "Number of frames:       20160\n",
      "Duration (s):           1.26\n",
      "Parameters:             _wave_params(nchannels=1, sampwidth=2, framerate=16000, nframes=20160, comptype='NONE', compname='not compressed')\n"
     ]
    }
   ],
   "source": [
    "print(\"Number of channels:    \", num_channels)\n",
    "print(\"Sample width (bytes):  \", sample_width)\n",
    "print(\"Frame rate (Hz):       \", frame_rate)\n",
    "print(\"Number of frames:      \", num_frames)\n",
    "print(\"Duration (s):          \", duration)\n",
    "print(\"Parameters:            \", audio.getparams())"
   ]
  },
  {
   "cell_type": "code",
   "execution_count": 20,
   "metadata": {},
   "outputs": [],
   "source": [
    "audio.close()"
   ]
  },
  {
   "cell_type": "markdown",
   "metadata": {},
   "source": [
    "### Visualize the audio waveform"
   ]
  },
  {
   "cell_type": "code",
   "execution_count": 21,
   "metadata": {},
   "outputs": [
    {
     "data": {
      "image/png": "[encoded data removed]",
      "text/plain": [
       "<Figure size 1200x500 with 1 Axes>"
      ]
     },
     "metadata": {},
     "output_type": "display_data"
    }
   ],
   "source": [
    "time = librosa.times_like(audio_signal, sr=SAMPLE_RATE)\n",
    "\n",
    "plt.figure(figsize=(12, 5))\n",
    "plt.plot(time, audio_signal)\n",
    "plt.xlabel('Time (s)')\n",
    "plt.ylabel('Amplitude')\n",
    "plt.title('Audio Signal Waveform')\n",
    "plt.show()"
   ]
  },
  {
   "cell_type": "markdown",
   "metadata": {},
   "source": [
    "### Amplitude Distribution"
   ]
  },
  {
   "cell_type": "code",
   "execution_count": 22,
   "metadata": {},
   "outputs": [
    {
     "data": {
      "image/png": "[encoded data removed]",
      "text/plain": [
       "<Figure size 1200x500 with 1 Axes>"
      ]
     },
     "metadata": {},
     "output_type": "display_data"
    }
   ],
   "source": [
    "# Calculate statistical summary information\n",
    "mean_amplitude = np.mean(audio_signal)\n",
    "std_deviation = np.std(audio_signal)\n",
    "max_amplitude = np.max(audio_signal)\n",
    "min_amplitude = np.min(audio_signal)\n",
    "median_amplitude = np.median(audio_signal)\n",
    "\n",
    "# Plot the histogram with additional features\n",
    "plt.figure(figsize=(12, 5))\n",
    "\n",
    "# Plot the histogram\n",
    "sns.histplot(audio_signal, bins=50, kde=True)\n",
    "\n",
    "# Add vertical lines for statistical summary information\n",
    "plt.axvline(mean_amplitude, color='r', linestyle='--', label=f'Mean: {mean_amplitude:.2f}')\n",
    "plt.axvline(mean_amplitude + std_deviation, color='g', linestyle='--', label=f'Std Dev: {std_deviation:.2f}')\n",
    "plt.axvline(mean_amplitude - std_deviation, color='g', linestyle='--')\n",
    "plt.axvline(median_amplitude, color='b', linestyle='--', label=f'Median: {median_amplitude:.2f}')\n",
    "plt.axvline(max_amplitude, color='m', linestyle='--', label=f'Max: {max_amplitude:.2f}')\n",
    "plt.axvline(min_amplitude, color='m', linestyle='--', label=f'Min: {min_amplitude:.2f}')\n",
    "\n",
    "# Set plot title and labels\n",
    "plt.title('Amplitude Distribution')\n",
    "plt.xlabel('Amplitude')\n",
    "plt.ylabel('Frequency')\n",
    "plt.legend()\n",
    "plt.show()"
   ]
  },
  {
   "cell_type": "markdown",
   "metadata": {},
   "source": [
    "### Play audio file"
   ]
  },
  {
   "cell_type": "code",
   "execution_count": 23,
   "metadata": {},
   "outputs": [
    {
     "data": {
      "text/html": [
       "\n",
       "                <audio  controls=\"controls\" >\n",
       "                    <source src=\"data:audio/x-wav;base64,UklGRqSdAABXQVZFZm10IBAAAAABAAEAgD4AAAB9AAACABAAZGF0YYCdAAAAAAAAAAAAAAAAAAAAAAAAAAAAAAAAAAAAAAAAAAAAAAAAAAAAAAAAAAAAAAAAAAAAAAAAAAAAAAAAAAAAAAAAAAAAAAAAAAAAAAAAAAAAAAAAAAAAAAAAAAAAAAAAAAAAAAAAAAAAAAAAAAAAAAAAAAAAAAAAAAAAAAAAAAAAAAAAAAAAAAAAAAAAAAAAAAAAAAAAAAAAAAAAAAAAAAAAAAAAAAAAAAAAAAAAAAAAAAAAAAAAAAAAAAAAAAAAAAAAAAAAAAAAAAAAAAAAAAAAAAAAAAAAAAAAAAAAAAAAAAAAAAAAAAAAAAAAAAAAAAAAAAAAAAAAAAAAAAAAAAAAAAAAAAAAAAAAAAAAAAAAAAAAAAAAAAAAAAAAAAAAAAAAAAAAAAAAAAAAAAAAAAAAAAAAAAAAAAAAAAAAAAAAAAAAAAAAAAAAAAAAAAAAAAAAAAAAAAAAAAAAAAAAAAAAAAAAAAAAAAAAAAAAAAAAAAAAAAAAAAAAAAAAAAAAAAAAAAAAAAAAAAAAAAAAAAAAAAAAAAAAAAAAAAAAAAAAAAAAAAAAAAAAAAAAAAAAAAAAAAAAAAAAAAAAAAAAAAAAAAAAAAAAAAAAAAAAAAAAAAAAAAAAAAAAAAAAAAAAAAAAAAAAAAAAAAAAAAAAAAAAAAAAAAAAAAAAAAAAAAAAAAAAAAAAAAAAAAAAAAAAAAAAAAAAAAAAAAAAAAAAAAAAAAAAAAAAAAAAAAAAAAAAAAAAAAAAAAAAAAAAAAAAAAAAAAAAAAAAAAAAAAAAAAAAAAAAAAAAAAAAAAAAAAAAAAAAAAAAAAAAAAAAAAAAAAAAAAAAAAAAAAAAAAAAAAAAAAAAAAAAAAAAAAAAAAAAAAAAAAAAAAAAAAAAAAAAAAAAAAAAAAAAAAAAAAAAAAAAAAAAAAAAAAAAAAAAAAAAAAAAAAAAAAAAAAAAAAAAAAAAAAAAAAAAAAAAAAAAAAAAAAAAAAAAAAAAAAAAAAAAAAAAAAAAAAAAAAAAAAAAAAAAAAAAAAAAAAAAAAAAAAAAAAAAAAAAAAAAAAAAAAAAAAAAAAAAAAAAAAAAAAAAAAAAAAAAAAAAAAAAAAAAAAAAAAAAAAAAAAAAAAAAAAAAAAAAAAAAAAAAAAAAAAAAAAAAAAAAAAAAAAAAAAAAAAAAAAAAAAAAAAAAAAAAAAAAAAAAAAAAAAAAAAAAAAAAAAAAAAAAAAAAAAAAAAAAAAAAAAAAAAAAAAAAAAAAAAAAAAAAAAAAAAAAAAAAAAAAAAAAAAAAAAAAAAAAAAAAAAAAAAAAAAAAAAAAAAAAAAAAAAAAAAAAAAAAAAAAAAAAAAAAAAAAAAAAAAAAAAAAAAAAAAAAAAAAAAAAAAAAAAAAAAAAAAAAAAAAAAAAAAAAAAAAAAAAAAAAAAAAAAAAAAAAAAAAAAAAAAAAAAAAAAAAAAAAAAAAAAAAAAAAAAAAAAAAAAAAAAAAAAAAAAAAAAAAAAAAAAAAAAAAAAAAAAAAAAAAAAAAAAAAAAAAAAAAAAAAAAAAAAAAAAAAAAAAAAAAAAAAAAAAAAAAAAAAAAAAAAAAAAAAAAAAAAAAAAAAAAAAAAAAAAAAAAAAAAAAAAAAAAAAAAAAAAAAAAAAAAAAAAAAAAAAAAAAAAAAAAAAAAAAAAAAAAAAAAAAAAAAAAAAAAAAAAAAAAAAAAAAAAAAAAAAAAAAAAAAAAAAAAAAAAAAAAAAAAAAAAAAAAAAAAAAAAAAAAAAAAAAAAAAAAAAAAAAAAAAAAAAAAAAAAAAAAAAAAAAAAAAAAAAAAAAAAAAAAAAAAAAAAAAAAAAAAAAAAAAAAAAAAAAAAAAAAAAAAAAAAAAAAAAAAAAAAAAAAAAAAAAAAAAAAAAAAAAAAAAAAAAAAAAAAAAAAAAAAAAAAAAAAAAAAAAAAAAAAAAAAAAAAAAAAAAAAAAAAAAAAAAAAAAAAAAAAAAAAAAAAAAAAAAAAAAAAAAAAAAAAAAAAAAAAAAAAAAAAAAAAAAAAAAAAAAAAAAAAAAAAAAAAAAAAAAAAAAAAAAAAAAAAAAAAAAAAAAAAAAAAAAAAAAAAAAAAAAAAAAAAAAAAAAAAAAAAAAAAAAAAAAAAAAAAAAAAAAAAAAAAAAAAAAAAAAAAAAAAAAAAAAAAAAAAAAAAAAAAAAAAAAAAAAAAAAAAAAAAAAAAAAAAAAAAAAAAAAAAAAAAAAAAAAAAAAAAAAAAAAAAAAAAAAAAAAAAAAAAAAAAAAAAAAAAAAAAAAAAAAAAAAAAAAAAAAAAAAAAAAAAAAAAAAAAAAAAAAAAAAAAAAAAAAAAAAAAAAAAAAAAAAAAAAAAAAAAAAAAAAAAAAAAAAAAAAAAAAAAAAAAAAAAAAAAAAAAAAAAAAAAAAAAAAAAAAAAAAAAAAAAAAAAAAAAAAAAAAAAAAAAAAAAAAAAAAAAAAAAAAAAAAAAAAAAAAAAAAAAAAAAAAAAAAAAAAAAAAAAAAAAAAAAAAAAAAAAAAAAAAAAAAAAAAAAAAAAAAAAAAAAAAAAAAAAAAAAAAAAAAAAAAAAAAAAAAAAAAAAAAAAAAAAAAAAAA//////7//v/+//////8AAAEAAgABAP///f/8//v/+f/6/wMACwAHAP//AwAJAPj/8P8AAAMA4/9OAM8BJAKRAewB6wHXAZkBQgGWAXkBkwGwAdwBBQLHAdsBswH8AFQAx/8b/6z+7f03/ev8Wf2l/bT9yf1X/Qr9oPz6/KP96/0e/nf+zv7j/lH/HACCAFgAHAA6AHsAZwDv/23/6/5m/iv+OP4C/l/+b/7//cr9Yf2g/af9Ef6R/nL+uv6t/oT+oP5w/hr+6f1b/qr+Pv/e/4X/Uf/6/sD+7/5U/yAAnwA2AYcBjQHXAWQCLgONA/EDMwRSBLQEoQSVBEkEAwRfBEkErAP0AoUCiQIFAr0BsAG8Af8BpQENAZgA3ADdAOAAxgBSAE0ABQC9/+D/AAAWALT/pP/C/2v/Rf+q/rz+d/+2/6oALAFzAQoCFgJ3AioC0AECAt0BiwHIADgB/QBDALkAFQFnAfoATwGbAf0AvgA5ADQAw//D/1YAq/9V//7+Tf5d/jD+Uv6H/l7+Pf7f/fv9V/01/YT90v0E/tr93P2j/bH9mf3O/eP93P3//Sb+qP71/nn/fP/9/ib/cv/D/7z/+P8wADwAVQA9AOP/CgAzAOb/5v+f/9b/9v+X/63/BQAFALL/pf+t/1P/Hf94/2H/af++/x8ABQDh/2wAoACPACkAPQDBAAkBiwHuAUQC9wH1Ab8BlQBHAAsAs/8Z/2T+av46/un9Nv6r/hn/N/+V/1AAwwDUAJ4AmgB6AKEAowBjADkAUf/e/n7++P0F/vf9Jv4V/t/9vv2u/Sj+kv7w/o7/b/8m/3D/d/8e/+n+1v4Z/0P/Rv9i/5X/DwALAAcAYQDNAHwBtAH3AaYCUQOAA5QDIgQJBPYD0QOqA6ADDwNAA/gCjwIlAsEBlAHUAK7/l/4I/qv9v/3C/XD9N/0K/R39IP10/eL94P1L/oH+r/6o/pH+m/7//l//Q/9I/wr/mf5t/tj+AP/v/iv/Wf9n/zH/Rv90/5n/FQA2AGIAbACuAAIB8AAjARkBmAHiAS8CVALoAf4BgwEYAZAAWAC3AHMApQCdAJQAawAZAIEAnQAVARUB0QD7AA0BegHSARICYgJDAiMC0wHlAQoCvQHiAd8B1QHDAY4BgQEwAV0BywDs/+H/qf+l/0v/jf+f/xv/L/8m/1D/SP/o/kb/hP9V//3+Nv+V/3P/7/8hAOcA2QCMAKkA+P+9/6//s/9y/wb/Mf8m/9b+Hv9W/3D/Kv/Y/un+Hv8Q/yL/SP8l/x3/G/8m/7T/zf95//v+jP6P/jP+ZP6x/rr+pv7C/h3//P65/l3+//1q/n3+Df4a/uT91P12/Sz9w/1s/tb+qP6p/vz+tP7+/ggA1gAVARUBpgEjAvQBVQFmAewB+gGlAUYB0gBkAML/LP/3/nf+oP7+/kL/Ov9V/93/SAANAU0BiwG5Aa0BzQH7AWMCCQPPAyYEEwTxA4gD4gIcAiMB8wD/APUAFAGFAZ0BcAEnAawAxAApAYQBpgHhAWEBRgCQ/yj/u/56/jz+kf02/cr8FfyR/OX8nvzY/GX9/v3c/XP+Mf+9/wYAZwD+AA8BswBWABoBLwH9AL4ArwB/AO//NAApAA8ABwANAHIAjgD7AMEBcQK5AoECIgKlAc4BuQEkAb8ALwDz/+T/3v9R/xP/3v5f/h/+W/2I/UD++P54/0cANQFHAXMBVwEAAVAAHP/T/vX+Xv94//f+aP4Z/sr9ZP3B/c79Ef59/h3/wf8iAEoAtwB/AMH/R/8t/9r/1v9TAOIAqQBhAOn/Nf9a/g7+Sf6w/u/+Of93/y//lf+1/2r/g/93/wsAPwAOACcAMwCYAKkAnACoAKgArQBZABoAVAAOAdUB8wEBAtABZQF1AbQBIwKHAnsCAQJeApACjwJ3AvABSgGWAG8AdwBkAAcAfP8d/yv/Cv8d/zH/Ff/y/jD/yv8LAD4AIgCk/0T/Hf+U/3X/6/7s/k3+Q/4G/nn+0/4r/jf+Gv5l/o/+Lf+p/2D/LP+y/jj+2P0T/mv+S/5T/kD+fv4y/5j/NQAqAMH/3P+Q/3//af8o/xL/Lf9E/2T/XAAfAa4BngEjAdgAPgAYABMAz/9d/7//WQAnADUAmQC4ADQA0v9fAE4Af/9o/4P/hP96/kf+Ef+6/mb+tf7t/3sAuADiAVACSwJIAlkCtQJ3AooCKQM1BJ8EGwTKA0UDBgMCA9kClQLWAWcBxQGZAWwBMAEvATkBnAASAFb/df61/Vn93f2M/qX+6v4s/zL/a/+9/+T/AwB5AKsAZwBTAGgAcQBHADsAiwABARwB4gCNAI4A9QD4AP0AuwCgAK4AiwAcAJL/D/+o/qf+o/6P/nv+o/5S/kf+a/5x/mH+M/5Y/mv+Gf7k/Sz+x/5e/4z/s//4/9//c/+n/+b/QQB+AM4ATQFQAfsArgClAF0AiwCHAO4AkQHHAaEB2QDSAPwA+gCVANL/bP8u/97+qf4L/rv9s/28/c39QP6u/nb+3f52/5f/Tf+3/sP+y/5//pf+2P50/gH+af6p/p/+T/5//sL+f/6l/tX+Df8h/xD/0//+/6L/Zf9y/8b/cv/5/of+xv4r/0j/yP8MAHcAtgDdACYB0QBdAdYBpAGOATgBMgEoAUQBQgGBAe4B1wE3AtwC3wJuAvMBEAIFArUBwwFcAfwAKgBQ/2z/6/6n/gb/O//s/jz/7v8DAAgAq/+H/6f+Iv5J/nL+9/77/tj+8P+hAGkA5gCiAdkBbQE5AVIBhQGbAZIBZwETATMBeAGtASABVgC4ADUBtgFpAjoDQwOqAkIDogM/A74CwQLUAuoCuwLtAaYB/gDE/6D+8/23/bn90v2d/VT9kP3B/bH9R/06/Qr+uv4s/wv/E//b/kr+Xv5m/qD+B/9e/1X/fv/i/7X/r/8GANQANQHhAMIAeQAeAOb/n/+M/1b/rf4L/lX++v5+//3/HwBBAOT/Rv9g/+j/+f+z/6z/5v9iAKUAZgALAGv/JP7L/UP+5v0D/dH8FP2M/dj90v1I/p3/1f+r//wAUwGvAIUAvQA5AJD/TP92/rf9l/3Q/cf9v/3W/SL+xP5Z/uf9nv4C/3r+fv4r/4z/9P8cAN//sv+V/yL/qf7r/lL/Ev/c/u7+Iv+G/yX/cv9SAOUAtQHGAtsDXgQCBckFDAbYBVcFOgUmBaIESARlBHYEZwMhAkgCqwKcAkMC1gG5ATUBuwBEADwACQDy/6f/W/8j/yD/8v+w/3T/Yf8N/x///v5G/rP9HP5z/iP+ev5K/+P/rv+C/77/m//j/47/Fv9C/zX/DP8//+T/GACn/zL/Rf/Q//j/LADpAPcBvgI9AlsCIAM8A/QCgAIRAlYB2QAQAYgBLwE9AOL/wP60/Wb9S/2F/Rz9Uv3Z/ZD+If9n/60ANAGrAGIAigC/ACkAbf86/4H/Hf95/rP+7v7+/sb+KP9t/17/f/9Q/33/O/8N/1f/mP/e/5T/w/8tAFMAeAAqAC8AHADq//7/l/9d/zH/SP/q/3YAtADlAEABcwFxAX0BawG3APn/vv8PANMAQwH5AEQBfwEMAa8ARwCRADgA2v8HAND/3//c//H/6P/u/+n/uv/1/4v/3f8vAPz/xf+G/4/+UP1+/hv+If6W/hj/qf9V/4f/ff/V/zv/sv7d/hH/Lv8z/9v+T/8x/wb+n/2K/T/9HP3J/Yv+X/7E/qH/w//u/kD+8f31/Wv+nP7q/oT/XP+H/7r/av+a/5n/CwAXAF0A2gAlAUkBKwFJAUcBSQEVAcUAAgEdAXwAAQDC/wv/oP66/k//5/8dABMAagDLAGoA+//i/37/5/6H/lT+Dv9u/4P/SADXAP0AGAHwAOgAfQACAM8AKAHzAGAB0AFwAo0CVwIiAn8BIAENARMBBwEoARQBdgG6ASwBogB1ABMBvAFrAiACCAJ0AQEB3wCnALQAAQDa/xgAaQANAFMA3gAlAcIAOwCKAB8BjAFTAXMBTQHgAKkAaAHcAQABngBPAJ8AygA5AIr/h/8lAJQAxgDCAEYACwAtAGr//v4J/5v/lf/i/qr+o/7C/pT+0/5i/47/wP8GAI4AUQBO/xX/eP9g/47+N/6E/r/+q/7A/tX/0wCHAOIAEAFdAP3/LAA+ABwAegCaAI0AGQC9/wYAVwBz/7H++/6K/vr9yP37/Uz+QP60/mT/u//Z/zMA+ADuAAUBHgHrAJIAqQCSAWn/nQA1AQkAWwKqAJIB3QHKAOsAyP/h/wT/Xf+P/qH+q/4v/vP+nv7P/un+9f4X/37/NP9T/1P/Bv8G/8b+pf6k/sX+pf6t/oz+9P5o/87+jf6d/tf+Dv9H/z0AbAAfAGUAcACsAIcAigBjAMr//f96AFcAnP9+/+P/4/+v/8j/zf/v/7j/x/9fAHgAjgBTAH8AVABh/zz/1P5m/rz9gf2T/rf/0//W/rj+E//1/rP+Ev8MAPUApgH4AdgB8wHUAcIB7wG9AewBwgEgAmwCuAL5AqUCEQINAnMCHAKfATQBAgH2ANQAkwB0AFsARQDQ/3n/nP/f/8z/vv8rAE0AKwBh/83+af7j/Wf9Yf0j/sH+2P6M/pX+Nf/w/yEABwBOAOAA8wC1AJ8AewD3/8P/LQBRAPr/0v+a/3z/5P9RAMMAHwE2ARsB/AC6ALIAgQB7AJUAqwCvAP//YP80/3D/kP/k/60ADAFiAawBVwEdAQkBQwH9AGYAbwBBAPv/JABvABgAl/8I/4D+3P5o/zD/uf7i/mX/i/+F/3H/9/4y/tX95P3i/k7/zf7I/gP/Mf+a/lj+XP5c/v79p/04/gX/tv8iACgA4P/U/3f/Dv/Y/qL+yf7D/kL/+f9IANoAKwFOAW8B+wDiANkAEAGNABQAUQBnADEAAQAAAdoA4gDMAMYA+QCnAAsB3wCdAK0AFgHFAeIB5QCTAK8AtQDYAGMAcgAOAD//lv5p/nL+ff4c/63+3P40/xP/IP/O/gP/5v4R/1D/Sv/v/0sAYgDgADwBoAG9AZYBbwFNAdQAWQDAAP0ARgFZAUIBrgASAAsA4P/x/7T/UADHALkAJAGGAasBIgGaAJUAmABeAA4A7/9PAKoA7gBHAVoBGQHSAIwAswANAe//rgCKAAYAeQBY/0oA5/+l/pf/Ff9T/8n/fv9GAKP/c/93AGUAcwA5AM3/g/9H/0X/CgBWANn/OQA0ADsA+//G/xMA1/+q/63/0v99/0X/c/91/4//Jv/C/mb+1v18/hT/ff/d//L/GgBnAIsAWQBqAC0AIwAUAAQAUAB/AB0BKQEXAUMBSQEHAdIA+QCCAPT/8f/r/+H/mP/L/9z/+P46/pH93v2B/mL+O/6s/jr/Lv8a/wL/mv4n/vr9J/6B/uz+a/9H/3P/yf8X/xf/Lf9G/3P/HP/r/rv+3v4f/3z/9v8QAFMAsACvALAAvACBAJ4A3wDrAC0BSwFjAagBwAFuASoBCQGRAFwAHQDF/+P/BwA/AHYARgC5/7X/Tv/F/vj+HP95/9j/wf93/wD/s/6w/mr+Av64/v3/7f/v/+j/lv+K/xL/Ov83/xH/nv+r/+P/Zf9N/qr9NP4l/4P/GwCSAAoBeQGBAewBUQKmAoECQgJOAtgBCALNATABVQEdAVABdgF+AVIBCAHvAPL/jv8zAN8ADAG+APUAMgHoANMAjgB5AJ0A/ABUASMB6gDTALcANAAWADsABADe/6H/gf8+/y3/Nv89/27/P/82/z//Vv9E/xj/3v7W/mv/L/8J/9X+uf7w/rj+Mf9s/2//g/+c/5n/p//F/zMAhQBDAOsA8AAaAAUAKADt/3j/1f9XAC8AVQDJAP8A/wBLAZoBdQF5Ad8BrAF+AU8BcwFqAfwArwCbAJ0AZQAjAMb/cP9f/27/Wv8U/73+zf60/vD9EP6v/sr+ff52/tP+6P60/l3+0P5j/0j/if8gAD0ABgDs/9j/sv9X/47/n/+G/9X/5P9HAKMAuwDlAGcBaAEYAYcBVAH1AMEAWwAqAJn/eP98/zr/x/67/v7+sf65/jX/T/+l/tr+v//d/7D/+v+vAAQB+gCjAMIA/QAqAQMBsQDiAGgAbgA0ALv/bv/z/hn/x/6e/mP/v//y/+P/+v9JAEwArwDJAOAAWQEtATcB7gCdAHQA9f96/y//Of/8/hL/Kv84/2P/lv9IABIBhQHBAd0BOAIaAsMBkwEwATMBaQFKAakAFQDQ/yP/Af8+/3j/if8q/0X/b/+m/qv+Kv8q//v+x/7n/tn+Tv4p/n3+4v1f/RX9Ov1J/Sf9jv14/bL9h/69/8gANQFYAX0BoQHrATQCWAK1ApcCTgJ3AmICegJ4AlQC3gE3Ab0AyQDUAMMAYACK/wAAyf9d/13/Y//k/3f/iP8CANT/uf9S/2T/n/86/43/jQA5AWABDgFyACMA+//D/1QABQE+Ad4BIAIoAhACkwFmAXcBbwEeAbEAkACcADEAqf92/43/+P+gAOAAAAHcAIQAcAB4AFAALwA3AIoAggARAO3/SP/I/mr+4P0a/mL+Wf5u/vL+e/9t/2//tv9UAD4A+//q/9H/nwCaABUAwP87/8v+ff6F/gX+mf2//cD9pf3z/Av9g/1h/Sj9iPza/Cj9Ff2q/U/9Uv18/Wn9y/3Z/Z/9mf0y/kz+jP6r/vH+yf82AAcBRQHSAM3/9f7f/iL/O/8Q/7H/QACCAI4AxQDfAO0ACAFqAN7/l/96/zAAKQC5/5P/x/80AOn/MQCqAMUA5wD4AIYB6QFBAmACZwJhArMBzQGTAtEC8QHoAA4BQgEVAfsAuAAZAa4AdgDVAHgAEQFDAYABQgECAYcBOQF1AdIBiwFeAWUB2AE4Av4BpAEuAmUCywF8AbwBAQJhASoBMQH0AOEAhwBXAFgANAD9//z/7f8BAH4AdgB4AG8ADAH+AOoAmAFOAeUA0QAaAeYAqP8z/1z/wf8pAJoA2wCxAMgAYAArAPP//f9CAPv/jv8k/zz/G/8P/+n+dv+p/9j/Gv8k/ywAnv9Z/1f/wv/q/gn/v/94/0P/eP5G/uD9Yv15/Yf9nP2G/TP+L/+T/5L/pP+M/x7/af+T/77/5f9Z/xgAMgAeAFIAnAASAUEAFgCPAEcAnP+s//r/xv+g/4f/2v/6//L//gDYANYA2wAIAW8BNQExAXoBswH/AdgBoQGYAc8AhgCXAKYA/wBAAQQBRgCx/4n/4v7X/in/GP/6/qD+NP7V/TX9wvyU/Ln8AP0p/bD9pf1u/UX9e/0Y/er72vy//c38wf2l/oL/Y//v/r//Wf9X/2H/z/9BAKv//f+xAC8BPAHrAJsAU/9V/9f/8f6L/xcAWwBeALUAYAHNACEAiP/O/vD8yfvP+1f7zPu+/Dv/zQAFAW8CNgJiATcAX/+i/yr/EAB+AdkCsANqA9EDLQNVARwA2v+K/xr/7f98AU0CEwPbA+0DQwPFAeIAwgAKAD8A/AD3APMAyQDNAD8AGf/y/gL/CP9r//L/QwEEAqwCgwOxAy4DWAIiArcBkQGgAcYBAgKRAq8CawI6ArIB3gBfAO3/rf9GAI0AJAHKAUgCVwJgAXQAb//h/uX+FP9+/9H/cwC2ANoA5ADmAP8AhgCt//v+KP/4/i//pP8cAOX/U/9n/yv/0v4x/nf+wP6p/jf/6v/j/x//vP5J/lf9yfwT/WD9LP0E/bj9Fv74/Zj9Zf7m/qP+7f7J/w0BhQH4AUMCSwL4ASEBPwC4/6H/dv8XAKYAVQCIAPkA6wANAOv/7f+m/1D/5f7g/jz/Uf+9/3EA8P+T/tj9yv0u/bv88fx4/Yv+ov4X/gT+v/2N/aj9NP5j/pf+i/+n/y3/Df+4/uj+6/5S/2IAEgFyAbkBNQJXAq8BvABQABUARQAvAA4ATAAEAXUBPwFQAfkA5wAYAcEA1wAmAWMBsgG2AYQBJwEkAYwB2QHGAY4B5gFQArkCRALdAQwCkgGZADkAIgAgAKUAJAGEAZ8BbAFPAS8BNAC1/6f/FP+6/pH+aP9H/9n+If/P/hv/4/5d/gj/yv9fANEAhACt/z//O/8c/xH/Tf8mAL8ADQHyAND/Vf7Z/aL9nv3Q/aX9jv5v/wj/k/4C/v39N/5p/g7/rP9dAAIBjQFbATYBDgE6AKD/Kf8O/zj/4P/4AKYBzwHYAewBigESASMBggHvAeEBuwHcAQkBeABxADsAAgD2/77/of+6/wEAwQDaACEBxgACAB0Awf8u/7/+V/9KAKAA/wA6AS4B0gDxADMBJwHFAB0BqgECAU0AIgDqABQBrgCDALQAIQHXAEkAmP/e/jf+FP4f/l7+hP7O/hH/Cv+J/2v/Rf88/w//+f7h/k7/Dv/I/qr+hf7B/u/+RP8g/zD/cv+G/4H/qP+O/4H/DQCm/3f/Xv/A/0cAKwB6AF8AEgD7/97/d/+A/tH9s/2R/bn9o/19/Wv9D/2i/JT84Pwa/RL+ov5P/ir+kP5F/13/af8l/1v/0P/W/73/BQBHABoApwAbAV8BVgHhAL4AJQGGAZcBvwFfAiUDCwORAhMCtwHQATEBdQDKAEEB1wEgAjMCtQIXA7UCwAEXAcAAaQCRANsAvACXAJcA+v8H/yv/d/9U/wT/Jv+o/wgANgA5ADcA2/8FABQA3//q/97/ZgBqAPv//v/q/4n/Yv/6/5UAkQCAALUACwEiASYBtAHsAagBbAGnAQ8CogEeAX0BawH0ALgAdgA2AO7/OgCxAKwASwAhACcAof+a/wAA8v8oAG0AIQF+ARQB5QDdACYBqgAYAI8A0AChAIoAEwH+AHoAHgDv/xwABgD0/wsAHgCP///+Cf+W/rj9bP2i/dn98/1R/g//Wv/+/pH+xv6C/pf9ZP3+/cr+9v4Q/1L/Uv9G//j+kv5t/p7+Hf9m/87/OwCeABUB0QBcADsAlwBZAKr/MAA9AK7/Sf/X/gn/iv+t/2j/p/+JAK4AcQBsADoAUQD4/4n/1/+K/3f/4/9XAAEAL/8x/+L++v4P//v+Lf9e/7//zf+a/07/f/+q/0r/4v7Y/tP+4/74/nX/3f8CAFsAsQCkAe0BJAHGANAAyQCAANP/Tf/s/mn+bv7G/sf+kv7P/p//t/+M/6n/uP+e/13/nv8LAPH/uP/Q/8H/HP9Y/oX+q/6H/uH+ZP/M/7X/t/82AHQALQD9/1MAogAOAT4BPgGPAXQBZAFRAWEB6QHTAoADIAOxArMCjwIzAgUC9AEYAgECzgHXAboBpAGGAagBvwFwARABlwApAA4AFACz/1v/qf83AFkA8v+P/yMAkwB4ADkApf9B/+b+tP6b/rz+4v6s/mL+ev6d/pb+jf63/nv/lv9l/yj/OP9r/03/mv+u/5r/jv9w/0T/Wv8aABABFwHrABgBQQHyAHAAKAABAEsAHwD//x0Aof8q/83+iv6c/sL+1f44/4b/yv/l/+v/LQBoAAoBKwHgAAIBbQGWAYMBSAHyAL0AWQA9ACMAMwCOALwAFwFxAVwBGwEZAYYB7gHiAVMB/gDQAI0AHQAGAPf/cP8W/7v+nv5N/qH9Vv2M/aX91P0C/vj9P/5m/pn+ov6N/r7+nv6D/pn+UP5o/tv+Jv9K/0L/Z/+u//7/1P/C/3UAJwFfAQ0BdgAdAPn/DgBGAEAANQB1AEkBygG6AdIB3wHdAbYBcwFWAeYAxACsAFIAVgAEABIASAAbACIAt//g/nL+0P6E/8T/8//8/6z/uP+b/xf/4/7X/gv/+v4r/zj/Ef/k//7/yv/R/+X/JwA7AEAAqf8u/4j/2P8kADkAHAAhAP7/uf8//xr/Zv9q/5n/PP+//iT/bv+k/+//KQAhAPr/tABBAQsBxADCAHkBnQGNAQACDAKjATcBFgEKAbAA//+J/zr/F//4/jb/8v+VALgAuwAGAQAB/AAiAeMAjACYAKIAMgCJ/zP/O/90/0X/UP/R/2wA/AAUAQMBCwFEATcBUQGHAXoBpAHcARMCLgLlAYMB/wCqAC0AeP9K/0b/WP81/7b+d/6E/ub+Dv8G/wH/Qf+p/+7/KgAnAFcAXgBxAHEApgD5ACQBxgEWAg8C5gGmAbsBjgHdAAYAbv92/8H/4P+//33/fv9c/xr/tf47/if+AP5a/qH+P/7y/X/9Hv3M/NP8I/18/Q/+1f6s//v/5v+I/y7/2/4q/u79Vv7d/v3+CP/q/oL+SP5+/rX+z/7+/vX+4v4M/2z/ff/H/+f/OwC+AMoA8gBPAX4BdAGPAXwBzwBCAB8Anv9F/0D/2f7U/gn/HP8e/2H/lP9P/2D/h//Q/7r/wP/u/xUA4gD8AK0A4wD8ACwBCgHVAOsAwwDDAIYA0QAvAZ0AUwBPAFsATgAbAOf/CwBmAH4ASgC7/wz/7v4h/1v/lv9VABIBJwEWAaUASwA8AEIAPQD9/6f/X/+m/9f/q/+f/3X/g/+x//7/TAAjAIsATQGOAX0BYQG0Aa8BmwG5AeMBIAL+ARcCawKQAsQC0wIAA8gC6gEyAaIAugDqALAAnAA5ACoAWwAiABEAQgACADj/7/7g/lL+Gf5A/n/+s/58/mD+e/75/rz/JADi/63/4/8dADIAbQC8AO4ABwHlAIQAMgCy/3T/mv+V/5j/Kv8e/+7+zP4d/wr/C/8r/4P/lf+L/6T/AwDXADgBUgGyAbkBiAFNAQsBFwHNAFMAgAA0Aa0BNQHSAOsAcQANAPH/x/+w/9L/0/91/5r/hP8e/zr/Vf9N/zb/u/6B/qn+KP9E/43+hf7U/hD/S/+b/87/5//D/6b/8P8EANL/dP8b/yL/wv8PABYACgD1/5L/TP9D/zH/Rf9D/0D/X/+F//j+vP74/tz+/P5C/zT/P/+k//f/2f/K/7X/vP/7//P/JwA+AOz/vv+n/8X/v/+C/6H/x//J/87/w/+o/9X//v+S/1D/c/93/4T/av+t/47/+P7F/o3+b/67/Xv9lv1X/UT9LP1t/a396/2L/oP/xf++/yAACgC9/yv/tf7r/Z/8QvyC/Kb83vxC/eL9aP6j/oL+e/4T/xT/B/9d/33/1P8PAFcAagDmAFEBsAFQAiQCzwHpARsCUwKjAs0C0wL4Al4DpAMFBBMEnANfA/sCNQKyAcwBGQLhAbMBkAE/Ab4AEADJ/77/0//e/9D/KACfADABqwHEAQ0CmQJEA7kDBQTxA4oDmwK0AYgBtQFeAT8BoAHRAbkBpwFrAZcAVQAkAIUA+wDwAEEBBAEgAawBcwFnAVEBjwEEAkQCyQLxAtcCOQLFAYIBDAG6APv/Uv9Q/zP/+v4B/2r/r/+H/1f/Kf8O//X+Ef+S/5T/c/+Z/13/+f6g/qT+d/4i/l3+c/5T/kf+M/7z/dH9v/2t/b79Nf4v/rT90P0I/tL9rP1p/R/9Xv15/Wf9t/1K/pD+ev6W/h7/SP8b/wz/Ff8I/5j+ef6Z/sb+zv7A/nz+PP6p/sX+Df85/8X+wf7R/vn+5P4A/0z/RP/T/y8AbQAjAVABXwFdARwBJwESAfMA1QCwANMA6QC4ANQAKwFAAUkBQAEqAV4BZAFLAV0BSQGbAHcAlwBKAAAAGAAsAP//7v84AHQApQD7AFsByAFjAaAB5QGqAZQBVwF8AYQBDQHZAL4AowClAOAAFwGoAHEASgDo/67/sP/S/3X/K/9b/0v/MP8R/4//+//w/x4AcwDBAJAAhAARAQwBiADLAAEBoADJ/2b/kf/e/l/+Uf4t/hL+wf3C/Wn9Ev1z/Qj+of6Q/tH+Tf+D/0IAVwBWAI0AzADIADMANwBjAMgALgEiAWUBtQFwAVYBNgHgAF4ANwCXACQAy//E/0z/K/86/xH/Ff9m/xIAewB7AMgAHAFtAbMBrAH1AfUBxQHdAdcB0AHaAdIBjgE/AfMAqQCrAN0AEwFcAUwBdwFZAR0BfQFLARIB6QDcAPwAxADSACEBGAEnAU0BIgGfAIYAOgG8AfEB2gG5AfQBwQEQAYgAEgCn/0n/+/5a/uP9Wf0A/Rv9Y/0e/mb+q/5P/4n/if9i//X+P/+k/63/n//w/24AEwAZADkArP9b/0r/5f7M/j7/H/9+/lv+8/2Z/YP9Y/2l/bT9tv3o/S/+JP6q/Yb9Af14/N78Qv15/Tj9h/3D/bX95P2h/d799/3E/R3+Mv76/ez9UP5p/nP9Nf04/W/90/2+/fr9Hv6G/qr+jv4R/iT9JP2//cH9Bv7L/mH/xf/y/woArP90/47/qv/A/4f/W/9//8D/1f+f/6H/Yv9G/4z/gf/T/2kA1wCnAbACDQMiA1cDlwNdA10DngPOA7kDgwOPA3ADCwNMAlQCuAKGAioCGQI4AnMC/wIoA7cC3gL1AoMCCgKuAaQBvAGcAW0BMwFLAX4BygFyAlgCOwJnAokCjAKRArECqgKCAj4CAwL9AeIBwwGcASABlgD9/8r/u/9W/9f+L/7V/d390/0X/jj+qf49/0X/h/+F/8L/JAATAB0A/f/v/zoAeADFAAMB/wATAawANQAJANP/6v8IACMAiAC6AOQAhQAlAAIApf+0/17/D/89/3//pv+Q/7b/2f+o//z//f8EAEwA3v/0/x0ARgDIAAcBHwEMAU4BiwFQAVEBAAEdAQoB0gAMAQkBIAECAeoAMQHUAF0AewBRAB4Axv90/8P+mv7B/m3+JP6x/QH+Uv7w/f39Zv6//m/+YP7b/rP+Jv6V/WL9lv0o/db84vw6/Z39vv3f/Y/9lf1G/e38T/1I/TT9JP3I/UP+H/46/lX+rf5r/g3+g/4b/2//9v96ANMAtQDkAFgBEQHIAJAAuQDoALYAsQAwABIAHgAeAGoAUwCGAKsAsQB5AOv/HwDg/7r/BQDi/4wAfwA7AJQAQwAVAKP/lf+Z/zz/cv9I/xb/av/i/wYAzv8eAAcAAwBKAB0AJACVAFYB5gHpAfkBSgJpAqECWgI8Al0C7QFnAVwBmQGzAacBCAJpAgACjwFSASwB3wBiADkAlQDHAJgAwQCTAPf/AgBbAGIAPQAYAF4AJwDU//j/1P8MANz/+/9XADIA6v+r/0n/hv5j/vn+bv+1/2kAbwHxAa4B5QHLAUYBHQGmAMEA9ADsALUAQQDe/4D/PP9W/3r/h/+y/4f/G//r/rn+jv6W/hb+rf3w/Rz+TP5m/l7+Xf7L/aT9If5q/uH+bf83APEAGwHYAKsAewD0/5z/wP/L/6//zv/8//n/0P/L/8j/+P++/27/CAB/AH0ACgBCAIYA+P+N/0P/OP8f/07/Yf9z/wEAOgBSAB8Ar/9p//7+a/76/QH+EP6g/fD9fP57/pj+dv5I/uH94/0E/rr9y/3Z/Tz+uP69/gz/Rf+g/8b/yP8tAE4ApgDJAM4ARwEcAUABMAHzACEBuwDQAM8AwAD9APwAxwCUAEUA8f+i/1X/9P5u/ob+eP4g/hX+S/5l/lb+Q/4U/hv+Av5C/rr+4v5A/7r/LgBpAJEA7QDMALgACAEyATABGQFUAYIBVAErATkBPgE2AV4BkwEBAn8CigKSAsgCIwMxAyEDGwOtAn4CNQKjAU8BIwFDAUkBrgEnAlcCcwJyArAC5AIFA0QDggNiA6gDDQSJBMEEqASpBGgEZwQaBMkD0gOSA4UDZAM4Az0DawN5AzwDQwM+AwIDsQJXAmgCeAIsAuwB8wHcAWMBNgH4AKwAewAMAA0ADAC3/37/7P6J/k3+6P32/df9Sv0j/QL9ovxy/Gb8W/w3/Fv8JfwF/G38s/wg/bb9Gv5S/pX+rP6C/kr+Kf78/QD+DP7Y/bj9uv2N/Wb9aP2E/cj9hf0W/dj81fyA/Az8FfxT/Er8C/wH/AX8Cvzq+6T7hvuH+2r7d/tn+3v7HPx//J78gvy0/Oz8JP0M/kX+Xf5m/k7+jf6W/oL+8v3c/Qj+Af47/nL+Mf4d/h/+oP2i/fL95P20/aT9Wv1y/d/9Uv6B/rj+Jf9i/9X/RADOAEkBagE5AXkBKQLNAtwCmwLKAt4C2AK1AswC8gLWAq4CJwLEAZIBhgGRAWMBKAESAUYBiQGhAWsBXQE7AUMBegFPAVkBfgGhAasB7AGFAvwCWgOzA9kDSgPUAuUC2wKeAjwCAwLKAXsBlAHeAb8BeQGXAdkBpwF3AZABVQEIAfkA3gBpAPL/GwAAAKv/Xv8g/x//zv6l/gX//v7T/kv/r/9w/7P/gwCbAHUA8gCUASQCYwJhAuMC5wKRArkCIgN0A0QDYgOzA64DVQP3AlMDQwMOA04DZgNBA8ICpwJcAhcC5gHAAQwC5QHjAd8BrAGeAbUBxQGZAVMB5wDJAMQA+QBFARwBOAE/AWABfQFlAWQBSQFvAdcAOQDf/zn/qf5r/kT+wv1m/Ur9Iv30/CH9G/0u/WL9y/1c/o7+pP6h/mj+1P1l/XH9Vf3I/HX8mfzR/Ej9e/1L/Qr93fwX/Wn9U/2u/CP8ofsV++36uPrh+jf7Ovso+zr7aPs6+1L7Ffxc/Cj8fPz4/FT9T/1Z/Wj9hv0b/kD+Rf5z/lb+Cf7V/df9Zf6t/sL+BP8a/9H+Uv5P/kj+Pv5m/m7+kP6I/pb+F/9E/7H/eAA7AboBlwEpAkMCwwHMAbYB/AFHAlICOwLxAfABKQKiAvoCxgKKAoICpgKQAq0CCgMxA6EDCAQfBNQD9gMuBPQD9gNABGsEFwSAA9ECxwJyAgECLQILAq8BggFSARcBOQFFAewAxQBBAXIBKQECAf4A9gAgAVkBkQG0AakBvgHQAU4B+QAdASQBLQFMAcAB8gEfAiICGwJUAqkCkwIlAl4CMgK8AbcB8wHTAVUBIgFjAdYB4wHMAdYBbAEhAfcAvAB8ABUAs/8b/8/+fP40/tz9bv1Z/Uf9GP0L/fz81fyy/J38u/yh/Hr8dPxc/CD8H/yA/Jb8R/3P/c399v0R/iP+vf0h/gL/cP/i/zMAlQCRAH0AmACbALUAwgDGAIoAXAAwAAcARwA3AJ3/9f4O/1D/4v4x/s79h/1C/Rr9/Pyr/Gb8mPyj/PX8Ff3X/Cz9Uv1A/Vj9Z/2i/Xb9o/3r/eT9T/6d/rj+cv48/iP+EP4v/lr+Af+R/9v/6v8yAGQAawBVAOP/Uf/l/jP/O//z/qf+mv7P/qr+wv79/gX/sf5d/lv+ff6Z/rz+vP7X/hj/kP/g/5r/2/8EAFYAGgHbAVgCWwJLAmAClQIbAnYBXAGZARsCkwKpArcCKANpA18DqwJiAnYCcQKBAoUCQAPxAmoCLQLUAc8BNQG7AIAAxQDeAOYATQFkAVoBZgFwARsBJgHwAX0CRALLAfcBPgLxAQ0CcwI/Au8BRALEAkED3AJ9Ai0CDgJcAhACHAIPAooCzwKiAnACCgKYAfAAhwB6AIoAYABoAIcAtAAMAXQBewExAToBdgHOAYwBagF5AYEBmgESAQYB9gDUABYB/AAeAW4BuQBXAEUA5P8NADIAOwCx/9v/HADn/0QAZwB7AFgAjACNABoAy/+M/z3/0f6I/qn+7P6F/u395P39/aP9hv2+/eb9J/7H/tv+cf6V/vf+yf6e/vj+7/7g/o/+V/5I/uL9zf11/U/9AP1d/BP8ivu4+zr8gvxw/Lf8Hv1L/T/9qPxy/Ar8hfwn/SP9fP1Q/Yf9zP1a/S390fzv/Dz9B/2C/aD9VP1T/W/9uv2Z/ZL9pP1j/dP9xP46/4T/wv96ACkBnQEnAmsC2wLOAisDTwPmAsQCQwLxAZsBdAE6AXMA7f/t/wwAUwAlAOr/EgDs/5r/XP9z/0r/jv9XAKAA1wCpALwAtQC2AI4BegG6AF0ArAD9AL0AqAA8AMP/4/8ZAB4AEwCsAI8A6QCXAdEBPQJbAd4AhQCGAMUAVwCQAEEAy/8FALn/hP9f/27/jP9d/xYAQAAcAJ0AqADJAFYA2//v/9j/FgCn/5P/bAAIAZUB7wEGA2gD4gIZA+QCugKYAmcCbQIIAugBtwE5AfUAGQFrAUEBCQEtAekA2gCyAFgAkgCLAOoAFQEcAQwBFAEyAfoAXAFhAWABVQFVARUBRwD2/3z///7n/g3/BP+1/s7+3f7//i3/5v4o/4v/9/9WAOf/8f/Z/5H/yv/D/2oAXgAeAPMA+QDvAIAAVQCLAK0A9QC1AOwAugAOAWoBiQG0AVABVgFtAMT/vP+7/u39H/2N/FX8Pfww/AL8KfwP/Av8oPsV/Ef8vPyS/T39hP3y/VH/0P+R/wwAt//J/6z/R/9n/2v/qP9T/+z+ZP9m/zb/qv+K/wsAMwC2ACIBawAvAcAAAwF4AXQBrQFxAYAC5AFdAagBUAEKAaAAWgAJAB0AWwABAPX/jv+5/qr+/P5z/1//zv9MAPP/3P+x/1H/Qv+G/6X/kf8r/0z/v/8dAC8ACQCE/+D+oP54/nr+Pv6e/tD+J/++//r/FwBGANEAGAEKAZ4ATwDAACgBZAECAZwAswC6ADIB1wCjAA8B7gCtAGgAnQBaAM3/7f+7/+P/5v8h/zD/Zv8LAMX/5/+hAEUAzgBBABgAPgCHADMBZADSABUB1QDOAKAA9wD3AAcBvgCTAC0B/AHnATQBJwHWAMgA9gD6AIQAfQCBAK3/qP+O/8f/fv+A/+j/4v52/6//zP9DADAAfABHAN4A9wBBAfIBxAHwAZsBGAHpAKYAnABkAB0A7/+8/93/UABRAE4ApAAOAWwBgwG8AYIB2AEjAoEB8wCmAAEBzwDBAAoBtQBkACsASwA3AEUAQQC//8b/yv/B/3n/lP72/Wf9Pf0X/ef88vzl/F39sP2J/Wr9if3u/TP+kP1i/Y79hP3r/WL+yf7K/gj/C/+X/m3+yf6t/k/+//5Z/1H+2/3u/XX9hf3m/b/93/xd/QH/8v77/oD/Jf/Z/lv/BgCK/1H/5/8SAKEAkQDyAOoARwBAATkBewGcAW8BZQIOA2MDAAMWAt0B2AHJAc8BTgETAnECEAL0AQwCXwLlAUkCeAJQAigCjgEXAZUAmwAMAZcAgwDHAFkAUwDG/zYAvv9N/7P/Uf+YACUBbwEnAfkBOAKbAaMBPAF9ApEB9wFdAnMBMAL1AeoBggHgALQAOABuAMsAbwBZAKsAQgGdAVMB4QDn/wgAdQA1//3/i/8F/8X/Uv/HAHkAggDZ/y7/cQCU/w//iP65/pf/iv/0/ub9if0I/nr+nv5p/mv+kf4h/qr+DP7X/b79iPx0/RD9mP1O/Zf77/z4+zn8vfxD/PD8SvyJ/fX9oP1i/qL+Hv4V/yQAe/9s/yD/+v+Q/6L/TQDV/hv/LgA2AGz/8/7Z/xwAGQE9AhICawLgAVoCPgK0ASoC6gAjAfEBQQJmAvABRwJmApcCgAJ6AVABxAH0Af0B9wHzAesBwwE5AgQCvQIxA1ACOwPEAzQEeAP5AicD7QEjAg0BnwAqAc0AEAFa/8//OABN/4r/xv6+/kz9qPyp/EL7YvuO+6X7qvud+/z7xvvM+3b8uftb+xH87vs5/LX8D/1B/S79g/3o/MD8xfyc/NX8avxE/Rn9Cf18/cP8Wv6I/kn+J/8l/sv+Q/5u/tv+a/1E/kH9MP24/Qz91/1C/sb+5/5T/hD/EP+T/hUATAC8ALAA6wDRATcBfAJvAk4CjgO8A3EEIwRrBIEFwAXSBgkGRwbuBrMGYAd0BigH/waMBmQGPwXqBX8GpwZuBs0FmQX0BNADQwNOAokBjAHuANgAngBtAFYAEwD0ADoA+//M/+f/CQHK/20AFgCH//f/Yf5I/xH/+/7e/8L+fv9J/wP/fv/x/t/+YP3V/Jr97vyV/Yz9K/1I/V79lP4h/c/9J//f/sz/vP4T/zb+Fv1J/eT8g/3K/BL8HPs3/Gz9K/0L/Z785P3L/WP+Tv5s/lv/nP+GAOz/3wBqANcAFgJJAh0D8AHWAtEBJQIDBHYDPgSJA5sEhgVlBAwFOAR9BFMFvQRhBXkEjAQtBegEvwQqA1cCgwFIAf8BQQH1AO8A2AB4AckAiwBNAID/9P+X/zb/d/6U/WP+C/7Z/cb91/yV/E78xPwe/Cr7jfoP+t35gPhL+PP3LPdp99P2Lfaa9b31CvdU9u329/Zp9ln3pfcB+an3a/eC+Jv4Dfmu+Gv4bPmg+7T6CPq7+Rb8mP25/DH+4fxI/k3+PP7v/tz+JwGR/wkBkgE4AWMBfwCkAicC4wPQBOQE4QcuCYMKzQqEDGgOXQ8cEEoR7hJcE4UUwRQTFXEVWxXeFMATohMUE2sSWRHmEGkQ2A5ZDiANWAyRCxAKBglcB80GgAXeA6UCyAAS/6T82Ppr+bL3zvZG9QD0UfPR8ZXwN+/p7SLtcewN7Dbrq+rx6rPrVewr7LHr3evm7AftPu6B7hzu/+7m7Wbv5O9s8FPxhO6n7tDuDPBO8Vrvr/Dj8OrxxvOb83rzV/S799v4ofuC/EH+ywHPA84I0AjTCYQM/A+HFSIXzhdRGK0bGSD4IeQg2h/VIR0j8yKyIAMfzx67HkgeQhwUG10ZrxjYGFgYYxmjGOsXyxjmGBQZ6xbDFL0TbRLdEIYNyAlXBjgE3gGq/tD7dPii9dDyevDv7jvtZusK6oLpkehk51nmpuUs5R3kE+NE4WTgE+Fg4JTfO96v3dzdat3O3czcAd3V3dLe3t4H3tvgeeGQ42Xl5+MP5nHm6+jr6Ybozuub6u3ri+4X7lXxYfN997L63vvfAFgE4gfnDDkR0BY0G7MeeSFeI9cnVyoJLNwtxC2aLoktKCzgKuIofCj5JeAiLiHOHYIbCxk2FwYWOBOIEmQQnQ+2EPAQpBEHDxcOEg7MD34Skg9bDTgJmQj8CeUGrgR5AEf/qf6D+zP5k/YC9YT0LvTp8njx9e+v7uruoe9W79jst+qp6W3pkelu6ITm4eMR41fi4+CW36jebd8I30TeQt9z4I3hYeHW4unlPeZb6GTpROmC6yntw+7J8eLyPfJa8uTxL/Y196P2H/uD/G0B9AXtB/ELlA4cFKsYLxysIFginSQQKNEs/C78LnIvcS+MMF0wqC30KkopRSYbJNMfrx20G/AYMhhLFb4T9hHiD8cOVQ5fDp0ODA1KDP4LLwxkDT0NyAt4CYkGIwUKBLwB1f+0/An7aflG99D00fFc8N7vG++v7YDriun/6ELpOumI6CfnzeQc4+ThveAV39zcV9o12TvZatgG13jV5NU415LY1di018DY4dvM3s7hVuMe46rlvuhU6wXuk+7y8K3xYfF58jDyy/L59Yn4q/sXABYDHwcNCpMN+hJCF3Mc7B+/IY4k5iecKp4rHy06LikuHS3FK6QqVijXJpEkLCE6Hogb6BgiF3sV8hN0E3ESlBEvECEPNw/8DtUOIQ6tDSQN8Q0PD1QOoQ0nCuMHawenBW0E+ABh/g796frW+cz3mfX99Jb0ofNX8pTweO6r7I/rL+un6TTnTOW04+vhJOEV4MDd99uy2j7a19hI1/zWndgk2ynbydvS3N3f6OMH5JXlG+b36B7smezw7lbvuvBT8ILvJPDD70XxRvPU923+aAN6BmgJbw6aFNkZwhzHIJolFSoDLtAu9C9EMagyBDOnMZwwdy4gLIEpIyh2JiQjqCDyHbgcfhtgGeQXyBWxFDIU9xIIEvsQ1RBDEWsRrRBrDwkQzA9nDwIOjQuRCX0HRgZKBFMCSgDr/Tv7mvj29i31AvQv893xofBZ78ftk+uG6u/pD+je5RvkkeLk3zLe29xH2wPaTdjF1mTV0tWe1gPYjNmD2UPbVtxG383he+B44QHiz+SS6EDqRuzB6xXs3uwq7G7sPey77ODvNvXZ/CQDIQcZC+4M2xHxFxgb7h+1I1UpFS7jLwgyvTF7MrQyUTHvL2ItgysFKTkmlCMzIEYdQRoyF/YUdRO2EtMRSBB9D2oOzg1IDe8MYw0ODSwNmwy0DHEN5AzfC1EKPwg5BsoEcAJw/4D9d/wF+6X4D/el9YH01fMX88DxwO+77uHsBeub6eTnbuYF5OLhY98a3TvbKNmX10rWqdXA1JzT3NMj1FbVxdeN2AjaG9xE3qTg8eG15IPnp+mM7CXthO3U7hPwBPB+7Rzs6OzN7yP1Cf1VBIULQxHcE4sVOxcXHJcgvSRrKtQuezP3NWI3AjfPNO0yCy87LFopFigZKFcnzyYPJDchLB3bGEYVxBLvEaIR4xJyE2YToBJtEdgPTA2qC3QKtgmhCUQKlQuwCzQLDglcBh8EwQB4/k38YPvd+uP5kvn892X2UvSn8X7udOs+6dXmSOVY5MPj3OJw4abf/NyE2nfYqdbu1ZPWwtc+2SvbstzE3SzfLuBL4IbgweHP47Tl2OdI6mrswe357ozw6vDw8Mbw5fA/8QnySvSZ9lP6aP4SAwUHXwnGC2INuw9WEfgSZRVPGHEbTB2zH7AhWyPQJDolfyUTJRglxyT0I0gjSSJtIdAfNh5UHIkaHRlMF+kVFxSxEnIR6w8ED6QNNwzuCg8KTAngCKEJ5AlcCVgIRQjSBzMGHAXpA2QDMwKVAdsArf/l/n/9WPxM+tD4zPZA9Tj0ZvLQ8Azvne0l63joneZd5CHiT+Bw33feyN0k3r/dWd0u3Vnd5txx3Afd/9xn3YLemd9r4JrhSeNH5KHl5OZz5zPno+f36Ifpeuq87EXwZPT49yr7q/3u/3gD9gVOCGILqA9RFNYXNRzdHxck/ieEKn8sLC40MfAySzS3NW423TY4Njc1WjPFMQAw+S1JLBEqUSgiJhoknSGlHeYZaBbGEw4R5A5yDfkLHQuPCdMHegVHA14BBP+H/f/7zvpV+eP3lfaV9Kby7e+J7SvrY+lF6Lnm+uXM5Azj8OD93l3dO9tB2QbYSteF1gzW89Uw1jbWOtaS1mPW0dUc1rTX5tiZ2Tjb39yd3orgfeKg45bjsuS15QvnpOjB66PwefWF+nr9TgDdAQ0EZwbxCAgNMxCaFZUZdR4XIoAlgikcKxIuzS5BMdIykTRcNk02GTc8NXszPTBuLTcrjyj5JpUk5SJ+ICwethtjGIwVRRJBDzsMXAqkCdEItgcKBtQERgN2AXH/If2w++z6oPo1+mD5aPhD9yT27/P48Kbuvewn68bpeuha50rm9+Qw4zfhVN+c3U7c7Nom2jjakdrs2ovaQ9r/2YDZYdlv2f/ZktqF2/rcI96F39PgiOLS443kXebK577ooelv68HuWPKe9h36z/yH/6oBhQTtBk4Kcg7NEisYDhxxIEskhSiuKwIt2S6/LwEyMDPmNBQ2GTb8NZUzmTF8LnIsBCqEJ3wlryInIb4emBxcGboV+BLCD2sNzgoBCQMIxQcgCOcGwwVeBDoD7AHu/7/+t/3S/Zn9lfyV+w361Pi79nv0KvJc8Ffvxu2M7JPqYukB6N3lkeP44JPfjd7R3Z3cYdwt3SzdH93b3LPcv9vl2jXbTtvX28rchN6G3/HfQuE04iLj1eMP5R7mXuaC57Hp5O1W8pn2q/li+33+dQBCAysFGwjQDEcRmRYYGuEehSK1JnMpmCpGLGktFDDuMGMyojLhMk8yLTArLqYqVCihJcgjnSFnHz4eOhxKGtgW1hPbEIIN8goNCD0GEAXyBAQFVAQ2A7UB4wALAPD+A/7I/Tn+bf7v/VX9ffxf+2T5ofY+9Lvys/FZ8M7uXO0/7MLq5+iC5lDk0OJw4XbgF9+v3rHeC9533b/c+dtp2nbZP9mA2THaytoz3K/d4d6b377g/uGm4sHiJOP/4wrl9+gq7kzzOvch+uP8bP4KAIkCcQXzCJgNVhOjGDwdECKDJXoorSo4LCotVy6wMHky3zODNF800zLxMC8u/So8KBYmjSRfIqcgyx6zHMsZOBbaEosPKw0jC40JpAiVCC8JagnNCCUH6wVMBM8CXAH5//r/4P9LACoA4//s/lz9n/vj+Lf2ufSN8zXyofAz72/t4Ou86S3ni+TC4k7h/9++3ufdjt1u3FLbL9oa2ZXXmdaT1s7Wt9dt2CLZjtmS2mXb3Nti3DPd5N483wbhSeVr62XxMfXp9x36VPxt/m4AOQO6B9gMcxLjFtsbviD0JCYoCSkZKiIrOC0ZL28wazH8MRcyBzHgLtArHynEJvMkIiM5IX0f7x3aG5YY+xRyEVQOQgusCAkHJgbnBdgFnAUtBKwCwwF0ADn/6v2J/Rf+ef7L/nv+Nv5A/Wr7w/iY9VPzpvGL8Dfvmu0/7ArrhemI5x3lAeMU4bXf1N7O3VrdutxS3HvbQNrG2M7XwddG14XXL9hB2TraG9t43K3cb9yR3EXd9d3t34Tkl+r88AP1FvjV+iP95f/jAUwFeAkND6sUYxmrHgsjoyd9KuUrrizILd8vDTLpM3Q1IzZ0NeozNDGNLlsr9CiEJjAkKyLdHw8efxugGOgUlhGxDh0MHQrSCIwIxAg+CdMIbwe8BaEEYwNHAk0BHAFcAbUBjAI9Aj8CPwGR/1/9z/om+WT3x/a79Vn0z/IW8SfvLuxx6SfnC+U74xXiQ+F04KHfut4h3fTa9NjF1/rWgdaQ1ibXdNdE18nXfNhB2LrX+9ew2MPaxt+m5rbs3fAk9Az3HvmW+8n9LQG6Ba8LDxI0F/oczSFjJhQpRyreKl4sGy8hMZgyrTPANFU0UzJALwss5Cj5JVYjSiFfH14dsBswGQQWvRGJDaAKOwjtBX0EZwR3BJwEowSwA+gBZQBQ/4b+lv2f/db+yP9UABsAyv8N/9v99/tm+Zb3TPZn9Yf0bvPX8cPvYu1H6gjnp+Tx4qzh3+CQ4FXgft+O3tzch9pB2H/WgtX21EfVStVd1Q3Whta31vLVmtV/1ZTX/9zo4+3piu2O8Nby4PQn90D5JvwQAdwHlw7OE9wZ9B8qJUMoOilgKuUr9i6IMZgzEDXfNfQ1czTsMcYu+iulKSUnOCT0IVcgsR4vHHoYNhQREJsM9gn6B1EGqgXcBeQFogU5BP8CGQL2ABMACP8r/00AqAFdAkICJgLAAY8AcP5D/L/6kvkD+Rb43/bz9a70v/Kc72vs8OkO6Erms+S44+biK+Kj4WXg/N3L24DaINm+103Xkdcu2CrZodn02OrXktdi2cDc5eHo52TsAO8k8Ynzn/VS92T5Nf2vAoEJOQ/UFBkb/iBtJd8m0ycKKT4ryi2nL08xhTJXM8EyrzAILl4roigUJloj6SAoH7Qd9RutGKYU6RCuDc4KZQhwBhsF2wQqBfgEtgO+AtUBkAAg/wj+8P09/i//s//D/xIAKQAu/xr9+Ppn+T34TPdr9ln1EPRp8kzwku366q3olubY5GDjAuKN4Kffkd5V3N/ZJtgd1z7WXdXa1LbU3dSe1V3VYtQI1EDU/dY83KniGuiW6mzs4O4v8SPzifQy+Ff93gO8CuMPPhaMHJ4irCWaJgooFCp6LYQvMTGMMsozKzT9MpQwti2yK88pZCeFJO0iCCJjIEYdJxnUFIQQmAyzCfYHyAaGBiwH0QdNB/0FBAUFBFsCmwC5/z4AdAHsAlcD4wKHAtkBhgD6/b77YvrG+SD5E/hR9wT2GvSc8anuU+xk6tLoneeb5o7lWeSF4yviyN8Q3VrbNNrP2JzXiNZk1rjW29by1obW8NcU3H3iL+lC7TrvofDn8gj1RPYb9yX6FAA4BzQNIBJZGLcewSNFJakl2yZdKUYsXC0SLhsvYjA/MFMuhispKXInAyasI6UgrB5cHbcb2xcGE+kObAsrCOIEoQLCAawB4QFLAbj/Ff79/Pj7d/o1+RT5UPrY+wz9rf3F/aP9dP1E/Kr6wPk8+ef4T/hz91/2Y/UG9L3xJu987a3suet56jzpHejM5lLl8uId4ADendyQ2zra+9gu2PrXFNh+19nWltbJ2H/eHeXk6k7tgO7O8DbzBfUI9RD35PtjAuoI3w25Ez0a9iBNJLQkjCXrJ1YrSS1gLuAurS+lL/stBSuOJ8Qk2SJjIs0hKh9MHAYb6BgtFNcN7giTBbwCUACs/nr+df/lAS0CKAAg/9T/j//Y/G77iftI/Lj84PxS/PL7dvwA/Br6nfdH9vn0OPOz8J7tmOo46Pnlu+I84NPfbOBM4Jffd98Q4Kffbd3V2mXYTNbJ1PrSFdEh0MXQj9G80hvVnNyo66f7XwkGEnoXxB0kImMkryLeIM0jsSikLEkt2C70MqI2KTWdLgMnZSFgHp0Z/xNBD5kNwQ2vDVIN7w23ENgTDhZbF2AYchkMGsIVjQ6xCIgE3AEQ/xf+dgByAvgD/AP6Aab/XPyf9yfyiO/p8ND0mvg0/WoCFwZ9B+sFAQJd/Q74zvI47vDqG+kO6JLnseb25MHiXOGV3/zd4dwg3KPcTN3n3UDf59+q4M/hgOJ34ibif+C33iDdZ9lw2ADdTujS+oMMrxu6JiksPjAILukmLB7dFogUnxQ+Fe4Y9R5IJpYrZir6JMgd7hYKEWkL8wavBgsKWRAPF24dRiMGJ48n3iVGIjsdphdSEKYIvQEK/jj8sfs3/GX+pQDFAK3/j/1b+jX3VPRd8Rnx1fSA+tH/nARDCAMKVQcsAk/6V/EP6p7k0eG24FjiC+UK5y/nl+X74Yzdq9n81ojV6tXB2NzcoOH25ennF+gu51rj2t7n2BfVAdKTz7/P9NI13tfy7QqUIGgvkzZhOiU23S3iIcYWXxP6FVcbxyG3J3Av3TQVM/QptxoMDhYF7f8v/nAClQv7F0giQiqQLuwt/SjEH28Xxw+7DK8KtAmYCosKDQvwCBwEWf9L+Rj2F/Q48nH0FPZ9+qL+4wFOBSEGGwagBVgDp/8A+9v2cfSl8H/tC+y/6xrrfekG52rk6uAD3eXYsdVt1YvXH9uK3pLiWua06Ljof+Z14hDfo9qk1nrUhtLR013TDNPi1cngavbKDxklPjLsOGY60zZwLL0eDhTiEREXNh4SI7InMCxHLvQoTBz/DX4D4f/MASMJuxNUIKIqBTAnMAwssSS2GhwRFwtkCvcMIw8BEQoQRwy0BQz9k/TE7NnoGung7Wb1If6ABZ4Jcgp9CAgEu/4g+v73xPhB+k37LPwG/PH4mfOt7bToxONr4Bvfr99D4XriguLO4C7f2N5u3gHdz9po2/XcvN6E4EngIOBU3Snaf9RIz+zLd8jfyIbKF9lA9B0UHTKcQPtFm0SlOj0tZRrkCwULLBNaISArlC9kM2QyWCkOGYgFTfo/+dsA/Q8aIKowcDx7P7M67C+nItgVbQuVBwcLtBKDGa0cFBrnEW0GrPmG7o/mNOWz6wf3bQKSC2cPeA/rCrsCCPvs89vxHfUI+kX/oQGxAWj/XPfO7QTlU9/t3JrcY9865DDoduke5/vhbd152uvXkNZL1kzabt9G4SLj++FP38fbHdUM0KzL18gnyFLIJMwo3DT64hr/Ni1BVUPOQAo2eyc2FF4HdwpsFr4kfyzuLJEupSqIHmIM4voI9Bj6AQeIGV4r4znkQQo/7jQ0JwkaQBDKChsMxBW5H4Um3iNeGroNIwDc8/3o2uUU6zH3nQW4D+MVlRawEO4HO/xM9DfybfQj/GcDTQjjCsYGx/2L8ZDlVN6h2a3Z9d2h4+roJeuW6eHj89o01JrQX89/0OfThtkt3n3i8+HU3bbYvtHdzGXHxcPkxYrGlsk4z8ngkv//HtU1eD1UPM03kS4cIA0RXAi0DiUcTCfpKgsqXic3IMESLwN59232cQDoEOojjjMJPik/2DcGLLgfuhVVEP0OqxWMHtMljyfXHuEROwEC81LqUOZ96dryCwDLDpsXXxgfElgIkf1X9gzyYfM7+6wEQQ0tD4ILNwM/9x3rkuFt3GvdfuH/5rHrR+5l7Yzn491E1TvRiNDx0eTUAtrn3xDjROLN3jXaz9Tbz/zIRMVnxdbE6ccyyFrQV+qUCd8qPT1aPjg+ZzU2KuwbPAu0CsEUryKmLRAsTChkI+IX5wnM+Szywvj/BrgaQy2JOjZB+jyKMVUknhkYFDoS0RVqHhwovCxPJ4ganQkE+S/tdOdi6Vnxf/2yC7MVqBlMFt8LcwA898PyUvX++iEEqA35EScQzAZp+lXuSeNV3dTcx+Bo56DsyO5h7dvnjN+I1lPQr8/y0mLXodx84YbjF+MO3zzawdXA0DXNyMuGygnM/ckKyRfJ0NNA8vQTYzRRQoVCGz/MNAYoFhhMCmAMixitJzYwAS28J2Ee0g/e/tXvxOsZ9u4HBx5rMFc8Aj8UN8Iq1h1GFbARjRJfGZwjMixwLVQjqRPJAYbxUuhd5b/rMvftA8QQ6RZRGPcRzQVS+wP0SvSV+hUClgvDEYoSsAyQAEb0/ujt4MDey+H+6ObvkvLP8Rjtx+Xn3LjUONEB00HYxN334SvlKeYT5M3de9et0jbPgMuUyUXJz8lWyhrH+8rg3NP4PhzYNO88dT5BNnAvjiKbEw0PQBJSHlsq5ixTKhwhwxMaBhH1TutW7J/4XQyzH9YuhDdJNiUvVCTOGqQVXxT/GNwfESgALHwo6RtnCSn3qunx4/LlJO4l+pUHmBFqFVoRUwls//L3lPVy+OAATAvwE5UXnhOVCSX9dPDR5oHhUeK550vuPPOU9A/xPepK4WTYttL00QbWZdws4wrpu+tQ6nrl6d5G2nrUOtBKzc7MRs46zaXL3sdDzMrhpQB9Iz03ITt+Osgzly7aItIVqBJAGWUnXzF0L8woxR3YDzf/Q+315OzoVfehCu4cISsiMhMw1ihxHs0XwRVLF5IdYiVNLfkveynBGm4HPvQf5wDiVuTk7Ov3KgRmDe4OpAoBArf4RvSY83T5jQMZDpIXBhopFRQLNv6I8bXmoeA04pvng+0b8RXxV+0U5i3dLtUg0fTRw9Y/3efkWuvg7avsI+dK4VLb39XE0qrQCdFq0WTRk88mzF/Q2eQoAKEeqy+XNMY1LjJ4MLUo0R6IHC8igSztM+gwTCuhH0cRRQBn72Xm1ecY8gwBWRAoHdQltyYjI3wc8BibFyQa6B+3JxUvsjD1KiAeAg3P+2HtsuQB5BzpgfK9/FwDRwYPBQX/CvnW877zLvrnAgAOKBfJGjAZgBGHBjX6U+745s7k8+Zn6y/vx+887c3n4+DL2VjULNNG1vXb4OIB6qvuevDa7qfq5+X44CLdENo710nWDdb70+zQyNGt4fv5GRVkJgwrNC3SLC4u4yppI3IhbCf2MLw4KzjuNEMsrR5mDSP7HO5v6S/tA/YfAZcLRRUiGV0YPhT5ESoRlRMZGeAgrikaL+4vkCkoHe4NR/+e82DtsesP75/zcfch+jH6bPfD8hjuKezb7kv1SP9PCYQQ8ROtEx4PtAdP/rX1ZO/w69TrROx264Pp8eX84PLaStS5z3PNgc550g/Y8N455IbnCeno53rlteC22zbYX9bW1ejWaNih4JTx9wY5HJ8ilCIiIIgeLyB5HlMd4CDjKEw1WT1YPZ05PjFaJjcWagZ3+7/4wPo/ACMGswvUD+0QRg+zCgEHHgXIB/4LQBMNHKkjjyfsJiYinxoQEPQFbP54+YD4Pvmb+/L81Pwa+yT3cvG47IjqEewt8P711PxCA0IIIAvxCosHIwIB/Ef3lvP88DfvOu4K7RDrgud54iPcF9Zi0TzOiM1Mz3rTANly3tfhVeN34jLgd92N2vnYodiH2eXf++1+Ab8W1COVKNgoIyb8JJkhvxx2GyUfXyhTMtU3qTqkOeUzXyiGGJ4J0/+f+7773/5eA5wJAw/LEQYR8g1hCXAFdgKhAjoHjQ3mFFAa2R3YHm8cFhi5EcUKBQX5ANL+c/5R/90AEwFy/4n8NvnE9dvykfCc72fwHfOP9+P78P60/+X+Z/zv+Jr0rvDp7W/s7OuT6zDrJuqW6OnlLeIG3rXaCNkw2YzaS9wE3oDfHuDN36zeNt3k23za7dmP3WHnsvWGBfsPVRZEGrEcOB9tHikclRswHm8kqCrYLpkyoDQRNH0u6SQfG5QTAQ7ACRkGSARUBX8HOQk8Ce0HRwUCAhb+GPsB+hX7bv1wAAoEwgeCCxEO1Q4rDUkKyAdwBc8DvQNCBGcF1AUjBREEgQKXADv97PgB9SrzCvN+86Lz2PPe83zzq/Ju8V/w6O9W77/tLuwP6+bqF+v06kPq9+kh6s7qAuuL6urpVegV5wHm0+Si5MHkpeRj5HDjzOOO5tnrVfQv/SwDqAcBC3cOiBGoEssTaxV0GO8cDCGPJHIoMSxoLmotrCmeJSoiSB5/Gs4XtBZiF2IYHhjyFsEUlhERDfAGbwGP/Z37Hvs6+wv8y/1n/3UADQCx/t39d/0J/kf/JQGDA3oFjAaqBigGlgWzBG8DwQEzADv/6v3o+zn57PYx9fTzEvMM8nfxDvHx7zXuCewm6gfpVOj9503o/ejE6TvqJurC6cLotucC56zmnebI5mbn3ec96G7ozuif6Zjrku9S9fX7ggCYA6kGZgk/DHoNSg1WDWIPcBN0F+sa4h5AI0sm1SatJAAinCBwII4gViBZIAshPSLsIV8f4xtIGEcUyQ8iC0UHgATeAYH/9/wL++35fPmV+WX5svk++n36f/rB+qf7C/0c/g3/XgDhARwDNgP4Aar/FP2W+qD4afcm9133Hfdp9ib1afOe8WDvuOy26hnqhOoY6/Lqlupa6pjpv+jh53DnKOee5kTmEObo5f/lUuaw5jfnXugY6uDrQe5W8b/1Lfqj/Nf+EwEKAyYFqgZACG4KlA1aEYkURhdLGgQd1R6pH1UghyHIIn8jmyPuIy4kDSQ4I2wh2R8fHh4bpxZ2EdUMuwjMBAUBAP5u/KH8if3b/WD90vxE/G/7xfrE+qj7+Px//sD/xwDBAeMBugCP/lP8VPtL+1H7L/vZ+pT6HPoD+Xr3ovW18yfy+vBY8Ajwm+8D7zzuju0Y7Zns1us+65bqRurS6QPpa+g36LbopukQ61rstO317svvavAv8hP1Hvg++wP9i/6WADQDtgU7B6cI/AknDAEPIhEREw4WDRq0HcofTSB3IAUhWyHGINMfpx8uIJ8gfB8NHfkZrxbHEvQNXAkKBmAE4APpA8gDvAMJAwAC4wCA/7r+Gf6z/Uj9VP3k/WX+YP45/b37sfp8+q36mPr3+S35Yfhl93f2lfUQ9YD0IfT585zzNvMW8rPwZ+9M7pztS+1K7VPtdu2A7UPtXewT6yrq6+mG6jXrPOwz7QXup+7F7iLvUO+V7xzwdfG88yj3dfqz/Nr+igCbAgoElwSMBZIHFwsLD7kSMxaoGdAcsR5MHxcfvx4dH/QfdiBBICMfah1UG6kYHxYfExEQew3eC4wLbQsbCyUKowhlB4MGqgWsBIQDpALwAcsAUP/a/br8wfvl+pH67frC+x38rfuI+iP5BPj19u/1RvVS9bv1sfXI9HnzuPHQ783uQe447mTuge7Y7gbv0O5z7oztnexD7GrsY+3V7mDwTvGw8YrxF/Gc8Ojvcu9X7+/v9fBo8t/0z/d1+ov8g/05/gD/BQDoATIEGQdJCq4NKxERFKQWEhn5GvAbZxzFHKsc/hsPGyUaDBkwGB0XwRXhFHEUXhS7ExcSfBBwDwYPbg6EDaoMpQt0CuUIHQcKBf8C+gDj/lT9rfzj/ET9/vwR/Nv6o/lh+Br3UPYp9oL2OPeS9033u/Zg9YHzoPEe8G3vUO+570DwtvB/8Nfv6O4q7vvtJ+6X7p7v6vD/8dfyGvN68yXzuvLh8SbxO/FV8RvyQ/PK9JT1RvYj90j4CPpD+1z8N/6xADIDtAV0CFcLTA6/ELkSYxQ5FkMYLhkVGQAYJBctF9sW+xXJFCUUKxRzFKAUKxRSE3YSTRGhD1UO2w30DdkN6wyFC9QJHQgsBugD9AHpAJcAIgBT/5v+Ef4d/Wn7mPmK+JD4UvlA+uL6+vrV+hj6z/hP9+v1uPTd8//yWvI68t3xd/GP8KXv3e5V7kzuhu4o7xLwYvEl8qvyuPJM8nXxgfCp7wTvEe9e7x7w2vB58abxZfHn8OXwQvL29Dv4jPoC/eb/EwPwBcsHown2CwYPmhHlEqAT5BSSFqkXdBcEFtQU7RSPFcIVkRWpFesVBhZUFTQUfhPDEvkRzRDED24PDw/mDSQMOAqsCHAHJAbHBLQDCwNUAgkB+P5j/bP8svwI/S/9mP1X/sj+Rv78/IP7//kc+Df2B/Wb9Gz0tPNS8sXwt+/u7j7uYe2x7HvsuOyB7evtA+4N7vPtVu2C7Nzrh+v162LsheyM7H7sVOx57H/sN+yd7HDuGfLH9i37sf2z//IB/wM6BmMIGwvsDpUSZRUgF5oYnBqEGwMbGBlhFwwXiRe1F28XeRd7F8wW3BRqEuIQnBBZEGMPug2SDNUL/QoQCtQIfAc6Bt4EjgPgAnsC+gFYADr++vzu/Hn9x/33/UD+9f5s/wj/Pv5N/Vb8Kvum+Yz43feN9/D2mPWi86Hx2u9S7lDt0eyw7Kzsn+x37FzsWOwb7BDrB+p06Ujpxun16WTpuujS5/LmrOaY5lTnaugt65nw6/az+779Z//CAUcF9ghPDJUQZRYJHOgf0CHyImck4yQCJAEityAJIVAhICBtHXEaFxgmFWYR0w39C8kLZQsDCsMHxgU3BLYCFgFAAOUAqALaAx0EpQMeA3ICzgCP/yv/JAC3AXYCqQLEAp8C7AFCACP+nPw1/Dn8f/sv+s/4pPcZ9uXzy/E88B7vFO7K7B/sBezK6+Xqc+lP6Djo1ejw6Oro7uhc6Wfpfujz5rXlUeRx4jzhB+HB4uTmyO0f9jz9if/s/rT/1wKRCBIOVhMwGlIhDCcIKlMqgioGK7YqRyk7KOYo/imgKJ0j/xzfFtARhw3FCYcHYAdVBt8DOwCO/HT61viu9x73B/gQ+5/+yAD3AaICugJWAvsBAwPfBXQIdAmXCVEJLAmbCOIGXwTgAfX/0v4U/Z36yPfp9CnyTu/q7GfrXeqj6GnmTeRE4xrjv+L+4abh4uFL4qTiM+M25DblluVb5NHic+Gz4N/fXd6N3Zre8uRj7y36cwCY/+79t/9QBdIMVhOWGk0jryq2Lu0uHi7uLicwIDD5Lh4v1DDSMN0rqCKsGakT4g9uDKgIogZKBYcBlfvU9afz/PMn9Af03/SX97v6hvw4/U7+dgCRAtkEUwdbCpsNLw4UDWYMJQ0lD1YPEA3qCcEGPARpAT7+U/uZ+LH1xfL87xrtz+nt5QDiD99o3pDfWOGT4VDgS9/c3mDfyd/Y4HTja+VI5mflzONe4pLgZt413XDdSOGE60f4/wLNBNz/O/3xAK8K3hRqHOgjMCtoMJ4xXi+ELj0wATMbNOgzSTTFM/EuliR7GSgTfxHMENAN4wjxA5D+zfh083vwrfAE85/0EPTN8/n0GvdP+OT5SP4xBYMKlgt8CiwJXQl1CocMaQ9zEpYTgBFeDLIG8wIrASUAT/6H/FH6SfdR8nPsnOei5DPjreK74rzivOGC3xPdu9tn3KfeQ+H/4svjSuSB5PHi+eAN3/TezN4f3uTdrd1/4hTsnPgCA04DMv+m/38GHhJyGo4gbieoLv40lTalNTw1mTbTOAU5mTgQODc1cS7+IrUZihUaFHEREgukBHz/lPrz9TPyrvCM8G3wjvCG8EDxl/MW9a72pvj2/JMDKgfACJgIcQhlCYMKRQ3VEIQSkRE6Dm0KvgajA0YBHf91/fj6T/i79NnvE+u85tzja+Lo4Q/ioOAI3vzbAdyv3TTfouDG4oDkw+R75GXk7+R45LjiD+HQ3gHd8NtH2yje6ufI9ccA0gEw+775lQDwDKUXIB6tJVYuHDWjNrY04zNUNjE6uTxoPWE81zeDL4IkaxsPGC4XiRRiDeAEm/5l+Zr0RfEw8IPwqfDO71rvme667p3wqPK49r37bgIwBi8GpgXVBuMKkw1fEPMR1xK6ErUQrw51DEcKZgjNBUUDVgC7+4f20/C57F/pteZ45CLimOBa3vjb7tl92gbdJ99m3xXfnOAB4ijjFeSl5WvmieXj48zh+d+A3k7dc9x538LqUflUAkL/hfYW924BZQ/KGJIdfiTiLPIyyjMKMn0yLTbfOjk9wTy8OcQyzyifHkgZhBlAGfUTzglXAGD6Rvae8hbw4+908F7wFO7G6+/sce7E8Yz12/puAgoF8gQDBAkGTwvGEBYUFBQZE7gQ1Q/6DtENnQ0EDMAJgAcCBOD+Xvhp8ozvv+6m7Z/qr+YF4+bgdt/v3qLfr+AV4vbhTuGx4XnjvuUF50To1+mw6k/pxeTg4MLfa+CT4SnhQOFy6Ab18f8YA2D7pPgCAKsNVhsGITQmpSyNM7o3wjjhOYA8AEARQdo/4TwyNyEv8SWhHuEcAByFF3YNqQHX+V31l/Iv8OfuiO7/7PLpCOcl5ybrrO+R85/1mvk8/84BLgLsAaMG7Qw+EecSihEIEIoNVQsKCxEMDQzeCegFJAHk+4b2V/G77fDrLetQ6mLnx+PR4OveYN6G3nff3uB54fTgt+Cb4drj/OXr5vLn5+f05pvkieD73nrfEeDL4AnfTeF564f4EQLb/175Fvs3BogUPh4PIy0pbTH7N6Y6JDuQPD4/yUGgQS5AhTzQNUMtXyQvIP0fkx76F6cMmwKN/Jv4lvUg87ryT/Lk7/Xs3eur7+TycvR99dv41AC7BcEH5AZhCMwNAhKwFJIUsRShEkAPmg05DbYNwgpjBUkA7Psn+LDyMe076m3pEOmX5vDiqt9K3T3c2ttp3Kndpt7c3trduN3E3mjgROFg4Wzi8+OX427g+Nzf2X3a2Np72iXa8doS5pDy3/vB+tDyWfTc/TANwhfWHHIifyjFLV0v3S9BMqk1YjjnNzw1pTKTLRcnFh+uGqUaEBkNE4sHRP019x30nvK38QfyRfJW8NntuOsQ7nPyqvYV/I0AbAf2CowMjg51Ee0XZB3VID0iuyHjH3kd8hvgG+AbXRrnFbwQwgoqBWEAg/yF+8r69/gP9XLw0ey76nbpb+kM6h3qKel357zlBeXe5FnlGObC5m7nKudv5R/h8t1t3Pfc4t143Qjb/trD4urvQ/sD++Pz+fJt+9oIqBKUFggc4SFrJiQoAylQLF8vhzAFL7Ut/CyKKkkkEBzUFpQV9hNWDi0EVvoC9DLwRu4D7a3sauz+6bzlN+Jt4hXpVe9T82H2dfmJ/s0AigJJBdEJYQ+3ElMUXRTSE5MRkw69DRgOcw4BDPQGtAGI/A35j/bS9JzzjfEx7mXqgOc55r/l9uTW4yvjq+IV4o7hruA64XDiruR95i7mt+WL5MHiR+Jg4Wbjh+Tg4/XjH+Hv5h3yJ/+WBkkAa/vn/acIMhXkGrMfgSUSKvQrhyqsLFUx5DSeNB8yxzGNMPEsXCXrHeMafBnUFuUPTQdDAVH8vPgQ9lL1wvVo84TtZ+hT6J7tyvIa9X72+PnS/XH/rwHbBAYLgA5qECQSuhT+FgoVfxLuEG4SdBOQEjIPdwsoBycDSwD6/k7+zvt39+/xzO497Sfs1em95yvmoeQB48zhvuEo4nDiJ+NV5HnlJuZh5RDlm+Sa5UHm9+YL6HHoVui86LjvkvqbA18EO/6f/iAEGw3DE1MXQB60IQAjPiG8Iisp9S1pL+4sqSvfKq8o6iP2HtkbdRoiGBIUXQ7RCHgDxv0a+tD3GveZ9JrxWu0R6ibpm+rU7nfxdPMO9Er1bvf8+br9GwFZBOUGwQjfClMMJg1WDYINNQ6PDm8OGg0fC1YICQYkBGQCyAAx/nP6sPWE8a/uwey06k7ooeU34zrhfeAd4RXi8OJH4xrjF+ME5JvlNedW6D3p5eog7dbu4+9c783uJPH79vX+3QOfBPsCkANoBlQK+g1lESIWERhuGdUZzhw4IfMi9CJnIGcf/h7KHvYdWRy8GpwYuBXTEegNiApEB5QDiQAu/k78BPq69l7z0fGh8WPzO/To8+3zxPKQ88X05vZb+Sj6Ify5/f//BALOAqgE7gXnB54JtgpGDDoMIAvKCMsGQQZjBdAD4QCl/fL6NfiI9dXymPB97m3s8+oj6v7pMeoM6gnqReoZ63DsqO0G74nwxvLf9G72Kff992j51vqe/Jr9U/+cAK0CMASgBAIEiAIWBCwFJgjJCKAJjQuSC80MWQxRDuIQ0hKBE1cSXRKVEtMS1hKqEnESuxESEKQOpA0ZDfwLxAnwB5kGugUsBOQB6v/V/uf91vxA+7L5EPhg9s/11/UY9733//eO9yj3HPjl+Pz50/q0+378pPz1/Er9Zf1f/bT8cfyD/Gn8yvuW+sH5Cfny+M/4ifiH+D34Lfjv9433evfV92v40/hJ+eD5FPo6+lr6b/oU+7P7SvyT/J38svxl/BX8A/w8/ML8Mf3f/cr+Tf+i/2r/W//U/wEB3QJKBIEFFwb1BuMHcQjmCFAJAApiCqcKpwoMC6oLkQxpDX8N+QxeDEIMFwzcC6QLfwv4CgEK0QiKB3oGhAXWBD0EBgRMBEoE+wM2A1cCCQJcAsQC/AL4AqAC+AEBASQAn/9t/yT/g/7i/Tb9f/yB+4X6EfrT+ZT5KPmg+Bz4lfcq9/H2zPYS96D3BvgY+AL45fej92n3W/dK98P2RPb59e71MPaU9hn3b/eF92f3Efez9s/2K/dt98H3R/hT+dr6TfxU/dL9Yf5l/8gA/AHqAtsD3QQQBhcHFgg3CXMK3AsRDREOvg7wDlAP1Q/uD5oPHg9UDqsNQw3WDHQMIAygC9UKOwr6CagJ8ggKCHkHcQd4B0YHHwe0Br8FsATuA1ADpQL2AQwBBwBI//r+SP70/O/7nvvU+737+fol+sH57vlb+rD6yfp9+vv5iPlW+Xb5ifk5+ab4Evh/9/X2Vva+9YH1xvVS9o72H/Zq9cv0Y/Q09If0bPUz9q/2+vZW9+X3RPiU+NT4N/kX+jr7XPxn/Vn+Vv+dAAECcQPeBCQGRwdvCKgJwQrAC7AMZg1lDRIN7Qz+DDcNaw1JDdQMiAyXDLoMmwwmDHcL3QoaCiEJawgoCNoHDQenBXAE4wPOAzYD5gEwAJ7+yP19/TH9YPyQ+zb7VPuF+4P7EPuE+kT6n/pT+9H70ftk++v62vod+2r7Yvvd+lv64fmu+YT5NPn0+OL4Evn8+Cb4H/eR9ln2RPZa9lr2P/ZE9kL2G/YG9mz21/Y897L3GPiH+L/4pPi4+Gr5g/qC+538rf1//pf/5wBmAqQDggRTBToG+AYjB5UHfAhRCe4JcQrJCggLgAsPDKAM2gzjDOcMjwz7C5gLpAvwC7wLzAqXCTUI8AYBBgoFAAT4Ag8CUgGbAAoAj/8A/2T+9f0C/v79qf1g/Y391/3s/cD9Mf2r/Hb8ifyy/J78Ify5+1f7xvpa+hv64vl4+Vf5cPkx+W/4jfcW9/P2OPeQ97b3rvez9wH4QfhX+Fz4Z/h/+LP46/g2+Yj5yfk6+uD6bfvE+yT8lvw6/Qz+Lv85ALcA3ADuAFgB3QGiAo8DPAT8BK8FbQY5B8UHbghlCYYKigtHDMsMEA0vDVMNqQ0bDmIOLA48DdALWQpACb0ISwiZB3wGYQXRBJAELwR1A9gCmgK0Aq4CZAIAAqkBgAGLAXUBKQHHAGsAAwB5/+b+XP7Q/TH9Wvxu+6j61PlA+cv4iPhL+K/3+/av9gb3ZPdP98j2UvZU9pL24PY49433yvf999L3mvfC9xn4d/iT+NP4Q/nB+ej5FPqW+mj7X/zm/BL95vzz/Ef9nv0Y/n/+vf75/j7/iv/V/2MAUwF/Ap4DYQQjBboFDwZZBpkGCgeLB90HygdiB74GSwY2BhoG9AWBBREFpgRdBD0E5wOpA6YDIgSuBN8EsAQdBKMDcAOwA2AE5wT+BN8EcwTtA2gD9QKsAigCeQG0ANf/yv69/ef8Cvz5+hn6xPmM+WP5SPkW+eH4wPjR+N34t/iv+Mz44fjl+Nj41vi5+KX4vfj5+Hn5Cvp++sP6FfsG/EP9Ev40/iX+A/7x/Sf+mv4f/1r/gP+g/6v/wv/i/yAAlgBFARcC4wJ+A+gDDwT3A+4DJwSGBLkE2wTMBEcEqgOFA34DLAPiAvECFQMXAyMDfgPYA+ED8QNBBKcEwwTyBEkF0AWiBrIHgQjNCPgIFQnzCIkILgjrB94HwwdfB50G0gUxBXgEYgMzAlwBpQDs/xD/HP4R/RL8XfsO++36x/qL+jT64vmp+bb5AfoQ+hb6dvrN+hX7mfsJ/CT8WPzF/EH9lf23/YT9Cv2U/JL8EP2Q/eL9J/6Q/hP/Wv+P//D/XADtAB4BFwE5AWYBggFOAfYA1AAZAXcBngFhAfMAoABlAEMALwBoAJgAjACBAKAAxwDtAPIAhABzAMEARwH4AacC/wLeArgCuAIeA5MDvwPAA44DbQN3A3EDSAOEAlcBVACm/1H/8P5T/sj9SP29/En8LPwP/KT7I/u1+pT6r/q++tX6yfqw+v76ZvvL+777pfvW+0D88/yD/cX9//2H/hn/aP9p/zX/J/8i/0n/nf/+/08AWgArANz/4f9CALcARQGTAY4BngG/Ad8ByQGcAVsB8wCzANEAIgFoAXABRwEQAcgAcwBPAB8A1P+J/2j/nv/e/+P/lf9X/2L/xf9oACkBdAFIAVYBJAJfA0oE3wQyBV8FMgUTBWMFhQXuBDoEmAMWA6gCGgNDA8ACIgJOBF0ILAaJBtkBHP8J/EP3fvuJ+UT9eP3O/jz/KfqK+VD1RvUh8wz2G/g3+Rn7H/p7/Ef6mfqV+Vb5p/qI+pL+lP8YAhgCBAXlBAEAOQMjAfACTQL+BFoGcgS0BVMEUQTzABwCdgH1ABcBZgL5AoAA9gMtARIAHvyM/aoAbABuBcEFdwszBsEF7QP1/XP94/g8/7/9Xv5pAKEB+P31+kL8mPl7+kn4UPze+ln8Ev1Y/Cn98v/kA9YAbQXqBV4HZATmBMwEgwJHA5ADHwdwCT4I+wi3B9AC4wJ//cr/7vu5/eD+0v4TAOz7mftg+Dv5Xffb+oH7Z/03/Qn9j/5e/24A9P9pAqQB2gNSA9IDGAS1AiQC2wDAAVkBxv/o/Zn9Ff3K+nL6lfpk+fD43/ia+mn6Ufpv+lP5u/iq+FT6uful/X7+Xf+q/sn+DgBf/1QATgF8A5IEAQVdBoYGnQU9BawFjwYJBzsHwgceB3oGVQaWBnQGxAVOBQ8FyQSWBAsE7gNoA3EDywOYA9kD9gOdA1EDTwP/AvwCXALcAc4CoAJWAlkCgAI0AxgCaAHU/3z+Tf5K/I386vvQ+vX5V/hj+JP2x/V09rH1NfUs9QL1evZw9Fvz2PT8823zB/IT8wL0jvSY9DD1sfW48yD1ovZy9034YvoK/pv/TQD2AfkEnQYeBywJ8wvQDvYQ2hKAFT0XBhn1GC4YtRggGDQXtRVmFQgVOxNREacPww3/CsYJ9gjCB/8FbgTnA6gCBwGe/5f+BP55/fT8zPzc/Jz8A/zN+277lvts+5n6dPoA+tf5Pvlg+JD39vaH9Tn0efNR8fbvKO157HjriOkf6ejmhuWz477hPOBJ33zd4twi3GbbMd1X3srifOkW8MP1H/k8/L4BXwYcDPcSTxiHH64kwCnHLRcv/y+fLpMs8yr9KIgn2CSzIBQcQxb3ELsKJwT5/nj7bfiO9TH0yPOc8vnwA/Eb8uDzwPZH+24BdQX4CK8NbxA7EgoT+BO5FYkVsxX0FVsUehKODtYKegbZAa391fim9RHzKvA47azqJ+mL5mrkTuO84pTi4uFk4zzkr+Qx5YTlnOaB5rznXOh85xXnzuXQ5fXkjuQf5ZjjtuZu7Un2wvxY/zMCUAVeCPILchCkFRMc6yGOJxErwCwwLeQq+yY5I+wg0R8eHsIb5xcMEyMO8AhEA6b9b/pq+BX37/a6+OH6y/tL+6n72f2xAToG0gp7Dz4T+xVpFiUWgRRlErAPBA38C7sKOQkYBj4C9v27+J/0kPHO72/uJu227IXsjOze65/q1ug358DlTuWU5sfnEuh95/fmJeaF5Z7k5+Qr5DPirOFJ4DDgmt/b3tLeNd+K5UHxaPz4A5kGzQk+DqwRbRbcGmMhzSgQL4c02DZ+N0I1Qi8wKNchEB5AGx0YnRSUEH0MxAcqAqX78vXk87vz8fS1+OH97APrBdIGFgnADGQSjBRxFxgZixoVG3AYjBZaEp4NzAdKAoL+mfpy9nryOu9h7Yjr2OmA6Snpxekg6gzsL+6S7/Hvpe4/7bHrguvu6i3qY+nF6BLok+Zw5QLkPeGb3sfbs9kx2bXWxNfC13DYBNwU4+PyPgCpC7gPKBQFGh8ebSJBJCYqyi+1NSk5nDqROHwz2ylWH/0V0A5eC04HjQXsAqEBj/6d+v713fKI8rr0TvqgAa8LfhO0GY0flCFeIfceoxtkGzQYWRe+FtsUTBIPDGEFzPxd9APuYenK5vvnjeoi7SfupO+p8G3wou9H7yjwi/D18Onwh/Eh8TbvYeyd6ELl/eKi4Jzfqd6q3gDfBt662wXZZ9fc1VnVKNaj27fgWO18/tIPChxzHFwgkyH4I14lKCb8KaYt1DGWNa4zpC0wJZIYXwz8/3z6ivcs9tX2BPoS/YH9Pfwm+8z6DfyxAKQIqhM8Hg0oDiwJLI4oSiOBHNEU8w7VC+MJJgg6Bn0Cnfzz8yns3uU84oPhGuQD6fXuv/Tn+IP6x/ng9zn1ffH57T3uWPDh8azx/u+a7iHrCeb+4Xzd2trC2NPYudqu2tfbx9uU3JTdQN+k4y/nm/CcAfwS0CEjJhcpfis8KqspkibsJWknGiphLgkv4CkmI3sYQA11AVr5Afc29k/4af1iBDcJmwolC8QMOQ0KDy8TMBlwHm4hTyMqIrwdqxYtD1YHBQBA+9L4+/ZS9fjzA/Mt8F7s0+kY6Xfpv+pg7kXzXfdb+WD59fZP8x/wt+wt6qjn/uay6EzpkOkE6MflWeNy3+fcytrv2c/bRd3q3w/kGejC7BfwjPKw9p//tQxKGlIi0SQgJ/MneCj1Ja0hgB7xHC4d2B2fG/QXyRICDEoFh/+G/ZL+wAByBBMM2BRdG0gejR4tHpcc+RooGgkZLRjpF6oWIhRNDzsJVgLK+Znyd+757Bnt6u0j8NbysvNI8wny2e+c7TbrEOpE6v7rEe7z7k/uHOye6g7oDeXd4ZrgzODV4aXiEONy48njQuQv4yTkCOWW6JrtefKJ+bD/aQQZCacOUxcaHmcfPx+dHg4hrSLlIDQfCh2rG40aWBe2E3IQ8Q3hDIcK8QohD/8SkhWTFdAWMxn/FwgV7xFsEKEQEBDPD0QPdA2aC+IHEgP1/vD7X/q3+P33yfjs+SH6ZfhE9gv05/Cc7EDoAuZX5Z7k0uPB4lDiauIt4i3i1OGZ4fXhgOFf4nbiRuQ35iTmcudW6QftrfBE8qT1CPpz/VcBUwTeCGoMeg0ADRYMew2wEUEWKRn4GRIbcR1FHugcIBpYGKwYnxpXHXkghiKfIqog5hyfGCoUCBCADF4KOQq3C4EMegsUCVQGZwPL/1P8bfo9+mv7Sv3i/uD/Tv8c/YL58fSe8E3tquuD6xjsEe3X7abtJ+yJ6aXmKeSd4iTiWOII5EDl6uX+5cHl/OSN5L7kIuYg6mbvIvWF+sL+owF4BNAFaQaGA1n+hfqx+RH+igSVC0kSNhhuHEMegx3cGhcYEBdnF5gZTByGHj8g1R/FHXgaBhZpEWQNFgtLDNAO+RF9FPUU5xNrEaQNEwnsA63/HP1R+1/6avkH+Ez1B/H37DLqY+jZ5x7oqemM60Lt3e5m7r7stOoi6cfnQOfJ5wjqc+vj7Cztle2X7lzu9vCr8/T2B/tS/usBAwV1BEADSP9f+v/2bvXR9zn9kQQ/DigWSRtVHlYdPRsbF+4S3RCEEPoRgRR/FkYY7xe4FZwS2w6qDAMMNQ39D/wSkRVCFzMWLBN+DgcJsAP0/rz7d/pK+m36Nfpk+aT3vvRz8SjuyOsk6oDpTOr06gfrGeud6XPo0+bs5ejmrufg6Pzqee3q8JfzrPVM+Mz5Ofvk/Dr9q/3h/E368/cG9Uj0nfUH+Q7/pgWsDH4S3xWDF7AWaBSkESUPEw4KDiIPsxDBEfERKRG4Dz4OrwzvC2wMEQ6IEGsSFRM9EvIPsgytCIAE/gCJ/kb9pfyL/C/9g/31/D77D/nq9tb0wfKd8UnxD/G+8E/wHu9j7b3rFeoH6gDqous47ubvAPN19UD3nfkH+kX7e/wr/HP8zfsk+wP8wv0/Ae8FtwmMDgcS4xO2FFATQhEcDiUL/wnhCDsJNgrZCr0LEQt4CvUJ+Qh2CNII4AmzCwgNPg6GDg4N5QrrB9oEhAFN/q38L/w0/Pn8O/26/ED7+fgy9zX1U/MA8tjw0PDz8HXxbfGx8MrwN/FB8mLzOfS19Yf3Dfn1+hv8ePzD/Jn8z/uj+kX5jvld+pH8+f9hAwwHhAkeC6ELVgtkCgEJhwcPB1QHawh9CRkKsgrhCkMKkAn1CJQIjwiLCEIJ5AnbCfgIDweyBEICMP8z/Nb5gPis9/33PPjX9/b3jPf09k/2lvUd9d30K/XP9Y/2NvfJ9473iffV9wX4qPk3+3/9kQB+AhoE0gQ7BEQDewFPAEYAMAF2A6oFfAhaC9sMMg1dDJcK4whxB6EGcwZtBuUGwAZTBs8FrgTqAyUDXgKkAgkDogNoBJ0EdgRYA3UBoP+y/dL7UfoA+Xj4IvjU99f36PdW+LH47Pgm+Z35zPnG+dX4rPdi9wP3AvfZ9uP2b/iz+dL6bvyo/cz+hP8Z/0P/GgCnALcBvQKmBLMGvQhQCsYKugrnCdkIMAjcB/wHfghOCbsJwAnJCV8JuggXCK0HMAdBB4gHkQcGB8kFTwRIAqn/3Px0+sT4hfed9h/26vV09Rv1AvSb8yPz+PJa89byV/I58u3xhPHM8VDyRPMB9db2p/iN+pP7AP2F/aT9Wv5W/7cAtwIZBMMF+QdoCUMKhAoaCkgJDwkiCbcJkAoxC5ELkQsvC+EKXwqsCfYIHgixB3UHLgctB7IGMAV8A28BYP+N/W/8f/t++j/6Dvrm+R36avqg+kf6u/kt+fr4dfjV93b3g/cc+Nz4gvoR/E/9Z/6h/ob+lf5a/mf98vxP/Jn8/P0p/0gAtgAYAdcB6AHzAUICYgLWAlsDhwNTBBMFJQU0BYgEaQSLBGsEbwR0BJME2gTwBNwEUwQtA8EBAACk/qb9F/3P/I78NvwB/E/8s/wp/FD70frj+mv7Lvtl+zn8pfyE/cH90/2p/UT9yPzD+0r7Qfv++5X8Hf33/fb+MAASARQCfgMJBN4EnQWhBR8GkgZJBisGbwaPBvsG/AbIBlsG3AWBBToFjQQLBOUClwF5ABb/LP6W/Pf6Wvov+sH6nfuB/FP9yv2I/cD8fvxb/DL8PvyO/Az9BP74/mb/cv9+/zj/+f6w/hz/nP8rAJcADAFYAWcBXwEfASwB7QEkAh4CrgLwAtEDFgTrA/MDJwTfA9IDygOyBG0FJQW7BA4ELAOUAu0B7gA6AMH/J//H/nj+7f26/Yr9zP1P/tX+Tv8T/5r+Xf78/fz99v2y/R/+yf4j/zH/mP7s/dH8CfxY+xX7Hvuf+pr6YPuk+0H84fzz/Jv9Hv5n/rj/XwB5ADYB+wBPAdIBMwI1A5EDhAOwA0IDzgInAukAJwBx/xz/S/+//3QA0wCqAMUA4gDyAKgAZQDmAH0BzAKWA3sDoQPKA/gDfQP/AmgDoAPLAyIEyQNaA/QCFAKHAQABXgBKAL7/Zv8AADgAVAAeABIAdADRAK4A/ABeAYMBRAGpANj/Af9s/l39b/wS/MX7DvzY+137ivtA+y37yfpy+r36Jfts+337OfuW+wP88Ptm/Mf8rv2b/gj/I/9v/xIAOADf/8v/AABrAFUAOACZACMBhAFyAd8AdAG5AsICmAK9AgMD7QJYArgBIgH9AD8BIAESAQcBswAcAEv/I/8P/8D+2v4E/1z/hv+O/yP/bP5h/kH+MP5n/sD+9v5I/9T/VwBbAFMAjwDKAMMApgBvAFYARgAXAC0AWABTABQAav+T/kf+1/0P/ZX8QfxR/Or8SP1s/c39Yf5+/sH+fP8qAIcAMAHcATwCFAIzAuUCgQPqA2kDJwNeA2oDLwNZAmkBSgHlAP3/GABIAOAAtAEFApcCLgOHA3gDHwMMAxoD6gKCAmwCaQJRArYBlQC2/z//kP6+/Xv9Wv1h/Uj9OP15/Z/9Kv33/AX9H/3+/CP9mP01/ln/eAAjAawB5AHAAYgBMwFEATsB6gCiAE4ACwCF/3P+Gv4j/g3+8v3K/S/+tP7I/gb/TP85AG0BKAIOA5wDJwRmBGAEFATXA2oDzwJWAvkBDwIbAjYCGgLlAfgBvwEiAcEAYQA8AN7/aP8g/x7/Bf84/0H/e//q//L/egCDAI0AgwApAPb/OP+l/lf+Wf3//OD82vz7/B79lf0V/qL+OP+A/z3/dP+y/9L/wv+P/7j/JABsAPMA1QAKAZYBhQHzAHAAWgBTAB0A+/8gAC4AbgDaALgAlQDjAN4AjACSAPUATgH0AXkCpQLGAuQCEgMcA7cChwJcAs4BYAGjAM7/TP+J/r79K/2o/J/8Xv26/UL+Bv9z/7f/Pf+O/rD92vz8+0f7KPs8+1b7o/uv++/7RfxZ/GT8Ovw+/FD8JPwl/MT8Wf3j/Tj+sv5X/8j/gQBAAZsBSgLDAqwCnALqAh8D1AI/ArgBRAHjAKQAbgB5ADQAMAC8AAUBkQHjAU0C6wJDA2QDWgNHAxADNwMdAzMDCAOkAmYC1QHMATACnwKwAmYC1QKTAsoBbQHtALMAfQAFAJP/k/+i/5z/zf77/Wv95/zI/Nj8Lf0t/WD9bv0D/fT8Rf21/Kj7+fqw+iH7x/s3/Iz85vxI/Rz9Bf2K/fr9Lv57/uD+QP++/7D/z/8SALwAcgGyAVsC0QI6A0kD5wIzA1kDzQJbAiUC4gEYAsUBKgETAeoA+wCtAJAABQEvAYsBngGEAb8B+wGPAYcBvwGoAakBkgH/AT0C5wEqAZwAewApAPX/9f/V//r/k//2/mz+zf1G/Xr85Ps7/Lj8xvwa/en8tfyI/Db8iPyc/Jz8BP2U/en9Zv7h/rv+bP7Q/e/9Mf6U/vH+F/+8/04A9wBDAXUBtwGwAX4BUgF9AZIB8AFoAlwCMwK8AaEBWgExARYBAwFSAVoBLAGeABQA7//w//X/BwADAHAAHQGxAQwCQwJqAm8CWQLuAeoBIQIPAj0CCQKfAawBzgHtAZ0B+ADUADEBGwH1AAoBFQGtAP3/sv+A/wz/y/67/uD+F/8W/xX/F/8g/73+Mv69/Wj9e/2W/bv9xv20/fz9B/4A/vr9Nf5U/n/+Hf/4/5gACAGxAR8CfQIUAxkDqwJ2AqsCJgNtA1gDaAOPAw0DgAIBAnoBNAHIACQAtP+o/3n/+f54/hn+tv15/Yv9mf2t/SX+o/7t/hL/Df8g/0v/x/5B/qf+G/8r//z+//5j/73/ef/v/qP+k/6Q/mT+dv79/i3/NP8m//j+Jf8c/9f+3/4S/37/3/8cAIYA0ADaADkBdAFmAZYB1gE0Ao4CrAJxAnMCpgK6AuQCFgOrAxAE7gMFBEgEPwSvA5kDVgP4AscCrgLpAtQCqAJ+AkkC7wGXAREBZACr/wH/l/7o/Tv9/PzE/F38zvuD+1D7Hvua+iz6svo6+677KfzV/Hj9r/19/Rn9HP1R/c39Pv6y/jT/ZP97/73//v9EAHMATwC5ABwBMQFVAQ4B/AASAc8AgwCwAPwAAgElAUUBeQG4AXcBAQESAU0BjwGVAVkBTAEZATsB/wBdAC8AGgAOALb/pv/e/zAAbwCjAO0ABgFFAQ4BrAAKAU0BNAHyAM0A+gDNABMAQ//l/oX+zv0B/T/87/tG+7j6uPqu+t76wvrS+k37z/s8/IL8xvxG/bj9B/57/g7/XP8f///+Dv9s/8b/zv/b/zUAswC7AM0AJwFRAXEBmAHFAQACdALJAuQC7gLUArUCoAJcAvsBwgHRAboBRAFOAVcBYgEYAbkAiAAyABUA8v8jAD4APAAqAAsA8v/S/xUAkADpADsBhgHYAQUC+AHTAX0B1AAzAPf/EAD2/8L/wP+v/1j//f76/rH+fP5S/iX+U/6I/mT+WP4r/qn9Vv0y/Xn9+v1O/n7+8f5Y/3b/vv8XADAAQgCVAAYBtQE+AlQCRALrAY8BcwGEAbcB/wFFAn0C3QJiA6cDVwNGAy8D0wJQAu0BSQJ9AucBHgHDAJ4AEQDd/kz+tf6Z/v79vf1B/n3+D/6j/V/9c/2Q/aD9kf2x/S/+mf75/mD/z/88AIcAiwBlAGEANQAtAC8A6//o/xkAGgAJAA8AFQAgACYADABIAMEA+wB3AUkC/AJmA3QD/gJTAgQCFwIPAgQCJQJIAhQChwEqAcMAUwAUACAAmgD4AO8AqwCkAIkA/f9E//X+Hf8G/+H+QP/O/w8Apv/8/mb+qf3K/Pn7B/yI/K78bfx4/Oj80Px4/GT8pvwh/Y39v/0d/nz+9P4L//r+Y/8HAIAAkgCXAN4AgQHYAbUBzwE4AokCjgKUAqcCXALvAdsB/wEFAu4BzwHAAZUBHAHGAHgAagBnAGwAswAIAZ8B2AGfAVoBHAHaAJsAXQBOAHoAdwAVAKr/af8z///+B/9G/4f/5/9GAKgAAQHcAKMAcwArACkAbADTAN0AdwBxAIsABgBp/97+hf5y/jH+9P3//bL9UP1K/XH9uf33/Wf+3f4I/x7/RP9u/+P/YAB0AMIADAFXAdsBwQFiASABwwA6AOr/y//K/+H/3f8CAFYAnQBTADYAjgD/AM0AFQA4ALoAfgDt/2z/Nv9B/6D+Tv6e/ub+1/67/iT/iv9f/5/+M/5G/mv+fv4//nf+G/9S/yP/xf7X/nz/5P/L/9v/EQA0APj/e/82/xP/zv4N/r79E/4D/qP9Y/2w/e79u/1P/UH9cv1R/eD8zvxz/UL+yP4o/0H/YP94/1L/c//B/08AdgApAEYAlgCmAEEAcgDsABIBzgBWAIYA/ABIAQkBmQDKAFABWAEFAdwA6wDTAJUAZwCXAOwAtAC2AB0B/QFDAr4B7gFNAlYC7wHBASoCuwK5AnkCrgL9AkoD6wJvAoQCpwK9AlwCAwJXApYCHQLSAQ8CVQLVAe0ARgAyAHkA6P8R/xj/Xf///sv+9f5A/4X/Rf9B/5D/CAAtAOr/rf+H/7r/qf9z/0v/g/9z/+z+KP9g/4T/kv+V/8P/of9k/5j/WACTAEcAeAAYAU4B8wCWAIEAbwAaALX/0f9WAEIA9f/y/xEAQgAgAL//n//D/7v/r/+5/w0AuwCzAEYAOwCtAPoAgQA4AKQAWAFlAQYB+QAMAcUA1v90/6n/hf8t/yf/s/8hAD0AEgAmACwAGwAwAEIAhQCJAJcAfwApAEAAZQBJAA0A+/81AHoAcAAwABsAzP9i/yL/Hv9y/67/iv9h/2r/Uf+y/uv93f0O/gL+4P03/uT+V/89/8r+nv5p/hv+Mf6R/uH+8v4H/yj/SP+Y/zn/4f4s/0r/H/8i/7T/EgD8/+7/FABPAH4AgQCCAKMAdgAUAAYATgCVAIoAXwCyAAYBDgG/AEEAAgD5/ykA7f/l/1UAVQDx/4L/aP+O/2D/Av8j/9j/IwDF/8H/CgDm/0//5/4O/x//1/7O/lv/2P+o/3//kP+x/6P/VP8n/27/4v8OAB8AFwC//2L/Sv8a/8X+sf6t/u/+c//s/0oAGADl/97/IQBVAFwAXwBrAJMAqADaAPcAKAHsAGQAXQC4APgAzQCPAM4AMAEpAQ4BNgF8AYIBVQHeAI0AqwCXAEIAAQD+/wMA0v+U/3v/gv9u/3f/g/9n/3n/j/90/y//Cv8k/yL/Sf+n/wAAeQC/AO0ALQFWAUYB+QDFAJIASAD7/8n/NgB8AGkAawBpAGgADgDa/xAAbgCRALcACAFIAVABvwB1AG8AMgDv/6X/wv8AAA4A7/8IAE4AFwCG/4T////5/7b/6P9xALcAfgBOAK0A0QB+ABAA+f9SADMASABZAEEARgD0/+L/5P/t/6v/ef9n//v+bv6q/Vf9Vf2F/bP9vP0n/qX+GP98/7j/3/+G/yH/Pf9v/3P/WP9f/7T/EwDq/8r/EgBoAIYAfADaABwBNwF7AWgBQAETASQBcgFvATABBwH7AMYAugDhAAUBGQE6AaIB2QGiATAB1QCxAG8AQQBaAJoAjwCKAJgAZwA0AE0AjQCNAIcArQDbABEBAwHiALoAmwB8AJsA4QDeANYAzwD4AN0AXADZ/7z/z/+O/yz/Nv+f/5f/TP/V/n/+d/57/m/+c/69/i//yv9IAEcALwD9/6b/hP+B/23/T/9n/3j/b/9W/0j/JP8y/3H/cv8o/+D+6P66/pv+of6j/mn+Sv5b/mf+f/6B/pD+lv6c/rH+rf66/uD+B/8T//v+AP9d/57/sv9h/yP/Mv9M/0n/A/86/4L/1/+uAIcBDgICAjoCvQK/AjwC1gGmAW4BYQFpAY0BmQFzAUUB5ABAAAEA6P/m/xAAu/99/4b/nf+k/3n/aP9G/wb/+P6B/wEAWgD/AEEB+wCeAJYAbgD3/5L/dv+U/7n/sf+f/5H/Tf/7/r/+8v48/1T/cv/e/zgASwBeAFUAQwA6AGYAngCPADwA8P/Z//H/+f8iAGsAcQCYANEAAAEJAcAAoACnAMoA+ADvAC8BwQEAAtkBmAG3Af8BFAIGAqYBJAHlANsApgBsAFMA4v9d/yr/IP83/yL/Hf9d/2n/I//Q/tL+1P6J/jz+RP6b/rn+l/5+/mH+Tf5a/kP+/v2g/Yf9mv2y/cL90f3t/eb9Av5j/q3+zv7P/hz/9v/3AO8B2wJsA5oDUAQXBY4FUAU1BCsDNwIlAYAAGACi/+P+8/1A/eX8Qf2u/fb9e/6v/pf+f/6N/sj+I/9Y/zT/Pv9Z/2f/SP86/w//n/5f/pj+Nf9K/6j+Af6p/af9wP0I/j3+Wf6f/iL/4P9VAJgAgAA8AMX/gv/E/wgANAAfAEUAggCPAPAABQHeAM4AmABfAEMAXgA0AKL/av+R/8j/LQBlAAkBtAGvAVwBQAE7AesAIQHCATwCbwKnAgwDvwJkAjMC/QH5AbsBgAGUAQYCSwJAAhUC7QG1AUwBLQFBAT0BIgEvASUB6gC9AJMAYABmALoA+QAFAQwBEwHEAE0A5P/w/y4APAAnANj/sv/I/woAEgCf/4j/zf/j/y4AtAAIAf0AtwCWAEQAn/95/9v/HwAcAPX/3f+c/3P/iv9I/6H+Lf5l/tX+Hv88/0v/Uv/z/rD+9v5S/1f/Qv9k/8X/sv97/2b/Rf9Z/3P/1/9tANYAEQFvAY0BQQHWAE0AQgBfAI0AyQCbAF4AqQAVARYB/QAPASMB+ADvABQBBAHpAO0A+gDiAJ8AhwBJAKz/Wv9X/zj/JP9M/5X/0v/1//H/6f+l/0D/Uf9S/yv/Hv8s/2D/TP9s/4//Q//k/vz+Mv/0/rL+mv52/jP+Dv7i/X39Q/1k/Yv9pv3L/Uj+pf6+/u/+Df9G/4X/4//l/9H/QgCOAL4AvQDSABkBQAFcAUsBGQEWASYBPgEFAccAtAB/AKYA/wAfARUBIwFCAQYBtQClALAAawBGAH8AoQCkAKcA0ADtANAAtwCOAHgARwDr/33/N/8v/yD/Dv8T/0P/c//O/0wArABqACwAMQA/AE8AEgAlAHAAngCFAF8AggDOAMUAVgBTAGIAFwDt/ygARgDn/8j/6/8DAO3/4/8GADUAWQBIAFcAwAAfAUUBKwE2AUEB6gB8AEAAPwD5//D/IgAeABkABQDo/6H/Tv87/3H/eP9M/2j/f/9g/yf/Kf8p//r+3v6//v3+Iv///iD/P/8m/0H/jv+P/5//d/89/1n/Uv85/w//3v7e/tv+0P6d/n7+hP6K/rP+xv7j/gn/Rf9v/2H/gv+z//r/QABFABgAwP9O/wf/0/5+/mD+dP61/uv+Df9x/5z/q//k//X/4f+c/3n/mv+W/5T/7/9ZAJUAywAUARUB9gAwAWwBNgEIAe4AlwA/ACcA9/+I/w7/AP86/0j/iP/E/47/K/9G/33/Xf+K/+X//f+8/7r/DAAcAP//xf95/zz/+f7V/t/+5/78/tP+iP6Z/sD+m/6Y/vb+vv9jANUADwFfAXgB/gCXAHoATwD+/1AAwwCcAHUAuADqAIUACwDW/6n/c/9y/3//ZP96/8L/xP+a/7X/+/8HAEYAggC2AFABqQHnAdUBYAHeAKUAoQDJAC8BdgHZARcCBALYAYABWwFQASgB+AAqAcgBNAIAAnwBMQH0AL4A0QARAUYBRAE6AW4BhgEkAbcAbgBYAEMAAgDl/+L/8//T/07/+f4O/2T/zP8OAFAATQBTAIgAmAB5ADEABgBCAL4A5ACoAF8AJQDn/4//PP8m/zj/Of9Y/17/JP/j/r3+b/7W/df9PP5o/rX+Qv/w/xUAnP85//L+o/7S/mn/CACBAMkACAEHAYQACwABAA8AMgBFAIMA1ADZAN8A1ACyAFMACADg/7b/jv9h/0//NP82/w//6f4a/zL/9f7a/tX+m/6H/mT+QP4N/uv9Dv4p/jX+ff60/oL+Z/6u/uH+4f4x/8r/GAAwAGIAYABHACEAOQCOAL0ABgFwAZABQwEvAYkBcAEoAUwBoQHMAcEB3wHUAYIBIgHFAKAAfwBFAIIA6gDUAHcAYgBqACUAtv+K/4T/av9f/2z/ff94/4v/pf9L//3+z/7l/mH/pv+e/43/qf+r/23/G//1/tD+9P5u/6b/j/+D/73/7//o/8//yf+z/3P/b/9x/2f/kv+y/4//NP/n/tH+u/6i/r/+7v7+/kP/hP+7/+z/8v8jAF4AhAB5AHEAdwCIALUApQB/AJAArwDkAP8A/gDhAAoBRAEqARMBDgH9AI0AZwCDAIAAtADCAKoAbgCkABYBJQE7AW4BowFuAegAewALAJj/Zf9e/6n//P87AEcAZQCKAEEAFQBCAHsAuwAnAY8BvgGxAb4BugFTAeUAlACXAJEAkgDLAM8A2ADbALoAhQCKAOMA0gCrAMAAzgDRANAABQHSAFoAOQCoAPwA9gAIAfQAswA9ABEAIgDy/7r/q//b/y0ASABPADkAMAAMAAsALAAkACMA2v/p/wkA4v/H/5b/lf9a//L+yP6y/mP+8v3D/ab9mv2s/d79+f35/f/9/f1A/mn+Vv5c/lX+NP4n/lP+ov6t/qP+iP5J/k/+Fv4X/vn9y/0m/p3+M/8u/xb/KP8v/zb/Gv8y/2z/t//H/wIAhADCANkAjQB4ALoAogBHABEANwAyABgACAADABAA+P8IABwASQBoAJ4AGAEcAdkAqgDIALIAXgBxAKMAxQD0AGMBtQGnAZ0BrwGMAWgBgwG6AdsB4gHiAf4BBwKuAUQB/wCxAFUASACNAIgAXQB6AJ0AVwA+AI4AYgDz/w0AOQDm/2D/X/9x//n+oP7J/l7/dP84/2L/zv/L/zD/Ff9a/53/0v8UAIUAzACoAHcATgARAAcAWQDbAGIBwAHGAccB4AH/AeoB5QEOAvEB5wHwAQUCsgFeAUoB4ABRABwAOAAaABQAIAAJAI7/Dv/W/n7+V/62/kH/ef+w/8D/xP/I/1L/0f6b/mb+NP4z/oD+sf6l/s7++f5+/sX9nP3O/dz9x/0Y/iT+Gv4b/vj95f2U/Yb9lf2X/eP9d/7e/uv+4P7d/uX+5P4b/3T/0/8pAEYAZgA9AMv/oP+x/w8AUwCJANsA8wDHANIA6gDSAAMBRgGgAbUBtAHcAZoBLgEEARUB/ADsAPAAZQG+AZUBUAFmAZYBMQG+AHcAhAByAIIAwQB3ACMATQB0ADgA5P/f/wgAHAB3ALUAeQBwAIcAMgCz/2D/Mv8s/xX/Cf/i/rX+IP+U/7f/sf+G/3n/iv+F/4L/vv/h/+L/2//F/+j/5/8sAHYAUAASAB8AqgADAb0AeQB5AHwAcgBqADoAz/+t/6//oP+5/y4AcQA/AEcAlAC+AFgAFQAoAAMAm/9J/2T/T//8/gj/hP/j/9D/7v9HADQA3/8zAI8AMwAbAKQAEQGgAHQAugC+AGEAWADlAA0BxgDIAHsB0QFxAVABfgFYAQIBtwCLAHgAjgCFACoAEQD+/x8AMgAoAF4AXgCeACgBgQFmAVwBmwF3AUQBGgHsAMkAhwAtALL/3P9LAI4A2wAiAfUAPAAIAD0AWwBBAGwABgFZAQ0BWgAoADIA8v+f/7v/CAAwAC4A3f+N/0n/2v5o/kf+Mf4m/jb+cf7W/s/+R/6r/bP9x/2N/Y79Af6V/vj+AP8J/zL/MP8S/+/+Df8X/xL/bf/v/wYAev/w/tP+o/5R/iP++/0c/qD+nP5S/kX+TP7r/WX9jf2Y/Xz9q/1e/uz+x/7B/gL/TP8p/8/+0v4q/1P/Nv9j/3n/Yv8+/xL/2P6U/tX+Zf/H/zYAsgDyAN4ArwDLANUA2QANAacB9AHKAbIBXwE+AU8BRAFEATkBAwEFATQBRgHgAIkA5AAsAc0AlgAnAVUBzQC2AFUBPAGJAIUAxgB3AOr/8v8wAAkA8v9OAPEAIgFFAZgBlwFWAQcBJwEYAc8A2QADAQMBrQClAPgALwEoAW4BjAELAagAwwCrABIA2v9EAD0A0f/s/38AiQAKACYAYABGABsAIABUAGcAeQCSAI8AeQBNADQARwA8ABYACwBPAFQAKADv//3/NQDX/6T/rv/B/9P/zf/Z/5X/cf+d/8H/iv88/yX/Bv/U/rv+1f4D/zr/Wv95/6v/lv+w/6P/Vf8S/zP/Zf9R/2P/y/8SAOD/oP+b/6z/mv+6//b/ZwCWAEMA///r/wEA4P+I/2//ev91/4//2//5/6H/cf/b/yAADABdAAsBKQHKALEA1QCZAEMAawC5AMsA6wAqAeoAbwBTADcA+f/R//z/TwBMAD4AKwAuAAoAsf+j//X/JgDx/8H/6/8GAIz/7P6T/oD+pv72/vT++P5d/07/6/6k/oj+hf6A/m7+df6g/sb+s/6q/tD+rP6U/qX+DP+H/43/cP+F/+7/GwDJ/8X/BgDs/3H/WP++/9r/o/9W/3v/mf+o/9X/AQArACwAXABTADQASgBdAGcAawCXAMAAoQA6ANr/uP+0/8v/3f/v/wYAUABhAAkAyf+f/6j/uP8HAGYAuwDrANUAhgBVAEgAJAA4ADkAHQBgAPIA/ACeACUA2P+l/4r/u/8PAFAATABfAHQATgD2/4v/nv8SAHoAxwBZAdYB5QHAAbEBeAHSAKUAvQC7AK4ArgC1AJEAngCpAHYAZACeAL0AyADoAB4BPwFDAUYBRgFfAVMBGAHYALcAnADAALgAeAA=\" type=\"audio/x-wav\" />\n",
       "                    Your browser does not support the audio element.\n",
       "                </audio>\n",
       "              "
      ],
      "text/plain": [
       "<IPython.lib.display.Audio object>"
      ]
     },
     "execution_count": 23,
     "metadata": {},
     "output_type": "execute_result"
    }
   ],
   "source": [
    "Audio(example_audio_path)"
   ]
  },
  {
   "cell_type": "markdown",
   "metadata": {},
   "source": [
    "# Preprocess the data"
   ]
  },
  {
   "cell_type": "code",
   "execution_count": null,
   "metadata": {},
   "outputs": [],
   "source": [
    "def extract_mfcc(dataset_path, num_mfcc=13, n_fft=2048, hop_length=512, num_segments=5):\n",
    "\n",
    "    # dictionary to store mapping, labels, and MFCCs\n",
    "    data = {\n",
    "        \"mapping\": [],\n",
    "        \"labels\": [],\n",
    "        \"mfcc\": []\n",
    "    }\n",
    "\n",
    "    samples_per_segment = int(SAMPLES_PER_AUDIO / num_segments)\n",
    "    num_mfcc_vectors_per_segment = math.ceil(samples_per_segment / hop_length)\n",
    "\n",
    "    # loop through all sub-folders\n",
    "    for i, (dirpath, dirnames, filenames) in enumerate(os.walk(dataset_path)):\n",
    "\n",
    "        # ensure we're processing the sub-folder level\n",
    "        if dirpath is not dataset_path:\n",
    "\n",
    "            # save genre label (i.e., sub-folder name) in the mapping\n",
    "            semantic_label = dirpath.split(\"/\")[-1]\n",
    "            data[\"mapping\"].append(semantic_label)\n",
    "            print(f\"\\nProcessing: {semantic_label}\")\n",
    "\n",
    "            # process all audio files in genre sub-dir\n",
    "            for f in filenames:\n",
    "\n",
    "                # load audio file\n",
    "                file_path = os.path.join(dirpath, f)\n",
    "                signal, sample_rate = librosa.load(file_path, sr=SAMPLE_RATE)\n",
    "\n",
    "                # process all segments of audio file\n",
    "                for d in range(num_segments):\n",
    "\n",
    "                    # calculate start and finish sample for the current segment\n",
    "                    start = samples_per_segment * d\n",
    "                    finish = start + samples_per_segment\n",
    "\n",
    "                    # extract mfcc\n",
    "                    mfcc = librosa.feature.mfcc(y=signal[start:finish],\n",
    "                                                sr=sample_rate,\n",
    "                                                n_mfcc=num_mfcc,\n",
    "                                                n_fft=n_fft,\n",
    "                                                hop_length=hop_length)\n",
    "\n",
    "                    mfcc = mfcc.T\n",
    "\n",
    "                    # store only mfcc feature with the expected number of vectors\n",
    "                    if len(mfcc) == num_mfcc_vectors_per_segment:\n",
    "                        data[\"mfcc\"].append(mfcc.tolist())\n",
    "                        data[\"labels\"].append(i-1)\n",
    "                        print(f\"{file_path}, segment:{d+1}\")\n",
    "\n",
    "    return data\n"
   ]
  },
  {
   "cell_type": "code",
   "execution_count": null,
   "metadata": {},
   "outputs": [],
   "source": [
    "num_mfcc = 13\n",
    "n_fft = 2048\n",
    "hop_length = 512\n",
    "num_segments = 5\n",
    "\n",
    "data = extract_mfcc(train_data_dir, num_mfcc, n_fft, hop_length, num_segments)\n"
   ]
  },
  {
   "cell_type": "code",
   "execution_count": null,
   "metadata": {},
   "outputs": [],
   "source": []
  },
  {
   "cell_type": "code",
   "execution_count": null,
   "metadata": {},
   "outputs": [],
   "source": []
  },
  {
   "cell_type": "code",
   "execution_count": null,
   "metadata": {},
   "outputs": [],
   "source": []
  },
  {
   "cell_type": "code",
   "execution_count": null,
   "metadata": {},
   "outputs": [],
   "source": []
  },
  {
   "cell_type": "markdown",
   "metadata": {},
   "source": [
    "## Save the mfcc data"
   ]
  },
  {
   "cell_type": "code",
   "execution_count": null,
   "metadata": {
    "scrolled": true
   },
   "outputs": [],
   "source": [
    "data = save_mfcc(DATASET_PATH, JSON_PATH, num_segments=6)"
   ]
  },
  {
   "cell_type": "markdown",
   "metadata": {},
   "source": [
    "## Load json file"
   ]
  },
  {
   "cell_type": "code",
   "execution_count": null,
   "metadata": {},
   "outputs": [],
   "source": [
    "def load_data(data):\n",
    "\n",
    "    # convert lists to numpy arrays\n",
    "    X = np.array(data[\"mfcc\"])\n",
    "    y = np.array(data[\"labels\"])\n",
    "\n",
    "    print(\"Data successfully loaded!\")\n",
    "\n",
    "    return X, y\n",
    "\n"
   ]
  },
  {
   "cell_type": "code",
   "execution_count": null,
   "metadata": {},
   "outputs": [],
   "source": [
    "X, y = load_data(data)"
   ]
  },
  {
   "cell_type": "markdown",
   "metadata": {},
   "source": [
    "# Split Data into Training and Testing Sets"
   ]
  },
  {
   "cell_type": "code",
   "execution_count": null,
   "metadata": {},
   "outputs": [],
   "source": [
    "X_train, X_test, y_train, y_test = train_test_split(X, y, test_size=0.3)"
   ]
  },
  {
   "cell_type": "markdown",
   "metadata": {},
   "source": [
    "# Build a Neural Network Model"
   ]
  },
  {
   "cell_type": "code",
   "execution_count": null,
   "metadata": {},
   "outputs": [],
   "source": [
    "model = keras.Sequential([\n",
    "    keras.layers.Flatten(input_shape=(X.shape[1], X.shape[2])),\n",
    "    keras.layers.Dense(512, activation='relu', kernel_regularizer=keras.regularizers.l2(0.001)),\n",
    "    keras.layers.Dropout(0.3),\n",
    "    keras.layers.Dense(256, activation='relu', kernel_regularizer=keras.regularizers.l2(0.001)),\n",
    "    keras.layers.Dropout(0.3),\n",
    "    keras.layers.Dense(64, activation='relu', kernel_regularizer=keras.regularizers.l2(0.001)),\n",
    "    keras.layers.Dropout(0.3),\n",
    "    keras.layers.Dense(10, activation='softmax')\n",
    "])"
   ]
  },
  {
   "cell_type": "markdown",
   "metadata": {},
   "source": [
    "## Compile the model"
   ]
  },
  {
   "cell_type": "code",
   "execution_count": null,
   "metadata": {},
   "outputs": [],
   "source": [
    "optimiser = keras.optimizers.Adam(learning_rate=0.0001)\n",
    "model.compile(optimizer=optimiser,\n",
    "              loss='sparse_categorical_crossentropy',\n",
    "              metrics=['accuracy'])\n",
    "\n",
    "\n",
    "model.summary()"
   ]
  },
  {
   "cell_type": "markdown",
   "metadata": {},
   "source": [
    "## Train the Model"
   ]
  },
  {
   "cell_type": "code",
   "execution_count": null,
   "metadata": {},
   "outputs": [],
   "source": [
    "history = model.fit(X_train,\n",
    "                    y_train,\n",
    "                    validation_data=(X_test, y_test),\n",
    "                    batch_size=32,\n",
    "                    epochs=50)"
   ]
  },
  {
   "cell_type": "markdown",
   "metadata": {},
   "source": [
    "## History"
   ]
  },
  {
   "cell_type": "code",
   "execution_count": null,
   "metadata": {},
   "outputs": [],
   "source": [
    "def plot_history(history):\n",
    "\n",
    "    fig, axs = plt.subplots(2)\n",
    "\n",
    "    # create accuracy sublpot\n",
    "    axs[0].plot(history.history[\"accuracy\"], label=\"train accuracy\")\n",
    "    axs[0].plot(history.history[\"val_accuracy\"], label=\"test accuracy\")\n",
    "    axs[0].set_ylabel(\"Accuracy\")\n",
    "    axs[0].legend(loc=\"lower right\")\n",
    "    axs[0].set_title(\"Accuracy eval\")\n",
    "\n",
    "    # create error sublpot\n",
    "    axs[1].plot(history.history[\"loss\"], label=\"train error\")\n",
    "    axs[1].plot(history.history[\"val_loss\"], label=\"test error\")\n",
    "    axs[1].set_ylabel(\"Error\")\n",
    "    axs[1].set_xlabel(\"Epoch\")\n",
    "    axs[1].legend(loc=\"upper right\")\n",
    "    axs[1].set_title(\"Error eval\")\n",
    "\n",
    "    plt.show()"
   ]
  },
  {
   "cell_type": "code",
   "execution_count": null,
   "metadata": {},
   "outputs": [],
   "source": [
    "plot_history(history)"
   ]
  },
  {
   "cell_type": "markdown",
   "metadata": {},
   "source": [
    "## Evaluate the Model"
   ]
  },
  {
   "cell_type": "code",
   "execution_count": null,
   "metadata": {},
   "outputs": [],
   "source": [
    "test_loss, test_acc = model.evaluate(X_test, y_test, verbose=2)\n",
    "print(f'\\nTest accuracy: {test_acc}')\n",
    "print(f'\\nTest loss: {test_loss}')"
   ]
  },
  {
   "cell_type": "markdown",
   "metadata": {},
   "source": [
    "### Make Predictions"
   ]
  },
  {
   "cell_type": "code",
   "execution_count": null,
   "metadata": {},
   "outputs": [],
   "source": [
    "predictions = model.predict(X_test)"
   ]
  },
  {
   "cell_type": "markdown",
   "metadata": {},
   "source": [
    "### Extract label names from the data dictionary"
   ]
  },
  {
   "cell_type": "code",
   "execution_count": null,
   "metadata": {},
   "outputs": [],
   "source": [
    "label_names = data[\"mapping\"]"
   ]
  },
  {
   "cell_type": "markdown",
   "metadata": {},
   "source": [
    "### Plot confusion matrix for test set## Plot confusion matrix for test set\n"
   ]
  },
  {
   "cell_type": "code",
   "execution_count": null,
   "metadata": {},
   "outputs": [],
   "source": [
    "def plot_confusion_matrix(y_true, y_pred, label_names):\n",
    "    cm = confusion_matrix(y_true, y_pred)\n",
    "    plt.figure(figsize=(10, 8))\n",
    "    sns.heatmap(cm, xticklabels=label_names, yticklabels=label_names, annot=True, fmt='g')\n",
    "    plt.xlabel('Prediction')\n",
    "    plt.ylabel('Label')\n",
    "    plt.title('Confusion Matrix')\n",
    "    plt.show()\n"
   ]
  },
  {
   "cell_type": "code",
   "execution_count": null,
   "metadata": {},
   "outputs": [],
   "source": [
    "y_pred = model.predict(X_test[..., tf.newaxis])\n",
    "y_pred = np.argmax(y_pred, axis=1)\n",
    "plot_confusion_matrix(y_test, y_pred, label_names)"
   ]
  },
  {
   "cell_type": "code",
   "execution_count": null,
   "metadata": {},
   "outputs": [],
   "source": [
    "num_features_to_display = 5\n",
    "for i in range(num_features_to_display):\n",
    "    index = np.random.randint(0, len(X_test))\n",
    "    mfcc_feature = X_test[index]\n",
    "    label = y_test[index]\n",
    "\n",
    "    plt.figure(figsize=(8, 4))\n",
    "    plt.imshow(mfcc_feature.T, cmap='viridis', origin='lower', aspect='auto')\n",
    "    plt.title(f'MFCC for Feature {i + 1} (Label: {label_names[label]})')\n",
    "    plt.xlabel('Time')\n",
    "    plt.ylabel('MFCC Coefficients')\n",
    "    plt.colorbar(format='%+2.0f dB')\n",
    "    plt.show()"
   ]
  },
  {
   "cell_type": "markdown",
   "metadata": {},
   "source": [
    "# Save and Export Model"
   ]
  },
  {
   "cell_type": "code",
   "execution_count": null,
   "metadata": {},
   "outputs": [],
   "source": [
    "model.save('audio_model.h5')"
   ]
  },
  {
   "cell_type": "code",
   "execution_count": null,
   "metadata": {},
   "outputs": [],
   "source": []
  },
  {
   "cell_type": "markdown",
   "metadata": {},
   "source": [
    "# Packages and Libraries"
   ]
  },
  {
   "cell_type": "code",
   "execution_count": null,
   "metadata": {},
   "outputs": [],
   "source": [
    "import os\n",
    "import json\n",
    "import math\n",
    "# from google.colab import drive\n",
    "import wave\n",
    "import pathlib\n",
    "\n",
    "import numpy as np\n",
    "import matplotlib.pyplot as plt\n",
    "import seaborn as sns\n",
    "import pandas as pd\n",
    "\n",
    "\n",
    "import tensorflow as tf \n",
    "from tensorflow.keras import layers, models\n",
    "import tensorflow.keras as keras\n",
    "\n",
    "import librosa\n",
    "import IPython.display as display\n",
    "import soundfile as sf\n",
    "\n",
    "from sklearn.model_selection import train_test_split\n",
    "from sklearn.metrics import confusion_matrix"
   ]
  },
  {
   "cell_type": "code",
   "execution_count": null,
   "metadata": {},
   "outputs": [],
   "source": [
    "seed = 42\n",
    "tf.random.set_seed(seed)\n",
    "np.random.seed(seed)"
   ]
  },
  {
   "cell_type": "markdown",
   "metadata": {},
   "source": [
    "# Pieline"
   ]
  },
  {
   "cell_type": "markdown",
   "metadata": {},
   "source": [
    "## Load the data\n",
    "Load the raw audio data from files (e.g., WAV, MP3) into a format that can be processed. Libraries like librosa or soundfile are commonly used for this purpose."
   ]
  },
  {
   "cell_type": "markdown",
   "metadata": {},
   "source": [
    "## Resample the data\n",
    "If the audio data has a different sampling rate than what your model expects, you may need to resample it to the desired rate."
   ]
  },
  {
   "cell_type": "markdown",
   "metadata": {},
   "source": [
    "## Normalization\n",
    "Normalize the audio signal to ensure that the amplitudes are within a specific range (often between -1 and 1). This helps with numerical stability during training."
   ]
  },
  {
   "cell_type": "markdown",
   "metadata": {},
   "source": [
    "## Trimming and Padding\n",
    "Trim or pad the audio data to a consistent length. Some machine learning models may require fixed-length inputs. Padding is typically done with silence or zeros."
   ]
  },
  {
   "cell_type": "markdown",
   "metadata": {},
   "source": [
    "## Spectral Representations\n",
    "Convert the audio signal into a frequency domain representation, such as a spectrogram or mel spectrogram. This involves applying a Short-Time Fourier Transform (STFT) or Mel-Frequency Cepstral Coefficients (MFCC) to extract relevant features."
   ]
  },
  {
   "cell_type": "markdown",
   "metadata": {},
   "source": [
    "## Augmentation\n",
    "Apply data augmentation techniques to increase the diversity of the training set. This can include random pitch shifting, time stretching, or adding background noise."
   ]
  },
  {
   "cell_type": "markdown",
   "metadata": {},
   "source": [
    "## Feature Scaling\n",
    "Scale the features to have zero mean and unit variance. This step helps the model converge faster during training."
   ]
  },
  {
   "cell_type": "markdown",
   "metadata": {},
   "source": [
    "## Labeling\n",
    "If your task involves supervised learning, make sure to associate each audio clip with its corresponding label or category."
   ]
  },
  {
   "cell_type": "markdown",
   "metadata": {},
   "source": [
    "## Data Splitting\n",
    "Split the dataset into training, validation, and testing sets. This helps in assessing the model's performance on unseen data."
   ]
  },
  {
   "cell_type": "markdown",
   "metadata": {},
   "source": [
    "## Conversion to TensorFlow \n",
    "Convert the preprocessed data into a format suitable for the deep learning framework you're using. This often involves creating custom datasets or using the available data loading utilities provided by the framework."
   ]
  },
  {
   "cell_type": "markdown",
   "metadata": {},
   "source": [
    "## Model Training\n",
    "Train your machine learning model using the preprocessed data."
   ]
  },
  {
   "cell_type": "markdown",
   "metadata": {},
   "source": [
    "## Model Evaluation\n",
    "Evaluate the trained model on the validation and test sets to assess its performance."
   ]
  },
  {
   "cell_type": "markdown",
   "metadata": {},
   "source": [
    "## Inference\n",
    "Use the trained model to make predictions on new, unseen audio data"
   ]
  },
  {
   "cell_type": "markdown",
   "metadata": {},
   "source": [
    "# Loading Raw Audio Data\n"
   ]
  },
  {
   "cell_type": "markdown",
   "metadata": {},
   "source": [
    "## Mount google drive\n",
    "adisamproject@gmail.com"
   ]
  },
  {
   "cell_type": "code",
   "execution_count": null,
   "metadata": {},
   "outputs": [],
   "source": [
    "# drive.mount('/content/drive')"
   ]
  },
  {
   "cell_type": "code",
   "execution_count": null,
   "metadata": {},
   "outputs": [],
   "source": [
    "# DATASET_PATH = \"/content/drive/My Drive/2_Luganda/dataset\"\n",
    "# data_dir = pathlib.Path(DATASET_PATH)"
   ]
  },
  {
   "cell_type": "code",
   "execution_count": null,
   "metadata": {
    "executionInfo": {
     "elapsed": 4,
     "status": "ok",
     "timestamp": 1703162114566,
     "user": {
      "displayName": "adi sam",
      "userId": "04727694002057940011"
     },
     "user_tz": -180
    },
    "id": "2-rayb7-3Y0I"
   },
   "outputs": [],
   "source": [
    "DATASET_PATH = 'own/'\n",
    "data_dir = pathlib.Path(DATASET_PATH)\n",
    "PROCESSED_DATA_PATH = 'processedData/'"
   ]
  },
  {
   "cell_type": "markdown",
   "metadata": {},
   "source": [
    "## Commands in the dataset\n",
    "The dataset's audio clips are of 5 classes and a wakeword stored in six folders corresponding to each speech command:\n",
    "- `gaali` (Wakeword)\n",
    "- `ddyo`\n",
    "- `kkono`\n",
    "- `mu maaso`\n",
    "- `emabega`\n",
    "- `yimirira`\n"
   ]
  },
  {
   "cell_type": "code",
   "execution_count": null,
   "metadata": {
    "colab": {
     "base_uri": "https://localhost:8080/"
    },
    "executionInfo": {
     "elapsed": 1952,
     "status": "ok",
     "timestamp": 1703162116515,
     "user": {
      "displayName": "adi sam",
      "userId": "04727694002057940011"
     },
     "user_tz": -180
    },
    "id": "70IBxSKxA1N9",
    "outputId": "902b877b-bf8a-4310-8507-8344428aa844"
   },
   "outputs": [],
   "source": [
    "commands = np.array(tf.io.gfile.listdir(str(data_dir)))\n",
    "print('Commands:', commands)"
   ]
  },
  {
   "cell_type": "markdown",
   "metadata": {},
   "source": [
    "## Number of audio files per command"
   ]
  },
  {
   "cell_type": "code",
   "execution_count": null,
   "metadata": {},
   "outputs": [],
   "source": [
    "def count_audio_files_in_subfolders(data_dir):\n",
    "    counts = {}\n",
    "\n",
    "    # Iterate through subfolders\n",
    "    for subfolder in os.listdir(data_dir):\n",
    "        subfolder_path = os.path.join(data_dir, subfolder)\n",
    "\n",
    "        # Check if it's a directory\n",
    "        if os.path.isdir(subfolder_path):\n",
    "            # Count the number of audio files in the subfolder\n",
    "            audio_files_count = len([f for f in os.listdir(subfolder_path) if f.endswith('.wav')])\n",
    "            counts[subfolder] = audio_files_count\n",
    "\n",
    "    return counts\n",
    "\n",
    "# Get the counts\n",
    "counts = count_audio_files_in_subfolders(data_dir)"
   ]
  },
  {
   "cell_type": "code",
   "execution_count": null,
   "metadata": {},
   "outputs": [],
   "source": [
    "plt.figure(figsize=(8, 4))\n",
    "plt.bar(list(counts.keys()), list(counts.values()), color='blue')\n",
    "plt.xlabel('Number of Audio Files')\n",
    "plt.ylabel('Subfolders')\n",
    "plt.title('Number of Audio Files in Each Subfolder')\n",
    "plt.show()"
   ]
  },
  {
   "cell_type": "markdown",
   "metadata": {},
   "source": [
    "# Inspect the audio data"
   ]
  },
  {
   "cell_type": "markdown",
   "metadata": {},
   "source": [
    "## Insect one audio file"
   ]
  },
  {
   "cell_type": "code",
   "execution_count": null,
   "metadata": {},
   "outputs": [],
   "source": [
    "example_audio_path = 'own/yimirira/audio #4251.wav'\n",
    "audio_signal, sample_rate = librosa.load(example_audio_path)\n",
    "audio = wave.open(example_audio_path, 'rb')"
   ]
  },
  {
   "cell_type": "markdown",
   "metadata": {},
   "source": [
    "### Audio Parameters"
   ]
  },
  {
   "cell_type": "code",
   "execution_count": null,
   "metadata": {},
   "outputs": [],
   "source": [
    "number_of_channel = audio.getnchannels()\n",
    "sample_width = audio.getsampwidth()\n",
    "frame_rate = audio.getframerate()\n",
    "number_of_frames = audio.getnframes()"
   ]
  },
  {
   "cell_type": "code",
   "execution_count": null,
   "metadata": {},
   "outputs": [],
   "source": [
    "print('Number of channels:', number_of_channel)\n",
    "print('Sample width:',       sample_width)\n",
    "print('frame rate:',         frame_rate)\n",
    "print('Number of frames:',   number_of_frames)\n",
    "print('Parameters:',         audio.getparams())"
   ]
  },
  {
   "cell_type": "code",
   "execution_count": null,
   "metadata": {},
   "outputs": [],
   "source": [
    "duration = librosa.get_duration(y=audio_signal, sr=sample_rate)\n",
    "print(f\"Duration: {duration} seconds\")\n",
    "print(f\"Sample Rate: {sample_rate} Hz\")"
   ]
  },
  {
   "cell_type": "markdown",
   "metadata": {},
   "source": [
    "### Visualize the audio waveform"
   ]
  },
  {
   "cell_type": "code",
   "execution_count": null,
   "metadata": {},
   "outputs": [],
   "source": [
    "plt.figure(figsize=(8, 4))\n",
    "plt.plot(audio_signal, color='green')\n",
    "plt.title('Audio Waveform')\n",
    "plt.xlabel('ddyo')\n",
    "plt.ylabel('Amplitude')\n",
    "plt.show()"
   ]
  },
  {
   "cell_type": "markdown",
   "metadata": {},
   "source": [
    "### Amplitude Distribution"
   ]
  },
  {
   "cell_type": "code",
   "execution_count": null,
   "metadata": {},
   "outputs": [],
   "source": [
    "plt.figure(figsize=(8, 4))\n",
    "sns.histplot(audio_signal, bins=50, kde=True)\n",
    "plt.title('Amplitude Distribution')\n",
    "plt.xlabel('Amplitude')\n",
    "plt.ylabel('Frequency')\n",
    "plt.show()"
   ]
  },
  {
   "cell_type": "markdown",
   "metadata": {},
   "source": [
    "# Preprocess the audio data"
   ]
  },
  {
   "cell_type": "code",
   "execution_count": null,
   "metadata": {},
   "outputs": [],
   "source": [
    "def process_audio(audio_path, desired_duration=2, noise_level=0.002):\n",
    "    # Load audio file\n",
    "    audio_signal, sample_rate = librosa.load(audio_path, sr=None, mono=True)\n",
    "\n",
    "    # Trim audio to desired duration if needed\n",
    "    desired_samples = int(desired_duration * sample_rate)\n",
    "    if len(audio_signal) > desired_samples:\n",
    "        trimmed_signal, _ = librosa.effects.trim(audio_signal, frame_length=2048)\n",
    "\n",
    "        # Fix length of the trimmed signal\n",
    "        if len(trimmed_signal) < desired_samples:\n",
    "            pad_amount = desired_samples - len(trimmed_signal)\n",
    "            trimmed_signal = np.pad(trimmed_signal, (0, pad_amount))\n",
    "        else:\n",
    "            trimmed_signal = trimmed_signal[:desired_samples]\n",
    "    else:\n",
    "        trimmed_signal = audio_signal\n",
    "\n",
    "    # Reduce noise using spectral subtraction (optional)\n",
    "    # Add your noise reduction algorithm here if needed\n",
    "\n",
    "    return trimmed_signal, sample_rate\n"
   ]
  },
  {
   "cell_type": "code",
   "execution_count": null,
   "metadata": {},
   "outputs": [],
   "source": [
    "def preprocess_audio_in_subfolders(root_folder, output_folder, desired_duration=2):\n",
    "    # Iterate through subfolders\n",
    "    for subfolder in os.listdir(root_folder):\n",
    "        subfolder_path = os.path.join(root_folder, subfolder)\n",
    "\n",
    "        # Check if it's a directory\n",
    "        if os.path.isdir(subfolder_path):\n",
    "            # Create output subfolder if it doesn't exist\n",
    "            output_subfolder = os.path.join(output_folder, subfolder)\n",
    "            os.makedirs(output_subfolder, exist_ok=True)\n",
    "\n",
    "            # Iterate through audio files in the subfolder\n",
    "            for audio_file in os.listdir(subfolder_path):\n",
    "                audio_path = os.path.join(subfolder_path, audio_file)\n",
    "\n",
    "                # Process each audio file (trim only)\n",
    "                trimmed_audio, sample_rate = process_audio(audio_path, desired_duration)\n",
    "\n",
    "                # Save the preprocessed audio file in the output subfolder using soundfile\n",
    "                output_audio_path = os.path.join(output_subfolder, audio_file)\n",
    "                sf.write(output_audio_path, trimmed_audio, sample_rate)\n"
   ]
  },
  {
   "cell_type": "code",
   "execution_count": null,
   "metadata": {
    "scrolled": true
   },
   "outputs": [],
   "source": [
    "root_folder = DATASET_PATH\n",
    "output_folder = PROCESSED_DATA_PATH\n",
    "preprocess_audio_in_subfolders(root_folder, output_folder)"
   ]
  },
  {
   "cell_type": "markdown",
   "metadata": {},
   "source": [
    "## Inspect a preprocessed audio file"
   ]
  },
  {
   "cell_type": "code",
   "execution_count": null,
   "metadata": {},
   "outputs": [],
   "source": [
    "example_audio_path = 'processedData/ddyo/audio #2001.wav'\n",
    "audio_signal, sample_rate = librosa.load(example_audio_path)\n",
    "audio = wave.open(example_audio_path, 'rb')"
   ]
  },
  {
   "cell_type": "code",
   "execution_count": null,
   "metadata": {},
   "outputs": [],
   "source": [
    "number_of_channel = audio.getnchannels()\n",
    "sample_width = audio.getsampwidth()\n",
    "frame_rate = audio.getframerate()\n",
    "number_of_frames = audio.getnframes()"
   ]
  },
  {
   "cell_type": "code",
   "execution_count": null,
   "metadata": {},
   "outputs": [],
   "source": [
    "print('Number of channels:', number_of_channel)\n",
    "print('Sample width:',       sample_width)\n",
    "print('frame rate:',         frame_rate)\n",
    "print('Number of frames:',   number_of_frames)\n",
    "print('Parameters:',         audio.getparams())"
   ]
  },
  {
   "cell_type": "code",
   "execution_count": null,
   "metadata": {},
   "outputs": [],
   "source": [
    "duration = librosa.get_duration(y=audio_signal, sr=sample_rate)\n",
    "print(f\"Duration: {duration} seconds\")\n",
    "print(f\"Sample Rate: {sample_rate} Hz\")"
   ]
  },
  {
   "cell_type": "code",
   "execution_count": null,
   "metadata": {},
   "outputs": [],
   "source": [
    "plt.figure(figsize=(12, 4))\n",
    "plt.plot(audio_signal, color='green')\n",
    "plt.title('Audio Waveform')\n",
    "plt.xlabel('ddyo')\n",
    "plt.ylabel('Amplitude')\n",
    "plt.show()"
   ]
  },
  {
   "cell_type": "code",
   "execution_count": null,
   "metadata": {},
   "outputs": [],
   "source": [
    "plt.figure(figsize=(12, 4))\n",
    "sns.histplot(audio_signal, bins=50, kde=True)\n",
    "plt.title('Amplitude Distribution')\n",
    "plt.xlabel('Amplitude')\n",
    "plt.ylabel('Frequency')\n",
    "plt.show()\n"
   ]
  },
  {
   "cell_type": "code",
   "execution_count": null,
   "metadata": {},
   "outputs": [],
   "source": [
    "DATASET_PATH = 'processedData/'\n",
    "data_dir = pathlib.Path(DATASET_PATH)\n",
    "JSON_PATH = \"data.json\""
   ]
  },
  {
   "cell_type": "code",
   "execution_count": null,
   "metadata": {},
   "outputs": [],
   "source": []
  },
  {
   "cell_type": "code",
   "execution_count": null,
   "metadata": {},
   "outputs": [],
   "source": []
  },
  {
   "cell_type": "code",
   "execution_count": null,
   "metadata": {},
   "outputs": [],
   "source": []
  },
  {
   "cell_type": "markdown",
   "metadata": {},
   "source": [
    "# Split into Train and validation"
   ]
  },
  {
   "cell_type": "code",
   "execution_count": null,
   "metadata": {},
   "outputs": [],
   "source": [
    "def create_tf_dataset(root_folder, batch_size=64, validation_split=0.2):\n",
    "    processed_audios = []\n",
    "\n",
    "    # Iterate through subfolders\n",
    "    for subfolder in os.listdir(root_folder):\n",
    "        subfolder_path = os.path.join(root_folder, subfolder)\n",
    "\n",
    "        # Check if it's a directory\n",
    "        if os.path.isdir(subfolder_path):\n",
    "            # Iterate through audio files in the subfolder\n",
    "            for audio_file in os.listdir(subfolder_path):\n",
    "                audio_path = os.path.join(subfolder_path, audio_file)\n",
    "\n",
    "                # Process each audio file\n",
    "                processed_audio, label = process_audio(audio_path)\n",
    "                processed_audios.append((processed_audio, label))\n",
    "\n",
    "    # Shuffle the data\n",
    "    np.random.shuffle(processed_audios)\n",
    "\n",
    "    # Split into training and validation sets\n",
    "    split_index = int(len(processed_audios) * (1 - validation_split))\n",
    "    train_data = processed_audios[:split_index]\n",
    "    val_data = processed_audios[split_index:]\n",
    "\n",
    "    # Create TensorFlow datasets\n",
    "    train_ds = tf.data.Dataset.from_generator(lambda: train_data, output_signature=(\n",
    "        tf.TensorSpec(shape=(None,), dtype=tf.float32),\n",
    "        tf.TensorSpec(shape=(), dtype=tf.int32)\n",
    "    ))\n",
    "    val_ds = tf.data.Dataset.from_generator(lambda: val_data, output_signature=(\n",
    "        tf.TensorSpec(shape=(None,), dtype=tf.float32),\n",
    "        tf.TensorSpec(shape=(), dtype=tf.int32)\n",
    "    ))\n",
    "\n",
    "    # Batch the datasets\n",
    "    train_ds = train_ds.batch(batch_size)\n",
    "    val_ds = val_ds.batch(batch_size)\n",
    "\n",
    "    return train_ds, val_ds\n",
    "\n"
   ]
  },
  {
   "cell_type": "code",
   "execution_count": null,
   "metadata": {},
   "outputs": [],
   "source": [
    "root_folder = PROCESSED_DATA_PATH\n",
    "train_ds, val_ds = create_tf_dataset(root_folder, batch_size=64, validation_split=0.2)"
   ]
  },
  {
   "cell_type": "code",
   "execution_count": null,
   "metadata": {},
   "outputs": [],
   "source": []
  },
  {
   "cell_type": "markdown",
   "metadata": {},
   "source": [
    "## spectrograms"
   ]
  },
  {
   "cell_type": "code",
   "execution_count": null,
   "metadata": {},
   "outputs": [],
   "source": [
    "def extract_spectrograms(root_folder, desired_duration=2, noise_level=0.002):\n",
    "    spectrograms = []\n",
    "    sample_rates = []\n",
    "\n",
    "    for foldername in os.listdir(root_folder):\n",
    "        folder_path = os.path.join(root_folder, foldername)\n",
    "\n",
    "        if os.path.isdir(folder_path):\n",
    "            for audio_filename in os.listdir(folder_path):\n",
    "                audio_path = os.path.join(folder_path, audio_filename)\n",
    "\n",
    "                # Process audio (trimming and noise removal)\n",
    "                processed_audio, sample_rate = process_audio(audio_path, desired_duration, noise_level)\n",
    "\n",
    "                # Extract Mel spectrogram features\n",
    "                mel_spectrogram = librosa.feature.melspectrogram(y=processed_audio, sr=sample_rate)\n",
    "                log_mel_spectrogram = librosa.power_to_db(mel_spectrogram, ref=np.max)\n",
    "\n",
    "                spectrograms.append(log_mel_spectrogram)\n",
    "                sample_rates.append(sample_rate)\n",
    "\n",
    "    return spectrograms, sample_rates\n"
   ]
  },
  {
   "cell_type": "code",
   "execution_count": null,
   "metadata": {},
   "outputs": [],
   "source": [
    "spectrograms, sample_rates = extract_spectrograms(PROCESSED_DATA_PATH)"
   ]
  },
  {
   "cell_type": "markdown",
   "metadata": {},
   "source": [
    "## Augementation"
   ]
  },
  {
   "cell_type": "code",
   "execution_count": null,
   "metadata": {},
   "outputs": [],
   "source": [
    "import numpy as np\n",
    "\n",
    "def apply_augmentation(spectrograms, sample_rates, pitch_shift_range=2, time_stretch_range=0.2, noise_level=0.002):\n",
    "    augmented_spectrograms = []\n",
    "    for spectrogram, sample_rate in zip(spectrograms, sample_rates):\n",
    "        # Convert spectrogram back to audio signal\n",
    "        y = librosa.feature.inverse.mel_to_audio(np.asarray(spectrogram), sr=sample_rate)\n",
    "\n",
    "        # Random pitch shifting\n",
    "        pitch_shift_steps = np.random.uniform(-pitch_shift_range, pitch_shift_range)\n",
    "        spectrogram_shifted = librosa.effects.pitch_shift(y, sr=sample_rate, n_steps=pitch_shift_steps)\n",
    "\n",
    "        # Random time stretching\n",
    "        time_stretch_factor = np.random.uniform(1 - time_stretch_range, 1 + time_stretch_range)\n",
    "        spectrogram_stretched = librosa.effects.time_stretch(spectrogram_shifted, rate=time_stretch_factor)\n",
    "\n",
    "        # Add random noise\n",
    "        noise = np.random.normal(scale=noise_level, size=len(spectrogram_stretched))\n",
    "        spectrogram_noisy = spectrogram_stretched + noise\n",
    "\n",
    "        augmented_spectrograms.append(spectrogram_noisy)\n",
    "\n",
    "    return augmented_spectrograms\n"
   ]
  },
  {
   "cell_type": "code",
   "execution_count": null,
   "metadata": {},
   "outputs": [],
   "source": []
  },
  {
   "cell_type": "markdown",
   "metadata": {},
   "source": [
    "## Feature scaling"
   ]
  },
  {
   "cell_type": "code",
   "execution_count": null,
   "metadata": {},
   "outputs": [],
   "source": [
    "# # After extracting spectrograms and applying data augmentation\n",
    "# augmented_spectrograms = apply_augmentation(spectrograms, sample_rate)\n",
    "\n",
    "# # After applying data augmentation, scale the features\n",
    "# scaled_spectrograms, scaler = scale_features(augmented_spectrograms)\n",
    "\n",
    "# Save the scaler object for later use\n",
    "# # You can use joblib to save and load the scaler\n",
    "# from joblib import dump\n",
    "# dump(scaler, 'scaler.joblib')\n"
   ]
  },
  {
   "cell_type": "code",
   "execution_count": null,
   "metadata": {},
   "outputs": [],
   "source": []
  },
  {
   "cell_type": "code",
   "execution_count": null,
   "metadata": {},
   "outputs": [],
   "source": []
  },
  {
   "cell_type": "code",
   "execution_count": null,
   "metadata": {},
   "outputs": [],
   "source": []
  },
  {
   "cell_type": "code",
   "execution_count": null,
   "metadata": {},
   "outputs": [],
   "source": []
  },
  {
   "cell_type": "code",
   "execution_count": null,
   "metadata": {},
   "outputs": [],
   "source": []
  },
  {
   "cell_type": "code",
   "execution_count": null,
   "metadata": {},
   "outputs": [],
   "source": []
  },
  {
   "cell_type": "code",
   "execution_count": null,
   "metadata": {},
   "outputs": [],
   "source": []
  },
  {
   "cell_type": "code",
   "execution_count": null,
   "metadata": {},
   "outputs": [],
   "source": []
  },
  {
   "cell_type": "code",
   "execution_count": null,
   "metadata": {},
   "outputs": [],
   "source": []
  },
  {
   "cell_type": "code",
   "execution_count": null,
   "metadata": {},
   "outputs": [],
   "source": []
  },
  {
   "cell_type": "code",
   "execution_count": null,
   "metadata": {
    "colab": {
     "base_uri": "https://localhost:8080/"
    },
    "executionInfo": {
     "elapsed": 13076,
     "status": "ok",
     "timestamp": 1703162129584,
     "user": {
      "displayName": "adi sam",
      "userId": "04727694002057940011"
     },
     "user_tz": -180
    },
    "id": "mFM4c3aMC8Qv",
    "outputId": "2e187993-a0cf-40bc-9f86-9789dc3d0254"
   },
   "outputs": [],
   "source": [
    "train_ds, val_ds = tf.keras.utils.audio_dataset_from_directory(\n",
    "    directory=data_dir,\n",
    "    batch_size=64,\n",
    "    validation_split=0.3,\n",
    "    seed=0,\n",
    "    output_sequence_length=16000,\n",
    "    subset='both')\n",
    "\n",
    "label_names = np.array(train_ds.class_names)\n",
    "print()\n",
    "print(\"label names:\", label_names)"
   ]
  },
  {
   "cell_type": "markdown",
   "metadata": {
    "id": "cestp83qFnU5"
   },
   "source": [
    "### The audio clips have a shape of `(batch, samples, channels)`."
   ]
  },
  {
   "cell_type": "code",
   "execution_count": null,
   "metadata": {
    "colab": {
     "base_uri": "https://localhost:8080/"
    },
    "executionInfo": {
     "elapsed": 5,
     "status": "ok",
     "timestamp": 1703162129584,
     "user": {
      "displayName": "adi sam",
      "userId": "04727694002057940011"
     },
     "user_tz": -180
    },
    "id": "3yU6SQGIFb3H",
    "outputId": "5aec1e38-a12d-405e-88a2-7ac98c1af3c8"
   },
   "outputs": [],
   "source": [
    "train_ds.element_spec"
   ]
  },
  {
   "cell_type": "code",
   "execution_count": null,
   "metadata": {
    "executionInfo": {
     "elapsed": 3,
     "status": "ok",
     "timestamp": 1703162129584,
     "user": {
      "displayName": "adi sam",
      "userId": "04727694002057940011"
     },
     "user_tz": -180
    },
    "id": "Xl-tnniUIBlM"
   },
   "outputs": [],
   "source": [
    "def squeeze(audio, labels):\n",
    "  audio = tf.squeeze(audio, axis=-1)\n",
    "  return audio, labels\n",
    "\n",
    "train_ds = train_ds.map(squeeze, tf.data.AUTOTUNE)\n",
    "val_ds = val_ds.map(squeeze, tf.data.AUTOTUNE)"
   ]
  },
  {
   "cell_type": "code",
   "execution_count": null,
   "metadata": {
    "executionInfo": {
     "elapsed": 3,
     "status": "ok",
     "timestamp": 1703162129584,
     "user": {
      "displayName": "adi sam",
      "userId": "04727694002057940011"
     },
     "user_tz": -180
    },
    "id": "u5UEGsqM5Gss"
   },
   "outputs": [],
   "source": [
    "test_ds = val_ds.shard(num_shards=2, index=0)\n",
    "val_ds = val_ds.shard(num_shards=2, index=1)"
   ]
  },
  {
   "cell_type": "code",
   "execution_count": null,
   "metadata": {
    "colab": {
     "base_uri": "https://localhost:8080/"
    },
    "executionInfo": {
     "elapsed": 221726,
     "status": "ok",
     "timestamp": 1703162351307,
     "user": {
      "displayName": "adi sam",
      "userId": "04727694002057940011"
     },
     "user_tz": -180
    },
    "id": "xIeoJcwJH5h9",
    "outputId": "ca872edd-1bcf-4feb-8518-3ba24753764c"
   },
   "outputs": [],
   "source": [
    "for example_audio, example_labels in train_ds.take(1):\n",
    "  print(example_audio.shape)\n",
    "  print(example_labels.shape)"
   ]
  },
  {
   "cell_type": "markdown",
   "metadata": {
    "id": "voxGEwvuh2L7"
   },
   "source": [
    "### Plot a few audio waveforms:"
   ]
  },
  {
   "cell_type": "code",
   "execution_count": null,
   "metadata": {
    "colab": {
     "base_uri": "https://localhost:8080/"
    },
    "executionInfo": {
     "elapsed": 6,
     "status": "ok",
     "timestamp": 1703162351308,
     "user": {
      "displayName": "adi sam",
      "userId": "04727694002057940011"
     },
     "user_tz": -180
    },
    "id": "dYtGq2zYNHuT",
    "outputId": "da394373-3e8a-4598-e1c6-ab07ad5d1719"
   },
   "outputs": [],
   "source": [
    "label_names[[1,2,3,0,4,5]]"
   ]
  },
  {
   "cell_type": "code",
   "execution_count": null,
   "metadata": {
    "colab": {
     "base_uri": "https://localhost:8080/",
     "height": 853
    },
    "executionInfo": {
     "elapsed": 4766,
     "status": "ok",
     "timestamp": 1703162356071,
     "user": {
      "displayName": "adi sam",
      "userId": "04727694002057940011"
     },
     "user_tz": -180
    },
    "id": "8yuX6Nqzf6wT",
    "outputId": "c06d4244-0e7e-4b7d-b8e9-34b763227291"
   },
   "outputs": [],
   "source": [
    "plt.figure(figsize=(16, 10))\n",
    "rows = 2\n",
    "cols = 3\n",
    "n = rows * cols\n",
    "for i in range(n):\n",
    "  plt.subplot(rows, cols, i+1)\n",
    "  audio_signal = example_audio[i]\n",
    "  plt.plot(audio_signal)\n",
    "  plt.title(label_names[example_labels[i]])\n",
    "  plt.yticks(np.arange(-1.2, 1.2, 0.2))\n",
    "  plt.ylim([-1.1, 1.1])"
   ]
  },
  {
   "cell_type": "code",
   "execution_count": null,
   "metadata": {
    "executionInfo": {
     "elapsed": 15,
     "status": "ok",
     "timestamp": 1703162356072,
     "user": {
      "displayName": "adi sam",
      "userId": "04727694002057940011"
     },
     "user_tz": -180
    },
    "id": "_4CK75DHz_OR"
   },
   "outputs": [],
   "source": [
    "def get_spectrogram(waveform):\n",
    "  # Convert the waveform to a spectrogram via a STFT.\n",
    "  spectrogram = tf.signal.stft(\n",
    "      waveform, frame_length=255, frame_step=128)\n",
    "  # Obtain the magnitude of the STFT.\n",
    "  spectrogram = tf.abs(spectrogram)\n",
    "  # Add a `channels` dimension, so that the spectrogram can be used\n",
    "  # as image-like input data with convolution layers (which expect\n",
    "  # shape (`batch_size`, `height`, `width`, `channels`).\n",
    "  spectrogram = spectrogram[..., tf.newaxis]\n",
    "  return spectrogram"
   ]
  },
  {
   "cell_type": "markdown",
   "metadata": {
    "id": "5rdPiPYJphs2"
   },
   "source": [
    "### The shapes of a tensorized waveform and the corresponding spectrogram, and play the original audio:"
   ]
  },
  {
   "cell_type": "code",
   "execution_count": null,
   "metadata": {
    "colab": {
     "base_uri": "https://localhost:8080/",
     "height": 401
    },
    "executionInfo": {
     "elapsed": 14,
     "status": "ok",
     "timestamp": 1703162356072,
     "user": {
      "displayName": "adi sam",
      "userId": "04727694002057940011"
     },
     "user_tz": -180
    },
    "id": "4Mu6Y7Yz3C-V",
    "outputId": "e3bbd895-1a19-429f-c216-341cd2c57734"
   },
   "outputs": [],
   "source": [
    "for i in range(3):\n",
    "  label = label_names[example_labels[i]]\n",
    "  waveform = example_audio[i]\n",
    "  spectrogram = get_spectrogram(waveform)\n",
    "\n",
    "  print('Label:', label)\n",
    "  print('Waveform shape:', waveform.shape)\n",
    "  print('Spectrogram shape:', spectrogram.shape)\n",
    "  print('Audio playback')\n",
    "  display.display(display.Audio(waveform, rate=16000))"
   ]
  },
  {
   "cell_type": "markdown",
   "metadata": {
    "id": "xnSuqyxJ1isF"
   },
   "source": [
    "### Displaying a spectrogram:"
   ]
  },
  {
   "cell_type": "code",
   "execution_count": null,
   "metadata": {
    "executionInfo": {
     "elapsed": 9,
     "status": "ok",
     "timestamp": 1703162356072,
     "user": {
      "displayName": "adi sam",
      "userId": "04727694002057940011"
     },
     "user_tz": -180
    },
    "id": "e62jzb36-Jog"
   },
   "outputs": [],
   "source": [
    "# Convert the frequencies to log scale and transpose, so that the time is\n",
    "# represented on the x-axis (columns).\n",
    "# Add an epsilon to avoid taking a log of zero.\n",
    "\n",
    "def plot_spectrogram(spectrogram, ax):\n",
    "  if len(spectrogram.shape) > 2:\n",
    "    assert len(spectrogram.shape) == 3\n",
    "    spectrogram = np.squeeze(spectrogram, axis=-1)\n",
    "      \n",
    "  log_spec = np.log(spectrogram.T + np.finfo(float).eps)\n",
    "  height = log_spec.shape[0]\n",
    "  width = log_spec.shape[1]\n",
    "  X = np.linspace(0, np.size(spectrogram), num=width, dtype=int)\n",
    "  Y = range(height)\n",
    "  ax.pcolormesh(X, Y, log_spec)"
   ]
  },
  {
   "cell_type": "markdown",
   "metadata": {
    "id": "baa5c91e8603"
   },
   "source": [
    "### Plot of waveform over time and the corresponding spectrogram."
   ]
  },
  {
   "cell_type": "code",
   "execution_count": null,
   "metadata": {
    "colab": {
     "base_uri": "https://localhost:8080/",
     "height": 756
    },
    "executionInfo": {
     "elapsed": 4652,
     "status": "ok",
     "timestamp": 1703162421737,
     "user": {
      "displayName": "adi sam",
      "userId": "04727694002057940011"
     },
     "user_tz": -180
    },
    "id": "d2_CikgY1tjv",
    "outputId": "6799eba9-0a67-46eb-ee1e-ebcfb3aa37bf"
   },
   "outputs": [],
   "source": [
    "fig, axes = plt.subplots(2, figsize=(12, 8))\n",
    "timescale = np.arange(waveform.shape[0])\n",
    "axes[0].plot(timescale, waveform.numpy())\n",
    "axes[0].set_title('Waveform')\n",
    "axes[0].set_xlim([0, 16000])\n",
    "\n",
    "plot_spectrogram(spectrogram.numpy(), axes[1])\n",
    "axes[1].set_title('Spectrogram')\n",
    "plt.suptitle(label.title())\n",
    "plt.show()"
   ]
  },
  {
   "cell_type": "markdown",
   "metadata": {
    "id": "GyYXjW07jCHA"
   },
   "source": [
    "## Create spectrogram datasets from the audio datasets:"
   ]
  },
  {
   "cell_type": "code",
   "execution_count": null,
   "metadata": {
    "executionInfo": {
     "elapsed": 10,
     "status": "ok",
     "timestamp": 1703162765777,
     "user": {
      "displayName": "adi sam",
      "userId": "04727694002057940011"
     },
     "user_tz": -180
    },
    "id": "mAD0LpkgqtQo"
   },
   "outputs": [],
   "source": [
    "def make_spec_ds(ds):\n",
    "  return ds.map(\n",
    "      map_func=lambda audio,label: (get_spectrogram(audio), label),\n",
    "      num_parallel_calls=tf.data.AUTOTUNE)"
   ]
  },
  {
   "cell_type": "code",
   "execution_count": null,
   "metadata": {
    "executionInfo": {
     "elapsed": 3334,
     "status": "ok",
     "timestamp": 1703162769104,
     "user": {
      "displayName": "adi sam",
      "userId": "04727694002057940011"
     },
     "user_tz": -180
    },
    "id": "yEVb_oK0oBLQ"
   },
   "outputs": [],
   "source": [
    "train_spectrogram_ds = make_spec_ds(train_ds)\n",
    "val_spectrogram_ds = make_spec_ds(val_ds)\n",
    "test_spectrogram_ds = make_spec_ds(test_ds)"
   ]
  },
  {
   "cell_type": "markdown",
   "metadata": {
    "id": "6gQpAAgMnyDi"
   },
   "source": [
    "Examine the spectrograms for different examples of the dataset:"
   ]
  },
  {
   "cell_type": "code",
   "execution_count": null,
   "metadata": {
    "id": "EaM2q5aGis-d"
   },
   "outputs": [],
   "source": [
    "for example_spectrograms, example_spect_labels in train_spectrogram_ds.take(1):\n",
    "  break"
   ]
  },
  {
   "cell_type": "code",
   "execution_count": null,
   "metadata": {
    "colab": {
     "base_uri": "https://localhost:8080/",
     "height": 776
    },
    "executionInfo": {
     "elapsed": 5233,
     "status": "ok",
     "timestamp": 1703138427307,
     "user": {
      "displayName": "adi sam",
      "userId": "04727694002057940011"
     },
     "user_tz": -180
    },
    "id": "QUbHfTuon4iF",
    "outputId": "3ee28e33-11b1-4d3b-c0c0-6586e6b68414"
   },
   "outputs": [],
   "source": [
    "rows = 2\n",
    "cols = 3\n",
    "n = rows*cols\n",
    "fig, axes = plt.subplots(rows, cols, figsize=(16, 9))\n",
    "\n",
    "for i in range(n):\n",
    "    r = i // cols\n",
    "    c = i % cols\n",
    "    ax = axes[r][c]\n",
    "    plot_spectrogram(example_spectrograms[i].numpy(), ax)\n",
    "    ax.set_title(label_names[example_spect_labels[i].numpy()])\n",
    "\n",
    "plt.show()"
   ]
  },
  {
   "cell_type": "markdown",
   "metadata": {
    "id": "GS1uIh6F_TN9"
   },
   "source": [
    "### `Dataset.cache` and `Dataset.prefetch` operations to reduce read latency while training the model:"
   ]
  },
  {
   "cell_type": "code",
   "execution_count": null,
   "metadata": {
    "id": "fdZ6M-F5_QzY"
   },
   "outputs": [],
   "source": [
    "train_spectrogram_ds = train_spectrogram_ds.cache().shuffle(10000).prefetch(tf.data.AUTOTUNE)\n",
    "val_spectrogram_ds = val_spectrogram_ds.cache().prefetch(tf.data.AUTOTUNE)\n",
    "test_spectrogram_ds = test_spectrogram_ds.cache().prefetch(tf.data.AUTOTUNE)"
   ]
  },
  {
   "cell_type": "markdown",
   "metadata": {
    "id": "z5KdY8IF8rkt"
   },
   "source": [
    "## Model 1"
   ]
  },
  {
   "cell_type": "code",
   "execution_count": null,
   "metadata": {
    "colab": {
     "base_uri": "https://localhost:8080/"
    },
    "executionInfo": {
     "elapsed": 408700,
     "status": "ok",
     "timestamp": 1703138842661,
     "user": {
      "displayName": "adi sam",
      "userId": "04727694002057940011"
     },
     "user_tz": -180
    },
    "id": "ALYz7PFCHblP",
    "outputId": "4cf09e2d-71f1-4971-c64a-451c6134d8b3"
   },
   "outputs": [],
   "source": [
    "input_shape = example_spectrograms.shape[1:]\n",
    "print('Input shape:', input_shape)\n",
    "num_labels = len(label_names)\n",
    "norm_layer = layers.Normalization()\n",
    "norm_layer.adapt(data=train_spectrogram_ds.map(map_func=lambda spec, label: spec))\n",
    "\n",
    "model = models.Sequential([\n",
    "    layers.Input(shape=input_shape),\n",
    "    # Downsample the input.\n",
    "    layers.Resizing(32, 32),\n",
    "    # Normalize.\n",
    "    norm_layer,\n",
    "    layers.Conv2D(32, 3, activation='relu'),\n",
    "    layers.Conv2D(64, 3, activation='relu'),\n",
    "    layers.MaxPooling2D(),\n",
    "    layers.Dropout(0.25),\n",
    "    layers.Flatten(),\n",
    "    layers.Dense(128, activation='relu'),\n",
    "    layers.Dropout(0.5),\n",
    "    layers.Dense(num_labels),\n",
    "])\n",
    "\n",
    "model.summary()"
   ]
  },
  {
   "cell_type": "markdown",
   "metadata": {
    "id": "de52e5afa2f3"
   },
   "source": [
    "### Keras model with the Adam optimizer and the cross-entropy loss:"
   ]
  },
  {
   "cell_type": "code",
   "execution_count": null,
   "metadata": {
    "id": "wFjj7-EmsTD-"
   },
   "outputs": [],
   "source": [
    "model.compile(\n",
    "    optimizer=tf.keras.optimizers.Adam(),\n",
    "    loss=tf.keras.losses.SparseCategoricalCrossentropy(from_logits=True),\n",
    "    metrics=['accuracy'],\n",
    ")"
   ]
  },
  {
   "cell_type": "markdown",
   "metadata": {
    "id": "f42b9e3a4705"
   },
   "source": [
    "### Train the model"
   ]
  },
  {
   "cell_type": "code",
   "execution_count": null,
   "metadata": {
    "colab": {
     "base_uri": "https://localhost:8080/"
    },
    "executionInfo": {
     "elapsed": 379861,
     "status": "ok",
     "timestamp": 1703139278187,
     "user": {
      "displayName": "adi sam",
      "userId": "04727694002057940011"
     },
     "user_tz": -180
    },
    "id": "ttioPJVMcGtq",
    "outputId": "32bf9ea7-432f-4942-d041-6d0b4c45543b"
   },
   "outputs": [],
   "source": [
    "EPOCHS = 10\n",
    "history = model.fit(\n",
    "    train_spectrogram_ds,\n",
    "    validation_data=val_spectrogram_ds,\n",
    "    epochs=EPOCHS,\n",
    "    callbacks=tf.keras.callbacks.EarlyStopping(verbose=1, patience=2),\n",
    ")"
   ]
  },
  {
   "cell_type": "markdown",
   "metadata": {
    "id": "gjpCDeQ4mUfS"
   },
   "source": [
    "### Plot the training and validation loss curves to check how your model has improved during training:"
   ]
  },
  {
   "cell_type": "code",
   "execution_count": null,
   "metadata": {
    "colab": {
     "base_uri": "https://localhost:8080/",
     "height": 564
    },
    "executionInfo": {
     "elapsed": 1439,
     "status": "ok",
     "timestamp": 1703139349809,
     "user": {
      "displayName": "adi sam",
      "userId": "04727694002057940011"
     },
     "user_tz": -180
    },
    "id": "nzhipg3Gu2AY",
    "outputId": "24210bf5-8be1-40bb-9156-6894e9d4b957"
   },
   "outputs": [],
   "source": [
    "metrics = history.history\n",
    "plt.figure(figsize=(14,5))\n",
    "plt.subplot(1,2,1)\n",
    "plt.plot(history.epoch, metrics['loss'], metrics['val_loss'])\n",
    "plt.legend(['loss', 'val_loss'])\n",
    "plt.ylim([0, max(plt.ylim())])\n",
    "plt.xlabel('Epoch')\n",
    "plt.ylabel('Loss [CrossEntropy]')\n",
    "\n",
    "plt.subplot(1,2,2)\n",
    "plt.plot(history.epoch, 100*np.array(metrics['accuracy']), 100*np.array(metrics['val_accuracy']))\n",
    "plt.legend(['accuracy', 'val_accuracy'])\n",
    "plt.ylim([0, 100])\n",
    "plt.xlabel('Epoch')\n",
    "plt.ylabel('Accuracy [%]')"
   ]
  },
  {
   "cell_type": "markdown",
   "metadata": {
    "id": "5ZTt3kO3mfm4"
   },
   "source": [
    "### Evaluate the model performance\n",
    "\n",
    "Run the model on the test set and check the model's performance:"
   ]
  },
  {
   "cell_type": "code",
   "execution_count": null,
   "metadata": {
    "colab": {
     "base_uri": "https://localhost:8080/"
    },
    "executionInfo": {
     "elapsed": 7154,
     "status": "ok",
     "timestamp": 1703139376174,
     "user": {
      "displayName": "adi sam",
      "userId": "04727694002057940011"
     },
     "user_tz": -180
    },
    "id": "FapuRT_SsWGQ",
    "outputId": "7e126f2f-b528-4a64-facb-a1d3a6d84e1e"
   },
   "outputs": [],
   "source": [
    "model.evaluate(test_spectrogram_ds, return_dict=True)"
   ]
  },
  {
   "cell_type": "markdown",
   "metadata": {
    "id": "en9Znt1NOabH"
   },
   "source": [
    "### Display a confusion matrix"
   ]
  },
  {
   "cell_type": "code",
   "execution_count": null,
   "metadata": {
    "colab": {
     "base_uri": "https://localhost:8080/"
    },
    "executionInfo": {
     "elapsed": 967,
     "status": "ok",
     "timestamp": 1703139380080,
     "user": {
      "displayName": "adi sam",
      "userId": "04727694002057940011"
     },
     "user_tz": -180
    },
    "id": "5Y6vmWWQuuT1",
    "outputId": "ac6ec6b1-6281-4a79-b43e-fc05a58ae8d8"
   },
   "outputs": [],
   "source": [
    "y_pred = model.predict(test_spectrogram_ds)"
   ]
  },
  {
   "cell_type": "code",
   "execution_count": null,
   "metadata": {
    "id": "d6F0il82u7lW"
   },
   "outputs": [],
   "source": [
    "y_pred = tf.argmax(y_pred, axis=1)"
   ]
  },
  {
   "cell_type": "code",
   "execution_count": null,
   "metadata": {
    "id": "vHSNoBYLvX81"
   },
   "outputs": [],
   "source": [
    "y_true = tf.concat(list(test_spectrogram_ds.map(lambda s,lab: lab)), axis=0)"
   ]
  },
  {
   "cell_type": "code",
   "execution_count": null,
   "metadata": {
    "colab": {
     "base_uri": "https://localhost:8080/",
     "height": 696
    },
    "executionInfo": {
     "elapsed": 913,
     "status": "ok",
     "timestamp": 1703139388572,
     "user": {
      "displayName": "adi sam",
      "userId": "04727694002057940011"
     },
     "user_tz": -180
    },
    "id": "LvoSAOiXU3lL",
    "outputId": "68f1975b-79c5-4fb3-c950-d259ae3a28ac"
   },
   "outputs": [],
   "source": [
    "confusion_mtx = tf.math.confusion_matrix(y_true, y_pred)\n",
    "plt.figure(figsize=(6, 4))\n",
    "sns.heatmap(confusion_mtx,\n",
    "            xticklabels=label_names,\n",
    "            yticklabels=label_names,\n",
    "            annot=True, fmt='g')\n",
    "plt.xlabel('Prediction')\n",
    "plt.ylabel('Label')\n",
    "plt.show()"
   ]
  },
  {
   "cell_type": "markdown",
   "metadata": {},
   "source": [
    "### Export the model with preprocessing"
   ]
  },
  {
   "cell_type": "code",
   "execution_count": null,
   "metadata": {},
   "outputs": [],
   "source": [
    "class ExportModel(tf.Module):\n",
    "  def __init__(self, model):\n",
    "    self.model = model\n",
    "\n",
    "    # Accept either a string-filename or a batch of waveforms.\n",
    "    # YOu could add additional signatures for a single wave, or a ragged-batch.\n",
    "    self.__call__.get_concrete_function(\n",
    "        x=tf.TensorSpec(shape=(), dtype=tf.string))\n",
    "    self.__call__.get_concrete_function(\n",
    "       x=tf.TensorSpec(shape=[None, 16000], dtype=tf.float32))\n",
    "\n",
    "\n",
    "  @tf.function\n",
    "  def __call__(self, x):\n",
    "    # If they pass a string, load the file and decode it.\n",
    "    if x.dtype == tf.string:\n",
    "      x = tf.io.read_file(x)\n",
    "      x, _ = tf.audio.decode_wav(x, desired_channels=1, desired_samples=16000,)\n",
    "      x = tf.squeeze(x, axis=-1)\n",
    "      x = x[tf.newaxis, :]\n",
    "\n",
    "    x = get_spectrogram(x)\n",
    "    result = self.model(x, training=False)\n",
    "\n",
    "    class_ids = tf.argmax(result, axis=-1)\n",
    "    class_names = tf.gather(label_names, class_ids)\n",
    "    return {'predictions':result,\n",
    "            'class_ids': class_ids,\n",
    "            'class_names': class_names}"
   ]
  },
  {
   "cell_type": "markdown",
   "metadata": {
    "id": "mQGi_mzPcLvl"
   },
   "source": [
    "## Model 2"
   ]
  },
  {
   "cell_type": "code",
   "execution_count": null,
   "metadata": {},
   "outputs": [],
   "source": [
    "model2 = models.Sequential([\n",
    "    layers.Input(shape=input_shape),\n",
    "    layers.Resizing(32, 32),\n",
    "    norm_layer,\n",
    "    layers.Conv2D(32, 3, activation='relu'),\n",
    "    layers.BatchNormalization(),\n",
    "    layers.MaxPooling2D(),\n",
    "    layers.Conv2D(64, 3, activation='relu'),\n",
    "    layers.BatchNormalization(),\n",
    "    layers.MaxPooling2D(),\n",
    "    layers.Dropout(0.25),\n",
    "    layers.Flatten(),\n",
    "    layers.Dense(128, activation='relu'),\n",
    "    layers.Dropout(0.5),\n",
    "    layers.Dense(num_labels),\n",
    "])\n"
   ]
  },
  {
   "cell_type": "code",
   "execution_count": null,
   "metadata": {},
   "outputs": [],
   "source": [
    "model2.summary()"
   ]
  },
  {
   "cell_type": "code",
   "execution_count": null,
   "metadata": {},
   "outputs": [],
   "source": [
    "model2.compile(\n",
    "    optimizer=tf.keras.optimizers.Adam(),\n",
    "    loss=tf.keras.losses.SparseCategoricalCrossentropy(from_logits=True),\n",
    "    metrics=['accuracy'],\n",
    ")\n",
    "\n",
    "timizer=tf.keras.optimizers.Adam(),\n",
    "loss=tf.keras.losses.SparseCategoricalCrossentropy(from_logits=True),\n"
   ]
  },
  {
   "cell_type": "code",
   "execution_count": null,
   "metadata": {},
   "outputs": [],
   "source": [
    "EPOCHS = 10\n",
    "history = model2.fit(\n",
    "    train_spectrogram_ds,\n",
    "    validation_data=val_spectrogram_ds,\n",
    "    epochs=EPOCHS,\n",
    "    callbacks=tf.keras.callbacks.EarlyStopping(verbose=1, patience=2),\n",
    ")"
   ]
  },
  {
   "cell_type": "code",
   "execution_count": null,
   "metadata": {},
   "outputs": [],
   "source": [
    "metrics = history.history\n",
    "plt.figure(figsize=(16,6))\n",
    "plt.subplot(1,2,1)\n",
    "plt.plot(history.epoch, metrics['loss'], metrics['val_loss'])\n",
    "plt.legend(['loss', 'val_loss'])\n",
    "plt.ylim([0, max(plt.ylim())])\n",
    "plt.xlabel('Epoch')\n",
    "plt.ylabel('Loss [CrossEntropy]')\n",
    "\n",
    "plt.subplot(1,2,2)\n",
    "plt.plot(history.epoch, 100*np.array(metrics['accuracy']), 100*np.array(metrics['val_accuracy']))\n",
    "plt.legend(['accuracy', 'val_accuracy'])\n",
    "plt.ylim([0, 100])\n",
    "plt.xlabel('Epoch')\n",
    "plt.ylabel('Accuracy [%]')"
   ]
  },
  {
   "cell_type": "markdown",
   "metadata": {},
   "source": [
    "### Evaluate the model"
   ]
  },
  {
   "cell_type": "code",
   "execution_count": null,
   "metadata": {},
   "outputs": [],
   "source": [
    "model2.evaluate(test_spectrogram_ds, return_dict=True)"
   ]
  },
  {
   "cell_type": "code",
   "execution_count": null,
   "metadata": {},
   "outputs": [],
   "source": [
    "y_pred = model2.predict(test_spectrogram_ds)\n",
    "y_pred = tf.argmax(y_pred, axis=1)"
   ]
  },
  {
   "cell_type": "code",
   "execution_count": null,
   "metadata": {},
   "outputs": [],
   "source": [
    "y_true = tf.concat(list(test_spectrogram_ds.map(lambda s,lab: lab)), axis=0)"
   ]
  },
  {
   "cell_type": "code",
   "execution_count": null,
   "metadata": {},
   "outputs": [],
   "source": [
    "confusion_mtx = tf.math.confusion_matrix(y_true, y_pred)\n",
    "plt.figure(figsize=(6, 4))\n",
    "sns.heatmap(confusion_mtx,\n",
    "            xticklabels=label_names,\n",
    "            yticklabels=label_names,\n",
    "            annot=True, fmt='g')\n",
    "plt.xlabel('Prediction')\n",
    "plt.ylabel('Label')\n",
    "plt.show()"
   ]
  },
  {
   "cell_type": "markdown",
   "metadata": {},
   "source": [
    "## Model 3"
   ]
  },
  {
   "cell_type": "code",
   "execution_count": null,
   "metadata": {},
   "outputs": [],
   "source": [
    "model3 = models.Sequential([\n",
    "    layers.Input(shape=input_shape),\n",
    "    layers.Conv2D(32, 3, activation='relu', dilation_rate=(2, 2)),\n",
    "    layers.MaxPooling2D(),\n",
    "    layers.Conv2D(64, 3, activation='relu', dilation_rate=(2, 2)),\n",
    "    layers.MaxPooling2D(),\n",
    "    layers.Conv2D(128, 3, activation='relu', dilation_rate=(2, 2)),\n",
    "    layers.GlobalAveragePooling2D(),\n",
    "    layers.Dense(128, activation='relu'),\n",
    "    layers.Dropout(0.5),\n",
    "    layers.Dense(num_labels),\n",
    "])\n"
   ]
  },
  {
   "cell_type": "code",
   "execution_count": null,
   "metadata": {
    "scrolled": true
   },
   "outputs": [],
   "source": [
    "model3.summary()"
   ]
  },
  {
   "cell_type": "code",
   "execution_count": null,
   "metadata": {},
   "outputs": [],
   "source": [
    "model3.compile(\n",
    "    optimizer=tf.keras.optimizers.Adam(),\n",
    "    loss=tf.keras.losses.SparseCategoricalCrossentropy(from_logits=True),\n",
    "    metrics=['accuracy'],\n",
    ")"
   ]
  },
  {
   "cell_type": "code",
   "execution_count": null,
   "metadata": {},
   "outputs": [],
   "source": [
    "EPOCHS = 10\n",
    "history = model3.fit(\n",
    "    train_spectrogram_ds,\n",
    "    validation_data=val_spectrogram_ds,\n",
    "    epochs=EPOCHS,\n",
    "    callbacks=tf.keras.callbacks.EarlyStopping(verbose=1, patience=2),\n",
    ")"
   ]
  },
  {
   "cell_type": "code",
   "execution_count": null,
   "metadata": {},
   "outputs": [],
   "source": [
    "metrics = history.history\n",
    "plt.figure(figsize=(16,6))\n",
    "plt.subplot(1,2,1)\n",
    "plt.plot(history.epoch, metrics['loss'], metrics['val_loss'])\n",
    "plt.legend(['loss', 'val_loss'])\n",
    "plt.ylim([0, max(plt.ylim())])\n",
    "plt.xlabel('Epoch')\n",
    "plt.ylabel('Loss [CrossEntropy]')\n",
    "\n",
    "plt.subplot(1,2,2)\n",
    "plt.plot(history.epoch, 100*np.array(metrics['accuracy']), 100*np.array(metrics['val_accuracy']))\n",
    "plt.legend(['accuracy', 'val_accuracy'])\n",
    "plt.ylim([0, 100])\n",
    "plt.xlabel('Epoch')\n",
    "plt.ylabel('Accuracy [%]')"
   ]
  },
  {
   "cell_type": "markdown",
   "metadata": {},
   "source": [
    "### Evaluate the model"
   ]
  },
  {
   "cell_type": "code",
   "execution_count": null,
   "metadata": {},
   "outputs": [],
   "source": [
    "model3.evaluate(test_spectrogram_ds, return_dict=True)"
   ]
  },
  {
   "cell_type": "code",
   "execution_count": null,
   "metadata": {},
   "outputs": [],
   "source": [
    "y_pred = model3.predict(test_spectrogram_ds)\n",
    "y_pred = tf.argmax(y_pred, axis=1)"
   ]
  },
  {
   "cell_type": "code",
   "execution_count": null,
   "metadata": {},
   "outputs": [],
   "source": [
    "y_true = tf.concat(list(test_spectrogram_ds.map(lambda s,lab: lab)), axis=0)"
   ]
  },
  {
   "cell_type": "code",
   "execution_count": null,
   "metadata": {},
   "outputs": [],
   "source": [
    "confusion_mtx = tf.math.confusion_matrix(y_true, y_pred)\n",
    "plt.figure(figsize=(6, 4))\n",
    "sns.heatmap(confusion_mtx,\n",
    "            xticklabels=label_names,\n",
    "            yticklabels=label_names,\n",
    "            annot=True, fmt='g')\n",
    "plt.xlabel('Prediction')\n",
    "plt.ylabel('Label')\n",
    "plt.show()"
   ]
  },
  {
   "cell_type": "markdown",
   "metadata": {},
   "source": [
    "## Model 4"
   ]
  },
  {
   "cell_type": "code",
   "execution_count": null,
   "metadata": {},
   "outputs": [],
   "source": [
    "\n",
    "train_spectrogram_ds = train_spectrogram_ds.map(lambda x, y: (tf.image.grayscale_to_rgb(x), y))\n",
    "val_spectrogram_ds = val_spectrogram_ds.map(lambda x, y: (tf.image.grayscale_to_rgb(x), y))"
   ]
  },
  {
   "cell_type": "code",
   "execution_count": null,
   "metadata": {
    "scrolled": true
   },
   "outputs": [],
   "source": [
    "input_shape = (124, 129, 3) \n",
    "base_model = tf.keras.applications.MobileNetV2(\n",
    "    input_shape=input_shape, include_top=False, weights='imagenet')\n",
    "base_model.trainable = False\n",
    "\n",
    "model4 = models.Sequential([\n",
    "    base_model,\n",
    "    layers.GlobalAveragePooling2D(),\n",
    "    layers.Dense(128, activation='relu'),\n",
    "    layers.Dropout(0.5),\n",
    "    layers.Dense(num_labels),\n",
    "])\n"
   ]
  },
  {
   "cell_type": "code",
   "execution_count": null,
   "metadata": {},
   "outputs": [],
   "source": [
    "model4.summary()"
   ]
  },
  {
   "cell_type": "code",
   "execution_count": null,
   "metadata": {},
   "outputs": [],
   "source": [
    "model4.compile(\n",
    "    optimizer=tf.keras.optimizers.Adam(),\n",
    "    loss=tf.keras.losses.SparseCategoricalCrossentropy(from_logits=True),\n",
    "    metrics=['accuracy'],\n",
    ")"
   ]
  },
  {
   "cell_type": "code",
   "execution_count": null,
   "metadata": {},
   "outputs": [],
   "source": [
    "EPOCHS = 10\n",
    "history = model4.fit(\n",
    "    train_spectrogram_ds,\n",
    "    validation_data=val_spectrogram_ds,\n",
    "    epochs=EPOCHS,\n",
    "    callbacks=tf.keras.callbacks.EarlyStopping(verbose=1, patience=2),\n",
    ")"
   ]
  },
  {
   "cell_type": "code",
   "execution_count": null,
   "metadata": {},
   "outputs": [],
   "source": [
    "metrics = history.history\n",
    "plt.figure(figsize=(16,6))\n",
    "plt.subplot(1,2,1)\n",
    "plt.plot(history.epoch, metrics['loss'], metrics['val_loss'])\n",
    "plt.legend(['loss', 'val_loss'])\n",
    "plt.ylim([0, max(plt.ylim())])\n",
    "plt.xlabel('Epoch')\n",
    "plt.ylabel('Loss [CrossEntropy]')\n",
    "\n",
    "plt.subplot(1,2,2)\n",
    "plt.plot(history.epoch, 100*np.array(metrics['accuracy']), 100*np.array(metrics['val_accuracy']))\n",
    "plt.legend(['accuracy', 'val_accuracy'])\n",
    "plt.ylim([0, 100])\n",
    "plt.xlabel('Epoch')\n",
    "plt.ylabel('Accuracy [%]')"
   ]
  },
  {
   "cell_type": "markdown",
   "metadata": {},
   "source": [
    "### Evaluate the model"
   ]
  },
  {
   "cell_type": "code",
   "execution_count": null,
   "metadata": {},
   "outputs": [],
   "source": [
    "model4.evaluate(val_spectrogram_ds, return_dict=True)\n"
   ]
  },
  {
   "cell_type": "code",
   "execution_count": null,
   "metadata": {},
   "outputs": [],
   "source": [
    "y_pred = model4.predict(val_spectrogram_ds)\n",
    "y_pred = tf.argmax(y_pred, axis=1)"
   ]
  },
  {
   "cell_type": "code",
   "execution_count": null,
   "metadata": {},
   "outputs": [],
   "source": [
    "y_true = tf.concat(list(val_spectrogram_ds.map(lambda s,lab: lab)), axis=0)"
   ]
  },
  {
   "cell_type": "code",
   "execution_count": null,
   "metadata": {},
   "outputs": [],
   "source": [
    "confusion_mtx = tf.math.confusion_matrix(y_true, y_pred)\n",
    "plt.figure(figsize=(6, 4))\n",
    "sns.heatmap(confusion_mtx,\n",
    "            xticklabels=label_names,\n",
    "            yticklabels=label_names,\n",
    "            annot=True, fmt='g')\n",
    "plt.xlabel('Prediction')\n",
    "plt.ylabel('Label')\n",
    "plt.show()"
   ]
  },
  {
   "cell_type": "markdown",
   "metadata": {},
   "source": [
    "# Exporting a model"
   ]
  },
  {
   "cell_type": "markdown",
   "metadata": {},
   "source": [
    "## Export the model with preprocessing"
   ]
  },
  {
   "cell_type": "code",
   "execution_count": null,
   "metadata": {},
   "outputs": [],
   "source": [
    "class ExportModel(tf.Module):\n",
    "  def __init__(self, model):\n",
    "    self.model = model\n",
    "\n",
    "    # Accept either a string-filename or a batch of waveforms.\n",
    "    # YOu could add additional signatures for a single wave, or a ragged-batch.\n",
    "    self.__call__.get_concrete_function(\n",
    "        x=tf.TensorSpec(shape=(), dtype=tf.string))\n",
    "    self.__call__.get_concrete_function(\n",
    "       x=tf.TensorSpec(shape=[None, 16000], dtype=tf.float32))\n",
    "\n",
    "\n",
    "  @tf.function\n",
    "  def __call__(self, x):\n",
    "    # If they pass a string, load the file and decode it.\n",
    "    if x.dtype == tf.string:\n",
    "      x = tf.io.read_file(x)\n",
    "      x, _ = tf.audio.decode_wav(x, desired_channels=1, desired_samples=16000,)\n",
    "      x = tf.squeeze(x, axis=-1)\n",
    "      x = x[tf.newaxis, :]\n",
    "\n",
    "    x = get_spectrogram(x)\n",
    "    result = self.model(x, training=False)\n",
    "\n",
    "    class_ids = tf.argmax(result, axis=-1)\n",
    "    class_names = tf.gather(label_names, class_ids)\n",
    "    return {'predictions':result,\n",
    "            'class_ids': class_ids,\n",
    "            'class_names': class_names}"
   ]
  },
  {
   "cell_type": "code",
   "execution_count": null,
   "metadata": {},
   "outputs": [],
   "source": [
    "export = ExportModel(model)\n",
    "export(tf.constant(str('own/ddyo/audio #2001.wav')))"
   ]
  },
  {
   "cell_type": "markdown",
   "metadata": {},
   "source": [
    "Save and reload the model, the reloaded model gives identical output:"
   ]
  },
  {
   "cell_type": "code",
   "execution_count": null,
   "metadata": {},
   "outputs": [],
   "source": [
    "tf.saved_model.save(export, \"saved\")\n",
    "imported = tf.saved_model.load(\"saved\")\n",
    "imported(waveform[tf.newaxis, :])"
   ]
  },
  {
   "cell_type": "code",
   "execution_count": null,
   "metadata": {},
   "outputs": [],
   "source": []
  },
  {
   "cell_type": "code",
   "execution_count": null,
   "metadata": {
    "executionInfo": {
     "elapsed": 6868,
     "status": "ok",
     "timestamp": 1703162067351,
     "user": {
      "displayName": "adi sam",
      "userId": "04727694002057940011"
     },
     "user_tz": -180
    },
    "id": "dzLKpmZICaWN",
    "scrolled": true
   },
   "outputs": [],
   "source": [
    "import os\n",
    "import json\n",
    "import math\n",
    "import wave\n",
    "import pathlib\n",
    "\n",
    "import numpy as np\n",
    "import matplotlib.pyplot as plt\n",
    "import seaborn as sns\n",
    "import pandas as pd\n",
    "\n",
    "\n",
    "import tensorflow as tf \n",
    "from tensorflow.keras import layers, models\n",
    "import tensorflow.keras as keras\n",
    "\n",
    "import librosa\n",
    "import librosa.display\n",
    "import soundfile as sf\n",
    "\n",
    "from sklearn.model_selection import train_test_split\n",
    "from sklearn.preprocessing import StandardScaler\n",
    "from sklearn.metrics import confusion_matrix\n",
    "\n",
    "from IPython.display import Audio\n",
    "import IPython.display as display\n",
    "\n",
    "from tensorflow.keras.models import Sequential\n",
    "from tensorflow.keras.layers import Dense, Dropout"
   ]
  },
  {
   "cell_type": "markdown",
   "metadata": {},
   "source": [
    "# Pipeline\n",
    "-  `Load raw audio data` from files in .WAV format that can be processed\n",
    "-  `Resample the data` resample audio data to the desired rate.\n",
    "-  `Normalization` Normalize the audio signal to ensure that the amplitudes are within a specific range\n",
    "-  `Trimming and Padding` Trim or pad the audio data to a consistent length\n",
    "-  `Spectral Representations` Convert the audio signal into a frequency domain representation, such as a spectrogram or mel spectrogram.\n",
    "-  `Augmentation` Apply data augmentation techniques to increase the diversity of the training set.\n",
    "-  `Feature Scaling` Scale the features to have zero mean and unit variance.\n",
    "-  `Labeling` to associate each audio clip with its corresponding label.\n",
    "-  `Conversion to TensorFlow` Convert the preprocessed data into a format suitable for the deep learning framework.\n",
    "-  `Data Splitting` Split the dataset into training, validation, and testing sets.\n",
    "-  `Model Building` Build your machine learning model using the preprocessed data."
   ]
  },
  {
   "cell_type": "markdown",
   "metadata": {},
   "source": [
    "# Loading Raw Audio Data\n",
    "\n",
    "The audio dataset has six(6) classes in  six subfolders with labels: \n",
    "- [ `ddyo`   `kkono`  `mu maaso`  `emabega`  `yimirira`  `gaali`]"
   ]
  },
  {
   "cell_type": "markdown",
   "metadata": {},
   "source": [
    "## Mount google drive\n",
    "adisamproject@gmail.com"
   ]
  },
  {
   "cell_type": "code",
   "execution_count": null,
   "metadata": {},
   "outputs": [],
   "source": [
    "# from google.colab import drive\n",
    "# drive.mount('/content/drive')\n",
    "# DATASET_PATH = \"/content/drive/My Drive/2_Luganda/dataset\"\n",
    "# data_dir = pathlib.Path(DATASET_PATH)"
   ]
  },
  {
   "cell_type": "markdown",
   "metadata": {},
   "source": [
    "## Locally on the pc"
   ]
  },
  {
   "cell_type": "code",
   "execution_count": null,
   "metadata": {
    "executionInfo": {
     "elapsed": 4,
     "status": "ok",
     "timestamp": 1703162114566,
     "user": {
      "displayName": "adi sam",
      "userId": "04727694002057940011"
     },
     "user_tz": -180
    },
    "id": "2-rayb7-3Y0I"
   },
   "outputs": [],
   "source": [
    "DATASET_PATH = 'own/'\n",
    "data_dir_org = pathlib.Path(DATASET_PATH)\n",
    "PROCESSED_DATA_PATH = 'processedData/'"
   ]
  },
  {
   "cell_type": "markdown",
   "metadata": {},
   "source": [
    "# Inspect the audio dataset"
   ]
  },
  {
   "cell_type": "markdown",
   "metadata": {},
   "source": [
    "## Labels"
   ]
  },
  {
   "cell_type": "code",
   "execution_count": null,
   "metadata": {
    "colab": {
     "base_uri": "https://localhost:8080/"
    },
    "executionInfo": {
     "elapsed": 1952,
     "status": "ok",
     "timestamp": 1703162116515,
     "user": {
      "displayName": "adi sam",
      "userId": "04727694002057940011"
     },
     "user_tz": -180
    },
    "id": "70IBxSKxA1N9",
    "outputId": "902b877b-bf8a-4310-8507-8344428aa844"
   },
   "outputs": [],
   "source": [
    "commands = np.array(tf.io.gfile.listdir(str(data_dir_org)))\n",
    "print('Commands:', commands)"
   ]
  },
  {
   "cell_type": "markdown",
   "metadata": {},
   "source": [
    "## Number of audio files per command"
   ]
  },
  {
   "cell_type": "code",
   "execution_count": null,
   "metadata": {},
   "outputs": [],
   "source": [
    "def count_audio_files_in_subfolders(data_dir_org):\n",
    "    counts = {}\n",
    "\n",
    "    for subfolder in os.listdir(data_dir_org):\n",
    "        subfolder_path = os.path.join(data_dir_org, subfolder)\n",
    "\n",
    "        if os.path.isdir(subfolder_path):\n",
    "            audio_files_count = len([f for f in os.listdir(subfolder_path) if f.endswith('.wav')])\n",
    "            counts[subfolder] = audio_files_count\n",
    "\n",
    "    return counts\n",
    "\n",
    "counts = count_audio_files_in_subfolders(data_dir_org)\n"
   ]
  },
  {
   "cell_type": "code",
   "execution_count": null,
   "metadata": {},
   "outputs": [],
   "source": [
    "plt.figure(figsize=(12, 4))\n",
    "plt.bar(list(counts.keys()), list(counts.values()), color='blue')\n",
    "plt.xlabel('Command labels')\n",
    "plt.ylabel('Number of Audio Files')\n",
    "plt.title('Number of Audio Files in Each Subfolder')\n",
    "plt.show()"
   ]
  },
  {
   "cell_type": "markdown",
   "metadata": {},
   "source": [
    "## Audio Properties \n",
    "- using one audio file"
   ]
  },
  {
   "cell_type": "code",
   "execution_count": null,
   "metadata": {},
   "outputs": [],
   "source": [
    "example_audio_path = os.path.join(data_dir_org, 'emabega', 'audio #4251.wav')\n",
    "audio_signal, sample_rate = librosa.load(example_audio_path)\n",
    "audio = wave.open(example_audio_path, 'rb')"
   ]
  },
  {
   "cell_type": "markdown",
   "metadata": {},
   "source": [
    "### Audio Parameters"
   ]
  },
  {
   "cell_type": "code",
   "execution_count": null,
   "metadata": {},
   "outputs": [],
   "source": [
    "SAMPLE_RATE = 22050"
   ]
  },
  {
   "cell_type": "code",
   "execution_count": null,
   "metadata": {},
   "outputs": [],
   "source": [
    "number_of_channel = audio.getnchannels()\n",
    "sample_width = audio.getsampwidth()\n",
    "frame_rate = audio.getframerate()\n",
    "number_of_frames = audio.getnframes()"
   ]
  },
  {
   "cell_type": "code",
   "execution_count": null,
   "metadata": {},
   "outputs": [],
   "source": [
    "print('Number of channels:', number_of_channel)\n",
    "print('Sample width:',       sample_width)\n",
    "print('frame rate:',         frame_rate)\n",
    "print('Number of frames:',   number_of_frames)\n",
    "print('Parameters:',         audio.getparams())"
   ]
  },
  {
   "cell_type": "code",
   "execution_count": null,
   "metadata": {},
   "outputs": [],
   "source": [
    "duration = librosa.get_duration(y=audio_signal, sr=sample_rate)\n",
    "print(f\"Duration: {duration} seconds\")\n",
    "print(f\"Sample Rate: {sample_rate} Hz\")"
   ]
  },
  {
   "cell_type": "markdown",
   "metadata": {},
   "source": [
    "### Visualize the audio waveform"
   ]
  },
  {
   "cell_type": "code",
   "execution_count": null,
   "metadata": {},
   "outputs": [],
   "source": [
    "plt.figure(figsize=(12, 3))\n",
    "plt.plot(audio_signal, color='blue')\n",
    "plt.title('Audio Waveform')\n",
    "plt.xlabel('Ddyo')\n",
    "plt.ylabel('Amplitude')\n",
    "plt.show()"
   ]
  },
  {
   "cell_type": "markdown",
   "metadata": {},
   "source": [
    "### Amplitude Distribution"
   ]
  },
  {
   "cell_type": "code",
   "execution_count": null,
   "metadata": {},
   "outputs": [],
   "source": [
    "# Calculate statistical summary information\n",
    "mean_amplitude = np.mean(audio_signal)\n",
    "std_deviation = np.std(audio_signal)\n",
    "max_amplitude = np.max(audio_signal)\n",
    "min_amplitude = np.min(audio_signal)\n",
    "median_amplitude = np.median(audio_signal)\n",
    "\n",
    "# Plot the histogram with additional features\n",
    "plt.figure(figsize=(12, 4))\n",
    "\n",
    "# Plot the histogram\n",
    "sns.histplot(audio_signal, bins=50, kde=True)\n",
    "\n",
    "# Add vertical lines for statistical summary information\n",
    "plt.axvline(mean_amplitude, color='r', linestyle='--', label=f'Mean: {mean_amplitude:.2f}')\n",
    "plt.axvline(mean_amplitude + std_deviation, color='g', linestyle='--', label=f'Std Dev: {std_deviation:.2f}')\n",
    "plt.axvline(mean_amplitude - std_deviation, color='g', linestyle='--')\n",
    "plt.axvline(median_amplitude, color='b', linestyle='--', label=f'Median: {median_amplitude:.2f}')\n",
    "plt.axvline(max_amplitude, color='m', linestyle='--', label=f'Max: {max_amplitude:.2f}')\n",
    "plt.axvline(min_amplitude, color='m', linestyle='--', label=f'Min: {min_amplitude:.2f}')\n",
    "\n",
    "# Set plot title and labels\n",
    "plt.title('Amplitude Distribution')\n",
    "plt.xlabel('Amplitude')\n",
    "plt.ylabel('Frequency')\n",
    "plt.legend()\n",
    "plt.show()"
   ]
  },
  {
   "cell_type": "markdown",
   "metadata": {},
   "source": [
    "## Play audio file"
   ]
  },
  {
   "cell_type": "code",
   "execution_count": null,
   "metadata": {},
   "outputs": [],
   "source": [
    "def play_audio(audio_signal, sample_rate):\n",
    "    return Audio(audio_signal, rate=sample_rate)\n",
    "\n",
    "play_audio(audio_signal, SAMPLE_RATE)"
   ]
  },
  {
   "cell_type": "markdown",
   "metadata": {},
   "source": [
    "# Preprocessing audio dataset"
   ]
  },
  {
   "cell_type": "markdown",
   "metadata": {},
   "source": [
    "## Trim and Pad"
   ]
  },
  {
   "cell_type": "code",
   "execution_count": null,
   "metadata": {},
   "outputs": [],
   "source": [
    "def process_audio(audio_path, desired_duration=2):\n",
    "    # Load audio file\n",
    "    audio_signal, sample_rate = librosa.load(audio_path, sr=SAMPLE_RATE, mono=True)\n",
    "\n",
    "    # Pad or trim audio to desired duration\n",
    "    desired_samples = int(desired_duration * sample_rate)\n",
    "    if len(audio_signal) < desired_samples:\n",
    "        # Pad the audio to desired duration\n",
    "        pad_amount = desired_samples - len(audio_signal)\n",
    "        processed_signal = np.pad(audio_signal, (0, pad_amount))\n",
    "    else:\n",
    "        # Trim the audio to desired duration\n",
    "        processed_signal = audio_signal[:desired_samples]\n",
    "\n",
    "    return processed_signal, sample_rate\n"
   ]
  },
  {
   "cell_type": "code",
   "execution_count": null,
   "metadata": {},
   "outputs": [],
   "source": [
    "def preprocess_audio_in_subfolders(root_folder, output_folder, desired_duration=2):\n",
    "    # Iterate through subfolders\n",
    "    for subfolder in os.listdir(root_folder):\n",
    "        subfolder_path = os.path.join(root_folder, subfolder)\n",
    "\n",
    "        # Check if it's a directory\n",
    "        if os.path.isdir(subfolder_path):\n",
    "            # Create output subfolder if it doesn't exist\n",
    "            output_subfolder = os.path.join(output_folder, subfolder)\n",
    "            os.makedirs(output_subfolder, exist_ok=True)\n",
    "\n",
    "            # Iterate through audio files in the subfolder\n",
    "            for audio_file in os.listdir(subfolder_path):\n",
    "                audio_path = os.path.join(subfolder_path, audio_file)\n",
    "\n",
    "                # Process each audio file (trim or pad to desired duration)\n",
    "                processed_audio, sample_rate = process_audio(audio_path, desired_duration)\n",
    "\n",
    "                # Save the preprocessed audio file in the output subfolder using soundfile\n",
    "                output_audio_path = os.path.join(output_subfolder, audio_file)\n",
    "                sf.write(output_audio_path, processed_audio, sample_rate)"
   ]
  },
  {
   "cell_type": "markdown",
   "metadata": {},
   "source": [
    "### New Path"
   ]
  },
  {
   "cell_type": "code",
   "execution_count": null,
   "metadata": {},
   "outputs": [],
   "source": [
    "root_folder = data_dir_org\n",
    "output_folder = PROCESSED_DATA_PATH\n",
    "preprocess_audio_in_subfolders(root_folder, output_folder, desired_duration=2)\n",
    "data_dir = pathlib.Path(PROCESSED_DATA_PATH)"
   ]
  },
  {
   "cell_type": "markdown",
   "metadata": {},
   "source": [
    "## Inspect Processed dataset"
   ]
  },
  {
   "cell_type": "code",
   "execution_count": null,
   "metadata": {},
   "outputs": [],
   "source": [
    "example_audio_path = os.path.join(PROCESSED_DATA_PATH, 'emabega', 'audio #4251.wav')\n",
    "audio_signal, sample_rate = librosa.load(example_audio_path)\n",
    "audio = wave.open(example_audio_path, 'rb')"
   ]
  },
  {
   "cell_type": "code",
   "execution_count": null,
   "metadata": {},
   "outputs": [],
   "source": [
    "number_of_channel = audio.getnchannels()\n",
    "sample_width = audio.getsampwidth()\n",
    "frame_rate = audio.getframerate()\n",
    "number_of_frames = audio.getnframes()"
   ]
  },
  {
   "cell_type": "code",
   "execution_count": null,
   "metadata": {},
   "outputs": [],
   "source": [
    "print('Number of channels:', number_of_channel)\n",
    "print('Sample width:',       sample_width)\n",
    "print('frame rate:',         frame_rate)\n",
    "print('Number of frames:',   number_of_frames)\n",
    "print('Parameters:',         audio.getparams())"
   ]
  },
  {
   "cell_type": "code",
   "execution_count": null,
   "metadata": {},
   "outputs": [],
   "source": [
    "duration = librosa.get_duration(y=audio_signal, sr=sample_rate)\n",
    "print(f\"Duration: {duration} seconds\")\n",
    "print(f\"Sample Rate: {sample_rate} Hz\")"
   ]
  },
  {
   "cell_type": "code",
   "execution_count": null,
   "metadata": {},
   "outputs": [],
   "source": [
    "plt.figure(figsize=(12, 4))\n",
    "plt.plot(audio_signal, color='green')\n",
    "plt.title('Audio Waveform')\n",
    "plt.xlabel('ddyo')\n",
    "plt.ylabel('Amplitude')\n",
    "plt.show()"
   ]
  },
  {
   "cell_type": "code",
   "execution_count": null,
   "metadata": {},
   "outputs": [],
   "source": [
    "plt.figure(figsize=(12, 4))\n",
    "sns.histplot(audio_signal, bins=50, kde=True)\n",
    "plt.title('Amplitude Distribution')\n",
    "plt.xlabel('Amplitude')\n",
    "plt.ylabel('Frequency')\n",
    "plt.show()\n"
   ]
  },
  {
   "cell_type": "code",
   "execution_count": null,
   "metadata": {},
   "outputs": [],
   "source": [
    "def play_audio(audio_signal, sample_rate):\n",
    "    return Audio(audio_signal, rate=sample_rate)\n",
    "\n",
    "play_audio(audio_signal, SAMPLE_RATE)"
   ]
  },
  {
   "cell_type": "markdown",
   "metadata": {},
   "source": [
    "# Feature Extraction "
   ]
  },
  {
   "cell_type": "markdown",
   "metadata": {},
   "source": [
    "## Extracting MFCCS"
   ]
  },
  {
   "cell_type": "code",
   "execution_count": null,
   "metadata": {},
   "outputs": [],
   "source": [
    "def extract_features(root_folder, n_mfcc=13, hop_length=512, n_fft=1024):\n",
    "    features = []\n",
    "    labels = []\n",
    "\n",
    "    for foldername in os.listdir(root_folder):\n",
    "        folder_path = os.path.join(root_folder, foldername)\n",
    "\n",
    "        if os.path.isdir(folder_path):\n",
    "            for audio_filename in os.listdir(folder_path):\n",
    "                audio_path = os.path.join(folder_path, audio_filename)\n",
    "\n",
    "                # Load audio file and extract features\n",
    "                try:\n",
    "                    audio_signal, sample_rate = librosa.load(audio_path, sr=None)  # Remove duration parameter\n",
    "                    mfccs = librosa.feature.mfcc(y=audio_signal, sr=sample_rate, n_mfcc=n_mfcc, hop_length=hop_length, n_fft=n_fft)\n",
    "                    mfccs_mean = np.mean(mfccs, axis=1)  # Take the mean of MFCCs over time\n",
    "                    features.append(mfccs_mean)\n",
    "                    labels.append(foldername)  # Assuming folder names are the labels/categories\n",
    "                except Exception as e:\n",
    "                    print(f\"Error encountered while processing {audio_path}: {e}\")\n",
    "\n",
    "    return np.array(features), np.array(labels)\n"
   ]
  },
  {
   "cell_type": "code",
   "execution_count": null,
   "metadata": {},
   "outputs": [],
   "source": [
    "features, labels = extract_features(data_dir, n_mfcc=13, hop_length=512, n_fft=1024)"
   ]
  },
  {
   "cell_type": "code",
   "execution_count": null,
   "metadata": {},
   "outputs": [],
   "source": [
    "# Display the shape of the extracted features and labels\n",
    "print(\"Features shape:\", features.shape)\n",
    "print(\"Labels shape:\", labels.shape)\n",
    "print(labels)"
   ]
  },
  {
   "cell_type": "markdown",
   "metadata": {},
   "source": [
    "## Plot MFCC"
   ]
  },
  {
   "cell_type": "code",
   "execution_count": null,
   "metadata": {},
   "outputs": [],
   "source": [
    "def plot_mfcc(mfccs, sample_rate=22050, hop_length=512):\n",
    "    mfccs_normalized = librosa.util.normalize(mfccs)\n",
    "\n",
    "    plt.figure(figsize=(10, 4))\n",
    "    librosa.display.specshow(mfccs_normalized, sr=sample_rate, hop_length=hop_length, x_axis='time')\n",
    "    plt.colorbar(format='%+2.0f dB')\n",
    "    plt.title('Normalized MFCCs')\n",
    "    plt.xlabel('Time')\n",
    "    plt.ylabel('MFCC Coefficients')\n",
    "    plt.show()\n",
    "\n"
   ]
  },
  {
   "cell_type": "code",
   "execution_count": null,
   "metadata": {},
   "outputs": [],
   "source": [
    "audio_signal, sample_rate = librosa.load(example_audio_path, sr=SAMPLE_RATE)\n",
    "mfccs = librosa.feature.mfcc(y=audio_signal, sr=SAMPLE_RATE, n_mfcc=13, hop_length=hop_length, n_fft=1024)\n",
    "plot_mfcc(mfccs)\n"
   ]
  },
  {
   "cell_type": "markdown",
   "metadata": {},
   "source": [
    "# Data augmentation"
   ]
  },
  {
   "cell_type": "code",
   "execution_count": null,
   "metadata": {},
   "outputs": [],
   "source": [
    "def augment_data(features, labels, speed_factors, sample_rate):\n",
    "    augmented_features = []\n",
    "    augmented_labels = []\n",
    "\n",
    "    for idx, feature in enumerate(features):\n",
    "        for speed_factor in speed_factors:\n",
    "            # Time stretch the audio feature\n",
    "            augmented_feature = librosa.effects.time_stretch(feature, rate=speed_factor)\n",
    "            # Resample the augmented feature to match the original sample rate\n",
    "            augmented_feature = librosa.resample(augmented_feature, orig_sr=len(augmented_feature), target_sr=sample_rate)\n",
    "            augmented_features.append(augmented_feature)\n",
    "            augmented_labels.append(labels[idx])\n",
    "\n",
    "    return np.array(augmented_features), np.array(augmented_labels)\n",
    "\n"
   ]
  },
  {
   "cell_type": "code",
   "execution_count": null,
   "metadata": {},
   "outputs": [],
   "source": [
    "# Example usage:\n",
    "speed_factors = [0.9, 1.1]  # Adjust as needed\n",
    "augmented_features, augmented_labels = augment_data(features, labels, speed_factors, sample_rate)\n"
   ]
  },
  {
   "cell_type": "code",
   "execution_count": null,
   "metadata": {},
   "outputs": [],
   "source": [
    "augmented_features.shape"
   ]
  },
  {
   "cell_type": "markdown",
   "metadata": {},
   "source": [
    "# Feature Scaling"
   ]
  },
  {
   "cell_type": "code",
   "execution_count": null,
   "metadata": {},
   "outputs": [],
   "source": [
    "def scale_features(features):\n",
    "    scaler = StandardScaler()\n",
    "    scaled_features = scaler.fit_transform(features)\n",
    "    return scaled_features\n",
    "\n",
    "scaled_features = scale_features(augmented_features)\n"
   ]
  },
  {
   "cell_type": "code",
   "execution_count": null,
   "metadata": {},
   "outputs": [],
   "source": [
    "scaled_features.shape"
   ]
  },
  {
   "cell_type": "markdown",
   "metadata": {},
   "source": [
    "# Splitting data"
   ]
  },
  {
   "cell_type": "code",
   "execution_count": null,
   "metadata": {},
   "outputs": [],
   "source": [
    "def split_data(features, labels, test_size=0.2, validation_size=0.1):\n",
    "    X_train, X_test, y_train, y_test = train_test_split(features, labels, test_size=test_size, random_state=42)\n",
    "    X_train, X_val, y_train, y_val = train_test_split(X_train, y_train, test_size=validation_size/(1-test_size), random_state=42)\n",
    "    return X_train, X_val, X_test, y_train, y_val, y_test"
   ]
  },
  {
   "cell_type": "code",
   "execution_count": null,
   "metadata": {},
   "outputs": [],
   "source": [
    "# Example usage:\n",
    "X_train, X_val, X_test, y_train, y_val, y_test = split_data(scaled_features, augmented_labels)\n"
   ]
  },
  {
   "cell_type": "code",
   "execution_count": null,
   "metadata": {},
   "outputs": [],
   "source": [
    "X_train.shape"
   ]
  },
  {
   "cell_type": "code",
   "execution_count": null,
   "metadata": {},
   "outputs": [],
   "source": [
    "X_val.shape"
   ]
  },
  {
   "cell_type": "code",
   "execution_count": null,
   "metadata": {},
   "outputs": [],
   "source": [
    "X_test.shape"
   ]
  },
  {
   "cell_type": "code",
   "execution_count": null,
   "metadata": {},
   "outputs": [],
   "source": [
    "from sklearn.preprocessing import LabelEncoder\n",
    "\n",
    "# Convert labels to integers\n",
    "label_encoder = LabelEncoder()\n",
    "y_train_encoded = label_encoder.fit_transform(y_train)\n",
    "y_val_encoded = label_encoder.transform(y_val)"
   ]
  },
  {
   "cell_type": "markdown",
   "metadata": {},
   "source": [
    "# Model Building"
   ]
  },
  {
   "cell_type": "code",
   "execution_count": null,
   "metadata": {
    "scrolled": true
   },
   "outputs": [],
   "source": [
    "# Define the model architecture\n",
    "model = Sequential([\n",
    "    Dense(64, activation='relu', input_shape=X_train[0].shape),\n",
    "    Dropout(0.5),\n",
    "    Dense(len(set(labels)), activation='softmax')\n",
    "])\n",
    "\n",
    "# Compile the model\n",
    "model.compile(optimizer='adam', loss='sparse_categorical_crossentropy', metrics=['accuracy'])\n",
    "\n",
    "# Train the model\n",
    "history = model.fit(X_train, y_train_encoded, epochs=10, validation_data=(X_val, y_val_encoded))\n"
   ]
  },
  {
   "cell_type": "code",
   "execution_count": null,
   "metadata": {},
   "outputs": [],
   "source": [
    "# Evaluate the model\n",
    "loss, accuracy = model.evaluate(X_val, y_val_encoded)\n",
    "print(f\"Test loss: {loss}, Test accuracy: {accuracy}\")"
   ]
  },
  {
   "cell_type": "code",
   "execution_count": null,
   "metadata": {},
   "outputs": [],
   "source": []
  },
  {
   "cell_type": "code",
   "execution_count": null,
   "metadata": {},
   "outputs": [],
   "source": [
    "val_loss, val_accuracy = model.evaluate(X_val, y_val_encoded)"
   ]
  },
  {
   "cell_type": "code",
   "execution_count": null,
   "metadata": {},
   "outputs": [],
   "source": [
    "y_pred_prob = model.predict(X_test)\n",
    "y_pred = np.argmax(y_pred_prob, axis=1)\n",
    "\n",
    "y_true = y_test.reshape(-1, 1) "
   ]
  },
  {
   "cell_type": "code",
   "execution_count": null,
   "metadata": {},
   "outputs": [],
   "source": [
    "from sklearn.metrics import confusion_matrix\n",
    "import seaborn as sns\n",
    "import matplotlib.pyplot as plt\n",
    "\n",
    "from sklearn.preprocessing import LabelEncoder\n",
    "\n",
    "# Initialize LabelEncoder\n",
    "label_encoder = LabelEncoder()\n",
    "\n",
    "# Fit and transform labels\n",
    "y_true_encoded = label_encoder.fit_transform(y_true)\n",
    "y_pred_encoded = label_encoder.transform(y_pred)\n",
    "\n",
    "# Now both y_true_encoded and y_pred_encoded should contain numerical labels\n",
    "# Proceed to compute the confusion matrix using these numerical labels\n",
    "conf_matrix = confusion_matrix(y_true_encoded, y_pred_encoded)\n",
    "\n",
    "\n",
    "\n",
    "# Plot the confusion matrix\n",
    "plt.figure(figsize=(10, 8))\n",
    "sns.heatmap(conf_matrix, annot=True, fmt='d', cmap='Blues')\n",
    "plt.title('Confusion Matrix')\n",
    "plt.xlabel('Predicted Label')\n",
    "plt.ylabel('True Label')\n",
    "plt.show()\n"
   ]
  },
  {
   "cell_type": "code",
   "execution_count": null,
   "metadata": {},
   "outputs": [],
   "source": []
  },
  {
   "cell_type": "code",
   "execution_count": null,
   "metadata": {},
   "outputs": [],
   "source": []
  },
  {
   "cell_type": "code",
   "execution_count": null,
   "metadata": {},
   "outputs": [],
   "source": []
  },
  {
   "cell_type": "code",
   "execution_count": null,
   "metadata": {},
   "outputs": [],
   "source": []
  },
  {
   "cell_type": "code",
   "execution_count": null,
   "metadata": {},
   "outputs": [],
   "source": []
  },
  {
   "cell_type": "code",
   "execution_count": null,
   "metadata": {},
   "outputs": [],
   "source": []
  },
  {
   "cell_type": "code",
   "execution_count": null,
   "metadata": {},
   "outputs": [],
   "source": []
  },
  {
   "cell_type": "code",
   "execution_count": null,
   "metadata": {},
   "outputs": [],
   "source": []
  },
  {
   "cell_type": "code",
   "execution_count": null,
   "metadata": {},
   "outputs": [],
   "source": []
  },
  {
   "cell_type": "code",
   "execution_count": null,
   "metadata": {},
   "outputs": [],
   "source": []
  },
  {
   "cell_type": "code",
   "execution_count": null,
   "metadata": {},
   "outputs": [],
   "source": []
  },
  {
   "cell_type": "code",
   "execution_count": null,
   "metadata": {},
   "outputs": [],
   "source": []
  },
  {
   "cell_type": "code",
   "execution_count": null,
   "metadata": {},
   "outputs": [],
   "source": []
  },
  {
   "cell_type": "code",
   "execution_count": null,
   "metadata": {},
   "outputs": [],
   "source": []
  },
  {
   "cell_type": "code",
   "execution_count": null,
   "metadata": {},
   "outputs": [],
   "source": []
  },
  {
   "cell_type": "code",
   "execution_count": null,
   "metadata": {},
   "outputs": [],
   "source": []
  },
  {
   "cell_type": "code",
   "execution_count": null,
   "metadata": {},
   "outputs": [],
   "source": []
  },
  {
   "cell_type": "code",
   "execution_count": null,
   "metadata": {},
   "outputs": [],
   "source": []
  },
  {
   "cell_type": "code",
   "execution_count": null,
   "metadata": {},
   "outputs": [],
   "source": []
  },
  {
   "cell_type": "code",
   "execution_count": null,
   "metadata": {},
   "outputs": [],
   "source": []
  },
  {
   "cell_type": "markdown",
   "metadata": {},
   "source": [
    "# Split into Train and validation"
   ]
  },
  {
   "cell_type": "code",
   "execution_count": null,
   "metadata": {
    "colab": {
     "base_uri": "https://localhost:8080/"
    },
    "executionInfo": {
     "elapsed": 13076,
     "status": "ok",
     "timestamp": 1703162129584,
     "user": {
      "displayName": "adi sam",
      "userId": "04727694002057940011"
     },
     "user_tz": -180
    },
    "id": "mFM4c3aMC8Qv",
    "outputId": "2e187993-a0cf-40bc-9f86-9789dc3d0254"
   },
   "outputs": [],
   "source": [
    "train_ds, val_ds = tf.keras.utils.audio_dataset_from_directory(\n",
    "    directory=data_dir,\n",
    "    batch_size=64,\n",
    "    validation_split=0.2,\n",
    "    seed=0,\n",
    "    output_sequence_length=SAMPLE_RATE,\n",
    "    subset='both')\n",
    "\n",
    "label_names = np.array(train_ds.class_names)\n",
    "print()\n",
    "print(\"label names:\", label_names)"
   ]
  },
  {
   "cell_type": "markdown",
   "metadata": {
    "id": "cestp83qFnU5"
   },
   "source": [
    "## The shape of the audio clip\n",
    "- `(batch, samples, channels)`"
   ]
  },
  {
   "cell_type": "code",
   "execution_count": null,
   "metadata": {
    "colab": {
     "base_uri": "https://localhost:8080/"
    },
    "executionInfo": {
     "elapsed": 5,
     "status": "ok",
     "timestamp": 1703162129584,
     "user": {
      "displayName": "adi sam",
      "userId": "04727694002057940011"
     },
     "user_tz": -180
    },
    "id": "3yU6SQGIFb3H",
    "outputId": "5aec1e38-a12d-405e-88a2-7ac98c1af3c8"
   },
   "outputs": [],
   "source": [
    "train_ds.element_spec"
   ]
  },
  {
   "cell_type": "code",
   "execution_count": null,
   "metadata": {
    "executionInfo": {
     "elapsed": 3,
     "status": "ok",
     "timestamp": 1703162129584,
     "user": {
      "displayName": "adi sam",
      "userId": "04727694002057940011"
     },
     "user_tz": -180
    },
    "id": "Xl-tnniUIBlM"
   },
   "outputs": [],
   "source": [
    "def squeeze(audio, labels):\n",
    "  audio = tf.squeeze(audio, axis=-1)\n",
    "  return audio, labels\n",
    "\n",
    "train_ds = train_ds.map(squeeze, tf.data.AUTOTUNE)\n",
    "val_ds = val_ds.map(squeeze, tf.data.AUTOTUNE)"
   ]
  },
  {
   "cell_type": "code",
   "execution_count": null,
   "metadata": {
    "executionInfo": {
     "elapsed": 3,
     "status": "ok",
     "timestamp": 1703162129584,
     "user": {
      "displayName": "adi sam",
      "userId": "04727694002057940011"
     },
     "user_tz": -180
    },
    "id": "u5UEGsqM5Gss"
   },
   "outputs": [],
   "source": [
    "test_ds = val_ds.shard(num_shards=2, index=0)\n",
    "val_ds = val_ds.shard(num_shards=2, index=1)"
   ]
  },
  {
   "cell_type": "code",
   "execution_count": null,
   "metadata": {
    "colab": {
     "base_uri": "https://localhost:8080/"
    },
    "executionInfo": {
     "elapsed": 221726,
     "status": "ok",
     "timestamp": 1703162351307,
     "user": {
      "displayName": "adi sam",
      "userId": "04727694002057940011"
     },
     "user_tz": -180
    },
    "id": "xIeoJcwJH5h9",
    "outputId": "ca872edd-1bcf-4feb-8518-3ba24753764c"
   },
   "outputs": [],
   "source": [
    "for example_audio, example_labels in train_ds.take(1):\n",
    "  print(example_audio.shape)\n",
    "  print(example_labels.shape)"
   ]
  },
  {
   "cell_type": "markdown",
   "metadata": {
    "id": "voxGEwvuh2L7"
   },
   "source": [
    "### Plot a few audio waveforms:"
   ]
  },
  {
   "cell_type": "code",
   "execution_count": null,
   "metadata": {
    "colab": {
     "base_uri": "https://localhost:8080/"
    },
    "executionInfo": {
     "elapsed": 6,
     "status": "ok",
     "timestamp": 1703162351308,
     "user": {
      "displayName": "adi sam",
      "userId": "04727694002057940011"
     },
     "user_tz": -180
    },
    "id": "dYtGq2zYNHuT",
    "outputId": "da394373-3e8a-4598-e1c6-ab07ad5d1719"
   },
   "outputs": [],
   "source": [
    "label_names[[0,1,2,3,4,5]]"
   ]
  },
  {
   "cell_type": "code",
   "execution_count": null,
   "metadata": {
    "colab": {
     "base_uri": "https://localhost:8080/",
     "height": 853
    },
    "executionInfo": {
     "elapsed": 4766,
     "status": "ok",
     "timestamp": 1703162356071,
     "user": {
      "displayName": "adi sam",
      "userId": "04727694002057940011"
     },
     "user_tz": -180
    },
    "id": "8yuX6Nqzf6wT",
    "outputId": "c06d4244-0e7e-4b7d-b8e9-34b763227291"
   },
   "outputs": [],
   "source": [
    "plt.figure(figsize=(16, 10))\n",
    "rows = 2\n",
    "cols = 3\n",
    "n = rows * cols\n",
    "for i in range(n):\n",
    "  plt.subplot(rows, cols, i+1)\n",
    "  audio_signal = example_audio[i]\n",
    "  plt.plot(audio_signal)\n",
    "  plt.title(label_names[example_labels[i]])\n",
    "  plt.yticks(np.arange(-1.2, 1.2, 0.2))\n",
    "  plt.ylim([-1.1, 1.1])"
   ]
  },
  {
   "cell_type": "markdown",
   "metadata": {},
   "source": [
    "# Extract Spectrograms"
   ]
  },
  {
   "cell_type": "code",
   "execution_count": null,
   "metadata": {
    "executionInfo": {
     "elapsed": 15,
     "status": "ok",
     "timestamp": 1703162356072,
     "user": {
      "displayName": "adi sam",
      "userId": "04727694002057940011"
     },
     "user_tz": -180
    },
    "id": "_4CK75DHz_OR"
   },
   "outputs": [],
   "source": [
    "def get_spectrogram(waveform):\n",
    "  spectrogram = tf.signal.stft(\n",
    "      waveform, frame_length=255, frame_step=128)\n",
    "  spectrogram = tf.abs(spectrogram)\n",
    "  spectrogram = spectrogram[..., tf.newaxis]\n",
    "  return spectrogram"
   ]
  },
  {
   "cell_type": "markdown",
   "metadata": {
    "id": "5rdPiPYJphs2"
   },
   "source": [
    "### The shapes of a tensorized waveform and the corresponding spectrogram, and play the original audio:"
   ]
  },
  {
   "cell_type": "code",
   "execution_count": null,
   "metadata": {
    "colab": {
     "base_uri": "https://localhost:8080/",
     "height": 401
    },
    "executionInfo": {
     "elapsed": 14,
     "status": "ok",
     "timestamp": 1703162356072,
     "user": {
      "displayName": "adi sam",
      "userId": "04727694002057940011"
     },
     "user_tz": -180
    },
    "id": "4Mu6Y7Yz3C-V",
    "outputId": "e3bbd895-1a19-429f-c216-341cd2c57734"
   },
   "outputs": [],
   "source": [
    "for i in range(3):\n",
    "  label = label_names[example_labels[i]]\n",
    "  waveform = example_audio[i]\n",
    "  spectrogram = get_spectrogram(waveform)\n",
    "\n",
    "  print('Label:', label)\n",
    "  print('Waveform shape:', waveform.shape)\n",
    "  print('Spectrogram shape:', spectrogram.shape)\n",
    "  print('Audio playback')\n",
    "  display.display(display.Audio(waveform, rate=SAMPLE_RATE))"
   ]
  },
  {
   "cell_type": "markdown",
   "metadata": {
    "id": "xnSuqyxJ1isF"
   },
   "source": [
    "### Displaying a spectrogram:"
   ]
  },
  {
   "cell_type": "code",
   "execution_count": null,
   "metadata": {
    "executionInfo": {
     "elapsed": 9,
     "status": "ok",
     "timestamp": 1703162356072,
     "user": {
      "displayName": "adi sam",
      "userId": "04727694002057940011"
     },
     "user_tz": -180
    },
    "id": "e62jzb36-Jog"
   },
   "outputs": [],
   "source": [
    "def plot_spectrogram(spectrogram, ax):\n",
    "  if len(spectrogram.shape) > 2:\n",
    "    assert len(spectrogram.shape) == 3\n",
    "    spectrogram = np.squeeze(spectrogram, axis=-1)\n",
    "      \n",
    "  log_spec = np.log(spectrogram.T + np.finfo(float).eps)\n",
    "  height = log_spec.shape[0]\n",
    "  width = log_spec.shape[1]\n",
    "  X = np.linspace(0, np.size(spectrogram), num=width, dtype=int)\n",
    "  Y = range(height)\n",
    "  ax.pcolormesh(X, Y, log_spec)"
   ]
  },
  {
   "cell_type": "markdown",
   "metadata": {
    "id": "baa5c91e8603"
   },
   "source": [
    "### Plot of waveform over time and the corresponding spectrogram."
   ]
  },
  {
   "cell_type": "code",
   "execution_count": null,
   "metadata": {
    "colab": {
     "base_uri": "https://localhost:8080/",
     "height": 756
    },
    "executionInfo": {
     "elapsed": 4652,
     "status": "ok",
     "timestamp": 1703162421737,
     "user": {
      "displayName": "adi sam",
      "userId": "04727694002057940011"
     },
     "user_tz": -180
    },
    "id": "d2_CikgY1tjv",
    "outputId": "6799eba9-0a67-46eb-ee1e-ebcfb3aa37bf"
   },
   "outputs": [],
   "source": [
    "fig, axes = plt.subplots(2, figsize=(12, 8))\n",
    "timescale = np.arange(waveform.shape[0])\n",
    "axes[0].plot(timescale, waveform.numpy())\n",
    "axes[0].set_title('Waveform')\n",
    "axes[0].set_xlim([0, SAMPLE_RATE])\n",
    "\n",
    "plot_spectrogram(spectrogram.numpy(), axes[1])\n",
    "axes[1].set_title('Spectrogram')\n",
    "plt.suptitle(label.title())\n",
    "plt.show()"
   ]
  },
  {
   "cell_type": "markdown",
   "metadata": {
    "id": "GyYXjW07jCHA"
   },
   "source": [
    "## Create spectrogram datasets from the audio datasets:"
   ]
  },
  {
   "cell_type": "code",
   "execution_count": null,
   "metadata": {
    "executionInfo": {
     "elapsed": 10,
     "status": "ok",
     "timestamp": 1703162765777,
     "user": {
      "displayName": "adi sam",
      "userId": "04727694002057940011"
     },
     "user_tz": -180
    },
    "id": "mAD0LpkgqtQo"
   },
   "outputs": [],
   "source": [
    "def make_spec_ds(ds):\n",
    "  return ds.map(\n",
    "      map_func=lambda audio,label: (get_spectrogram(audio), label),\n",
    "      num_parallel_calls=tf.data.AUTOTUNE)"
   ]
  },
  {
   "cell_type": "code",
   "execution_count": null,
   "metadata": {
    "executionInfo": {
     "elapsed": 3334,
     "status": "ok",
     "timestamp": 1703162769104,
     "user": {
      "displayName": "adi sam",
      "userId": "04727694002057940011"
     },
     "user_tz": -180
    },
    "id": "yEVb_oK0oBLQ"
   },
   "outputs": [],
   "source": [
    "train_spectrogram_ds = make_spec_ds(train_ds)\n",
    "val_spectrogram_ds = make_spec_ds(val_ds)\n",
    "test_spectrogram_ds = make_spec_ds(test_ds)"
   ]
  },
  {
   "cell_type": "markdown",
   "metadata": {
    "id": "6gQpAAgMnyDi"
   },
   "source": [
    "Examine the spectrograms for different examples of the dataset:"
   ]
  },
  {
   "cell_type": "code",
   "execution_count": null,
   "metadata": {
    "id": "EaM2q5aGis-d"
   },
   "outputs": [],
   "source": [
    "for example_spectrograms, example_spect_labels in train_spectrogram_ds.take(1):\n",
    "  break"
   ]
  },
  {
   "cell_type": "code",
   "execution_count": null,
   "metadata": {
    "colab": {
     "base_uri": "https://localhost:8080/",
     "height": 776
    },
    "executionInfo": {
     "elapsed": 5233,
     "status": "ok",
     "timestamp": 1703138427307,
     "user": {
      "displayName": "adi sam",
      "userId": "04727694002057940011"
     },
     "user_tz": -180
    },
    "id": "QUbHfTuon4iF",
    "outputId": "3ee28e33-11b1-4d3b-c0c0-6586e6b68414",
    "scrolled": true
   },
   "outputs": [],
   "source": [
    "rows = 2\n",
    "cols = 3\n",
    "n = rows*cols\n",
    "fig, axes = plt.subplots(rows, cols, figsize=(16, 9))\n",
    "\n",
    "for i in range(n):\n",
    "    r = i // cols\n",
    "    c = i % cols\n",
    "    ax = axes[r][c]\n",
    "    plot_spectrogram(example_spectrograms[i].numpy(), ax)\n",
    "    ax.set_title(label_names[example_spect_labels[i].numpy()])\n",
    "\n",
    "plt.show()"
   ]
  },
  {
   "cell_type": "markdown",
   "metadata": {
    "id": "GS1uIh6F_TN9"
   },
   "source": [
    " `Dataset.cache` and `Dataset.prefetch` operations to reduce read latency while training the model:"
   ]
  },
  {
   "cell_type": "code",
   "execution_count": null,
   "metadata": {
    "id": "fdZ6M-F5_QzY"
   },
   "outputs": [],
   "source": [
    "train_spectrogram_ds = train_spectrogram_ds.cache().shuffle(10000).prefetch(tf.data.AUTOTUNE)\n",
    "val_spectrogram_ds = val_spectrogram_ds.cache().prefetch(tf.data.AUTOTUNE)\n",
    "test_spectrogram_ds = test_spectrogram_ds.cache().prefetch(tf.data.AUTOTUNE)"
   ]
  },
  {
   "cell_type": "code",
   "execution_count": null,
   "metadata": {},
   "outputs": [],
   "source": [
    "train_spectrogram_ds"
   ]
  },
  {
   "cell_type": "markdown",
   "metadata": {},
   "source": [
    "# Building Models"
   ]
  },
  {
   "cell_type": "markdown",
   "metadata": {
    "id": "z5KdY8IF8rkt"
   },
   "source": [
    "## Model 1\n",
    "\n",
    "1. **Input Layer:** Defines the input shape for the model based on the shape of the spectrogram images.\n",
    "2. **Resizing Layer:** Resizes the input spectrogram images to a fixed size of 32x32 pixels.\n",
    "3. **Normalization Layer:** Normalizes the input data using statistics computed from the training dataset.\n",
    "4. **Convolutional Layers:** Two Conv2D layers with ReLU activation functions, followed by max pooling.\n",
    "5. **Dropout Layer:** Applies dropout regularization to prevent overfitting.\n",
    "6. **Flatten Layer:** Flattens the output of the previous layer into a 1D vector.\n",
    "7. **Dense Layers:** Two Dense layers with ReLU activation functions, followed by the output layer with logits for each class."
   ]
  },
  {
   "cell_type": "markdown",
   "metadata": {},
   "source": [
    "### Model Arch"
   ]
  },
  {
   "cell_type": "code",
   "execution_count": null,
   "metadata": {
    "colab": {
     "base_uri": "https://localhost:8080/"
    },
    "executionInfo": {
     "elapsed": 408700,
     "status": "ok",
     "timestamp": 1703138842661,
     "user": {
      "displayName": "adi sam",
      "userId": "04727694002057940011"
     },
     "user_tz": -180
    },
    "id": "ALYz7PFCHblP",
    "outputId": "4cf09e2d-71f1-4971-c64a-451c6134d8b3"
   },
   "outputs": [],
   "source": [
    "input_shape = example_spectrograms.shape[1:]\n",
    "print('Input shape:', input_shape)\n",
    "num_labels = len(label_names)\n",
    "norm_layer = layers.Normalization()\n",
    "norm_layer.adapt(data=train_spectrogram_ds.map(map_func=lambda spec, label: spec))\n",
    "\n",
    "model = models.Sequential([\n",
    "    layers.Input(shape=input_shape),\n",
    "    layers.Resizing(32, 32),\n",
    "    norm_layer,\n",
    "    layers.Conv2D(32, 3, activation='relu'),\n",
    "    layers.Conv2D(64, 3, activation='relu'),\n",
    "    layers.MaxPooling2D(),\n",
    "    layers.Dropout(0.25),\n",
    "    layers.Flatten(),\n",
    "    layers.Dense(128, activation='relu'),\n",
    "    layers.Dropout(0.5),\n",
    "    layers.Dense(num_labels),\n",
    "])\n",
    "\n",
    "model.summary()"
   ]
  },
  {
   "cell_type": "markdown",
   "metadata": {},
   "source": [
    "### Compile the model"
   ]
  },
  {
   "cell_type": "code",
   "execution_count": null,
   "metadata": {
    "id": "wFjj7-EmsTD-"
   },
   "outputs": [],
   "source": [
    "model.compile(\n",
    "    optimizer=tf.keras.optimizers.Adam(),\n",
    "    loss=tf.keras.losses.SparseCategoricalCrossentropy(from_logits=True),\n",
    "    metrics=['accuracy'],\n",
    ")"
   ]
  },
  {
   "cell_type": "markdown",
   "metadata": {
    "id": "f42b9e3a4705"
   },
   "source": [
    "### Train the model"
   ]
  },
  {
   "cell_type": "code",
   "execution_count": null,
   "metadata": {
    "colab": {
     "base_uri": "https://localhost:8080/"
    },
    "executionInfo": {
     "elapsed": 379861,
     "status": "ok",
     "timestamp": 1703139278187,
     "user": {
      "displayName": "adi sam",
      "userId": "04727694002057940011"
     },
     "user_tz": -180
    },
    "id": "ttioPJVMcGtq",
    "outputId": "32bf9ea7-432f-4942-d041-6d0b4c45543b"
   },
   "outputs": [],
   "source": [
    "EPOCHS = 10\n",
    "history = model.fit(\n",
    "    train_spectrogram_ds,\n",
    "    validation_data=val_spectrogram_ds,\n",
    "    epochs=EPOCHS,\n",
    "    callbacks=tf.keras.callbacks.EarlyStopping(verbose=1, patience=2),\n",
    ")"
   ]
  },
  {
   "cell_type": "markdown",
   "metadata": {
    "id": "gjpCDeQ4mUfS"
   },
   "source": [
    "### Plot Accuracy and Loss"
   ]
  },
  {
   "cell_type": "code",
   "execution_count": null,
   "metadata": {
    "colab": {
     "base_uri": "https://localhost:8080/",
     "height": 564
    },
    "executionInfo": {
     "elapsed": 1439,
     "status": "ok",
     "timestamp": 1703139349809,
     "user": {
      "displayName": "adi sam",
      "userId": "04727694002057940011"
     },
     "user_tz": -180
    },
    "id": "nzhipg3Gu2AY",
    "outputId": "24210bf5-8be1-40bb-9156-6894e9d4b957"
   },
   "outputs": [],
   "source": [
    "metrics = history.history\n",
    "plt.figure(figsize=(14,5))\n",
    "plt.subplot(1,2,1)\n",
    "plt.plot(history.epoch, metrics['loss'], metrics['val_loss'])\n",
    "plt.legend(['loss', 'val_loss'])\n",
    "plt.ylim([0, max(plt.ylim())])\n",
    "plt.xlabel('Epoch')\n",
    "plt.ylabel('Loss [CrossEntropy]')\n",
    "\n",
    "plt.subplot(1,2,2)\n",
    "plt.plot(history.epoch, 100*np.array(metrics['accuracy']), 100*np.array(metrics['val_accuracy']))\n",
    "plt.legend(['accuracy', 'val_accuracy'])\n",
    "plt.ylim([0, 100])\n",
    "plt.xlabel('Epoch')\n",
    "plt.ylabel('Accuracy [%]')"
   ]
  },
  {
   "cell_type": "markdown",
   "metadata": {
    "id": "5ZTt3kO3mfm4"
   },
   "source": [
    "### Evaluate the model performance\n",
    "\n",
    "Run the model on the test set and check the model's performance:"
   ]
  },
  {
   "cell_type": "code",
   "execution_count": null,
   "metadata": {
    "colab": {
     "base_uri": "https://localhost:8080/"
    },
    "executionInfo": {
     "elapsed": 7154,
     "status": "ok",
     "timestamp": 1703139376174,
     "user": {
      "displayName": "adi sam",
      "userId": "04727694002057940011"
     },
     "user_tz": -180
    },
    "id": "FapuRT_SsWGQ",
    "outputId": "7e126f2f-b528-4a64-facb-a1d3a6d84e1e"
   },
   "outputs": [],
   "source": [
    "model.evaluate(test_spectrogram_ds, return_dict=True)"
   ]
  },
  {
   "cell_type": "markdown",
   "metadata": {
    "id": "en9Znt1NOabH"
   },
   "source": [
    "### Display a confusion matrix"
   ]
  },
  {
   "cell_type": "code",
   "execution_count": null,
   "metadata": {
    "colab": {
     "base_uri": "https://localhost:8080/"
    },
    "executionInfo": {
     "elapsed": 967,
     "status": "ok",
     "timestamp": 1703139380080,
     "user": {
      "displayName": "adi sam",
      "userId": "04727694002057940011"
     },
     "user_tz": -180
    },
    "id": "5Y6vmWWQuuT1",
    "outputId": "ac6ec6b1-6281-4a79-b43e-fc05a58ae8d8"
   },
   "outputs": [],
   "source": [
    "y_pred = model.predict(test_spectrogram_ds)"
   ]
  },
  {
   "cell_type": "code",
   "execution_count": null,
   "metadata": {
    "id": "d6F0il82u7lW"
   },
   "outputs": [],
   "source": [
    "y_pred = tf.argmax(y_pred, axis=1)"
   ]
  },
  {
   "cell_type": "code",
   "execution_count": null,
   "metadata": {
    "id": "vHSNoBYLvX81"
   },
   "outputs": [],
   "source": [
    "y_true = tf.concat(list(test_spectrogram_ds.map(lambda s,lab: lab)), axis=0)"
   ]
  },
  {
   "cell_type": "code",
   "execution_count": null,
   "metadata": {
    "colab": {
     "base_uri": "https://localhost:8080/",
     "height": 696
    },
    "executionInfo": {
     "elapsed": 913,
     "status": "ok",
     "timestamp": 1703139388572,
     "user": {
      "displayName": "adi sam",
      "userId": "04727694002057940011"
     },
     "user_tz": -180
    },
    "id": "LvoSAOiXU3lL",
    "outputId": "68f1975b-79c5-4fb3-c950-d259ae3a28ac"
   },
   "outputs": [],
   "source": [
    "confusion_mtx = tf.math.confusion_matrix(y_true, y_pred)\n",
    "plt.figure(figsize=(6, 4))\n",
    "sns.heatmap(confusion_mtx,\n",
    "            xticklabels=label_names,\n",
    "            yticklabels=label_names,\n",
    "            annot=True, fmt='g')\n",
    "plt.xlabel('Prediction')\n",
    "plt.ylabel('Label')\n",
    "plt.show()"
   ]
  },
  {
   "cell_type": "markdown",
   "metadata": {
    "id": "mQGi_mzPcLvl"
   },
   "source": [
    "## Model 2\n",
    "\n",
    "\n",
    "1. **Input Layer**: Defines the input shape for the model based on the shape of the spectrogram images.\n",
    "2. **Resizing Layer**: Resizes the input spectrogram images to a fixed size of 32x32 pixels.\n",
    "3. **Normalization Layer**: Normalizes the input data using statistics computed from the training dataset.\n",
    "4. **Convolutional Layers**:\n",
    "   - 4.1. First Conv2D Layer: Applies 32 filters with a 3x3 kernel size and ReLU activation function.\n",
    "   - 4.2. Batch Normalization Layer: Normalizes the activations of the previous convolutional layer.\n",
    "   - 4.3. MaxPooling2D Layer: Performs max pooling to downsample the feature maps.\n",
    "5. **Convolutional Layers**:\n",
    "   - 5.1. Second Conv2D Layer: Applies 64 filters with a 3x3 kernel size and ReLU activation function.\n",
    "   - 5.2. Batch Normalization Layer: Normalizes the activations of the previous convolutional layer.\n",
    "   - 5.3. MaxPooling2D Layer: Performs max pooling to downsample the feature maps.\n",
    "6. **Dropout Layer**: Applies dropout regularization with a dropout rate of 0.25 to prevent overfitting.\n",
    "7. **Flatten Layer**: Flattens the output of the previous layer into a 1D vector.\n",
    "8. **Dense Layers**:\n",
    "   - 8.1. First Dense Layer: Applies 128 neurons with ReLU activation function.\n",
    "   - 8.2. Dropout Layer: Applies dropout regularization with a dropout rate of 0.5.\n",
    "   - 8.3. Second Dense Layer: Outputs logits for each class, with the number of units equal to the number of labels."
   ]
  },
  {
   "cell_type": "markdown",
   "metadata": {},
   "source": [
    "### Model Arch"
   ]
  },
  {
   "cell_type": "code",
   "execution_count": null,
   "metadata": {},
   "outputs": [],
   "source": [
    "model2 = models.Sequential([\n",
    "    layers.Input(shape=input_shape),\n",
    "    layers.Resizing(32, 32),\n",
    "    norm_layer,\n",
    "    layers.Conv2D(32, 3, activation='relu'),\n",
    "    layers.BatchNormalization(),\n",
    "    layers.MaxPooling2D(),\n",
    "    layers.Conv2D(64, 3, activation='relu'),\n",
    "    layers.BatchNormalization(),\n",
    "    layers.MaxPooling2D(),\n",
    "    layers.Dropout(0.25),\n",
    "    layers.Flatten(),\n",
    "    layers.Dense(128, activation='relu'),\n",
    "    layers.Dropout(0.5),\n",
    "    layers.Dense(num_labels),\n",
    "])\n",
    "\n",
    "model2.summary()\n"
   ]
  },
  {
   "cell_type": "markdown",
   "metadata": {},
   "source": [
    "### Compile the  Model"
   ]
  },
  {
   "cell_type": "code",
   "execution_count": null,
   "metadata": {},
   "outputs": [],
   "source": [
    "model2.compile(\n",
    "    optimizer=tf.keras.optimizers.Adam(),\n",
    "    loss=tf.keras.losses.SparseCategoricalCrossentropy(from_logits=True),\n",
    "    metrics=['accuracy'],\n",
    ")\n",
    "\n",
    "timizer=tf.keras.optimizers.Adam(),\n",
    "loss=tf.keras.losses.SparseCategoricalCrossentropy(from_logits=True),\n"
   ]
  },
  {
   "cell_type": "markdown",
   "metadata": {},
   "source": [
    "### Train the Model"
   ]
  },
  {
   "cell_type": "code",
   "execution_count": null,
   "metadata": {},
   "outputs": [],
   "source": [
    "EPOCHS = 10\n",
    "history = model2.fit(\n",
    "    train_spectrogram_ds,\n",
    "    validation_data=val_spectrogram_ds,\n",
    "    epochs=EPOCHS,\n",
    "    callbacks=tf.keras.callbacks.EarlyStopping(verbose=1, patience=2),\n",
    ")"
   ]
  },
  {
   "cell_type": "markdown",
   "metadata": {},
   "source": [
    "### Plot Accuracy and Loss"
   ]
  },
  {
   "cell_type": "code",
   "execution_count": null,
   "metadata": {},
   "outputs": [],
   "source": [
    "metrics = history.history\n",
    "plt.figure(figsize=(16,6))\n",
    "plt.subplot(1,2,1)\n",
    "plt.plot(history.epoch, metrics['loss'], metrics['val_loss'])\n",
    "plt.legend(['loss', 'val_loss'])\n",
    "plt.ylim([0, max(plt.ylim())])\n",
    "plt.xlabel('Epoch')\n",
    "plt.ylabel('Loss [CrossEntropy]')\n",
    "\n",
    "plt.subplot(1,2,2)\n",
    "plt.plot(history.epoch, 100*np.array(metrics['accuracy']), 100*np.array(metrics['val_accuracy']))\n",
    "plt.legend(['accuracy', 'val_accuracy'])\n",
    "plt.ylim([0, 100])\n",
    "plt.xlabel('Epoch')\n",
    "plt.ylabel('Accuracy [%]')"
   ]
  },
  {
   "cell_type": "markdown",
   "metadata": {},
   "source": [
    "### Evaluate the model"
   ]
  },
  {
   "cell_type": "code",
   "execution_count": null,
   "metadata": {},
   "outputs": [],
   "source": [
    "model2.evaluate(test_spectrogram_ds, return_dict=True)"
   ]
  },
  {
   "cell_type": "markdown",
   "metadata": {},
   "source": [
    "### Display a confusion matrix"
   ]
  },
  {
   "cell_type": "code",
   "execution_count": null,
   "metadata": {},
   "outputs": [],
   "source": [
    "y_pred = model2.predict(test_spectrogram_ds)\n",
    "y_pred = tf.argmax(y_pred, axis=1)\n",
    "y_true = tf.concat(list(test_spectrogram_ds.map(lambda s,lab: lab)), axis=0)"
   ]
  },
  {
   "cell_type": "code",
   "execution_count": null,
   "metadata": {},
   "outputs": [],
   "source": [
    "confusion_mtx = tf.math.confusion_matrix(y_true, y_pred)\n",
    "plt.figure(figsize=(6, 4))\n",
    "sns.heatmap(confusion_mtx,\n",
    "            xticklabels=label_names,\n",
    "            yticklabels=label_names,\n",
    "            annot=True, fmt='g')\n",
    "plt.xlabel('Prediction')\n",
    "plt.ylabel('Label')\n",
    "plt.show()"
   ]
  },
  {
   "cell_type": "markdown",
   "metadata": {},
   "source": [
    "## Model 3\n",
    "\n",
    "1. **Input Layer**: Defines the input shape for the model based on the shape of the spectrogram images.\n",
    "2. **Convolutional Layers**:\n",
    "   - 2.1. First Conv2D Layer: Applies 32 filters with a 3x3 kernel size, ReLU activation function, and dilation rate of (2, 2).\n",
    "   - 2.2. MaxPooling2D Layer: Performs max pooling to downsample the feature maps.\n",
    "3. **Convolutional Layers**:\n",
    "   - 3.1. Second Conv2D Layer: Applies 64 filters with a 3x3 kernel size, ReLU activation function, and dilation rate of (2, 2).\n",
    "   - 3.2. MaxPooling2D Layer: Performs max pooling to downsample the feature maps.\n",
    "4. **Convolutional Layers**:\n",
    "   - 4.1. Third Conv2D Layer: Applies 128 filters with a 3x3 kernel size, ReLU activation function, and dilation rate of (2, 2).\n",
    "   - 4.2. GlobalAveragePooling2D Layer: Performs global average pooling to reduce spatial dimensions.\n",
    "5. **Dense Layers**:\n",
    "   - 5.1. Dense Layer: Applies 128 neurons with ReLU activation function.\n",
    "   - 5.2. Dropout Layer: Applies dropout regularization with a dropout rate of 0.5.\n",
    "   - 5.3. Dense Layer: Outputs logits for each class, with the number of units equal to the number of labels."
   ]
  },
  {
   "cell_type": "markdown",
   "metadata": {
    "scrolled": true
   },
   "source": [
    "### Model Arch"
   ]
  },
  {
   "cell_type": "code",
   "execution_count": null,
   "metadata": {},
   "outputs": [],
   "source": [
    "model3 = models.Sequential([\n",
    "    layers.Input(shape=input_shape),\n",
    "    layers.Conv2D(32, 3, activation='relu', dilation_rate=(2, 2)),\n",
    "    layers.MaxPooling2D(),\n",
    "    layers.Conv2D(64, 3, activation='relu', dilation_rate=(2, 2)),\n",
    "    layers.MaxPooling2D(),\n",
    "    layers.Conv2D(128, 3, activation='relu', dilation_rate=(2, 2)),\n",
    "    layers.GlobalAveragePooling2D(),\n",
    "    layers.Dense(128, activation='relu'),\n",
    "    layers.Dropout(0.5),\n",
    "    layers.Dense(num_labels),\n",
    "])\n",
    "\n",
    "model3.summary()\n"
   ]
  },
  {
   "cell_type": "markdown",
   "metadata": {},
   "source": [
    "### Model compile"
   ]
  },
  {
   "cell_type": "code",
   "execution_count": null,
   "metadata": {},
   "outputs": [],
   "source": [
    "model3.compile(\n",
    "    optimizer=tf.keras.optimizers.Adam(),\n",
    "    loss=tf.keras.losses.SparseCategoricalCrossentropy(from_logits=True),\n",
    "    metrics=['accuracy'],\n",
    ")"
   ]
  },
  {
   "cell_type": "markdown",
   "metadata": {},
   "source": [
    "### Train the model"
   ]
  },
  {
   "cell_type": "code",
   "execution_count": null,
   "metadata": {},
   "outputs": [],
   "source": [
    "EPOCHS = 10\n",
    "history = model3.fit(\n",
    "    train_spectrogram_ds,\n",
    "    validation_data=val_spectrogram_ds,\n",
    "    epochs=EPOCHS,\n",
    "    callbacks=tf.keras.callbacks.EarlyStopping(verbose=1, patience=2),\n",
    ")"
   ]
  },
  {
   "cell_type": "markdown",
   "metadata": {},
   "source": [
    "### Plot Loaa and accuracy"
   ]
  },
  {
   "cell_type": "code",
   "execution_count": null,
   "metadata": {},
   "outputs": [],
   "source": [
    "metrics = history.history\n",
    "plt.figure(figsize=(16,6))\n",
    "plt.subplot(1,2,1)\n",
    "plt.plot(history.epoch, metrics['loss'], metrics['val_loss'])\n",
    "plt.legend(['loss', 'val_loss'])\n",
    "plt.ylim([0, max(plt.ylim())])\n",
    "plt.xlabel('Epoch')\n",
    "plt.ylabel('Loss [CrossEntropy]')\n",
    "\n",
    "plt.subplot(1,2,2)\n",
    "plt.plot(history.epoch, 100*np.array(metrics['accuracy']), 100*np.array(metrics['val_accuracy']))\n",
    "plt.legend(['accuracy', 'val_accuracy'])\n",
    "plt.ylim([0, 100])\n",
    "plt.xlabel('Epoch')\n",
    "plt.ylabel('Accuracy [%]')"
   ]
  },
  {
   "cell_type": "markdown",
   "metadata": {},
   "source": [
    "### Evaluate the model"
   ]
  },
  {
   "cell_type": "code",
   "execution_count": null,
   "metadata": {},
   "outputs": [],
   "source": [
    "model3.evaluate(test_spectrogram_ds, return_dict=True)"
   ]
  },
  {
   "cell_type": "markdown",
   "metadata": {},
   "source": [
    "### Display a confusion matrix"
   ]
  },
  {
   "cell_type": "code",
   "execution_count": null,
   "metadata": {},
   "outputs": [],
   "source": [
    "y_pred = model3.predict(test_spectrogram_ds)\n",
    "y_pred = tf.argmax(y_pred, axis=1)\n",
    "y_true = tf.concat(list(test_spectrogram_ds.map(lambda s,lab: lab)), axis=0)"
   ]
  },
  {
   "cell_type": "code",
   "execution_count": null,
   "metadata": {},
   "outputs": [],
   "source": [
    "confusion_mtx = tf.math.confusion_matrix(y_true, y_pred)\n",
    "plt.figure(figsize=(6, 4))\n",
    "sns.heatmap(confusion_mtx,\n",
    "            xticklabels=label_names,\n",
    "            yticklabels=label_names,\n",
    "            annot=True, fmt='g')\n",
    "plt.xlabel('Prediction')\n",
    "plt.ylabel('Label')\n",
    "plt.show()"
   ]
  },
  {
   "cell_type": "markdown",
   "metadata": {},
   "source": [
    "# Exporting a model"
   ]
  },
  {
   "cell_type": "markdown",
   "metadata": {},
   "source": [
    "## Export the model with preprocessing"
   ]
  },
  {
   "cell_type": "code",
   "execution_count": null,
   "metadata": {},
   "outputs": [],
   "source": [
    "class ExportModel(tf.Module):\n",
    "  def __init__(self, model):\n",
    "    self.model = model\n",
    "\n",
    "    # Accept either a string-filename or a batch of waveforms.\n",
    "    # YOu could add additional signatures for a single wave, or a ragged-batch.\n",
    "    self.__call__.get_concrete_function(\n",
    "        x=tf.TensorSpec(shape=(), dtype=tf.string))\n",
    "    self.__call__.get_concrete_function(\n",
    "       x=tf.TensorSpec(shape=[None, SAMPLE_RATE], dtype=tf.float32))\n",
    "\n",
    "\n",
    "  @tf.function\n",
    "  def __call__(self, x):\n",
    "    # If they pass a string, load the file and decode it.\n",
    "    if x.dtype == tf.string:\n",
    "      x = tf.io.read_file(x)\n",
    "      x, _ = tf.audio.decode_wav(x, desired_channels=1, desired_samples=SAMPLE_RATE,)\n",
    "      x = tf.squeeze(x, axis=-1)\n",
    "      x = x[tf.newaxis, :]\n",
    "\n",
    "    x = get_spectrogram(x)\n",
    "    result = self.model(x, training=False)\n",
    "\n",
    "    class_ids = tf.argmax(result, axis=-1)\n",
    "    class_names = tf.gather(label_names, class_ids)\n",
    "    return {'predictions':result,\n",
    "            'class_ids': class_ids,\n",
    "            'class_names': class_names}"
   ]
  },
  {
   "cell_type": "code",
   "execution_count": null,
   "metadata": {},
   "outputs": [],
   "source": [
    "export = ExportModel(model)\n",
    "export(tf.constant(str('own/ddyo/audio #2001.wav')))"
   ]
  },
  {
   "cell_type": "markdown",
   "metadata": {},
   "source": [
    "Save and reload the model, the reloaded model gives identical output:"
   ]
  },
  {
   "cell_type": "code",
   "execution_count": null,
   "metadata": {},
   "outputs": [],
   "source": [
    "tf.saved_model.save(export, \"saved\")\n",
    "imported = tf.saved_model.load(\"saved\")\n",
    "imported(waveform[tf.newaxis, :])"
   ]
  },
  {
   "cell_type": "code",
   "execution_count": null,
   "metadata": {},
   "outputs": [],
   "source": []
  },
  {
   "cell_type": "code",
   "execution_count": null,
   "metadata": {},
   "outputs": [],
   "source": []
  }
 ],
 "metadata": {
  "colab": {
   "provenance": []
  },
  "kernelspec": {
   "display_name": "Python 3 (ipykernel)",
   "language": "python",
   "name": "python3"
  },
  "language_info": {
   "codemirror_mode": {
    "name": "ipython",
    "version": 3
   },
   "file_extension": ".py",
   "mimetype": "text/x-python",
   "name": "python",
   "nbconvert_exporter": "python",
   "pygments_lexer": "ipython3",
   "version": "3.11.6"
  }
 },
 "nbformat": 4,
 "nbformat_minor": 4
}
