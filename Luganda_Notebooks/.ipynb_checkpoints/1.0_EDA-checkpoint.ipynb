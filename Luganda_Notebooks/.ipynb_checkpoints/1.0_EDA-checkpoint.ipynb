{
 "cells": [
  {
   "cell_type": "markdown",
   "id": "5460e9fc-fd1c-4f44-b21c-0f9dacccea8a",
   "metadata": {},
   "source": [
    "# Work FLow\n",
    "- `Packages and Libraries`\n",
    "-  `Load raw audio data` from files in .WAV format that can be processed\n",
    "-  `EDA`\n",
    "-  `Spectral Representations` Convert the audio signal into a frequency domain representation, such as a spectrogram or mel spectrogram.\n",
    "-  `Conversion to TensorFlow` Convert the preprocessed data into a format suitable for the deep learning framework.\n",
    "-  `Data Splitting` Split the dataset into training, validation, and testing sets.\n",
    "-  `Model Building` Build your machine learning model using the preprocessed data.\n",
    "-  `Converting to TFLite model`"
   ]
  },
  {
   "cell_type": "markdown",
   "id": "7091d681-b75c-421e-a5eb-30f572403263",
   "metadata": {},
   "source": [
    "# Packages and Libraries"
   ]
  },
  {
   "cell_type": "code",
   "execution_count": 1,
   "id": "e81f4aed-e354-4df1-b00b-f8e46bc83cb8",
   "metadata": {},
   "outputs": [
    {
     "name": "stderr",
     "output_type": "stream",
     "text": [
      "2024-03-09 17:01:31.830719: I external/local_tsl/tsl/cuda/cudart_stub.cc:31] Could not find cuda drivers on your machine, GPU will not be used.\n",
      "2024-03-09 17:01:32.020339: E external/local_xla/xla/stream_executor/cuda/cuda_dnn.cc:9261] Unable to register cuDNN factory: Attempting to register factory for plugin cuDNN when one has already been registered\n",
      "2024-03-09 17:01:32.020530: E external/local_xla/xla/stream_executor/cuda/cuda_fft.cc:607] Unable to register cuFFT factory: Attempting to register factory for plugin cuFFT when one has already been registered\n",
      "2024-03-09 17:01:32.068212: E external/local_xla/xla/stream_executor/cuda/cuda_blas.cc:1515] Unable to register cuBLAS factory: Attempting to register factory for plugin cuBLAS when one has already been registered\n",
      "2024-03-09 17:01:32.169722: I external/local_tsl/tsl/cuda/cudart_stub.cc:31] Could not find cuda drivers on your machine, GPU will not be used.\n",
      "2024-03-09 17:01:32.170716: I tensorflow/core/platform/cpu_feature_guard.cc:182] This TensorFlow binary is optimized to use available CPU instructions in performance-critical operations.\n",
      "To enable the following instructions: AVX2 FMA, in other operations, rebuild TensorFlow with the appropriate compiler flags.\n",
      "2024-03-09 17:01:33.482184: W tensorflow/compiler/tf2tensorrt/utils/py_utils.cc:38] TF-TRT Warning: Could not find TensorRT\n"
     ]
    }
   ],
   "source": [
    "import os\n",
    "import pathlib\n",
    "import wave\n",
    "import shutil\n",
    "\n",
    "import librosa\n",
    "\n",
    "import numpy as np\n",
    "import pandas as pd\n",
    "import seaborn as sns\n",
    "import matplotlib.pyplot as plt\n",
    "\n",
    "import soundfile as sf\n",
    "\n",
    "import IPython.display as display\n",
    "from IPython.display import Audio, display\n",
    "\n",
    "\n",
    "import tensorflow as tf\n",
    "from tensorflow import keras\n",
    "from tensorflow.keras import layers, models\n",
    "\n",
    "from sklearn.metrics import accuracy_score, confusion_matrix, precision_score, recall_score, f1_score\n",
    "from sklearn.model_selection import train_test_split\n",
    "\n",
    "SAMPLE_RATE = 16000"
   ]
  },
  {
   "cell_type": "markdown",
   "id": "9e910386-8238-4666-928d-ebb34f16e327",
   "metadata": {},
   "source": [
    "# Loading Raw Audio Data File Paths\n",
    "\n",
    "The dataset's audio clips are of 6 classes and stored in six folders corresponding to each speech command: \n",
    "- `ddyo`\n",
    "- `kkono`\n",
    "- `mu maaso`\n",
    "- `emabega`\n",
    "- `yimirira`\n",
    "- `gaali`"
   ]
  },
  {
   "cell_type": "code",
   "execution_count": 2,
   "id": "6895fa84-bee0-4849-a858-79319b544a74",
   "metadata": {},
   "outputs": [],
   "source": [
    "TRAIN_DATASET_PATH = 'Dataset/Train'\n",
    "TEST_DATASET_PATH = 'Dataset/Test'\n",
    "\n",
    "PROCESS_TRAIN_DATASET_PATH = 'Dataset/Process_train'\n",
    "PROCESS_TEST_DATASET_PATH = 'Dataset/Process_test'\n",
    "\n",
    "\n",
    "train_data_dir = pathlib.Path(TRAIN_DATASET_PATH)\n",
    "test_data_dir = pathlib.Path(TEST_DATASET_PATH)\n",
    "\n",
    "process_train_data_dir = pathlib.Path(PROCESS_TRAIN_DATASET_PATH)\n",
    "process_test_data_dir = pathlib.Path(PROCESS_TEST_DATASET_PATH)"
   ]
  },
  {
   "cell_type": "markdown",
   "id": "4a987d85-5bd9-481b-9cd0-6f3eb4b6bd52",
   "metadata": {},
   "source": [
    "# Functions"
   ]
  },
  {
   "cell_type": "markdown",
   "id": "57abd69e-c979-49f6-a8bc-a40b048f7ffd",
   "metadata": {},
   "source": [
    "## 1. Duration(2s), and channel (mono) check function"
   ]
  },
  {
   "cell_type": "code",
   "execution_count": 3,
   "id": "96cce3d4-053c-4af6-b812-568c9235e54d",
   "metadata": {},
   "outputs": [],
   "source": [
    "def move_audio_files(data_dir, process_folder):\n",
    "    if not os.path.exists(process_folder):\n",
    "        os.makedirs(process_folder)\n",
    "\n",
    "    for subfolder in os.listdir(data_dir):\n",
    "        subfolder_path = os.path.join(data_dir, subfolder)\n",
    "        if os.path.isdir(subfolder_path):\n",
    "            for audio_file in os.listdir(subfolder_path):\n",
    "                audio_path = os.path.join(subfolder_path, audio_file)\n",
    "                try:\n",
    "                    # Get audio length and number of channels\n",
    "                    with wave.open(audio_path, 'r') as wav_file:\n",
    "                        audio_length = wav_file.getnframes() / wav_file.getframerate()\n",
    "                        num_channels = wav_file.getnchannels()\n",
    "\n",
    "                    if audio_length > 2.0 or num_channels != 1:\n",
    "                        # Move the audio file to the process folder\n",
    "                        shutil.move(audio_path, os.path.join(process_folder, audio_file))\n",
    "                except Exception as e:\n",
    "                    print(f\"Error processing {audio_path}: {e}\")\n",
    "\n",
    "\n",
    "move_audio_files(train_data_dir, process_train_data_dir)\n",
    "move_audio_files(test_data_dir, process_test_data_dir)"
   ]
  },
  {
   "cell_type": "markdown",
   "id": "69151258-bc87-447f-9be6-c9fb37595c26",
   "metadata": {},
   "source": [
    "## 2. Count audio files function"
   ]
  },
  {
   "cell_type": "code",
   "execution_count": 4,
   "id": "ad1882b0-b225-446a-8dde-934b2b429f28",
   "metadata": {},
   "outputs": [],
   "source": [
    "def count_audio_files_in_subfolders(data_dir):\n",
    "    counts = {}\n",
    "    for subfolder in os.listdir(data_dir):\n",
    "        subfolder_path = os.path.join(data_dir, subfolder)\n",
    "        if os.path.isdir(subfolder_path):\n",
    "            audio_files_count = len([f for f in os.listdir(subfolder_path) if f.endswith('.wav')])\n",
    "            counts[subfolder] = audio_files_count\n",
    "    return counts"
   ]
  },
  {
   "cell_type": "markdown",
   "id": "833731fb-ab2b-4c30-abd8-40eb3788f229",
   "metadata": {},
   "source": [
    "## 3. Function to determine the size of the model"
   ]
  },
  {
   "cell_type": "code",
   "execution_count": 5,
   "id": "c99e1a37-8225-4630-84e2-ee775f3fd1c9",
   "metadata": {},
   "outputs": [],
   "source": [
    "def get_file_size(file_path):\n",
    "    size = os.path.getsize(file_path)\n",
    "    return size\n",
    "\n",
    "def convert_bytes(size, unit=None):\n",
    "    if unit == \"KB\":\n",
    "        return print('File size: ' + str(round(size / 1024, 3)) + ' Kilobytes')\n",
    "    elif unit == \"MB\":\n",
    "        return print('File size: ' + str(round(size / (1024 * 1024), 3)) + ' Megabytes')\n",
    "    else:\n",
    "        return print('File size: ' + str(size) + ' bytes')"
   ]
  },
  {
   "cell_type": "markdown",
   "id": "26d665e1-5722-408c-8f1a-12cbba806c28",
   "metadata": {},
   "source": [
    "# Exploratory Data Analysis (EDA) "
   ]
  },
  {
   "cell_type": "markdown",
   "id": "66a41e2c-47e9-44d2-90ae-279265502638",
   "metadata": {},
   "source": [
    "## Labels"
   ]
  },
  {
   "cell_type": "code",
   "execution_count": 6,
   "id": "8b2a2e44-1787-43ba-9fe7-b050c810ec28",
   "metadata": {},
   "outputs": [
    {
     "name": "stdout",
     "output_type": "stream",
     "text": [
      "Train commands labels: ['mu masso' 'ddyo' 'kkono' 'gaali' 'yimirira' 'emabega']\n",
      "Test commands labels:  ['mu masso' 'ddyo' 'kkono' 'gaali' 'yimirira' 'emabega']\n"
     ]
    }
   ],
   "source": [
    "commands = np.array(tf.io.gfile.listdir(str(train_data_dir)))\n",
    "print(f'Train commands labels: {commands}')\n",
    "\n",
    "commands = np.array(tf.io.gfile.listdir(str(test_data_dir)))\n",
    "print(f'Test commands labels:  {commands}')"
   ]
  },
  {
   "cell_type": "markdown",
   "id": "25a22345-e519-4dc1-be75-debf638678cc",
   "metadata": {},
   "source": [
    "## Number of audio files"
   ]
  },
  {
   "cell_type": "markdown",
   "id": "9119a592-f14f-4c44-a8a1-e47c40c89554",
   "metadata": {},
   "source": [
    "### 1. Train dataset"
   ]
  },
  {
   "cell_type": "code",
   "execution_count": 7,
   "id": "2b103ba1-1967-4d7d-9f60-fd06a9438bda",
   "metadata": {},
   "outputs": [
    {
     "name": "stdout",
     "output_type": "stream",
     "text": [
      "Train \n",
      "{'mu masso': 1566, 'ddyo': 1563, 'kkono': 1587, 'gaali': 1440, 'yimirira': 1501, 'emabega': 1546}\n",
      "\n"
     ]
    }
   ],
   "source": [
    "counts = count_audio_files_in_subfolders(train_data_dir)\n",
    "print(f'Train \\n{counts}')\n",
    "print()"
   ]
  },
  {
   "cell_type": "code",
   "execution_count": 8,
   "id": "9de890a8-fbd3-438e-80a7-2f6d5652ecbe",
   "metadata": {},
   "outputs": [
    {
     "data": {
      "image/png": "[encoded data removed]",
      "text/plain": [
       "<Figure size 1200x500 with 1 Axes>"
      ]
     },
     "metadata": {},
     "output_type": "display_data"
    }
   ],
   "source": [
    "plt.figure(figsize=(12, 5))\n",
    "plt.barh(list(counts.keys()), list(counts.values()), color='green')\n",
    "plt.xlabel('Number of Audio Files')\n",
    "plt.ylabel('Command labels')\n",
    "plt.title('Number of Audio Files For Training for Each Command')\n",
    "plt.show()"
   ]
  },
  {
   "cell_type": "markdown",
   "id": "cbb5aafc-1134-4768-95ec-dc0d14b7d227",
   "metadata": {},
   "source": [
    "### 2. Test dataset"
   ]
  },
  {
   "cell_type": "code",
   "execution_count": 9,
   "id": "fe592b7e-9804-4e3f-9748-bb184d67eb05",
   "metadata": {},
   "outputs": [
    {
     "name": "stdout",
     "output_type": "stream",
     "text": [
      "Test \n",
      "{'mu masso': 306, 'ddyo': 302, 'kkono': 309, 'gaali': 307, 'yimirira': 306, 'emabega': 301}\n",
      "\n"
     ]
    }
   ],
   "source": [
    "counts = count_audio_files_in_subfolders(test_data_dir)\n",
    "print(f'Test \\n{counts}')\n",
    "print()"
   ]
  },
  {
   "cell_type": "code",
   "execution_count": 10,
   "id": "be507222-b608-415a-973e-a7f099dc4ca4",
   "metadata": {},
   "outputs": [
    {
     "data": {
      "image/png": "[encoded data removed]",
      "text/plain": [
       "<Figure size 1200x500 with 1 Axes>"
      ]
     },
     "metadata": {},
     "output_type": "display_data"
    }
   ],
   "source": [
    "plt.figure(figsize=(12, 5))\n",
    "plt.barh(list(counts.keys()), list(counts.values()), color='purple')\n",
    "plt.xlabel('Number of Audio Files')\n",
    "plt.ylabel('Command labels')\n",
    "plt.title('Number of Audio Files For Training for Each Command')\n",
    "plt.show()"
   ]
  },
  {
   "cell_type": "markdown",
   "id": "c12e9ec9-0717-44a7-99f7-845ebc16f046",
   "metadata": {},
   "source": [
    "## Audio Properties and Parameters"
   ]
  },
  {
   "cell_type": "markdown",
   "id": "63744921-b387-4d69-b125-fa3012e4e0fd",
   "metadata": {},
   "source": [
    "### Load six audio files each from the six subfolders"
   ]
  },
  {
   "cell_type": "code",
   "execution_count": 11,
   "id": "8d9b0248-bded-4c83-8252-9b57867e9f17",
   "metadata": {},
   "outputs": [],
   "source": [
    "ddyo_file_path = os.path.join(TRAIN_DATASET_PATH, 'ddyo', 'ddyo #107.wav')\n",
    "kkono_file_path = os.path.join(TRAIN_DATASET_PATH, 'kkono', 'kkono #67.wav')\n",
    "emabega_file_path = os.path.join(TRAIN_DATASET_PATH, 'emabega', 'emabega #225.wav')\n",
    "mumasso_file_path = os.path.join(TRAIN_DATASET_PATH, 'mu masso', 'mu masso #140.wav')\n",
    "yimirira_file_path = os.path.join(TRAIN_DATASET_PATH, 'yimirira', 'yimirira-3 #58-05.wav')\n",
    "gaali_file_path = os.path.join(TRAIN_DATASET_PATH, 'gaali', 'gaali #371.wav')"
   ]
  },
  {
   "cell_type": "code",
   "execution_count": 12,
   "id": "00d4c8c4-914f-4f36-bb13-96ed62fca5dc",
   "metadata": {},
   "outputs": [],
   "source": [
    "file_paths = [\n",
    "    ddyo_file_path, \n",
    "    kkono_file_path, \n",
    "    emabega_file_path,\n",
    "    mumasso_file_path, \n",
    "    yimirira_file_path, \n",
    "    gaali_file_path\n",
    "]"
   ]
  },
  {
   "cell_type": "markdown",
   "id": "26171130-77c4-42bf-9267-aa751a8b451e",
   "metadata": {},
   "source": [
    "### Audio Properties"
   ]
  },
  {
   "cell_type": "code",
   "execution_count": 13,
   "id": "8df8011e-09e4-4569-b1f3-219e0652aee7",
   "metadata": {},
   "outputs": [
    {
     "ename": "NameError",
     "evalue": "name 'num_frames' is not defined",
     "output_type": "error",
     "traceback": [
      "\u001b[0;31m---------------------------------------------------------------------------\u001b[0m",
      "\u001b[0;31mNameError\u001b[0m                                 Traceback (most recent call last)",
      "Cell \u001b[0;32mIn[13], line 7\u001b[0m\n\u001b[1;32m      5\u001b[0m num_channels \u001b[38;5;241m=\u001b[39m audio\u001b[38;5;241m.\u001b[39mgetnchannels()\n\u001b[1;32m      6\u001b[0m frame_rate \u001b[38;5;241m=\u001b[39m audio\u001b[38;5;241m.\u001b[39mgetframerate()\n\u001b[0;32m----> 7\u001b[0m duration \u001b[38;5;241m=\u001b[39m \u001b[43mnum_frames\u001b[49m \u001b[38;5;241m/\u001b[39m \u001b[38;5;28mfloat\u001b[39m(frame_rate)\n\u001b[1;32m      9\u001b[0m \u001b[38;5;28mprint\u001b[39m(\u001b[38;5;124mf\u001b[39m\u001b[38;5;124m\"\u001b[39m\u001b[38;5;130;01m\\n\u001b[39;00m\u001b[38;5;124mAudio Properties for \u001b[39m\u001b[38;5;132;01m{\u001b[39;00mos\u001b[38;5;241m.\u001b[39mpath\u001b[38;5;241m.\u001b[39mbasename(file_path)\u001b[38;5;132;01m}\u001b[39;00m\u001b[38;5;124m\"\u001b[39m)\n\u001b[1;32m     10\u001b[0m \u001b[38;5;28mprint\u001b[39m(\u001b[38;5;124mf\u001b[39m\u001b[38;5;124m\"\u001b[39m\u001b[38;5;124mNumber of channels:   \u001b[39m\u001b[38;5;132;01m{\u001b[39;00mnum_channels\u001b[38;5;132;01m}\u001b[39;00m\u001b[38;5;124m\"\u001b[39m)\n",
      "\u001b[0;31mNameError\u001b[0m: name 'num_frames' is not defined"
     ]
    }
   ],
   "source": [
    "for file_path in file_paths:\n",
    "    audio_signal, sample_rate = librosa.load(file_path, sr=SAMPLE_RATE)\n",
    "    audio = wave.open(file_path, 'rb')\n",
    "\n",
    "    num_channels = audio.getnchannels()\n",
    "    frame_rate = audio.getframerate()\n",
    "    duration = num_frames / float(frame_rate)\n",
    "\n",
    "    print(f\"\\nAudio Properties for {os.path.basename(file_path)}\")\n",
    "    print(f\"Number of channels:   {num_channels}\")\n",
    "    print(f\"Frame rate (Hz):      {frame_rate}\")\n",
    "    print(f\"Duration (s):         {duration}\")\n",
    "\n",
    "    audio.close()\n",
    "\n",
    "print()"
   ]
  },
  {
   "cell_type": "markdown",
   "id": "aeec0f4e-6b37-4edf-8622-db435e682786",
   "metadata": {},
   "source": [
    "## Play the audio files"
   ]
  },
  {
   "cell_type": "code",
   "execution_count": null,
   "id": "d1289dd8-983f-4a9b-b05a-d2ae4c4d45f4",
   "metadata": {},
   "outputs": [],
   "source": [
    "for file_path in file_paths:\n",
    "    print(f\"Playing {os.path.basename(file_path)}\\n\")\n",
    "    audio = Audio(file_path)\n",
    "    display(audio)    "
   ]
  },
  {
   "cell_type": "markdown",
   "id": "972445b6-ffa2-4880-9284-4d78ab8ab379",
   "metadata": {},
   "source": [
    "## Visualize the audio waveform"
   ]
  },
  {
   "cell_type": "code",
   "execution_count": null,
   "id": "16f403a0-d22b-4699-89fb-78ea3e06f2d9",
   "metadata": {},
   "outputs": [],
   "source": [
    "label_names_slice = ['Ddyo', 'Kkono', 'Emabega', 'Mu masso', 'Yimirira', 'Gaali']\n",
    "\n",
    "plt.figure(figsize=(16, 10))\n",
    "rows = 2\n",
    "cols = 3\n",
    "n = rows * cols\n",
    "for i in range(n):\n",
    "    plt.subplot(rows, cols, i+1)\n",
    "    audio_path = file_paths[i]  # Get the path to the audio file\n",
    "    audio_signal, _ = librosa.load(audio_path, sr=SAMPLE_RATE)\n",
    "    time = librosa.times_like(audio_signal, sr=SAMPLE_RATE)\n",
    "    plt.plot(time, audio_signal)\n",
    "    plt.title(label_names_slice[i])\n",
    "    plt.xlabel('Time (s)')\n",
    "    plt.ylabel('Amplitude')\n",
    "    plt.ylim([-1.1, 1.1])\n",
    "plt.tight_layout()\n",
    "plt.show()\n"
   ]
  },
  {
   "cell_type": "markdown",
   "id": "b705202b-153a-452a-ac62-593abe710c2f",
   "metadata": {},
   "source": [
    "## Spectrogram"
   ]
  },
  {
   "cell_type": "code",
   "execution_count": null,
   "id": "968c85fe-4025-4c3b-8f1c-69df43e919e2",
   "metadata": {},
   "outputs": [],
   "source": [
    "plt.figure(figsize=(18, 10))\n",
    "\n",
    "# Plot spectrograms\n",
    "for i, audio_file in enumerate(file_paths, start=1):\n",
    "    plt.subplot(2, 3, i)\n",
    "    audio_signal, sample_rate = librosa.load(audio_file, sr=None)\n",
    "    spectrogram = librosa.feature.melspectrogram(y=audio_signal, sr=sample_rate)\n",
    "    plt.imshow(librosa.power_to_db(spectrogram, ref=np.max), aspect='auto', origin='lower', cmap='viridis')\n",
    "    plt.title(label_names_slice[i-1])\n",
    "    plt.xlabel('Time (s)')\n",
    "    plt.ylabel('Frequency (Hz)')\n",
    "    plt.colorbar(format='%+2.0f dB')\n",
    "\n",
    "plt.tight_layout()\n",
    "plt.show()\n"
   ]
  },
  {
   "cell_type": "code",
   "execution_count": null,
   "id": "8b042255-019f-43d7-9f2e-7d0fae6f3192",
   "metadata": {},
   "outputs": [],
   "source": []
  },
  {
   "cell_type": "markdown",
   "id": "0e3c2438-6510-4744-8fee-f7f2e97706c2",
   "metadata": {},
   "source": [
    "# Dataset Preparaption"
   ]
  },
  {
   "cell_type": "markdown",
   "id": "2cdb66bf-ce1c-42fb-b14a-411aa6444a7b",
   "metadata": {},
   "source": [
    "## 1. Train and validation Datasets"
   ]
  },
  {
   "cell_type": "code",
   "execution_count": 14,
   "id": "5bee3c7c-eb7a-4d61-bb93-c8b22b7822f2",
   "metadata": {
    "colab": {
     "base_uri": "https://localhost:8080/"
    },
    "executionInfo": {
     "elapsed": 13076,
     "status": "ok",
     "timestamp": 1703162129584,
     "user": {
      "displayName": "adi sam",
      "userId": "04727694002057940011"
     },
     "user_tz": -180
    },
    "id": "mFM4c3aMC8Qv",
    "outputId": "2e187993-a0cf-40bc-9f86-9789dc3d0254"
   },
   "outputs": [
    {
     "name": "stdout",
     "output_type": "stream",
     "text": [
      "Found 9203 files belonging to 6 classes.\n",
      "Using 7363 files for training.\n",
      "Using 1840 files for validation.\n",
      "\n"
     ]
    }
   ],
   "source": [
    "train_ds, val_ds = tf.keras.utils.audio_dataset_from_directory(\n",
    "    directory=train_data_dir,\n",
    "    batch_size=64,\n",
    "    validation_split=0.2,\n",
    "    seed=0,\n",
    "    output_sequence_length=SAMPLE_RATE,\n",
    "    subset='both')\n",
    "\n",
    "label_names = np.array(train_ds.class_names)\n",
    "print()"
   ]
  },
  {
   "cell_type": "code",
   "execution_count": 15,
   "id": "0a57cf0e-3fb5-404d-9a65-afa0f2b368d4",
   "metadata": {
    "colab": {
     "base_uri": "https://localhost:8080/"
    },
    "executionInfo": {
     "elapsed": 5,
     "status": "ok",
     "timestamp": 1703162129584,
     "user": {
      "displayName": "adi sam",
      "userId": "04727694002057940011"
     },
     "user_tz": -180
    },
    "id": "3yU6SQGIFb3H",
    "outputId": "5aec1e38-a12d-405e-88a2-7ac98c1af3c8"
   },
   "outputs": [
    {
     "name": "stdout",
     "output_type": "stream",
     "text": [
      "(TensorSpec(shape=(None, 16000, None), dtype=tf.float32, name=None), TensorSpec(shape=(None,), dtype=tf.int32, name=None))\n",
      "\n"
     ]
    }
   ],
   "source": [
    "element_spec = train_ds.element_spec\n",
    "print(element_spec)\n",
    "print()"
   ]
  },
  {
   "cell_type": "code",
   "execution_count": 16,
   "id": "0edcdda4-72bb-48ed-9793-dec0375a4ffc",
   "metadata": {
    "executionInfo": {
     "elapsed": 3,
     "status": "ok",
     "timestamp": 1703162129584,
     "user": {
      "displayName": "adi sam",
      "userId": "04727694002057940011"
     },
     "user_tz": -180
    },
    "id": "Xl-tnniUIBlM"
   },
   "outputs": [],
   "source": [
    "def squeeze(audio, labels):\n",
    "  audio = tf.squeeze(audio, axis=-1)\n",
    "  return audio, labels\n",
    "\n",
    "train_ds = train_ds.map(squeeze, tf.data.AUTOTUNE)\n",
    "val_ds = val_ds.map(squeeze, tf.data.AUTOTUNE)"
   ]
  },
  {
   "cell_type": "code",
   "execution_count": 17,
   "id": "9966145f-ade8-44f4-b490-8b58b7f24dc1",
   "metadata": {
    "colab": {
     "base_uri": "https://localhost:8080/"
    },
    "executionInfo": {
     "elapsed": 221726,
     "status": "ok",
     "timestamp": 1703162351307,
     "user": {
      "displayName": "adi sam",
      "userId": "04727694002057940011"
     },
     "user_tz": -180
    },
    "id": "xIeoJcwJH5h9",
    "outputId": "ca872edd-1bcf-4feb-8518-3ba24753764c"
   },
   "outputs": [
    {
     "name": "stdout",
     "output_type": "stream",
     "text": [
      "(64, 16000)\n",
      "(64,)\n"
     ]
    }
   ],
   "source": [
    "# Inspecting the shape of the audio and label\n",
    "\n",
    "for example_audio, example_labels in train_ds.take(1):\n",
    "  print(example_audio.shape)\n",
    "  print(example_labels.shape)"
   ]
  },
  {
   "cell_type": "markdown",
   "id": "21e122df-f5dc-49a6-8996-41bdfd7d1f50",
   "metadata": {},
   "source": [
    "## 2. Test dataset"
   ]
  },
  {
   "cell_type": "code",
   "execution_count": 18,
   "id": "f4cf28bf-53a2-4ca0-ac65-74ff0d7abf49",
   "metadata": {},
   "outputs": [
    {
     "name": "stdout",
     "output_type": "stream",
     "text": [
      "Found 1831 files belonging to 6 classes.\n"
     ]
    }
   ],
   "source": [
    "test_ds = tf.keras.utils.audio_dataset_from_directory(\n",
    "    directory=test_data_dir,\n",
    "    batch_size=64,\n",
    "    validation_split=None,  # No need to split the test dataset\n",
    "    seed=0,\n",
    "    output_sequence_length=SAMPLE_RATE,\n",
    "    shuffle=False  # Disable shuffling for the test dataset\n",
    ")\n",
    "\n",
    "test_ds = test_ds.map(squeeze, tf.data.AUTOTUNE)\n"
   ]
  },
  {
   "cell_type": "code",
   "execution_count": 19,
   "id": "fb925c99-657a-4629-8845-61d0d24afa04",
   "metadata": {},
   "outputs": [
    {
     "name": "stdout",
     "output_type": "stream",
     "text": [
      "(64, 16000)\n",
      "(64,)\n",
      "\n"
     ]
    }
   ],
   "source": [
    "for example_audio, example_labels in test_ds.take(1):\n",
    "  print(example_audio.shape)\n",
    "  print(example_labels.shape)\n",
    "print()"
   ]
  },
  {
   "cell_type": "code",
   "execution_count": null,
   "id": "c020428a-d384-4840-958a-5414840f5858",
   "metadata": {},
   "outputs": [],
   "source": []
  }
 ],
 "metadata": {
  "kernelspec": {
   "display_name": "Python 3 (ipykernel)",
   "language": "python",
   "name": "python3"
  },
  "language_info": {
   "codemirror_mode": {
    "name": "ipython",
    "version": 3
   },
   "file_extension": ".py",
   "mimetype": "text/x-python",
   "name": "python",
   "nbconvert_exporter": "python",
   "pygments_lexer": "ipython3",
   "version": "3.11.6"
  }
 },
 "nbformat": 4,
 "nbformat_minor": 5
}
