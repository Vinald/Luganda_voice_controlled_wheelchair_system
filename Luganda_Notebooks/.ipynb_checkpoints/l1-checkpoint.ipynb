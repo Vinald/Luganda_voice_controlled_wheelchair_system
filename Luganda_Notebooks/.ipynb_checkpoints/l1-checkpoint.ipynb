{
 "cells": [
  {
   "cell_type": "markdown",
   "id": "b688f69a-e31e-4731-b830-078994320f0e",
   "metadata": {},
   "source": [
    "## Packages"
   ]
  },
  {
   "cell_type": "code",
   "execution_count": 9,
   "id": "c1c5bcee-c53c-4152-9533-afbd3c69c810",
   "metadata": {
    "scrolled": true
   },
   "outputs": [],
   "source": [
    "import os\n",
    "import pathlib\n",
    "import json\n",
    "import math\n",
    "# from google.colab import drive\n",
    "\n",
    "import numpy as np\n",
    "import pandas as pd\n",
    "import matplotlib.pyplot as plt\n",
    "import seaborn as sns\n",
    "\n",
    "import tensorflow as tf\n",
    "from tensorflow.keras import layers\n",
    "from tensorflow.keras import models\n",
    "import tensorflow.keras as keras\n",
    "\n",
    "import librosa\n",
    "import IPython.display as display\n",
    "\n",
    "from sklearn.model_selection import train_test_split\n",
    "from sklearn.metrics import confusion_matrix\n",
    "\n",
    "from pydub import AudioSegment"
   ]
  },
  {
   "cell_type": "code",
   "execution_count": 3,
   "id": "103e59b8-50b7-429b-afe9-1a3c6b1d5dcf",
   "metadata": {},
   "outputs": [],
   "source": [
    "seed = 42\n",
    "tf.random.set_seed(seed)\n",
    "np.random.seed(seed)"
   ]
  },
  {
   "cell_type": "markdown",
   "id": "d220b46c-18c2-47e9-8479-dd67b0771f1c",
   "metadata": {},
   "source": [
    "## Dataset\n",
    "\n",
    "The dataset's audio clips are stored in sixfolders corresponding to each speech command: \n",
    "- `ddyo`\n",
    "- `kkono`\n",
    "- `mu maaso`\n",
    "- `emabega`\n",
    "- `yimirira`\n",
    "- `gaali`"
   ]
  },
  {
   "cell_type": "code",
   "execution_count": 4,
   "id": "b8841ee6-09f0-4f18-8943-3de868d1d6a6",
   "metadata": {},
   "outputs": [],
   "source": [
    "DATASET_PATH = 'Dataset/'\n",
    "data_dir = pathlib.Path(DATASET_PATH)"
   ]
  },
  {
   "cell_type": "code",
   "execution_count": 7,
   "id": "8b1a524f-2001-46fb-ba49-8352fd385ead",
   "metadata": {},
   "outputs": [
    {
     "name": "stdout",
     "output_type": "stream",
     "text": [
      "Commands: ['emabega' 'ddyo' 'gaali' 'kkono' 'mu masso' 'yimirira']\n"
     ]
    }
   ],
   "source": [
    "commands = np.array(tf.io.gfile.listdir(str(data_dir)))\n",
    "print('Commands:', commands)"
   ]
  },
  {
   "cell_type": "markdown",
   "id": "8dced0c0-9d24-4ce4-af8f-84213220cc35",
   "metadata": {},
   "source": [
    "## Inspect one audio file"
   ]
  },
  {
   "cell_type": "code",
   "execution_count": 10,
   "id": "338117b2-b974-4e48-bf1f-ff666490ed47",
   "metadata": {},
   "outputs": [],
   "source": [
    "audio = AudioSegment.from_wav('Dataset/gaali/Record-10.wav')"
   ]
  },
  {
   "cell_type": "code",
   "execution_count": null,
   "id": "d81a1d7c-9836-4d4f-9f1e-843ca7962a59",
   "metadata": {},
   "outputs": [],
   "source": [
    "audio = wave.open('Dataset/gaali/Record-10.wav', 'rb')\n"
   ]
  }
 ],
 "metadata": {
  "kernelspec": {
   "display_name": "Python 3 (ipykernel)",
   "language": "python",
   "name": "python3"
  },
  "language_info": {
   "codemirror_mode": {
    "name": "ipython",
    "version": 3
   },
   "file_extension": ".py",
   "mimetype": "text/x-python",
   "name": "python",
   "nbconvert_exporter": "python",
   "pygments_lexer": "ipython3",
   "version": "3.11.6"
  }
 },
 "nbformat": 4,
 "nbformat_minor": 5
}
